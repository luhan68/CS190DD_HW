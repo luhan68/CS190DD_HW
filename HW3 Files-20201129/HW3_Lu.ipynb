{
 "cells": [
  {
   "cell_type": "markdown",
   "metadata": {
    "id": "XPsgwxLU2Sed"
   },
   "source": [
    "# Homework 3 _ Lu Han _ 5371943\n",
    "\n",
    "DUE DEC 1st at 11:59 PM\n"
   ]
  },
  {
   "cell_type": "markdown",
   "metadata": {
    "id": "dgdeprwQ2See"
   },
   "source": [
    "## Problem 1\n",
    "\n",
    "In this problem, you will implement a simple feed-forward neural network using PyTorch, a straight-forward and simple-to-pickup framework for quickly prototyping deep learning model. \n",
    "\n",
    "PyTorch provides 2 powerful things. First, a nice data structure called Tensor (basically a matrix, similar to Numpy ndarray). Tensor is optimized for matrix calculation and can be loaded to a GPU. Tensor is also implemented so that it's easy to calculate and pass back chains of gradients, which is extremely useful for backpropagation on neural network. Second, a nice inner mechanism called Autograd that nicely map variables involved a chain of calculations and efficiently calculate their gradients via the chain rule when needed. Read more here: https://towardsdatascience.com/pytorch-autograd-understanding-the-heart-of-pytorchs-magic-2686cd94ec95  \n",
    "\n",
    "You will train and evaluate the model on a simple dataset for classifying seeds. The dataset has 7 features and 3 labels. Refer to the example from the discussion session if needed. \n",
    "\n",
    "**In this problem, you are given a good amount of freedom in tweaking your choices in designing the network. As long as it's still a feed-forward network, it's fine. Accuracy does not matter as long as it's reasonable (like above 80%) but do try to achieve a high accuracy.**\n",
    "\n",
    "(Optional): the dataset provided to you is very simple. Instead, you can challenge yourself by trying more difficult datasets. Some datasets that you can loaded directly using PyTorch:\n",
    "- MNIST (Most famous dataset for getting into Deep Learning)\n",
    "- Fashion-MNIST\n",
    "- Kuzushiji-MNIST \n",
    "\n",
    "The datasets are available at https://pytorch.org/docs/stable/torchvision/datasets.html. You will get the same grade no matter what dataset you use. \n",
    "\n",
    "### Part a\n",
    "Firstly, load and inspect the dataset from \"seeds_dataset.csv\". Split them into a train set (90%) and a test set (10%). You should be quite comfortable with these operations by now. "
   ]
  },
  {
   "cell_type": "code",
   "execution_count": 12,
   "metadata": {
    "id": "3eztCAG02See"
   },
   "outputs": [],
   "source": [
    "import torch\n",
    "from torch.autograd import Variable\n",
    "import math\n",
    "import pandas as pd\n",
    "import numpy as np\n",
    "from sklearn.model_selection import train_test_split\n",
    "from sklearn.utils import shuffle\n",
    "\n",
    "\n",
    "data = pd.read_csv('seeds_dataset.csv')\n",
    "X = data.iloc[:,:-1].to_numpy(dtype=np.float32)\n",
    "y = data.iloc[:,-1].astype(\"category\").cat.codes.to_numpy(dtype=np.float32)\n",
    "X_train, X_test, y_train, y_test = train_test_split(X, y, test_size=0.1)"
   ]
  },
  {
   "cell_type": "markdown",
   "metadata": {
    "id": "_KpCu45p2See"
   },
   "source": [
    "### Part b \n",
    "Create a Python class for our neural network model. The network should have 1 input layer, at least 1 hidden layer, and 1 output layer. You are free to choose the size and the number of hidden layers (it may affect the performance so try tweaking around a bit), and the activation function (or no activation at all).\n",
    "\n",
    "Some popular activation functions that you can try:\n",
    "- Sigmoid (torch.sigmoid)\n",
    "- ReLU (torch.relu)\n",
    "- Tanh (torch.tanh)"
   ]
  },
  {
   "cell_type": "code",
   "execution_count": 13,
   "metadata": {
    "id": "uH6tsTUr2See"
   },
   "outputs": [],
   "source": [
    "import torch\n",
    "\n",
    "class simple_network(torch.nn.Module):\n",
    "    \n",
    "    def __init__(self):\n",
    "        super(simple_network,self).__init__()\n",
    "        self.layer1 = torch.nn.Linear(in_features=7, out_features=40)\n",
    "        self.layer2 = torch.nn.Linear(in_features=40, out_features=40)\n",
    "        self.outputlayer = torch.nn.Linear(in_features=40, out_features=3)\n",
    "        \n",
    "    def forward(self,x):\n",
    "        x = torch.relu(self.layer1(x))\n",
    "        x = torch.relu(self.layer2(x))\n",
    "        x = self.outputlayer(x)\n",
    "        return x\n",
    "    # Create the network class by filling in this block of code"
   ]
  },
  {
   "cell_type": "markdown",
   "metadata": {
    "id": "ebDMfYee2See"
   },
   "source": [
    "### Part c \n",
    "Train the network using the train dataset. You are free to choose any suitable optimizer and loss function provided by PyTorch (or you can just use SGD optimizer and CrossEntropyLoss like we did in the discussion session for simplicity). After each epoch, record the current loss and the current accuracy. The current accuracy is obtained by evaluating the model on the train dataset. \n",
    "\n",
    "Some optimizers that you can try:\n",
    "- SGD\n",
    "- Adagrad\n",
    "- Adam\n",
    "\n",
    "https://pytorch.org/docs/stable/optim.html"
   ]
  },
  {
   "cell_type": "code",
   "execution_count": 14,
   "metadata": {
    "colab": {
<<<<<<< HEAD
     "base_uri": "https://localhost:8080/"
    },
    "id": "VTCFkzmm2See",
    "outputId": "0d5d84fc-bf51-4de5-8203-f8109c204478"
   },
   "outputs": [
    {
     "name": "stdout",
     "output_type": "stream",
     "text": [
      "Epoch: 0 .Current loss: 1.1691993474960327 .Current accuracy: 0.324468085106383\n",
      "Epoch: 5 .Current loss: 1.0380488634109497 .Current accuracy: 0.5638297872340425\n",
      "Epoch: 10 .Current loss: 0.9832068681716919 .Current accuracy: 0.5372340425531915\n",
      "Epoch: 15 .Current loss: 0.943987250328064 .Current accuracy: 0.723404255319149\n",
      "Epoch: 20 .Current loss: 0.93267822265625 .Current accuracy: 0.7180851063829787\n",
      "Epoch: 25 .Current loss: 0.9166205525398254 .Current accuracy: 0.7180851063829787\n",
      "Epoch: 30 .Current loss: 0.8234838247299194 .Current accuracy: 0.7553191489361702\n",
      "Epoch: 35 .Current loss: 0.7232207655906677 .Current accuracy: 0.851063829787234\n",
      "Epoch: 40 .Current loss: 0.5928698182106018 .Current accuracy: 0.8031914893617021\n",
      "Epoch: 45 .Current loss: 0.6848348379135132 .Current accuracy: 0.6436170212765957\n",
      "Epoch: 50 .Current loss: 0.599789559841156 .Current accuracy: 0.851063829787234\n",
      "Epoch: 55 .Current loss: 0.5128325819969177 .Current accuracy: 0.8085106382978723\n",
      "Epoch: 60 .Current loss: 0.4844910800457001 .Current accuracy: 0.8723404255319149\n",
      "Epoch: 65 .Current loss: 0.4967590272426605 .Current accuracy: 0.776595744680851\n",
      "Epoch: 70 .Current loss: 0.43115657567977905 .Current accuracy: 0.6808510638297872\n",
      "Epoch: 75 .Current loss: 0.43366509675979614 .Current accuracy: 0.8404255319148937\n",
      "Epoch: 80 .Current loss: 0.37672188878059387 .Current accuracy: 0.898936170212766\n",
      "Epoch: 85 .Current loss: 0.3122486174106598 .Current accuracy: 0.8138297872340425\n",
      "Epoch: 90 .Current loss: 0.3565721809864044 .Current accuracy: 0.851063829787234\n",
      "Epoch: 95 .Current loss: 0.3234443664550781 .Current accuracy: 0.8617021276595744\n",
      "Epoch: 100 .Current loss: 0.3828747272491455 .Current accuracy: 0.7819148936170213\n",
      "Epoch: 105 .Current loss: 0.4258115291595459 .Current accuracy: 0.898936170212766\n",
      "Epoch: 110 .Current loss: 0.27010247111320496 .Current accuracy: 0.9148936170212766\n",
      "Epoch: 115 .Current loss: 0.29915666580200195 .Current accuracy: 0.898936170212766\n",
      "Epoch: 120 .Current loss: 0.2741409242153168 .Current accuracy: 0.8776595744680851\n",
      "Epoch: 125 .Current loss: 0.3421299457550049 .Current accuracy: 0.9148936170212766\n",
      "Epoch: 130 .Current loss: 0.4023891091346741 .Current accuracy: 0.8031914893617021\n",
      "Epoch: 135 .Current loss: 0.3750869333744049 .Current accuracy: 0.8723404255319149\n",
      "Epoch: 140 .Current loss: 0.29595133662223816 .Current accuracy: 0.9042553191489362\n",
      "Epoch: 145 .Current loss: 0.27385663986206055 .Current accuracy: 0.9148936170212766\n",
      "Epoch: 150 .Current loss: 0.17253635823726654 .Current accuracy: 0.8936170212765957\n",
      "Epoch: 155 .Current loss: 0.5603706240653992 .Current accuracy: 0.7553191489361702\n",
      "Epoch: 160 .Current loss: 0.369962215423584 .Current accuracy: 0.8297872340425532\n",
      "Epoch: 165 .Current loss: 0.6133167147636414 .Current accuracy: 0.8776595744680851\n",
      "Epoch: 170 .Current loss: 0.33348509669303894 .Current accuracy: 0.8936170212765957\n",
      "Epoch: 175 .Current loss: 0.1867908388376236 .Current accuracy: 0.8936170212765957\n",
      "Epoch: 180 .Current loss: 0.23411576449871063 .Current accuracy: 0.9202127659574468\n",
      "Epoch: 185 .Current loss: 0.2536638379096985 .Current accuracy: 0.9095744680851063\n",
      "Epoch: 190 .Current loss: 0.25315889716148376 .Current accuracy: 0.8617021276595744\n",
      "Epoch: 195 .Current loss: 0.4369271695613861 .Current accuracy: 0.7925531914893617\n",
      "Epoch: 200 .Current loss: 0.20871774852275848 .Current accuracy: 0.9202127659574468\n",
      "Epoch: 205 .Current loss: 0.17867045104503632 .Current accuracy: 0.9095744680851063\n",
      "Epoch: 210 .Current loss: 0.06954482942819595 .Current accuracy: 0.9095744680851063\n",
      "Epoch: 215 .Current loss: 0.27330532670021057 .Current accuracy: 0.824468085106383\n",
      "Epoch: 220 .Current loss: 0.2177642285823822 .Current accuracy: 0.8882978723404256\n",
      "Epoch: 225 .Current loss: 0.22433266043663025 .Current accuracy: 0.9148936170212766\n",
      "Epoch: 230 .Current loss: 0.2096782773733139 .Current accuracy: 0.9095744680851063\n",
      "Epoch: 235 .Current loss: 0.149298295378685 .Current accuracy: 0.9095744680851063\n",
      "Epoch: 240 .Current loss: 0.2914387881755829 .Current accuracy: 0.9042553191489362\n",
      "Epoch: 245 .Current loss: 0.2525358498096466 .Current accuracy: 0.8776595744680851\n",
      "Epoch: 250 .Current loss: 0.3349716365337372 .Current accuracy: 0.8723404255319149\n",
      "Epoch: 255 .Current loss: 0.08966700732707977 .Current accuracy: 0.898936170212766\n",
      "Epoch: 260 .Current loss: 0.20438793301582336 .Current accuracy: 0.9095744680851063\n",
      "Epoch: 265 .Current loss: 0.22976616024971008 .Current accuracy: 0.9095744680851063\n",
      "Epoch: 270 .Current loss: 0.20379257202148438 .Current accuracy: 0.9042553191489362\n",
      "Epoch: 275 .Current loss: 0.09112931787967682 .Current accuracy: 0.8829787234042553\n",
      "Epoch: 280 .Current loss: 0.24830834567546844 .Current accuracy: 0.8776595744680851\n",
      "Epoch: 285 .Current loss: 0.21411319077014923 .Current accuracy: 0.9095744680851063\n",
      "Epoch: 290 .Current loss: 0.28013113141059875 .Current accuracy: 0.8404255319148937\n",
      "Epoch: 295 .Current loss: 0.23519296944141388 .Current accuracy: 0.9148936170212766\n",
      "Epoch: 300 .Current loss: 0.19636796414852142 .Current accuracy: 0.8829787234042553\n",
      "Epoch: 305 .Current loss: 0.29747888445854187 .Current accuracy: 0.8882978723404256\n",
      "Epoch: 310 .Current loss: 0.1579422503709793 .Current accuracy: 0.9042553191489362\n",
      "Epoch: 315 .Current loss: 0.20092140138149261 .Current accuracy: 0.898936170212766\n",
      "Epoch: 320 .Current loss: 0.2438783347606659 .Current accuracy: 0.9202127659574468\n",
      "Epoch: 325 .Current loss: 0.29756832122802734 .Current accuracy: 0.9202127659574468\n",
      "Epoch: 330 .Current loss: 0.07980195432901382 .Current accuracy: 0.9202127659574468\n",
      "Epoch: 335 .Current loss: 0.21648958325386047 .Current accuracy: 0.8776595744680851\n",
      "Epoch: 340 .Current loss: 0.11665720492601395 .Current accuracy: 0.9148936170212766\n",
      "Epoch: 345 .Current loss: 0.2406603991985321 .Current accuracy: 0.8670212765957447\n",
      "Epoch: 350 .Current loss: 0.18587340414524078 .Current accuracy: 0.9042553191489362\n",
      "Epoch: 355 .Current loss: 0.18818624317646027 .Current accuracy: 0.8882978723404256\n",
      "Epoch: 360 .Current loss: 0.4200994670391083 .Current accuracy: 0.851063829787234\n",
      "Epoch: 365 .Current loss: 0.1325591653585434 .Current accuracy: 0.9042553191489362\n",
      "Epoch: 370 .Current loss: 0.14687256515026093 .Current accuracy: 0.9042553191489362\n",
      "Epoch: 375 .Current loss: 0.27761349081993103 .Current accuracy: 0.9095744680851063\n",
      "Epoch: 380 .Current loss: 0.3038323223590851 .Current accuracy: 0.8936170212765957\n",
      "Epoch: 385 .Current loss: 0.3722855746746063 .Current accuracy: 0.8829787234042553\n",
      "Epoch: 390 .Current loss: 0.25109389424324036 .Current accuracy: 0.898936170212766\n",
      "Epoch: 395 .Current loss: 0.37576839327812195 .Current accuracy: 0.9042553191489362\n",
      "Epoch: 400 .Current loss: 0.2826862335205078 .Current accuracy: 0.9202127659574468\n",
      "Epoch: 405 .Current loss: 0.18931236863136292 .Current accuracy: 0.925531914893617\n",
      "Epoch: 410 .Current loss: 0.2099761813879013 .Current accuracy: 0.9202127659574468\n",
      "Epoch: 415 .Current loss: 0.09407602995634079 .Current accuracy: 0.9095744680851063\n",
      "Epoch: 420 .Current loss: 0.1622055470943451 .Current accuracy: 0.925531914893617\n",
      "Epoch: 425 .Current loss: 0.5147669911384583 .Current accuracy: 0.898936170212766\n",
      "Epoch: 430 .Current loss: 0.25089937448501587 .Current accuracy: 0.8670212765957447\n",
      "Epoch: 435 .Current loss: 0.158506840467453 .Current accuracy: 0.9148936170212766\n",
      "Epoch: 440 .Current loss: 0.09013102948665619 .Current accuracy: 0.898936170212766\n",
      "Epoch: 445 .Current loss: 0.21469499170780182 .Current accuracy: 0.9095744680851063\n",
      "Epoch: 450 .Current loss: 0.30926552414894104 .Current accuracy: 0.9095744680851063\n",
      "Epoch: 455 .Current loss: 0.32788771390914917 .Current accuracy: 0.8723404255319149\n",
      "Epoch: 460 .Current loss: 0.22833599150180817 .Current accuracy: 0.9042553191489362\n",
      "Epoch: 465 .Current loss: 0.221909299492836 .Current accuracy: 0.8882978723404256\n",
      "Epoch: 470 .Current loss: 0.20000554621219635 .Current accuracy: 0.9095744680851063\n",
      "Epoch: 475 .Current loss: 0.14579109847545624 .Current accuracy: 0.925531914893617\n",
      "Epoch: 480 .Current loss: 0.221763476729393 .Current accuracy: 0.8723404255319149\n",
      "Epoch: 485 .Current loss: 0.046817220747470856 .Current accuracy: 0.9361702127659575\n",
      "Epoch: 490 .Current loss: 0.107512466609478 .Current accuracy: 0.9148936170212766\n",
      "Epoch: 495 .Current loss: 0.3791100084781647 .Current accuracy: 0.898936170212766\n",
      "Epoch: 500 .Current loss: 0.49403414130210876 .Current accuracy: 0.8776595744680851\n",
      "Epoch: 505 .Current loss: 0.32260042428970337 .Current accuracy: 0.9095744680851063\n",
      "Epoch: 510 .Current loss: 0.20330466330051422 .Current accuracy: 0.898936170212766\n",
      "Epoch: 515 .Current loss: 0.13250470161437988 .Current accuracy: 0.9202127659574468\n",
      "Epoch: 520 .Current loss: 0.11570367962121964 .Current accuracy: 0.9148936170212766\n",
      "Epoch: 525 .Current loss: 0.15178754925727844 .Current accuracy: 0.9095744680851063\n",
      "Epoch: 530 .Current loss: 0.27633199095726013 .Current accuracy: 0.898936170212766\n",
      "Epoch: 535 .Current loss: 0.15576808154582977 .Current accuracy: 0.9148936170212766\n",
      "Epoch: 540 .Current loss: 0.33037352561950684 .Current accuracy: 0.8829787234042553\n",
      "Epoch: 545 .Current loss: 0.11017818003892899 .Current accuracy: 0.9202127659574468\n",
      "Epoch: 550 .Current loss: 0.16119204461574554 .Current accuracy: 0.898936170212766\n",
      "Epoch: 555 .Current loss: 0.26858797669410706 .Current accuracy: 0.925531914893617\n",
      "Epoch: 560 .Current loss: 0.13486291468143463 .Current accuracy: 0.9202127659574468\n",
      "Epoch: 565 .Current loss: 0.18714465200901031 .Current accuracy: 0.9095744680851063\n",
      "Epoch: 570 .Current loss: 0.2992170751094818 .Current accuracy: 0.8829787234042553\n",
      "Epoch: 575 .Current loss: 0.2064989060163498 .Current accuracy: 0.925531914893617\n",
      "Epoch: 580 .Current loss: 0.2881596088409424 .Current accuracy: 0.925531914893617\n",
      "Epoch: 585 .Current loss: 0.40000826120376587 .Current accuracy: 0.9042553191489362\n",
      "Epoch: 590 .Current loss: 0.10360545665025711 .Current accuracy: 0.925531914893617\n",
      "Epoch: 595 .Current loss: 0.08557139337062836 .Current accuracy: 0.9202127659574468\n",
      "Epoch: 600 .Current loss: 0.12278469651937485 .Current accuracy: 0.9148936170212766\n",
      "Epoch: 605 .Current loss: 0.13058991730213165 .Current accuracy: 0.9095744680851063\n",
      "Epoch: 610 .Current loss: 0.10440373420715332 .Current accuracy: 0.925531914893617\n",
      "Epoch: 615 .Current loss: 0.2154206782579422 .Current accuracy: 0.925531914893617\n",
      "Epoch: 620 .Current loss: 0.17152179777622223 .Current accuracy: 0.925531914893617\n",
      "Epoch: 625 .Current loss: 0.1600547581911087 .Current accuracy: 0.9095744680851063\n",
      "Epoch: 630 .Current loss: 0.12875999510288239 .Current accuracy: 0.9148936170212766\n",
      "Epoch: 635 .Current loss: 0.1626267284154892 .Current accuracy: 0.925531914893617\n",
      "Epoch: 640 .Current loss: 0.16018342971801758 .Current accuracy: 0.9095744680851063\n",
      "Epoch: 645 .Current loss: 0.12581059336662292 .Current accuracy: 0.9202127659574468\n",
      "Epoch: 650 .Current loss: 0.26261311769485474 .Current accuracy: 0.9148936170212766\n",
      "Epoch: 655 .Current loss: 0.1148592010140419 .Current accuracy: 0.9148936170212766\n",
      "Epoch: 660 .Current loss: 0.3274032473564148 .Current accuracy: 0.9148936170212766\n",
      "Epoch: 665 .Current loss: 0.31352558732032776 .Current accuracy: 0.9148936170212766\n",
      "Epoch: 670 .Current loss: 0.22602245211601257 .Current accuracy: 0.925531914893617\n",
      "Epoch: 675 .Current loss: 0.06969922035932541 .Current accuracy: 0.9148936170212766\n",
      "Epoch: 680 .Current loss: 0.11569715291261673 .Current accuracy: 0.9202127659574468\n",
      "Epoch: 685 .Current loss: 0.13950397074222565 .Current accuracy: 0.898936170212766\n",
      "Epoch: 690 .Current loss: 0.33771219849586487 .Current accuracy: 0.9148936170212766\n",
      "Epoch: 695 .Current loss: 0.3143477141857147 .Current accuracy: 0.9202127659574468\n",
      "Epoch: 700 .Current loss: 0.16781531274318695 .Current accuracy: 0.9042553191489362\n",
      "Epoch: 705 .Current loss: 0.197242870926857 .Current accuracy: 0.925531914893617\n",
      "Epoch: 710 .Current loss: 0.211387038230896 .Current accuracy: 0.925531914893617\n",
      "Epoch: 715 .Current loss: 0.27894529700279236 .Current accuracy: 0.9095744680851063\n",
      "Epoch: 720 .Current loss: 0.309370219707489 .Current accuracy: 0.9308510638297872\n",
      "Epoch: 725 .Current loss: 0.12317634373903275 .Current accuracy: 0.9095744680851063\n",
      "Epoch: 730 .Current loss: 0.2731124758720398 .Current accuracy: 0.9202127659574468\n",
      "Epoch: 735 .Current loss: 0.35075458884239197 .Current accuracy: 0.9148936170212766\n",
      "Epoch: 740 .Current loss: 0.20527423918247223 .Current accuracy: 0.9095744680851063\n",
      "Epoch: 745 .Current loss: 0.280631422996521 .Current accuracy: 0.9361702127659575\n",
      "Epoch: 750 .Current loss: 0.12522156536579132 .Current accuracy: 0.9202127659574468\n",
      "Epoch: 755 .Current loss: 0.2625006139278412 .Current accuracy: 0.9361702127659575\n",
      "Epoch: 760 .Current loss: 0.08439754694700241 .Current accuracy: 0.9361702127659575\n",
      "Epoch: 765 .Current loss: 0.1906764954328537 .Current accuracy: 0.9095744680851063\n",
      "Epoch: 770 .Current loss: 0.288880318403244 .Current accuracy: 0.9148936170212766\n",
      "Epoch: 775 .Current loss: 0.18020959198474884 .Current accuracy: 0.9202127659574468\n",
      "Epoch: 780 .Current loss: 0.226084366440773 .Current accuracy: 0.9148936170212766\n",
      "Epoch: 785 .Current loss: 0.1939397007226944 .Current accuracy: 0.9095744680851063\n",
      "Epoch: 790 .Current loss: 0.22106127440929413 .Current accuracy: 0.925531914893617\n",
      "Epoch: 795 .Current loss: 0.2365732192993164 .Current accuracy: 0.8351063829787234\n",
      "Epoch: 800 .Current loss: 0.2249072939157486 .Current accuracy: 0.9042553191489362\n",
      "Epoch: 805 .Current loss: 0.1755249947309494 .Current accuracy: 0.9202127659574468\n",
      "Epoch: 810 .Current loss: 0.2654551863670349 .Current accuracy: 0.9202127659574468\n",
      "Epoch: 815 .Current loss: 0.21823453903198242 .Current accuracy: 0.9095744680851063\n",
      "Epoch: 820 .Current loss: 0.04587579891085625 .Current accuracy: 0.9202127659574468\n",
      "Epoch: 825 .Current loss: 0.04984637349843979 .Current accuracy: 0.9308510638297872\n",
      "Epoch: 830 .Current loss: 0.11520867794752121 .Current accuracy: 0.9202127659574468\n",
      "Epoch: 835 .Current loss: 0.3493294417858124 .Current accuracy: 0.9095744680851063\n",
      "Epoch: 840 .Current loss: 0.04940566420555115 .Current accuracy: 0.925531914893617\n",
      "Epoch: 845 .Current loss: 0.05359381437301636 .Current accuracy: 0.925531914893617\n",
      "Epoch: 850 .Current loss: 0.18220154941082 .Current accuracy: 0.9148936170212766\n",
      "Epoch: 855 .Current loss: 0.11593403667211533 .Current accuracy: 0.925531914893617\n",
      "Epoch: 860 .Current loss: 0.11198028177022934 .Current accuracy: 0.9202127659574468\n",
      "Epoch: 865 .Current loss: 0.054299741983413696 .Current accuracy: 0.925531914893617\n",
      "Epoch: 870 .Current loss: 0.2053530216217041 .Current accuracy: 0.9202127659574468\n",
      "Epoch: 875 .Current loss: 0.17880909144878387 .Current accuracy: 0.8829787234042553\n",
      "Epoch: 880 .Current loss: 0.1408531814813614 .Current accuracy: 0.9202127659574468\n",
      "Epoch: 885 .Current loss: 0.16348758339881897 .Current accuracy: 0.9202127659574468\n",
      "Epoch: 890 .Current loss: 0.11076147109270096 .Current accuracy: 0.925531914893617\n",
      "Epoch: 895 .Current loss: 0.0919295996427536 .Current accuracy: 0.9202127659574468\n",
      "Epoch: 900 .Current loss: 0.17930416762828827 .Current accuracy: 0.9148936170212766\n",
      "Epoch: 905 .Current loss: 0.3528217375278473 .Current accuracy: 0.925531914893617\n",
      "Epoch: 910 .Current loss: 0.16863365471363068 .Current accuracy: 0.9202127659574468\n",
      "Epoch: 915 .Current loss: 0.17317421734333038 .Current accuracy: 0.9095744680851063\n",
      "Epoch: 920 .Current loss: 0.09957132488489151 .Current accuracy: 0.9202127659574468\n",
      "Epoch: 925 .Current loss: 0.21782077848911285 .Current accuracy: 0.9095744680851063\n",
      "Epoch: 930 .Current loss: 0.24252508580684662 .Current accuracy: 0.898936170212766\n",
      "Epoch: 935 .Current loss: 0.12499608844518661 .Current accuracy: 0.925531914893617\n",
      "Epoch: 940 .Current loss: 0.23964747786521912 .Current accuracy: 0.898936170212766\n",
      "Epoch: 945 .Current loss: 0.1469389647245407 .Current accuracy: 0.9095744680851063\n",
      "Epoch: 950 .Current loss: 0.07485003769397736 .Current accuracy: 0.925531914893617\n",
      "Epoch: 955 .Current loss: 0.33221307396888733 .Current accuracy: 0.9202127659574468\n",
      "Epoch: 960 .Current loss: 0.08483056724071503 .Current accuracy: 0.925531914893617\n",
      "Epoch: 965 .Current loss: 0.14575190842151642 .Current accuracy: 0.925531914893617\n",
      "Epoch: 970 .Current loss: 0.1878955364227295 .Current accuracy: 0.9148936170212766\n",
      "Epoch: 975 .Current loss: 0.28459566831588745 .Current accuracy: 0.9202127659574468\n",
      "Epoch: 980 .Current loss: 0.09809928387403488 .Current accuracy: 0.9202127659574468\n",
      "Epoch: 985 .Current loss: 0.12090389430522919 .Current accuracy: 0.9202127659574468\n",
      "Epoch: 990 .Current loss: 0.2166968286037445 .Current accuracy: 0.9148936170212766\n",
      "Epoch: 995 .Current loss: 0.151826411485672 .Current accuracy: 0.9202127659574468\n"
     ]
=======
      "name": "HW3.ipynb",
      "provenance": [],
      "toc_visible": true
    },
    "kernelspec": {
      "display_name": "Python 3",
      "language": "python",
      "name": "python3"
    },
    "language_info": {
      "codemirror_mode": {
        "name": "ipython",
        "version": 3
      },
      "file_extension": ".py",
      "mimetype": "text/x-python",
      "name": "python",
      "nbconvert_exporter": "python",
      "pygments_lexer": "ipython3",
      "version": "3.8.3"
>>>>>>> 20e4d30773d02a872eab21163b5398dadf2e717f
    }
   ],
   "source": [
    "LEARNING_RATE = 0.01\n",
    "EPOCHS = 1000\n",
    "BATCH_SIZE = 32\n",
    "\n",
    "arr_loss = []\n",
    "arr_epochs = []\n",
    "arr_accuracy = []\n",
    "\n",
    "# Create the neural network\n",
    "network = simple_network()\n",
    "# Define the loss function and the optimizer\n",
    "criterion = torch.nn.CrossEntropyLoss()\n",
    "optimizer = torch.optim.SGD(network.parameters(), lr=LEARNING_RATE) # Named SGD but actually mini-batch Gradient Descent\n",
    "\n",
    "# Set network in training mode\n",
    "network.train()\n",
    "\n",
    "training_size = len(X_train)\n",
    "num_batches = math.ceil(training_size/BATCH_SIZE)\n",
    "for epoch in range(EPOCHS):\n",
    "    \n",
    "    X_train, y_train = shuffle(X_train, y_train)\n",
    "    \n",
    "    for batch in range(num_batches):\n",
    "        \n",
    "        X_train_batch = torch.tensor(X_train[batch*BATCH_SIZE:min(batch*BATCH_SIZE+BATCH_SIZE,training_size),:])\n",
    "        y_train_batch = torch.tensor(y_train[batch*BATCH_SIZE:min(batch*BATCH_SIZE+BATCH_SIZE,training_size)], dtype=torch.long)\n",
    "        \n",
    "        optimizer.zero_grad()\n",
    "        \n",
    "        output = network(X_train_batch)\n",
    "        \n",
    "        loss = criterion(output,y_train_batch)\n",
    "        loss.backward()\n",
    "        \n",
    "        optimizer.step()\n",
    "        \n",
    "        # graphing accuracy and loss\n",
    "    arr_loss.append(loss.item())\n",
    "    arr_epochs.append(epoch)\n",
    "\n",
    "    network.eval()\n",
    "\n",
    "    pred = torch.argmax(network(torch.tensor(X_train)), dim=1).numpy()\n",
    "\n",
    "    arr_accuracy.append(np.sum(pred == y_train)/len(y_train))\n",
    "\n",
    "    if (epoch % 5) == 0:\n",
    "        print(\"Epoch:\", epoch, \". Current loss:\", loss.item(), \". Current accuracy:\", np.sum(pred == y_train)/len(y_train))"
   ]
  },
<<<<<<< HEAD
  {
   "cell_type": "markdown",
   "metadata": {
    "id": "BoVUZHu02See"
   },
   "source": [
    "Plot how the loss and the accuracy change over the epochs. "
   ]
  },
  {
   "cell_type": "code",
   "execution_count": 4,
   "metadata": {
    "colab": {
     "base_uri": "https://localhost:8080/",
     "height": 573
=======
  "cells": [
    {
      "cell_type": "markdown",
      "metadata": {
        "id": "XPsgwxLU2Sed"
      },
      "source": [
        "# Homework 3\n",
        "\n",
        "DUE DEC 1st at 11:59 PM\n"
      ]
    },
    {
      "cell_type": "markdown",
      "metadata": {
        "id": "dgdeprwQ2See"
      },
      "source": [
        "## Problem 1\n",
        "\n",
        "In this problem, you will implement a simple feed-forward neural network using PyTorch, a straight-forward and simple-to-pickup framework for quickly prototyping deep learning model. \n",
        "\n",
        "PyTorch provides 2 powerful things. First, a nice data structure called Tensor (basically a matrix, similar to Numpy ndarray). Tensor is optimized for matrix calculation and can be loaded to a GPU. Tensor is also implemented so that it's easy to calculate and pass back chains of gradients, which is extremely useful for backpropagation on neural network. Second, a nice inner mechanism called Autograd that nicely map variables involved a chain of calculations and efficiently calculate their gradients via the chain rule when needed. Read more here: https://towardsdatascience.com/pytorch-autograd-understanding-the-heart-of-pytorchs-magic-2686cd94ec95  \n",
        "\n",
        "You will train and evaluate the model on a simple dataset for classifying seeds. The dataset has 7 features and 3 labels. Refer to the example from the discussion session if needed. \n",
        "\n",
        "**In this problem, you are given a good amount of freedom in tweaking your choices in designing the network. As long as it's still a feed-forward network, it's fine. Accuracy does not matter as long as it's reasonable (like above 80%) but do try to achieve a high accuracy.**\n",
        "\n",
        "(Optional): the dataset provided to you is very simple. Instead, you can challenge yourself by trying more difficult datasets. Some datasets that you can loaded directly using PyTorch:\n",
        "- MNIST (Most famous dataset for getting into Deep Learning)\n",
        "- Fashion-MNIST\n",
        "- Kuzushiji-MNIST \n",
        "\n",
        "The datasets are available at https://pytorch.org/docs/stable/torchvision/datasets.html. You will get the same grade no matter what dataset you use. \n",
        "\n",
        "### Part a\n",
        "Firstly, load and inspect the dataset from \"seeds_dataset.csv\". Split them into a train set (90%) and a test set (10%). You should be quite comfortable with these operations by now. "
      ]
    },
    {
      "cell_type": "code",
      "metadata": {
        "id": "3eztCAG02See"
      },
      "source": [
        "import torch\n",
        "from torch.autograd import Variable\n",
        "import math\n",
        "import pandas as pd\n",
        "import numpy as np\n",
        "from sklearn.model_selection import train_test_split\n",
        "from sklearn.utils import shuffle\n",
        "\n",
        "\n",
        "data = pd.read_csv('seeds_dataset.csv')\n",
        "X = data.iloc[:,:-1].to_numpy(dtype=np.float32)\n",
        "y = data.iloc[:,-1].astype(\"category\").cat.codes.to_numpy(dtype=np.float32)\n",
        "X_train, X_test, y_train, y_test = train_test_split(X, y, test_size=0.1)"
      ],
      "execution_count": 134,
      "outputs": []
    },
    {
      "cell_type": "markdown",
      "metadata": {
        "id": "_KpCu45p2See"
      },
      "source": [
        "### Part b \n",
        "Create a Python class for our neural network model. The network should have 1 input layer, at least 1 hidden layer, and 1 output layer. You are free to choose the size and the number of hidden layers (it may affect the performance so try tweaking around a bit), and the activation function (or no activation at all).\n",
        "\n",
        "Some popular activation functions that you can try:\n",
        "- Sigmoid (torch.sigmoid)\n",
        "- ReLU (torch.relu)\n",
        "- Tanh (torch.tanh)"
      ]
    },
    {
      "cell_type": "code",
      "metadata": {
        "id": "uH6tsTUr2See"
      },
      "source": [
        "import torch\n",
        "\n",
        "class simple_network(torch.nn.Module):\n",
        "    \n",
        "    def __init__(self):\n",
        "        super(simple_network,self).__init__()\n",
        "        self.layer1 = torch.nn.Linear(in_features=7, out_features=40)\n",
        "        self.layer2 = torch.nn.Linear(in_features=40, out_features=40)\n",
        "        self.outputlayer = torch.nn.Linear(in_features=40, out_features=3)\n",
        "        \n",
        "    def forward(self,x):\n",
        "        x = torch.relu(self.layer1(x))\n",
        "        x = torch.relu(self.layer2(x))\n",
        "        x = self.outputlayer(x)\n",
        "        return x\n",
        "    # Create the network class by filling in this block of code"
      ],
      "execution_count": 135,
      "outputs": []
    },
    {
      "cell_type": "markdown",
      "metadata": {
        "id": "ebDMfYee2See"
      },
      "source": [
        "### Part c \n",
        "Train the network using the train dataset. You are free to choose any suitable optimizer and loss function provided by PyTorch (or you can just use SGD optimizer and CrossEntropyLoss like we did in the discussion session for simplicity). After each epoch, record the current loss and the current accuracy. The current accuracy is obtained by evaluating the model on the train dataset. \n",
        "\n",
        "Some optimizers that you can try:\n",
        "- SGD\n",
        "- Adagrad\n",
        "- Adam\n",
        "\n",
        "https://pytorch.org/docs/stable/optim.html"
      ]
    },
    {
      "cell_type": "code",
      "metadata": {
        "id": "VTCFkzmm2See",
        "colab": {
          "base_uri": "https://localhost:8080/"
        },
        "outputId": "fc44cf05-4240-43fc-9b17-042ca31df1ee"
      },
      "source": [
        "LEARNING_RATE = 0.01\n",
        "EPOCHS = 1000\n",
        "BATCH_SIZE = 32\n",
        "\n",
        "arr_loss = []\n",
        "arr_epochs = []\n",
        "arr_accuracy = []\n",
        "\n",
        "# Create the neural network\n",
        "network = simple_network()\n",
        "# Define the loss function and the optimizer\n",
        "criterion = torch.nn.CrossEntropyLoss()\n",
        "optimizer = torch.optim.SGD(network.parameters(), lr=LEARNING_RATE) # Named SGD but actually mini-batch Gradient Descent\n",
        "\n",
        "# Set network in training mode\n",
        "network.train()\n",
        "\n",
        "training_size = len(X_train)\n",
        "num_batches = math.ceil(training_size/BATCH_SIZE)\n",
        "for epoch in range(EPOCHS):\n",
        "    \n",
        "    X_train, y_train = shuffle(X_train, y_train)\n",
        "    \n",
        "    for batch in range(num_batches):\n",
        "        \n",
        "        X_train_batch = torch.tensor(X_train[batch*BATCH_SIZE:min(batch*BATCH_SIZE+BATCH_SIZE,training_size),:])\n",
        "        y_train_batch = torch.tensor(y_train[batch*BATCH_SIZE:min(batch*BATCH_SIZE+BATCH_SIZE,training_size)], dtype=torch.long)\n",
        "        \n",
        "        optimizer.zero_grad()\n",
        "        \n",
        "        output = network(X_train_batch)\n",
        "        \n",
        "        loss = criterion(output,y_train_batch)\n",
        "        loss.backward()\n",
        "        \n",
        "        optimizer.step()\n",
        "        \n",
        "        # graphing accuracy and loss\n",
        "    arr_loss.append(loss.item())\n",
        "    arr_epochs.append(epoch)\n",
        "\n",
        "    network.eval()\n",
        "\n",
        "    pred = torch.argmax(network(torch.tensor(X_test)), dim=1).numpy()\n",
        "\n",
        "    arr_accuracy.append(np.sum(pred == y_test)/len(y_test))\n",
        "\n",
        "    if (epoch % 5) == 0:\n",
        "        print(\"Epoch:\", epoch, \"Current loss: \", loss.item())"
      ],
      "execution_count": 136,
      "outputs": [
        {
          "output_type": "stream",
          "text": [
            "Epoch: 0 Current loss:  1.0641671419143677\n",
            "Epoch: 5 Current loss:  1.017769455909729\n",
            "Epoch: 10 Current loss:  0.9105103611946106\n",
            "Epoch: 15 Current loss:  0.8776823282241821\n",
            "Epoch: 20 Current loss:  0.8595862984657288\n",
            "Epoch: 25 Current loss:  0.6755116581916809\n",
            "Epoch: 30 Current loss:  0.705350935459137\n",
            "Epoch: 35 Current loss:  0.5443560481071472\n",
            "Epoch: 40 Current loss:  0.5708285570144653\n",
            "Epoch: 45 Current loss:  0.39951199293136597\n",
            "Epoch: 50 Current loss:  0.4938759207725525\n",
            "Epoch: 55 Current loss:  0.44153904914855957\n",
            "Epoch: 60 Current loss:  0.4470656216144562\n",
            "Epoch: 65 Current loss:  0.4134306311607361\n",
            "Epoch: 70 Current loss:  0.5389038920402527\n",
            "Epoch: 75 Current loss:  1.2262241840362549\n",
            "Epoch: 80 Current loss:  0.37802743911743164\n",
            "Epoch: 85 Current loss:  0.3754104971885681\n",
            "Epoch: 90 Current loss:  0.24156737327575684\n",
            "Epoch: 95 Current loss:  0.3347398340702057\n",
            "Epoch: 100 Current loss:  0.2669204771518707\n",
            "Epoch: 105 Current loss:  0.3159871995449066\n",
            "Epoch: 110 Current loss:  0.3331219553947449\n",
            "Epoch: 115 Current loss:  0.15175017714500427\n",
            "Epoch: 120 Current loss:  0.16429412364959717\n",
            "Epoch: 125 Current loss:  0.17375360429286957\n",
            "Epoch: 130 Current loss:  0.20878936350345612\n",
            "Epoch: 135 Current loss:  0.3020380139350891\n",
            "Epoch: 140 Current loss:  0.2315891832113266\n",
            "Epoch: 145 Current loss:  0.0890796110033989\n",
            "Epoch: 150 Current loss:  0.45377063751220703\n",
            "Epoch: 155 Current loss:  0.22184748947620392\n",
            "Epoch: 160 Current loss:  0.2761465907096863\n",
            "Epoch: 165 Current loss:  0.16060194373130798\n",
            "Epoch: 170 Current loss:  0.21498282253742218\n",
            "Epoch: 175 Current loss:  0.17180125415325165\n",
            "Epoch: 180 Current loss:  0.21052220463752747\n",
            "Epoch: 185 Current loss:  0.211871936917305\n",
            "Epoch: 190 Current loss:  0.12355323135852814\n",
            "Epoch: 195 Current loss:  0.13713301718235016\n",
            "Epoch: 200 Current loss:  0.19079306721687317\n",
            "Epoch: 205 Current loss:  0.2801821827888489\n",
            "Epoch: 210 Current loss:  0.13473568856716156\n",
            "Epoch: 215 Current loss:  0.17411187291145325\n",
            "Epoch: 220 Current loss:  0.16346554458141327\n",
            "Epoch: 225 Current loss:  0.21971574425697327\n",
            "Epoch: 230 Current loss:  0.14857129752635956\n",
            "Epoch: 235 Current loss:  0.1422940045595169\n",
            "Epoch: 240 Current loss:  0.22225892543792725\n",
            "Epoch: 245 Current loss:  0.23252007365226746\n",
            "Epoch: 250 Current loss:  0.20668531954288483\n",
            "Epoch: 255 Current loss:  0.36934152245521545\n",
            "Epoch: 260 Current loss:  0.13753704726696014\n",
            "Epoch: 265 Current loss:  0.24646274745464325\n",
            "Epoch: 270 Current loss:  0.2384466975927353\n",
            "Epoch: 275 Current loss:  0.19911429286003113\n",
            "Epoch: 280 Current loss:  0.2381327897310257\n",
            "Epoch: 285 Current loss:  0.17247648537158966\n",
            "Epoch: 290 Current loss:  0.0938677117228508\n",
            "Epoch: 295 Current loss:  0.10800553113222122\n",
            "Epoch: 300 Current loss:  0.25311124324798584\n",
            "Epoch: 305 Current loss:  0.20957060158252716\n",
            "Epoch: 310 Current loss:  0.18022489547729492\n",
            "Epoch: 315 Current loss:  0.27830904722213745\n",
            "Epoch: 320 Current loss:  0.15388819575309753\n",
            "Epoch: 325 Current loss:  0.12125509232282639\n",
            "Epoch: 330 Current loss:  0.12885090708732605\n",
            "Epoch: 335 Current loss:  0.2466079443693161\n",
            "Epoch: 340 Current loss:  0.1689397096633911\n",
            "Epoch: 345 Current loss:  0.4935385584831238\n",
            "Epoch: 350 Current loss:  0.20323140919208527\n",
            "Epoch: 355 Current loss:  0.25197842717170715\n",
            "Epoch: 360 Current loss:  0.1904895007610321\n",
            "Epoch: 365 Current loss:  0.23010726273059845\n",
            "Epoch: 370 Current loss:  0.11927963048219681\n",
            "Epoch: 375 Current loss:  0.2568786144256592\n",
            "Epoch: 380 Current loss:  0.11500687152147293\n",
            "Epoch: 385 Current loss:  0.15061137080192566\n",
            "Epoch: 390 Current loss:  0.1892629712820053\n",
            "Epoch: 395 Current loss:  0.13329605758190155\n",
            "Epoch: 400 Current loss:  0.3359464108943939\n",
            "Epoch: 405 Current loss:  0.1209862157702446\n",
            "Epoch: 410 Current loss:  0.15251120924949646\n",
            "Epoch: 415 Current loss:  0.18136951327323914\n",
            "Epoch: 420 Current loss:  0.22434234619140625\n",
            "Epoch: 425 Current loss:  0.20448902249336243\n",
            "Epoch: 430 Current loss:  0.19199605286121368\n",
            "Epoch: 435 Current loss:  0.11209160834550858\n",
            "Epoch: 440 Current loss:  0.14145700633525848\n",
            "Epoch: 445 Current loss:  0.1567385494709015\n",
            "Epoch: 450 Current loss:  0.31175151467323303\n",
            "Epoch: 455 Current loss:  0.1029156893491745\n",
            "Epoch: 460 Current loss:  0.22495952248573303\n",
            "Epoch: 465 Current loss:  0.12744005024433136\n",
            "Epoch: 470 Current loss:  0.18447914719581604\n",
            "Epoch: 475 Current loss:  0.13954094052314758\n",
            "Epoch: 480 Current loss:  0.17472267150878906\n",
            "Epoch: 485 Current loss:  0.14131052792072296\n",
            "Epoch: 490 Current loss:  0.2196221500635147\n",
            "Epoch: 495 Current loss:  0.21661999821662903\n",
            "Epoch: 500 Current loss:  0.24704746901988983\n",
            "Epoch: 505 Current loss:  0.09215427190065384\n",
            "Epoch: 510 Current loss:  0.16387157142162323\n",
            "Epoch: 515 Current loss:  0.07195005565881729\n",
            "Epoch: 520 Current loss:  0.2224939614534378\n",
            "Epoch: 525 Current loss:  0.24368296563625336\n",
            "Epoch: 530 Current loss:  0.3627644181251526\n",
            "Epoch: 535 Current loss:  0.17274294793605804\n",
            "Epoch: 540 Current loss:  0.1637967973947525\n",
            "Epoch: 545 Current loss:  0.03948317840695381\n",
            "Epoch: 550 Current loss:  0.13435178995132446\n",
            "Epoch: 555 Current loss:  0.17343862354755402\n",
            "Epoch: 560 Current loss:  0.2426261156797409\n",
            "Epoch: 565 Current loss:  0.27677950263023376\n",
            "Epoch: 570 Current loss:  0.2547222375869751\n",
            "Epoch: 575 Current loss:  0.09960810840129852\n",
            "Epoch: 580 Current loss:  0.12404749542474747\n",
            "Epoch: 585 Current loss:  0.27179840207099915\n",
            "Epoch: 590 Current loss:  0.14378081262111664\n",
            "Epoch: 595 Current loss:  0.1462123692035675\n",
            "Epoch: 600 Current loss:  0.15779216587543488\n",
            "Epoch: 605 Current loss:  0.13717608153820038\n",
            "Epoch: 610 Current loss:  0.08754511922597885\n",
            "Epoch: 615 Current loss:  0.03080855868756771\n",
            "Epoch: 620 Current loss:  0.24509656429290771\n",
            "Epoch: 625 Current loss:  0.08042504638433456\n",
            "Epoch: 630 Current loss:  0.15703095495700836\n",
            "Epoch: 635 Current loss:  0.07734237611293793\n",
            "Epoch: 640 Current loss:  0.1694980412721634\n",
            "Epoch: 645 Current loss:  0.14463968575000763\n",
            "Epoch: 650 Current loss:  0.09369385242462158\n",
            "Epoch: 655 Current loss:  0.05316029116511345\n",
            "Epoch: 660 Current loss:  0.2950762212276459\n",
            "Epoch: 665 Current loss:  0.29769402742385864\n",
            "Epoch: 670 Current loss:  0.3909848630428314\n",
            "Epoch: 675 Current loss:  0.28407683968544006\n",
            "Epoch: 680 Current loss:  0.13286876678466797\n",
            "Epoch: 685 Current loss:  0.238395556807518\n",
            "Epoch: 690 Current loss:  0.3332239091396332\n",
            "Epoch: 695 Current loss:  0.30677708983421326\n",
            "Epoch: 700 Current loss:  0.22836259007453918\n",
            "Epoch: 705 Current loss:  0.26353076100349426\n",
            "Epoch: 710 Current loss:  0.11520731449127197\n",
            "Epoch: 715 Current loss:  0.22095535695552826\n",
            "Epoch: 720 Current loss:  0.14993330836296082\n",
            "Epoch: 725 Current loss:  0.14229990541934967\n",
            "Epoch: 730 Current loss:  0.22673901915550232\n",
            "Epoch: 735 Current loss:  0.05223621055483818\n",
            "Epoch: 740 Current loss:  0.11776160448789597\n",
            "Epoch: 745 Current loss:  0.04711172729730606\n",
            "Epoch: 750 Current loss:  0.16001488268375397\n",
            "Epoch: 755 Current loss:  0.045807722955942154\n",
            "Epoch: 760 Current loss:  0.16144290566444397\n",
            "Epoch: 765 Current loss:  0.22278201580047607\n",
            "Epoch: 770 Current loss:  0.06682681292295456\n",
            "Epoch: 775 Current loss:  0.1635688990354538\n",
            "Epoch: 780 Current loss:  0.04906705021858215\n",
            "Epoch: 785 Current loss:  0.1542963981628418\n",
            "Epoch: 790 Current loss:  0.07170701771974564\n",
            "Epoch: 795 Current loss:  0.30488321185112\n",
            "Epoch: 800 Current loss:  0.11754577606916428\n",
            "Epoch: 805 Current loss:  0.1467934548854828\n",
            "Epoch: 810 Current loss:  0.27644237875938416\n",
            "Epoch: 815 Current loss:  0.09450595080852509\n",
            "Epoch: 820 Current loss:  0.29307064414024353\n",
            "Epoch: 825 Current loss:  0.09349550306797028\n",
            "Epoch: 830 Current loss:  0.059317950159311295\n",
            "Epoch: 835 Current loss:  0.08645833283662796\n",
            "Epoch: 840 Current loss:  0.0708593800663948\n",
            "Epoch: 845 Current loss:  0.18291544914245605\n",
            "Epoch: 850 Current loss:  0.23135682940483093\n",
            "Epoch: 855 Current loss:  0.4572598934173584\n",
            "Epoch: 860 Current loss:  0.10212510079145432\n",
            "Epoch: 865 Current loss:  0.1855689138174057\n",
            "Epoch: 870 Current loss:  0.10425324738025665\n",
            "Epoch: 875 Current loss:  0.10482301563024521\n",
            "Epoch: 880 Current loss:  0.1503572016954422\n",
            "Epoch: 885 Current loss:  0.12563320994377136\n",
            "Epoch: 890 Current loss:  0.19916562736034393\n",
            "Epoch: 895 Current loss:  0.3597203195095062\n",
            "Epoch: 900 Current loss:  0.26282012462615967\n",
            "Epoch: 905 Current loss:  0.14527527987957\n",
            "Epoch: 910 Current loss:  0.2452620565891266\n",
            "Epoch: 915 Current loss:  0.1260748952627182\n",
            "Epoch: 920 Current loss:  0.10959302634000778\n",
            "Epoch: 925 Current loss:  0.26405075192451477\n",
            "Epoch: 930 Current loss:  0.12000002712011337\n",
            "Epoch: 935 Current loss:  0.08898656815290451\n",
            "Epoch: 940 Current loss:  0.14866964519023895\n",
            "Epoch: 945 Current loss:  0.23366883397102356\n",
            "Epoch: 950 Current loss:  0.19492685794830322\n",
            "Epoch: 955 Current loss:  0.07440385967493057\n",
            "Epoch: 960 Current loss:  0.2283060997724533\n",
            "Epoch: 965 Current loss:  0.17214582860469818\n",
            "Epoch: 970 Current loss:  0.19292700290679932\n",
            "Epoch: 975 Current loss:  0.12482796609401703\n",
            "Epoch: 980 Current loss:  0.09518133103847504\n",
            "Epoch: 985 Current loss:  0.09734988212585449\n",
            "Epoch: 990 Current loss:  0.2716858983039856\n",
            "Epoch: 995 Current loss:  0.15584316849708557\n"
          ],
          "name": "stdout"
        }
      ]
    },
    {
      "cell_type": "markdown",
      "metadata": {
        "id": "BoVUZHu02See"
      },
      "source": [
        "Plot how the loss and the accuracy change over the epochs. "
      ]
    },
    {
      "cell_type": "code",
      "metadata": {
        "id": "R4T-5QDs2See",
        "colab": {
          "base_uri": "https://localhost:8080/",
          "height": 573
        },
        "outputId": "1cc27106-ae63-4ca2-dbd0-0e931e135d08"
      },
      "source": [
        "import matplotlib.pyplot as plt\n",
        "\n",
        "plt.plot()\n",
        "plt.plot(arr_epochs, arr_accuracy, color='green')\n",
        "plt.ylabel('Accuracy')\n",
        "plt.xlabel('Epochs')\n",
        "plt.title('Accuracy vs. Epochs')\n",
        "plt.show()\n",
        "\n",
        "plt.plot()\n",
        "plt.plot(arr_epochs, arr_loss,color='red')\n",
        "plt.ylabel('Loss')\n",
        "plt.xlabel('Epochs')\n",
        "plt.title('Loss vs. Epochs')\n",
        "plt.show()"
      ],
      "execution_count": 137,
      "outputs": [
        {
          "output_type": "display_data",
          "data": {
            "image/png": "iVBORw0KGgoAAAANSUhEUgAAAYIAAAEWCAYAAABrDZDcAAAABHNCSVQICAgIfAhkiAAAAAlwSFlzAAALEgAACxIB0t1+/AAAADh0RVh0U29mdHdhcmUAbWF0cGxvdGxpYiB2ZXJzaW9uMy4yLjIsIGh0dHA6Ly9tYXRwbG90bGliLm9yZy+WH4yJAAAgAElEQVR4nO3deZgdVZn48e/b+5rudKezdTobJEBCAoQGwqYoywBiQEUhiICiiA6KDo7Cb+ZBZBxnVEYZlAERxRlHDJtCxAg67ETEBCKQlQTIHkhn6eyd3t7fH1V1U337LnW7b92l7/t5nn76VtWpqlNV99Zb55yqU6KqGGOMKVxF2c6AMcaY7LJAYIwxBc4CgTHGFDgLBMYYU+AsEBhjTIGzQGCMMQXOAoExBgAROUNENmY7HybzLBCY0InIsyKyU0TKs52XfCEiE0VERWRv1N8l2c6bGXpKsp0BM7SJyETgdGAXMAd4KIPrLlHV7kytLyT1Q2AbTI6zEoEJ2xXAX4BfAFf6J4hIi4j8RkTaRGS7iPzYN+1zIrJCRPaIyHIRmeWOVxE53JfuFyLybffzGSKyUUS+ISLvAveJyHARedxdx0738zjf/A0icp+IbHanP+qOXyoiH/alKxWRbSJyXPQGuvm8wDdc4q5vlohUiMj/utvXLiKLRGTUYHequ913i8if3H30nIhM8E0/xV3XLvf/Kcm22Tf9BhHZKiJbROTTvvHnu8dij4hsEpGvDXY7TG6wQGDCdgXwK/fv77yToIgUA48D64CJQDMwz532ceAWd95hOCWJ7QHXNxpoACYA1+B8x+9zh8cDB4Af+9L/EqgCpgMjgR+64/8HuNyX7nxgi6ouibHOXwNzfcN/B2xT1Vdxgl8d0AI0Ate6eUiHTwL/AowA/oazjxGRBuD3wB3uOn8A/F5EGt354m0zOPuvDud4XA3cKSLD3Wk/Az6vqrXA0cDTadoOk22qan/2F8ofcBrQBYxwh1cCX3U/nwy0ASUx5nsSuD7OMhU43Df8C+Db7uczgE6gIkGejgV2up/HAL3A8BjpxgJ7gGHu8MPA1+Ms83A3bZU7/CvgZvfzZ4A/AzNT3HcT3W1tj/o7yrfd83zpa4AenIDzKeCvUct7CbgqyTafgROkSnzjtgKz3c/rgc97+8T+hs6flQhMmK4E/qiq29zh+zlUPdQCrNPY9d8twFsDXGebqnZ4AyJSJSI/EZF1IrIbeB6od0skLcAOVd0ZvRBV3QwsBD4mIvXAebhX3DHSrgFWAB8WkSqcEsz97uRf4gS2eW5VzPdEpDSF7RmhqvW+vxW+aRt8edgL7MAJYGNxSlp+63Cu8uNus2t71DHZjxNkAD6GUzJa51ZFnZzCdpgcZo3FJhQiUgl8Aih26+sBynFOwsfgnMTGx2nQ3QAcFmfR+3GqNTyjAf8tj9Hd6d4AHAGcpKrvisixwBJA3PU0iEi9qrbHWNd/A5/F+Z28pKqb4m9xpHqoCFjuBgdUtQv4FvAtt+F8AbAKp5plsFq8DyJSg1Mlttn9mxCVdjzwBMm3OS5VXQRc6Aay64AH/Xkw+ctKBCYsF+FUVUzDqY45FjgKeAGn7v+vwBbg30Wk2m1UPdWd917gayJyvDgO9zWE/g24TESKReRc4P1J8lGLU93R7tadf9OboKpbgD8A/+U2KpeKyPt88z4KzAKux2kzSGQecA7wBQ6VBhCRD4jIDLcEshunqqw3ybKCOl9EThORMpy2gr+o6gacYDNVRC5zG64vwTkOjwfY5phEpExEPikidW5w253G7TBZZoHAhOVK4D5VXa+q73p/OA21n8S5Iv8wTv36epyr+ksAVPUh4F9xTqh7cE7IDe5yr3fna3eX0+eOlxhuByqBbTh3Lz0RNf1TOCfnlTj14V/xJqjqAeARYBLwm0QrcU+wLwGnAA/4Jo3GaV/YjVN99BxOdRHuXT93J8l/u/R9juAffNPuxwlsO4DjcRu3VXU7cAFOaWg78HXgAl8VXdxtTuJTwFq3iu1anP1vhgBRtRfTGBOPiNwMTFXVy5MmziAR+QWwUVX/Odt5MfnP2giMicOtSroa50rYmCHLqoaMiUFEPofTsPoHVX0+2/kxJkxWNWSMMQXOSgTGGFPg8q6NYMSIETpx4sRsZ8MYY/LKK6+8sk1Vm2JNy7tAMHHiRBYvXpztbBhjTF4RkeinzSOsasgYYwqcBQJjjClwFgiMMabAWSAwxpgCZ4HAGGMKnAUCY4wpcKEGAhE5V0RWicgaEbkxxvQJIvKUiLwuIs+K712yxhhjMiO0QOD2v34nzpudpgFzRWRaVLLbgP9R1ZnArcC/hZWfZHq1l58v+TndvbFemGWy7Yk1T7CuPe5t0IOyZc8WHlv5WCjL9vzq9V+x++DuUNcxEK9ueZWXN76c7WwMyt7Ovdz+l9t5ZPkjg1rOYysfY/OezYHTr2tfx/cXfp/9Xfv7TVu4fiGvv/d6n3Ert63khy/9MOH+VlXuW3IfB7sPAvDCuhdYtnVZ4DwNWFjvwMR5J+2TvuGbgJui0iwDWtzPAuxOttzjjz9ew/CzV3+m3IJ+98XvhrJ8MzjcgtZ8pyaUZU/90VTlFrSrpyuU5S/ZskS5Bb304UtDWf5gcAvKLWQ7G4Ny+W8uj2zH9v3bB7SM7p5u5RZ06o+mprze37/5+37TYu1Xb1yi/f2b5b9RbkFv/NONcZczUMBizcI7i5vxvVMV58UjzVFpXgM+6n7+CFArIo0h5imunQecV7i+u/fdJClNtuzt3BvKct/c/ibglArDsK9zHwAbd29MktIMhH+/elfSqers6QRgzY41gefZum8rAB3dHUlSBtfe4bw99N19mT0PZbux+GvA+0VkCc4rBzfhvN6wDxG5RkQWi8jitra2UDJSUuT0ttHT22/1pkDYsc9/PTqwY9jV2zXgdXb1DHzeXBFmINhE3xdbj3PHRajqZlX9qKoeB/yTO67fC7VV9R5VbVXV1qammH0mDZoXCKyNoHAN9CRicsdAS3VeiSDT8+aKMAPBImCKiExyX659KTDfn0BERoiIl4ebgJ+HmJ+ELBDkLs3QOzOsRJD/Bvr7HcxV/WBKE7kitECgqt3AdcCTOC/tflBVl4nIrSIyx012BrBKRN4ERuG8sDwriouKAQsEuUjJTCAIq40gU/k3A786L/QSQajdUKvqAmBB1LibfZ8fBh4OMw9BRdoIrHog52TqSj2sY28XF5kz0Ct7ayMwABSLlQhyVaaCc1gBZyhcMeaLoVQiyFSVKFggiLASQe7K9xLBULhizBcDvbLPxTaCTJ6LLBC4rLE4d4VVd5+p9ViJIHNyoUQwmAsX7+Svqhn93lggcFkgyF35XjWUD3eVZLIaIkyZDATe9yW6NBHkeMfb3/5lZbIkaYHAJSKABYJclO9VQ95JJpdPtkOlSnSwjcWpHCPvuEYHkSBBJV6w8M9rJYIs8KoFLBDknnwvEeRq1ZD/pJereUxVJksEgwkE8dJkKxCEevtovnhpw0v8ddNfgdgngx0HdvDOzneYPnI6izcv5rTxp0Wmrdy2kurSalrqWvrNB/Dyxpd5ZcsrXDbjMurK63j6nac5ueVkHlj6AGdOPpOe3h7+svEvTBo+iYqSChorG1m/az215bUs3bqUuUfPBYjM9+qWV9m0exPVZdWMrB7JK5tf4WDPQUqLSjlvynks3ryY1rGtrGhbwfK25RQXFXNS80m8vfNtZo+bzd7OvfRoD8+ufZbRNaMZXTOaJVuWML5uPJv2bKKmrIbxdeM5bvRxPLT8IYaVD+OiIy9i/qr57Diwg8qSSgCqSqtoHtbMjgM7GFk9ks17NtPR3cH+rv3UltXS0d3BjFEzeHnjy5w+4XSqS6spLS7l+XXPc8LYE3hv33usa1/He/veY3TNaHq1l57eHhqrGplUP4kn33qSuvI6RteMZtOeQw+k/3bFb3mn/R3G1o6lrryO1TtWM6ZmDFv3baVHe5g5aiZFUsTq7avZ17WP2rJaunq7qCyp5JSWU3hu3XNs37+dhsoGRISq0qrIsuctnccnZ36SF9a9QHdvt7O9pZXs7dxLaVEp9RX19Gov7R3tNFQ2MKpmFF09XazesZqq0ip6tZeD3QdpqGxg+4HtNFY20qu9zFs2D4CFGxby/YXfZ3jlcLbt30ZJUQm92ktzbTMlRSXs7NhJaVEp+7r20Tq2lYPdB1m9YzWlRaXsOLCD+op6erSHI0ccyeY9m1m/az31FfXsObiH5mHNkT6Nzpx8Jo+tfIxe7WVY+TDKist4d++7jKoZRWdPJ2372qgtr+0TCG597lYObzicqtIqiqQosixF2XlgJw2VDezp3AM4J6jq0mq6e7udz2XV7OrYRXVZNZ09nQyvGA7A9gPbqS2rpb2jneqyarp6uhhbOzbSW2d7RzulxaWMqBrBwe6D9Gov+7r2sa9zH9Vl1fRqL7VltZQWlyIInT2d7Ovax5iaMew+uJuy4jJa6lp4du2zke14/M3HeXvn2wwrHxbJwzmHncO69nVs278tkm5v516ahzWzq2MXNWU1/HnDnyPbe++r97J5z2aaa52u0T446YOs27WORZsWUV1WTVNVE7sP7o70Lnr7y7czfeR09nbupby4PNJ3FcBdi+6is6eTgz19+0Cat3Qe3b3dlBaVAk4J4UDXAf594b8DsGr7Ku5efHck/Xde+A7v7X2Pa1uv5aimo2KeawZDcrm4Gktra6suXrw4bcvbum8ro24bFRn+wMQP8PSVT/dJM+OuGSzdupTPHvdZ7l1yL6uuW8XUxqkAyLecKiX9Zuz96E1vHdvKl0/8Mlc8ekWf6UePPJqlW5fGzd8jn3iEg90Huew3l6W+cVFOH386L6x/IVBaQSIPQp3acioLNywc9PozpaKkImZHYPUV9ZFOvYwJ6pLpl/DAsgeynQ0A7v7Q3Xy+9fMDmldEXlHV1ljTCr5qaFfHrj7DsaohvBP1G1vfAGD7/u0pr2fx5sWs29W/P/1EQQBg/a71rG1fm/L6YmnbH7zDPv/TsMvblqdl/cnc/aG7kycKoKO7g7ryun7j/UGgqaqJ6tLquMu4YOoF/cY9dumhdxZ85MiPJM3Hv52ZtddrDNrF0y5m/VfW9xkO6sGLH+Sm026KO/0bp36Da2Zd02/80i/0/y385IKfxMxDsvw8c+UzXHXsVX3G3fWhu1j/lfU8dcVT/dJfdORFTB4+ud/4o0cezc6OnXHXU1FSkTAffiOrRwJw9uSz+4z372eAifUTWf+V9TRUNvRbRllxWeD1paLgA0F0m0CiNoIit1ukgd5mWCTZ3d0DzXem6ujH1I5J27Jqy2sTTq8oqUh4POor6vuNaxl2qPqvsTJ5b+mja0YnTZOrhlcM71PdObJqZOB5xw0bR1NV/M4hm6qaGF45vN/4ScMn9Rs3oW5CzDwky8+Eugn9LgbG1Iyhpa6F8XXj+6Wvr6iPVGn5VZdWR6rJYhlRNSLmeP93xePtk7G1Y/umjapWbqxspKWuhfLi8n7LKC0ujZuXwSj4QBDdeh8kEAz0xOg9vZwKQQa0rlgG2hiaqbt2vPrSdEh0tZ+MIDGPlf9HmOhK0Js3nduTadF5ry4Lvj9Li0sTnrDiTYu1v/zrjfc56Dq8cbHWE+9YlRY7bTbxxPuexcqf159ZslKEdwdjLFYiCEkqJQLPQE+M3hchWwYawDL1QFc6v+SpnLiC5sM/PtGP2TvhhPWjzYTovKcSWMuKyxJue7xp3rM88dYb73PQdXjjEk2LNT5RiSDe9yxW/rwLSe+Gi4EI6+Ki4ANB9H3HiU7yXqTOZIkgnQZ6j3WmqobSeeKsKatJOF1E4l55lRWXxZzmz19lafwfs5curGJ8JkQfi2T706+0qDRpIIhV0o21z/3r9X9OFuhjrSNZIIh3zBOVCOLtl1jjvd9/ou+OX7LvYDoVfCBIpUTg3WE10CvkbJcIBnpfcsaqhtJ44hxM1VCQqotEV3WJTjj5InofpFLCKisuS3jRk8pVbbzqoFj158nW4Y2LWW0Ur2qoqDRxiSCEqqFErI0gJNFtBEGufgd6Ysx2Y/FAuzrIxxJBvKuuIOsYdNVQUfy66MEYzAkkVYOpGkp2skrlOPuf8/Bvf7JlpLVqKEaJwEsfL0DGOlZecBzMcbQSQUiiq0sCtRHkadVQrj89ms4TZ7wfTJATWqKGQ0+iH3NYJYJMNj4PprE42XanclXrv/L35ynZMmK1NyRsLI5XCiwujXlO8AJUvO9TrHV4JQJrI8hBqdw1FGkjyNPG4lzvDjmdJ864gSDACS1djcXpLgFmsqppUCWCJCerVLbDn9Z/sk62jET167F+h0GOuZ93/OPtl1jzed+H8pLE1VqJWNVQSAbSRjDQ/ogGUiJI52sOc70XzHR+yeOdjAKVCIK0ESRo8Avrqi2Tjc+DaSNIls9U9o//pO3//QxkHyeaJ1EbQaLx8fZLzBKBm/9YpZWgwqpVKPhAkMpdQ5F5BnhCHcgVYq5fxadTJkoE/jrnVOf1/4CDVA2lWybbmKK3Ich+izdvqtPTsY5U54kXvJKVFOJ9D2LN5wW1bLcVxpJ7OcqwgTxHkMm69lyv10+ndF5Jx1tWkGJ5vHn91Q1BqobyWfQ+SOXEm+w4pmP/DGQZieaJd6WdrL0o3n6JtS4vAGS7rTCWgut9dPX21UxpnELbvjY6ezp57b3X+kxv29/G6++9TlNVE1v2bukzbcPuDQC8uP5FZo+bzYGuA5Fpa9vXsmHXBg72HEQQmqr7P2Lv9XCYir9u/mvBlAoyUSIYzF1DfkHuGspn0VetqRybZG1huVgiSHWeZDcExBrvVS1nu60wllBLBCJyroisEpE1InJjjOnjReQZEVkiIq+LyPlh5ud3q37H1B9P5aFlDzHytpGM++E4/u3F/h2DHXP3MYz9wViOv+d4jr/n+Mj49buczqF++upPOeLHR3DsT46NTJv0n5N43y/ex9m/PJuzfnkWx9x9DMfcfUyf5d675N6U8zx/1Xz+sOYPKc83UDNHzezzIE4qVQKDcUrLKWld14nNJ8Yc73UsNmfqHM457JyYaRoqGzh9/OkJlx+rXxrP+VOcr/G4YeNi9muTyJwj5sSddtERF6W0rEQEYVJ9/759PF6HZ5+Y/gkgfp86cKgzNb9EXSU3VDZw0riT+ow7a/JZcdNXllRSWVLJlMYpfZYxrWlan3THjzmeKQ1TomePSPT9aqpu4rzDzwOI7JdzDjsnZsdv3rqASFfVHz3qo32mn9R8Ur95zj38XACOHHFk5IEz73gf0XhEJJ2XD+94jxs2LjJtVM2hnpLTKbRuqEWkGHgTOBvYCCwC5qrqcl+ae4AlqnqXiEwDFqjqxETLHUw31P/6/L/yz8/8M//vtP/Hd178zoCWkQ5zjpjD/FXz07a8V655pU/AAudL/L2zvsefN/yZLy74YsL57//o/UwePpmR1SMZUzuGte1r2b5/O03VTYyoGkHj95wO1n5/2e+Z2jg10ovnCT89oc9yFn5mIfUV9Uz/r+mRcTVlNezt3Nsn3YuffpHT7nPe6fD8Vc9TXlLO1Map1FfUU3JrSczbcx/5xCOMqh5FeUk54+vGs33/dkSEo+50Tjhbv7aV0uJSNu7eiKoyY9QM1uxYw66OXRRJEaNqRvHOznc4bsxxtHe0M7J6JAe7D/LG1jfo1V5O/fmpAMy/dD6njj+V4RXDWbFtBSOqRrC/az/VpdU0VTdFuhVfe/1aDvYcpKSohNKiUuoq6ujo7kBVaapuYvOezYwbNo59nftY3racycMns79rP2XFZdSU1dC2vy3yDgPv3QT7u/YzvWk6+7r2sWrbKkSEEVUj6OzpjHTUtnTrUlSVhRsW8qU/fIkjGo9g1phZ/Hrpr/nuWd/lrMlncaDrAGNrxzKsfBht+9uoLatFRFBVp8/8knIaKhsolmI6ujsY8X3nJO91033b2bfx1ZO/SpEU0dnTyY4DOxhdM5r1u9ZHLhLG3+4EuC03bKGmrIZt+7dFTrReYNiwa0Pk3QtVpVXs79rPvs59TB/pfD9WblvJyOqRbN23lebaZmrLnXcXtHe0U1VaRbEU01jVyKbdzvsomoc1s2bHGvZ37WfGyBls27+NDbs3MKVhCiu3rWRK4xRKi0rp6O6gsaqRrz7xVW5/+XbmHj2XWz/gvG8h8n1a/ggXP3QxdeV1PHfVc8wYNcPZnj1baKxq5K0db3FYw2EUSRGLNy+mpqwmcmH3+rWvc1TTUSzdupSZo2bStq+N4ZXD2XNwDxUlFew4sIOWuhaWbl0a2Rc9vT2MrhnNxt0baalrYfOezby7912mN02nvKScfZ376OjuoKO7g9E1oykuKqa7t5ut+7ZSX1HP3s69dPV00TysOeFvOZFE3VCHWTV0IrBGVd92MzEPuBDw92mswDD3cx2wOcT8ZE3LsJZItRLA+ye8P62BYNaYWZQWlfZpxD5h7AkcM/qYPl1Pez/GaMeOPrbPFdyRI46MuZ4Txp4QqfKK1XZx8riT+1WnTR4+OfICDy8Pp44/NTJ8WMNhfXpjbKlridnt9rSmaX3yFX0V6uXL32uo/4cPh3p99E5YJWUlzB43m9XbV0fSvH/i+yMvNYm+4vQrLipmav3UPuO8+eDQVVx1WTUnNDsBs5FDPZb67zaJ7qW0vKSck1tOjrneY0c7pdAD3U61ZGVpZeSqtbKkklljZvVJ31iVuJdUfz5qympo72hn1phZkaqhsuKySP5ilW68abG6VPB61YzXDYN3PP1X3fUV9f16fvWf/PzHtKm6KXLcvX0cvU3gfG+jvwv+fX7M6EMld29dXrACp7Tq5wUN71h4V+nevvbWf/TIo4nm7ZOxtWP7fO+ry6r75bukqKTfdzYsYVYNNQMbfMMb3XF+twCXi8hGYAHwpVgLEpFrRGSxiCxuawvep36uiK4vHMztY/FEX0X7f8ieeI1UQetO/fXGserBRaRf3XL0OqPvygp6B0WYd1r4tz8X8pPq+r19Oti6Z+9YZXvbMsE75kPlXc2Dle0jPhf4haqOA84HfinS/1uoqveoaquqtjY1xe/nPFdF30EQRiCI7v8oVlfI8U4UQe/A8M8fr8O26BN/9Dqjf3jR6eNVVYZ5p4V/+4OuJ9t3fvjX7+3TwebJO1a52JiZbt4xz1Q/WrkuzECwCfC/cWGcO87vauBBAFV9CagA4rdK5amBlgiSdayViPdjDnK1G7REEOREE30SiZ6nX8AKeNIJ8+TUp9SUA/lJdf3ePh3slXwu396Ybt4xz1QX67kuzECwCJgiIpNEpAy4FIiuGF8PnAkgIkfhBIL8q/tJIroaJegPbTCdU0VKBAGudoPe7hjk5Be9juiTU7ySS6rLTac+paYcyE8qVPVQiSBNVUPZDnLp4j2VH+vpfO+YW9WQI7RAoKrdwHXAk8AK4EFVXSYit4qId4/cDcDnROQ14NfAVRrWbUxZFH3FHfSHNphA4FXdBLnaHUgbQdA0ybY1F+rk87GNwC/SRpCmqqFc2rawRNoIrGoICPmBMlVdgNMI7B93s+/zcuDU6PmGmoFWDQV9gUUs3m1+Qa52A7cRpKFqKFn6waYbCP/2J3pNoF+2r5q94ysi6S8R5EhpZ7Ai+yjGS3C8Y57Ovrzy2dAP/Tkg+kSbiaohT5Cr3UxWDSVLP9h0AzGQZefSyTLdbQSFIJ9fGhSGwjnyWRT9pQv6gxtMv+Wx1h3vRB70SjJIvqOXlTQQRKWPezdSiFfgQUsBftkuEfilu2qoEOrNLRD0ZYEgA6KvuIOeeNJRIhjIrZGDkeo6cqFEMBC5lJ90Vw0VQr35UOgPKp0sEGRA9NVHrDrLWNJdNZSJq9hUr66Dps+1aotcyo+VCFJnJYK+cufbnEEHew5mdH3RbQRBT36DaSyOrHsAt0bmolyqioGBVSeFxWsjSFeJoBDurc+171O2FWQg+I+X/iPU5Udf8VeVVCWcDrGvMKP7XInF6/9letP0mNO9IDSsfBgzR81MurxY4vW5M6ZmTNJ54/UCGt0njufkcbH72ElUlM9kgIu3PZk2vNLp/fSEsSdEjqvXE+ZAnTDW7ROpMnH/RPnC68vI63E2lnjfw0JTcO8jSOTymZczuno0t710W9w05085nwWrF8SdDkR6DvTUVdTxzJXPsLdzb6QXR78bTr6Bf/nAv7Dk3SVMqJvA9gPbWde+jp0dO7n/jfv7pH3zujepKKngtfdeo1d7Ix1bLfjkAtbsWMOZ/3Nmn/RFUsSfP/NnGiobGFE1gk/N/BTDK4ezevtqrnrsqiC7hYWfWcjmPf37A3zh0y+wec9mdhzY0SdYLP3CUhqrGtmyZwvHjD6G1rGtLNu6jJufjdw5zNNXPM3G3Rv7LfNnc37G1075Gh3dHUysn8jSrUupLq2Oe4vr6i+tprasNtB2JPLata8FeinRHy//Y58OBLNlYv1EFn1uETNGzqC4qJgPT/0wx489PvmMMbz15beoLKlkRNUILptxWcIupD0bv7ox5199es3x1zBj1Ix+ncZ5ln5haZ8unpNZe/3aIVuSsEDgM2v0LE5oPqFfIJg1ZhZNVU08+daTnDXprKSBwLu6n9Y0jeVtTmerZ0w8IzJ9w66+J5LWsa1UllZGvrDNw5qZOWomDy9/uN+yva5xvV4MPePrxsft+97fk+WHpn4IcHpUDBoIYvUI6eXlsIbD+o33em70enj86FEfZeaomX0CQV1FHXUVdf3mrSzt24Omv4fGWKJ7lRyooKWlePnOhtaxh3oUju7fPxX+K2Z/L56JDKY75EwRkbhBAPr2MBrEhPoJg81SzirIqqF4iqQoZjWDqkbqhIM8DBbdi2P0w9LR9cupdP2QS42UqbC7NIzJXfl5VglJkRTFLPopGqnXDxIIvJN1vJN2dBvBYLt+yAdDaVuMGWosEPiISNISQaCna9008W4TDXrHyVB4CbpnKG2LMUONBQKfIimKeRXvLxEEuUPFW4Z3wk924o/3AM9QuooeSttizFBjgcAnbtVQim0EkUAQr0QQNT7efdtDqV59KG2LMUONBQKfuI3Fg2wjSNZYHO9JzqFUnWIlAmNylwUCn3glAmBAJYKgjaOA7CsAABWISURBVMXxqobCeKVltgzV+6+NGQosEPjEO3H7r+hTuX00XttA0BJBPncJYYzJHxYIfASJeXWuaL8G4ETSVSKwq2hjTCZYIPApkqKYDbe92hs5eQd5k2bSxmIJ1licrw+PGWPyi51pfIqkKGY1jf+uoSCvtuvXWBw1T78SQQhVQ/YKPmNMUBYIfIqkKC1vBUtaNRRVImiobIiZrrqsesB5GFk9csDzGmMKy9C5LSUNzpx8JqNrRvPbS37LRx74SGS8//bRIFVDkSeL4zUWu8uaPW421590PR+f9vGY6cbWjuV3c3/H5OGT+dmrP+O8KeclXffzVz3PC+tf4KpjrwqUNl5HdWF48dMvMqY2edfVxpjMCjUQiMi5wH8CxcC9qvrvUdN/CHzAHawCRqpq8k74Q1JX7vQqedGRF/UZn2rVUHSnc9H8t6JeevSlCZd1wdQLAPiPvwv2DoXTJ5zO6RNOD5w2k04df2pG12eMCSa0QCAixcCdwNnARmCRiMxX1eVeGlX9qi/9l4DjwspPEHFvH02xRJDqk8XGGJNNYbYRnAisUdW3VbUTmAdcmCD9XODXIeYnqXhVOSmXCJJVDeXQaw6NMSbMQNAM+N/AstEd14+ITAAmAU/HmX6NiCwWkcVtbW1pz6gnXSUCL63d/mmMyQe5cqa6FHhYNfZ9lKp6j6q2qmprU1NTaJlI9GTxQG4ftaohY0w+CDMQbAL871Mc546L5VKyXC0E8U/Qab9ryKqGjDE5JMxAsAiYIiKTRKQM52Q/PzqRiBwJDAdeCjEvgSQ6Qady8o4uWfTrfdRKBMaYHBJaIFDVbuA64ElgBfCgqi4TkVtFZI4v6aXAPA1yqZ0l/qylcvtovE2yEoExJpeE+hyBqi4AFkSNuzlq+JYw85AO/k7nUrl9NB4rERhjckmuNBbnNH+nc/E6iPOzK35jTD6xQBBQKif3SMOydfxmjMkDFggCSLWNIDpoWEAwxuQyCwQBNFY1Ul/udIFUUVIRN12y5weMMSYXWe+jcbzxhTdYunUp7R3tXDD1AoZXDKd5WDMfn/Zxunu7Wb9rPff97T7W7FgTmeeZK5/hze1v8tuVv81izo0xJjUWCOI4euTRHD3y6D7jvn7q1wG4fOblAExrmtanu+qJ9RN534T3RQJBDt8Ra4wxEVY1NAjJqoC8tgGrKjLG5DILBIMQ3SjsnfCjT/zWWGyMyWUWCNLInh8wxuQjCwSDEH3lHykRSPAO6owxJtssEBhjTIGzQJBGXknAniw2xuSTpIFARD4sYq/aiiVeY3H0sFURGWNyWZAT/CXAahH5nvvuAGOMMUNI0kCgqpcDxwFvAb8QkZfcdwjXhp67HNevBCBRjcVWNWSMyQOBqnxUdTfwMDAPGAN8BHhVRL4UYt7yTrznCIwxJpcFaSOYIyK/BZ4FSoETVfU84BjghnCzNzRYycAYk8uC9DX0MeCHqvq8f6Sq7heRq8PJVn7o11jsDpcWlzrDVjIwxuSBIIHgFmCLNyAilcAoVV2rqk+FlbF85J34f3zejxlTM4YJdRN4Zu0zWc6VMcYkFqSN4CHA/37GHndcwYt3xT+qZhR3nHcHJUUlCdMZY0wuCBIISlS10xtwP5cFWbiInCsiq0RkjYjcGCfNJ0RkuYgsE5H7g2U7N8SrGjLGmHwSpGqoTUTmqOp8ABG5ENiWbCYRKQbuBM4GNgKLRGS+qi73pZkC3AScqqo7RWTkQDYiV8S78rfGYmNMLgsSCK4FfiUiPwYE2ABcEWC+E4E1qvo2gIjMAy4ElvvSfA64U1V3Aqjq1hTynnXxniOIN2yMMbkoaSBQ1beA2SJS4w7vDbjsZpyg4dkInBSVZiqAiCwEioFbVPWJgMs3xhiTBoFeVSkiHwKmAxW+LpZvTdP6pwBnAOOA50Vkhqq2R63/GuAagPHjx6dhteGwRmFjTD4K8kDZ3Tj9DX0Jp2ro48CEAMveBLT4hse54/w2AvNVtUtV3wHexAkMfajqParaqqqtTU1NAVadGVYVZIwZCoLcNXSKql4B7FTVbwEn41bpJLEImCIik0SkDLgUmB+V5lGc0gAiMsJd7tsB8543rPdRY0wuCxIIOtz/+0VkLNCF099QQqraDVwHPAmsAB5U1WUicquIzHGTPQlsF5HlwDPAP6rq9lQ3IlfE64baGGNyWZA2gt+JSD3wfeBVQIGfBlm4qi4AFkSNu9n3WYF/cP/yTrK7howxJh8kDATuC2mechtvHxGRx4EKVd2VkdwZY4wJXcKqIVXtxXkozBs+aEHgkGRvKDPGmHwQpI3gKRH5mFi9R1K2i4wx+ShIIPg8TidzB0Vkt4jsEZHdIecr4779gW+nPM8pLafwvgnvS3m+E5pP4P0T3s8d596R8rzGGJNuQZ4sLohXUv7T+/4p5XmqSqt47qrnkG+l9mayipIKnr3q2ZTXZ4wxYUgaCEQk5iVv9ItqjFUNGWPyU5DbR//R97kCpzO5V4APhpKjPGa9jxpj8lGQqqEP+4dFpAW4PbQcDSFWQjDG5IMgjcXRNgJHpTsjQ4Gd+I0x+ShIG8GPIFK3UQQci/OEsYlizxEYY/JRkDaCxb7P3cCvVXVhSPkxxhiTYUECwcNAh6r2gPMKShGpUtX94WYt/8SrGrLeR40xuSzQk8VApW+4Evi/cLKT36z3UWNMPgoSCCr8r6d0P1eFlyVjjDGZFCQQ7BORWd6AiBwPHAgvS/krumrInh8wxuSDIG0EXwEeEpHNOK+qHI3z6koTJV5VkN1WaozJZUEeKFskIkcCR7ijVqlqV7jZGlqssdgYk8uCvLz+74FqVV2qqkuBGhH5YvhZyz/RV/4fnuo8lP3ZWZ/NRnaMMSaQIG0En3PfUAaAqu4EPhdeljLnd3N/l9blRVcNTaifgH5TOW7McWldjzHGpFOQQFDsfymNiBQDZeFlKXOKZCA9bBhjzNASpLH4CeABEfmJO/x54A/hZSlz0n2fvzUKG2PyUZBL4m8ATwPXun9v0PcBs7hE5FwRWSUia0TkxhjTrxKRNhH5m/uX0cp0KxEYY0ywu4Z6ReRl4DDgE8AI4JFk87lVSHcCZ+P0WLpIROar6vKopA+o6nUp5zwNLBAYY0yCQCAiU4G57t824AEAVf1AwGWfCKxR1bfd5c0DLgSiA0HWWFWOMcYkrhpaifMWsgtU9TRV/RHQk8Kym4ENvuGN7rhoHxOR10XkYfelN/2IyDUislhEFre1taWQhcSsLyBjjEkcCD4KbAGeEZGfisiZkPYz5++Aiao6E/gT8N+xEqnqParaqqqtTU1NaVu5lQiMMSZBIFDVR1X1UuBI4BmcriZGishdInJOgGVvAvxX+OPccf51bFfVg+7gvcDxqWR+sKxEYIwxAe4aUtV9qnq/++7iccASnDuJklkETBGRSSJSBlwKzPcnEJExvsE5wIrAOU8DKxEYY0yw5wgi3KeK73H/kqXtFpHrgCeBYuDnqrpMRG4FFqvqfODLIjIH581nO4CrUsy/McaYQUopEKRKVRcAC6LG3ez7fBNwU5h5SMSqhowxJtgDZUOWVQ0ZY0yBBwLPV076SrazYIwxWRNq1VCuEwT9pr0rwBhT2Aq6RGBVQ8YYU+CBwBhjTIEHArtryBhjCj0QWNWQMcYUdiAwxhhT4IHAqoaMMabQA4FVDRljTGEHAmOMMQUeCKxqyBhjCj0QWNWQMcYUeCCwEoExxhR2IDDGGFPggcCqhowxptADgVUNGWNMYQcCY4wxBR4IrGrIGGMKPRBY1ZAxxhR2IDDGGBNyIBCRc0VklYisEZEbE6T7mIioiLSGmZ8Y683k6owxJieFFghEpBi4EzgPmAbMFZFpMdLVAtcDL4eVl3isasgYY8ItEZwIrFHVt1W1E5gHXBgj3b8A3wU6QsyLMcaYOMIMBM3ABt/wRndchIjMAlpU9feJFiQi14jIYhFZ3NbWlrYMWtWQMcZksbFYRIqAHwA3JEurqveoaquqtjY1NQ14nYr2zYNVDRljTKiBYBPQ4hse547z1AJHA8+KyFpgNjA/kw3GViIwxphwA8EiYIqITBKRMuBSYL43UVV3qeoIVZ2oqhOBvwBzVHVxWBlS1eSJjDGmwIQWCFS1G7gOeBJYATyoqstE5FYRmRPWelNhVUPGGAMlYS5cVRcAC6LG3Rwn7Rlh5gVitBGkqWqoubaZTXs2JU9ojDE5KNRAUCiWfnEpuzp2ZTsbxhgzIAUVCKLbCNJVNVRfUU99RX1almWMMZlW0H0N2V1DxhhTYIEguo3AGGNMgQWCaHbXkDHGFFgg6NdGYFVDxhhTWIHAGGNMfwUVCKyvIWOM6a+gAkE0qxoyxpgCCwRhPUdgjDH5rKACgTHGmP4KKhCE1deQMcbks4IKBNGsasgYYwosENj7CIwxpr+CCgTGGGP6K6hAEN1GYH0PGWNMgQWCaFZVZIwxBRYIok/8ViIwxpgCCwTRrERgjDEFFgisjcAYY/oLNRCIyLkiskpE1ojIjTGmXysib4jI30TkRRGZFmZ+olmJwBhjQgwEIlIM3AmcB0wD5sY40d+vqjNU9Vjge8APwsoPWBuBMcbEEmaJ4ERgjaq+raqdwDzgQn8CVd3tG6yGzJ6ZrURgjDFQEuKym4ENvuGNwEnRiUTk74F/AMqAD4aYH2sjMMaYGLLeWKyqd6rqYcA3gH+OlUZErhGRxSKyuK2tLbMZNMaYIS7MQLAJaPENj3PHxTMPuCjWBFW9R1VbVbW1qalpwBnq10ZgVUPGGBNqIFgETBGRSSJSBlwKzPcnEJEpvsEPAatDzE8/VjVkjDEhthGoareIXAc8CRQDP1fVZSJyK7BYVecD14nIWUAXsBO4Mqz8tHe0c9tLt/UZV1ZcFtbqjDEmb4TZWIyqLgAWRI272ff5+jDX77dx98bI55eufokVbSuY2jg1U6s3xpicFWogyCVdPV0APHrJo8weN5vZ42ZnOUfGGJMbsn7XUKZ09nQCUFpcmuWcGGNMbimYQNDV65QIrF3AGGP6KphAECkRFFmJwBhj/AomEHhtBFYiMMaYvgomEFgbgTHGxFYwgcDaCIwxJraCCQTWRmCMMbEVTCCwNgJjjImtYAKBtREYY0xsBRMIrI3AGGNiK5hAYG0ExhgTW8EEAmsjMMaY2AomEExpnMLF0y6mvKQ821kxxpicUjC9j845Yg5zjpiT7WwYY0zOKZgSgTHGmNgsEBhjTIGzQGCMMQXOAoExxhQ4CwTGGFPgLBAYY0yBs0BgjDEFzgKBMcYUOFHVbOchJSLSBqwb4OwjgG1pzE4+sG0uDLbNhWEw2zxBVZtiTci7QDAYIrJYVVuznY9Msm0uDLbNhSGsbbaqIWOMKXAWCIwxpsAVWiC4J9sZyALb5sJg21wYQtnmgmojMMYY01+hlQiMMcZEsUBgjDEFrmACgYicKyKrRGSNiNyY7fyki4i0iMgzIrJcRJaJyPXu+AYR+ZOIrHb/D3fHi4jc4e6H10VkVna3YGBEpFhElojI4+7wJBF52d2uB0SkzB1f7g6vcadPzGa+B0pE6kXkYRFZKSIrROTkAjjGX3W/00tF5NciUjEUj7OI/FxEtorIUt+4lI+tiFzppl8tIlemkoeCCAQiUgzcCZwHTAPmisi07OYqbbqBG1R1GjAb+Ht3224EnlLVKcBT7jA4+2CK+3cNcFfms5wW1wMrfMPfBX6oqocDO4Gr3fFXAzvd8T900+Wj/wSeUNUjgWNwtn3IHmMRaQa+DLSq6tFAMXApQ/M4/wI4N2pcSsdWRBqAbwInAScC3/SCRyCqOuT/gJOBJ33DNwE3ZTtfIW3rY8DZwCpgjDtuDLDK/fwTYK4vfSRdvvwB49wfxweBxwHBedqyJPp4A08CJ7ufS9x0ku1tSHF764B3ovM9xI9xM7ABaHCP2+PA3w3V4wxMBJYO9NgCc4Gf+Mb3SZfsryBKBBz6Unk2uuOGFLc4fBzwMjBKVbe4k94FRrmfh8K+uB34OtDrDjcC7ara7Q77tymyve70XW76fDIJaAPuc6vD7hWRaobwMVbVTcBtwHpgC85xe4WhfZz9Uj22gzrmhRIIhjwRqQEeAb6iqrv909S5RBgS9wmLyAXAVlV9Jdt5yaASYBZwl6oeB+zjUFUBMLSOMYBbrXEhThAcC1TTv/qkIGTi2BZKINgEtPiGx7njhgQRKcUJAr9S1d+4o98TkTHu9DHAVnd8vu+LU4E5IrIWmIdTPfSfQL2IlLhp/NsU2V53eh2wPZMZToONwEZVfdkdfhgnMAzVYwxwFvCOqrapahfwG5xjP5SPs1+qx3ZQx7xQAsEiYIp7x0EZTqPT/CznKS1ERICfAStU9Qe+SfMB786BK3HaDrzxV7h3H8wGdvmKoDlPVW9S1XGqOhHnOD6tqp8EngEudpNFb6+3Hy520+fVlbOqvgtsEJEj3FFnAssZosfYtR6YLSJV7nfc2+Yhe5yjpHpsnwTOEZHhbmnqHHdcMNluJMlgY8z5wJvAW8A/ZTs/adyu03CKja8Df3P/zsepH30KWA38H9DgphecO6jeAt7AuSsj69sxwG0/A3jc/TwZ+CuwBngIKHfHV7jDa9zpk7Od7wFu67HAYvc4PwoMH+rHGPgWsBJYCvwSKB+Kxxn4NU47SBdO6e/qgRxb4DPu9q8BPp1KHqyLCWOMKXCFUjVkjDEmDgsExhhT4CwQGGNMgbNAYIwxBc4CgTHGFDgLBMa4RKRHRP7m+0tbL7UiMtHfu6QxuaQkeRJjCsYBVT0225kwJtOsRGBMEiKyVkS+JyJviMhfReRwd/xEEXna7Rf+KREZ744fJSK/FZHX3L9T3EUVi8hP3T72/ygilW76L4vzPonXRWReljbTFDALBMYcUhlVNXSJb9ouVZ0B/Bin91OAHwH/raozgV8Bd7jj7wCeU9VjcPoEWuaOnwLcqarTgXbgY+74G4Hj3OVcG9bGGROPPVlsjEtE9qpqTYzxa4EPqurbbgd/76pqo4hsw+kzvssdv0VVR4hIGzBOVQ/6ljER+JM6LxpBRL4BlKrqt0XkCWAvTtcRj6rq3pA31Zg+rERgTDAa53MqDvo+93Coje5DOP3HzAIW+XrXNCYjLBAYE8wlvv8vuZ//jNMDKsAngRfcz08BX4DIu5Xr4i1URIqAFlV9BvgGTvfJ/UolxoTJrjyMOaRSRP7mG35CVb1bSIeLyOs4V/Vz3XFfwnlr2D/ivEHs0+7464F7RORqnCv/L+D0LhlLMfC/brAQ4A5VbU/bFhkTgLURGJOE20bQqqrbsp0XY8JgVUPGGFPgrERgjDEFzkoExhhT4CwQGGNMgbNAYIwxBc4CgTHGFDgLBMYYU+D+P+WL7GtjQ1rEAAAAAElFTkSuQmCC\n",
            "text/plain": [
              "<Figure size 432x288 with 1 Axes>"
            ]
          },
          "metadata": {
            "tags": [],
            "needs_background": "light"
          }
        },
        {
          "output_type": "display_data",
          "data": {
            "image/png": "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\n",
            "text/plain": [
              "<Figure size 432x288 with 1 Axes>"
            ]
          },
          "metadata": {
            "tags": [],
            "needs_background": "light"
          }
        }
      ]
    },
    {
      "cell_type": "markdown",
      "metadata": {
        "id": "bvFzNDRT2See"
      },
      "source": [
        "### Part d \n",
        "Evaluate the model on the test dataset. Print out the accuracy. Does this accuracy agrees with the training accuracy showed on the plot? Why may they be different?"
      ]
    },
    {
      "cell_type": "code",
      "metadata": {
        "id": "t0eC-Wi32See",
        "colab": {
          "base_uri": "https://localhost:8080/"
        },
        "outputId": "cd9b823e-6d62-47e4-ad83-5a19245f7979"
      },
      "source": [
        "network.eval()\n",
        "\n",
        "pred = torch.argmax(network(torch.tensor(X_test)), dim=1).numpy()\n",
        "\n",
        "print(\"Accuracy: \", np.sum(pred == y_test)/len(y_test))"
      ],
      "execution_count": 138,
      "outputs": [
        {
          "output_type": "stream",
          "text": [
            "Accuracy:  0.8571428571428571\n"
          ],
          "name": "stdout"
        }
      ]
    },
    {
      "cell_type": "markdown",
      "metadata": {
        "id": "32s7Lm9SqC2h"
      },
      "source": [
        "**Answer:**\n",
        "\n",
        "The accuracy almost agrees with the training accuracy showed on the plot, especially when number of epochs are larger. The accuracy differs more when smaller number of epochs are being trained. The overall accuracy of the training and testing data are very similar as the dataset is not complex."
      ]
    },
    {
      "cell_type": "markdown",
      "metadata": {
        "id": "iy6C2pFfyXIa"
      },
      "source": [
        "## Problem 2\n",
        "\n",
        "If you haven't done so already, please read Chapter 2 (on fairness) of the textbook."
      ]
    },
    {
      "cell_type": "markdown",
      "metadata": {
        "id": "pe6qfhRFyXIa"
      },
      "source": [
        "### Part a\n",
        "\n",
        "Import the 'semi_synthetic.csv' dataset. This dataset is a modified version of the UCI Credit card dataset (details [here](https://archive.ics.uci.edu/ml/datasets/default+of+credit+card+clients)). We added a new synthetic feature to this dataset called `LIMIT_BAL`. It is highly predictive for `SEX==2` but not at all for `SEX==1`. As it turns out, this causes issues with fairness where models rely too much on `LIMIT_BAL` and discriminate against `SEX==2`. We will try to mitigate this in terms of the fairness criterion 'Statistical Parity' as it's mentioned in the textbook."
      ]
    },
    {
      "cell_type": "code",
      "metadata": {
        "id": "HaqdFHPvyXIa"
      },
      "source": [
        "import pandas as pd\n",
        "\n",
        "data = pd.read_csv(\"semi_synthetic.csv\")"
      ],
      "execution_count": 139,
      "outputs": []
    },
    {
      "cell_type": "markdown",
      "metadata": {
        "id": "QJhtmsUHyXIa"
      },
      "source": [
        "Extract features from the dataset (all columns except last) and call it `X`. Extract last column and call it `Y`. Also extract the `SEX` column and call this `SF` (for sensitive feature). Split all of these arrays data into train and test sets. You can use `sklearn.model_selection.train_test_split` and 20% ratio for the test dataset. Pass `stratify=Y` to `train_test_split` if you're using it. This ensures that both test and train datasets have the same ratio of 0/1 labels."
      ]
    },
    {
      "cell_type": "code",
      "metadata": {
        "id": "4RWhQl8zyXIa"
      },
      "source": [
        "from sklearn.model_selection import train_test_split \n",
        "import numpy as np\n",
        "import random\n",
        "random.seed(2020)\n",
        "np.random.seed(2020)\n",
        "\n",
        "X = data.iloc[:,0:-1]\n",
        "X = X.to_numpy()\n",
        "Y = data.iloc[:,-1]\n",
        "Y = Y.to_numpy()\n",
        "SF = data.iloc[:,1]\n",
        "SF = SF.to_numpy()\n",
        "X_train,X_test,y_train,y_test = train_test_split(X,Y,test_size = 0.20,stratify=Y)\n",
        "SF_test = X_test[:,1]"
      ],
      "execution_count": 140,
      "outputs": []
    },
    {
      "cell_type": "markdown",
      "metadata": {
        "id": "6_kwHg4SyXIa"
      },
      "source": [
        "Use a random forest classifier (whichever hyperparameters you want, you may leave it default) and train it using the train dataset (only `X_train` and `Y_train`. We will not use `SF_train` yet.)"
      ]
    },
    {
      "cell_type": "code",
      "metadata": {
        "id": "YESO3KAfyXIa",
        "colab": {
          "base_uri": "https://localhost:8080/"
        },
        "outputId": "008d30a3-abb2-459b-8cc9-0954d7dc7681"
      },
      "source": [
        "from sklearn.ensemble import RandomForestClassifier\n",
        "\n",
        "clf = RandomForestClassifier(max_depth=5, n_estimators=5, random_state=0)\n",
        "clf.fit(X_train, y_train)\n",
        "np.size(y_train)"
      ],
      "execution_count": 141,
      "outputs": [
        {
          "output_type": "execute_result",
          "data": {
            "text/plain": [
              "24000"
            ]
          },
          "metadata": {
            "tags": []
          },
          "execution_count": 141
        }
      ]
    },
    {
      "cell_type": "markdown",
      "metadata": {
        "id": "_U4MeVC3yXIa"
      },
      "source": [
        "### Part b\n",
        "\n",
        "Now we will consider the 'statistical parity' fairness metric on the test dataset. This basically means we compare the selection rates (i.e. predicted labels being 1) conditioned on sex and look at their difference/ratio. To do this, print 5 things: \n",
        "\n",
        "1. Overall selection rate (what percent is predicted as 1)\n",
        "2. Selection rate for `SEX==1`\n",
        "3. Selection rate for `SEX==2`\n",
        "4. Difference between 2. and 3.\n",
        "5. Ratio of 2. and 3.\n",
        "\n",
        "Note that we didn't use anything related to how accurate the model is."
      ]
    },
    {
      "cell_type": "code",
      "metadata": {
        "id": "4qQcj-_PyXIa",
        "colab": {
          "base_uri": "https://localhost:8080/"
        },
        "outputId": "585842ee-20ef-4018-8e29-a5382c473b7b"
      },
      "source": [
        "y_predict = clf.predict(X_test)\n",
        "y1 = np.count_nonzero(y_predict)\n",
        "overall_selection_rate = y1/np.size(y_predict)\n",
        "print(\"The overall selection rate is \",overall_selection_rate)\n",
        "\n",
        "sex1_y1_count = 0\n",
        "sex1_count = 0\n",
        "sex2_count = 0\n",
        "\n",
        "for i in range(np.size(y_predict)):\n",
        "  if X_test[i,1]==1:\n",
        "    sex1_count +=1\n",
        "    if y_predict[i]==1:\n",
        "      sex1_y1_count +=1\n",
        "  else:\n",
        "    sex2_count +=1\n",
        "\n",
        "print(\"Selection rate for SEX==1 is\", sex1_y1_count/sex1_count)\n",
        "sex2_y1_count = y1-sex1_y1_count\n",
        "print(\"Selection rate for SEX==2 is\", sex2_y1_count/sex2_count)\n",
        "print(\"Difference of rate between 2. and 3. is\", sex2_y1_count/sex2_count-sex1_y1_count/sex1_count)\n",
        "print(\"Ratio of 2. and 3. is\", (sex1_y1_count/sex1_count)/(sex2_y1_count/sex2_count))"
      ],
      "execution_count": 142,
      "outputs": [
        {
          "output_type": "stream",
          "text": [
            "The overall selection rate is  0.113\n",
            "Selection rate for SEX==1 is 0.0962360992301112\n",
            "Selection rate for SEX==2 is 0.12370289459311852\n",
            "Difference of rate between 2. and 3. is 0.02746679536300732\n",
            "Ratio of 2. and 3. is 0.7779615792067709\n"
          ],
          "name": "stdout"
        }
      ]
    },
    {
      "cell_type": "markdown",
      "metadata": {
        "id": "R1Yn6sXXyXIa"
      },
      "source": [
        "There is a new Python package called `fairlearn` that aims to help machine learning researchers use fairness techniques more easily. Go ahead and download this package (`pip install fairlearn` or `conda install fairlearn`). Note: the authors of `fairlearn` call 'statistical parity' from the textbook as 'demographic parity'.\n",
        "\n",
        "We will use `selection_rate`, `demographic_parity_difference`, `demographic_parity_ratio` from `fairlearn.metrics` to calculate 1., 4. and 5. above. The way to use these functions is: first argument `Y_test`, second argument `Y_prediction`, and for `demographic_parity_difference` and `demographic_parity_ratio` you need to give a keyword argument for the 'sensitive feature' by `sensitive_features=SF_test`.\n",
        "\n",
        "Use these three functions and confirm your earlier calculations for 1., 4. and 5."
      ]
    },
    {
      "cell_type": "code",
      "metadata": {
        "id": "Lc9HTbgn4ZpZ",
        "colab": {
          "base_uri": "https://localhost:8080/"
        },
        "outputId": "1654cf65-2f70-4595-fe59-abc644bf00dd"
      },
      "source": [
        "pip install fairlearn"
      ],
      "execution_count": 143,
      "outputs": [
        {
          "output_type": "stream",
          "text": [
            "Requirement already satisfied: fairlearn in /usr/local/lib/python3.6/dist-packages (0.5.0)\n",
            "Requirement already satisfied: scipy>=1.4.1 in /usr/local/lib/python3.6/dist-packages (from fairlearn) (1.4.1)\n",
            "Requirement already satisfied: numpy>=1.17.2 in /usr/local/lib/python3.6/dist-packages (from fairlearn) (1.18.5)\n",
            "Requirement already satisfied: scikit-learn>=0.22.1 in /usr/local/lib/python3.6/dist-packages (from fairlearn) (0.22.2.post1)\n",
            "Requirement already satisfied: pandas>=0.25.1 in /usr/local/lib/python3.6/dist-packages (from fairlearn) (1.1.4)\n",
            "Requirement already satisfied: joblib>=0.11 in /usr/local/lib/python3.6/dist-packages (from scikit-learn>=0.22.1->fairlearn) (0.17.0)\n",
            "Requirement already satisfied: python-dateutil>=2.7.3 in /usr/local/lib/python3.6/dist-packages (from pandas>=0.25.1->fairlearn) (2.8.1)\n",
            "Requirement already satisfied: pytz>=2017.2 in /usr/local/lib/python3.6/dist-packages (from pandas>=0.25.1->fairlearn) (2018.9)\n",
            "Requirement already satisfied: six>=1.5 in /usr/local/lib/python3.6/dist-packages (from python-dateutil>=2.7.3->pandas>=0.25.1->fairlearn) (1.15.0)\n"
          ],
          "name": "stdout"
        }
      ]
    },
    {
      "cell_type": "code",
      "metadata": {
        "id": "I27r9Mx1yXIa",
        "colab": {
          "base_uri": "https://localhost:8080/"
        },
        "outputId": "193690db-797b-442e-8355-2ffcd2127e08"
      },
      "source": [
        "from fairlearn.metrics import selection_rate, demographic_parity_difference, demographic_parity_ratio\n",
        "\n",
        "print(\"selection rate is\", selection_rate(y_test,y_predict,pos_label=1))\n",
        "print(\"demographic parity difference is\",demographic_parity_difference(y_test,y_predict,sensitive_features=SF_test))\n",
        "print(\"demographic parity ratio is\",demographic_parity_ratio(y_test,y_predict,sensitive_features=SF_test))"
      ],
      "execution_count": 144,
      "outputs": [
        {
          "output_type": "stream",
          "text": [
            "selection rate is 0.113\n",
            "demographic parity difference is 0.02746679536300732\n",
            "demographic parity ratio is 0.7779615792067709\n"
          ],
          "name": "stdout"
        }
      ]
    },
    {
      "cell_type": "markdown",
      "metadata": {
        "id": "XViy0I5EyXIa"
      },
      "source": [
        "### Part c\n",
        "### Mitigating Unfairness with Giving Weights to Datapoints\n",
        "\n",
        "Now we are going to use the `GridSearch` function from `fairlearn.reductions` to try to mitigate this statistical parity discrepancy. This is one of the many ways to achieve this. What this function does is it gives higher weights to certain datapoints (determined by the sensitive feature) in order to change what the model learns. It automatically uses grid search to determine which weight should be given to `SEX==1` datapoints vs `SEX==2` datapoints (if you're interested you can read the source code). While it is called grid search, the space it searches is 1-dimensional. For our purposes, `GridSearch` takes four arguments: \n",
        "\n",
        "1. The model you defined above. This is a non-keyword argument.\n",
        "2. Constraint. This needs to be an object defined by `fairlearn`, the class we will be using is `fairlearn.reductions.DemographicParity`. It corresponds to minimizing the difference in selection rates (4. from above). This is a non-keyword argument.\n",
        "3. (Keyword argument) `grid_limit`. This determines the boundaries of the grid search. Basically, the `GridSearch` function will search the interval \\[-`grid_limit`,`grid_limit`\\] to find the weights. Choose this to be 0.8.\n",
        "3. (Keyword argument) `grid_size`. This determines how many points there will be in the grid search. Choose this to be 21.\n",
        "\n",
        "Just like `sklearn.model_selection.GridSearchCV` we have seen in HW1, `fairlearn.reductions.GridSearch` is also a wrapper, so you need to call `.fit()` on this wrapper (not the model directly). Training should be done in less than 5 minutes. In the end this wrapper will contain `grid_size` many models, each corresponding to a different weight for datapoints."
      ]
    },
    {
      "cell_type": "code",
      "metadata": {
        "id": "67Y6ezsJyXIa"
      },
      "source": [
        "from fairlearn.reductions import GridSearch, DemographicParity\n",
        "fairlearn_gs = GridSearch(estimator=clf,constraints=DemographicParity(),grid_size=21,grid_limit=0.3)\n",
        "fairlearn_gs.fit(X_train,y_train,sensitive_features=X_train[:,1])\n",
        "predictors = fairlearn_gs.predictors_"
      ],
      "execution_count": 145,
      "outputs": []
    },
    {
      "cell_type": "markdown",
      "metadata": {
        "id": "15EO5RaTyXIa"
      },
      "source": [
        "The `GridSearch` wrapper object you trained has a field called `predictors_`. This gives a list of all the models trained in this grid search, which will be of size `grid_size`."
      ]
    },
    {
      "cell_type": "code",
      "metadata": {
        "id": "B7HdpQm_yXIa"
      },
      "source": [
        "predictions_sweep = [predictor.predict(X_test) for predictor in fairlearn_gs.predictors_] \n",
        "accuracy_sweep = [predictor.score(X_test, y_test) for predictor in fairlearn_gs.predictors_] "
      ],
      "execution_count": 146,
      "outputs": []
    },
    {
      "cell_type": "markdown",
      "metadata": {
        "id": "tXGkicwxyXIa"
      },
      "source": [
        "Notice that `predictions_sweep` is a 21 element list. Each of these elements is a numpy array that contains the predictions (`Y_pred`) for `X_test` for that particular model. Use `demographic_parity_difference` like you did above to find the difference in selection rates for each of these models and store these 'fairness metrics' in a numpy array (it too will be size 21)."
      ]
    },
    {
      "cell_type": "code",
      "metadata": {
        "id": "SZ-bxFwmyXIa",
        "colab": {
          "base_uri": "https://localhost:8080/"
        },
        "outputId": "20325ce4-62ee-4a01-ed81-0234bcf659a4"
      },
      "source": [
        "from sklearn.metrics import accuracy_score\n",
        "fairness_metrics = []\n",
        "for element in predictions_sweep: \n",
        "  fairness_metrics.append(demographic_parity_difference(y_test,element,sensitive_features=SF_test))\n",
        "fairness_metrics"
      ],
      "execution_count": 147,
      "outputs": [
        {
          "output_type": "execute_result",
          "data": {
            "text/plain": [
              "[0.10915868193393972,\n",
              " 0.09872904577051718,\n",
              " 0.0853778126823516,\n",
              " 0.07820171469497614,\n",
              " 0.058316308009712034,\n",
              " 0.051782134412613506,\n",
              " 0.03352536559089046,\n",
              " 0.02234892001126873,\n",
              " 0.021611921666536624,\n",
              " 0.025519064079845305,\n",
              " 0.02746679536300732,\n",
              " 0.033300178141026204,\n",
              " 0.04008103010644079,\n",
              " 0.06765855041886266,\n",
              " 0.08151972562637852,\n",
              " 0.0915314568646899,\n",
              " 0.09558156060509082,\n",
              " 0.10216175279930895,\n",
              " 0.1043003327822003,\n",
              " 0.1149306287168193,\n",
              " 0.1489337000493824]"
            ]
          },
          "metadata": {
            "tags": []
          },
          "execution_count": 147
        }
      ]
>>>>>>> 20e4d30773d02a872eab21163b5398dadf2e717f
    },
    "id": "R4T-5QDs2See",
    "outputId": "478035d4-c0c2-4c91-f683-8ac4ed20f8c5"
   },
   "outputs": [
    {
     "data": {
      "image/png": "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\n",
      "text/plain": [
       "<Figure size 432x288 with 1 Axes>"
      ]
     },
     "metadata": {
      "needs_background": "light",
      "tags": []
     },
     "output_type": "display_data"
    },
    {
<<<<<<< HEAD
     "data": {
      "image/png": "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\n",
      "text/plain": [
       "<Figure size 432x288 with 1 Axes>"
=======
      "cell_type": "code",
      "metadata": {
        "id": "TecSOnrNhH3a",
        "colab": {
          "base_uri": "https://localhost:8080/"
        },
        "outputId": "14905049-a1a9-4ab3-bab6-bee441b20da6"
      },
      "source": [
        "pip install ipympl"
      ],
      "execution_count": 148,
      "outputs": [
        {
          "output_type": "stream",
          "text": [
            "Requirement already satisfied: ipympl in /usr/local/lib/python3.6/dist-packages (0.5.8)\n",
            "Requirement already satisfied: matplotlib>=2.0.0 in /usr/local/lib/python3.6/dist-packages (from ipympl) (3.2.2)\n",
            "Requirement already satisfied: ipywidgets>=7.5.0 in /usr/local/lib/python3.6/dist-packages (from ipympl) (7.5.1)\n",
            "Requirement already satisfied: ipykernel>=4.7 in /usr/local/lib/python3.6/dist-packages (from ipympl) (4.10.1)\n",
            "Requirement already satisfied: kiwisolver>=1.0.1 in /usr/local/lib/python3.6/dist-packages (from matplotlib>=2.0.0->ipympl) (1.3.1)\n",
            "Requirement already satisfied: cycler>=0.10 in /usr/local/lib/python3.6/dist-packages (from matplotlib>=2.0.0->ipympl) (0.10.0)\n",
            "Requirement already satisfied: numpy>=1.11 in /usr/local/lib/python3.6/dist-packages (from matplotlib>=2.0.0->ipympl) (1.18.5)\n",
            "Requirement already satisfied: python-dateutil>=2.1 in /usr/local/lib/python3.6/dist-packages (from matplotlib>=2.0.0->ipympl) (2.8.1)\n",
            "Requirement already satisfied: pyparsing!=2.0.4,!=2.1.2,!=2.1.6,>=2.0.1 in /usr/local/lib/python3.6/dist-packages (from matplotlib>=2.0.0->ipympl) (2.4.7)\n",
            "Requirement already satisfied: traitlets>=4.3.1 in /usr/local/lib/python3.6/dist-packages (from ipywidgets>=7.5.0->ipympl) (4.3.3)\n",
            "Requirement already satisfied: nbformat>=4.2.0 in /usr/local/lib/python3.6/dist-packages (from ipywidgets>=7.5.0->ipympl) (5.0.8)\n",
            "Requirement already satisfied: widgetsnbextension~=3.5.0 in /usr/local/lib/python3.6/dist-packages (from ipywidgets>=7.5.0->ipympl) (3.5.1)\n",
            "Requirement already satisfied: ipython>=4.0.0; python_version >= \"3.3\" in /usr/local/lib/python3.6/dist-packages (from ipywidgets>=7.5.0->ipympl) (5.5.0)\n",
            "Requirement already satisfied: tornado>=4.0 in /usr/local/lib/python3.6/dist-packages (from ipykernel>=4.7->ipympl) (5.1.1)\n",
            "Requirement already satisfied: jupyter-client in /usr/local/lib/python3.6/dist-packages (from ipykernel>=4.7->ipympl) (5.3.5)\n",
            "Requirement already satisfied: six in /usr/local/lib/python3.6/dist-packages (from cycler>=0.10->matplotlib>=2.0.0->ipympl) (1.15.0)\n",
            "Requirement already satisfied: ipython-genutils in /usr/local/lib/python3.6/dist-packages (from traitlets>=4.3.1->ipywidgets>=7.5.0->ipympl) (0.2.0)\n",
            "Requirement already satisfied: decorator in /usr/local/lib/python3.6/dist-packages (from traitlets>=4.3.1->ipywidgets>=7.5.0->ipympl) (4.4.2)\n",
            "Requirement already satisfied: jsonschema!=2.5.0,>=2.4 in /usr/local/lib/python3.6/dist-packages (from nbformat>=4.2.0->ipywidgets>=7.5.0->ipympl) (2.6.0)\n",
            "Requirement already satisfied: jupyter-core in /usr/local/lib/python3.6/dist-packages (from nbformat>=4.2.0->ipywidgets>=7.5.0->ipympl) (4.7.0)\n",
            "Requirement already satisfied: notebook>=4.4.1 in /usr/local/lib/python3.6/dist-packages (from widgetsnbextension~=3.5.0->ipywidgets>=7.5.0->ipympl) (5.3.1)\n",
            "Requirement already satisfied: pickleshare in /usr/local/lib/python3.6/dist-packages (from ipython>=4.0.0; python_version >= \"3.3\"->ipywidgets>=7.5.0->ipympl) (0.7.5)\n",
            "Requirement already satisfied: setuptools>=18.5 in /usr/local/lib/python3.6/dist-packages (from ipython>=4.0.0; python_version >= \"3.3\"->ipywidgets>=7.5.0->ipympl) (50.3.2)\n",
            "Requirement already satisfied: pexpect; sys_platform != \"win32\" in /usr/local/lib/python3.6/dist-packages (from ipython>=4.0.0; python_version >= \"3.3\"->ipywidgets>=7.5.0->ipympl) (4.8.0)\n",
            "Requirement already satisfied: simplegeneric>0.8 in /usr/local/lib/python3.6/dist-packages (from ipython>=4.0.0; python_version >= \"3.3\"->ipywidgets>=7.5.0->ipympl) (0.8.1)\n",
            "Requirement already satisfied: prompt-toolkit<2.0.0,>=1.0.4 in /usr/local/lib/python3.6/dist-packages (from ipython>=4.0.0; python_version >= \"3.3\"->ipywidgets>=7.5.0->ipympl) (1.0.18)\n",
            "Requirement already satisfied: pygments in /usr/local/lib/python3.6/dist-packages (from ipython>=4.0.0; python_version >= \"3.3\"->ipywidgets>=7.5.0->ipympl) (2.6.1)\n",
            "Requirement already satisfied: pyzmq>=13 in /usr/local/lib/python3.6/dist-packages (from jupyter-client->ipykernel>=4.7->ipympl) (20.0.0)\n",
            "Requirement already satisfied: jinja2 in /usr/local/lib/python3.6/dist-packages (from notebook>=4.4.1->widgetsnbextension~=3.5.0->ipywidgets>=7.5.0->ipympl) (2.11.2)\n",
            "Requirement already satisfied: nbconvert in /usr/local/lib/python3.6/dist-packages (from notebook>=4.4.1->widgetsnbextension~=3.5.0->ipywidgets>=7.5.0->ipympl) (5.6.1)\n",
            "Requirement already satisfied: Send2Trash in /usr/local/lib/python3.6/dist-packages (from notebook>=4.4.1->widgetsnbextension~=3.5.0->ipywidgets>=7.5.0->ipympl) (1.5.0)\n",
            "Requirement already satisfied: terminado>=0.8.1 in /usr/local/lib/python3.6/dist-packages (from notebook>=4.4.1->widgetsnbextension~=3.5.0->ipywidgets>=7.5.0->ipympl) (0.9.1)\n",
            "Requirement already satisfied: ptyprocess>=0.5 in /usr/local/lib/python3.6/dist-packages (from pexpect; sys_platform != \"win32\"->ipython>=4.0.0; python_version >= \"3.3\"->ipywidgets>=7.5.0->ipympl) (0.6.0)\n",
            "Requirement already satisfied: wcwidth in /usr/local/lib/python3.6/dist-packages (from prompt-toolkit<2.0.0,>=1.0.4->ipython>=4.0.0; python_version >= \"3.3\"->ipywidgets>=7.5.0->ipympl) (0.2.5)\n",
            "Requirement already satisfied: MarkupSafe>=0.23 in /usr/local/lib/python3.6/dist-packages (from jinja2->notebook>=4.4.1->widgetsnbextension~=3.5.0->ipywidgets>=7.5.0->ipympl) (1.1.1)\n",
            "Requirement already satisfied: defusedxml in /usr/local/lib/python3.6/dist-packages (from nbconvert->notebook>=4.4.1->widgetsnbextension~=3.5.0->ipywidgets>=7.5.0->ipympl) (0.6.0)\n",
            "Requirement already satisfied: mistune<2,>=0.8.1 in /usr/local/lib/python3.6/dist-packages (from nbconvert->notebook>=4.4.1->widgetsnbextension~=3.5.0->ipywidgets>=7.5.0->ipympl) (0.8.4)\n",
            "Requirement already satisfied: bleach in /usr/local/lib/python3.6/dist-packages (from nbconvert->notebook>=4.4.1->widgetsnbextension~=3.5.0->ipywidgets>=7.5.0->ipympl) (3.2.1)\n",
            "Requirement already satisfied: testpath in /usr/local/lib/python3.6/dist-packages (from nbconvert->notebook>=4.4.1->widgetsnbextension~=3.5.0->ipywidgets>=7.5.0->ipympl) (0.4.4)\n",
            "Requirement already satisfied: entrypoints>=0.2.2 in /usr/local/lib/python3.6/dist-packages (from nbconvert->notebook>=4.4.1->widgetsnbextension~=3.5.0->ipywidgets>=7.5.0->ipympl) (0.3)\n",
            "Requirement already satisfied: pandocfilters>=1.4.1 in /usr/local/lib/python3.6/dist-packages (from nbconvert->notebook>=4.4.1->widgetsnbextension~=3.5.0->ipywidgets>=7.5.0->ipympl) (1.4.3)\n",
            "Requirement already satisfied: webencodings in /usr/local/lib/python3.6/dist-packages (from bleach->nbconvert->notebook>=4.4.1->widgetsnbextension~=3.5.0->ipywidgets>=7.5.0->ipympl) (0.5.1)\n",
            "Requirement already satisfied: packaging in /usr/local/lib/python3.6/dist-packages (from bleach->nbconvert->notebook>=4.4.1->widgetsnbextension~=3.5.0->ipywidgets>=7.5.0->ipympl) (20.4)\n"
          ],
          "name": "stdout"
        }
>>>>>>> 20e4d30773d02a872eab21163b5398dadf2e717f
      ]
     },
     "metadata": {
      "needs_background": "light",
      "tags": []
     },
     "output_type": "display_data"
    }
   ],
   "source": [
    "import matplotlib.pyplot as plt\n",
    "\n",
    "plt.plot()\n",
    "plt.plot(arr_epochs, arr_accuracy, color='green')\n",
    "plt.ylabel('Accuracy')\n",
    "plt.xlabel('Epochs')\n",
    "plt.title('Accuracy vs. Epochs')\n",
    "plt.show()\n",
    "\n",
    "plt.plot()\n",
    "plt.plot(arr_epochs, arr_loss,color='red')\n",
    "plt.ylabel('Loss')\n",
    "plt.xlabel('Epochs')\n",
    "plt.title('Loss vs. Epochs')\n",
    "plt.show()"
   ]
  },
  {
   "cell_type": "markdown",
   "metadata": {
    "id": "bvFzNDRT2See"
   },
   "source": [
    "### Part d \n",
    "Evaluate the model on the test dataset. Print out the accuracy. Does this accuracy agrees with the training accuracy showed on the plot? Why may they be different?"
   ]
  },
  {
   "cell_type": "code",
   "execution_count": 6,
   "metadata": {
    "colab": {
     "base_uri": "https://localhost:8080/"
    },
    "id": "t0eC-Wi32See",
    "outputId": "9126c6db-b320-4b09-f903-4e7019ff202d"
   },
   "outputs": [
    {
<<<<<<< HEAD
     "name": "stdout",
     "output_type": "stream",
     "text": [
      "Accuracy:  0.8571428571428571\n"
     ]
    }
   ],
   "source": [
    "network.eval()\n",
    "\n",
    "pred = torch.argmax(network(torch.tensor(X_test)), dim=1).numpy()\n",
    "\n",
    "print(\"Accuracy: \", np.sum(pred == y_test)/len(y_test))"
   ]
  },
  {
   "cell_type": "markdown",
   "metadata": {
    "id": "32s7Lm9SqC2h"
   },
   "source": [
    "**Answer:**\n",
    "\n",
    "The accuracy on the training dataset is around 95% while the accuracy for testing dataset is 85.7%. It's probably because model might overfit training data so cannot be well generalized to testing data, especially when number of epochs are larger. The accuracy differs more when larger number of epochs are being trained. "
   ]
  },
  {
   "cell_type": "markdown",
   "metadata": {
    "id": "iy6C2pFfyXIa"
   },
   "source": [
    "## Problem 2\n",
    "\n",
    "If you haven't done so already, please read Chapter 2 (on fairness) of the textbook."
   ]
  },
  {
   "cell_type": "markdown",
   "metadata": {
    "id": "pe6qfhRFyXIa"
   },
   "source": [
    "### Part a\n",
    "\n",
    "Import the 'semi_synthetic.csv' dataset. This dataset is a modified version of the UCI Credit card dataset (details [here](https://archive.ics.uci.edu/ml/datasets/default+of+credit+card+clients)). We added a new synthetic feature to this dataset called `LIMIT_BAL`. It is highly predictive for `SEX==2` but not at all for `SEX==1`. As it turns out, this causes issues with fairness where models rely too much on `LIMIT_BAL` and discriminate against `SEX==2`. We will try to mitigate this in terms of the fairness criterion 'Statistical Parity' as it's mentioned in the textbook."
   ]
  },
  {
   "cell_type": "code",
   "execution_count": null,
   "metadata": {
    "id": "HaqdFHPvyXIa"
   },
   "outputs": [],
   "source": [
    "import pandas as pd\n",
    "\n",
    "data = pd.read_csv(\"semi_synthetic.csv\")"
   ]
  },
  {
   "cell_type": "markdown",
   "metadata": {
    "id": "QJhtmsUHyXIa"
   },
   "source": [
    "Extract features from the dataset (all columns except last) and call it `X`. Extract last column and call it `Y`. Also extract the `SEX` column and call this `SF` (for sensitive feature). Split all of these arrays data into train and test sets. You can use `sklearn.model_selection.train_test_split` and 20% ratio for the test dataset. Pass `stratify=Y` to `train_test_split` if you're using it. This ensures that both test and train datasets have the same ratio of 0/1 labels."
   ]
  },
  {
   "cell_type": "code",
   "execution_count": null,
   "metadata": {
    "id": "4RWhQl8zyXIa"
   },
   "outputs": [],
   "source": [
    "from sklearn.model_selection import train_test_split \n",
    "import numpy as np\n",
    "import random\n",
    "random.seed(2020)\n",
    "np.random.seed(2020)\n",
    "\n",
    "X = data.iloc[:,0:-1]\n",
    "X = X.to_numpy()\n",
    "Y = data.iloc[:,-1]\n",
    "Y = Y.to_numpy()\n",
    "SF = data.iloc[:,1]\n",
    "SF = SF.to_numpy()\n",
    "X_train,X_test,y_train,y_test = train_test_split(X,Y,test_size = 0.20,stratify=Y)\n",
    "SF_test = X_test[:,1]"
   ]
  },
  {
   "cell_type": "markdown",
   "metadata": {
    "id": "6_kwHg4SyXIa"
   },
   "source": [
    "Use a random forest classifier (whichever hyperparameters you want, you may leave it default) and train it using the train dataset (only `X_train` and `Y_train`. We will not use `SF_train` yet.)"
   ]
  },
  {
   "cell_type": "code",
   "execution_count": null,
   "metadata": {
    "colab": {
     "base_uri": "https://localhost:8080/"
=======
      "cell_type": "code",
      "metadata": {
        "id": "xOxhh6wEymcK",
        "colab": {
          "base_uri": "https://localhost:8080/"
        },
        "outputId": "558d723b-3826-4235-b1ee-99cff216b2da"
      },
      "source": [
        "pip install matplotlib"
      ],
      "execution_count": 149,
      "outputs": [
        {
          "output_type": "stream",
          "text": [
            "Requirement already satisfied: matplotlib in /usr/local/lib/python3.6/dist-packages (3.2.2)\n",
            "Requirement already satisfied: cycler>=0.10 in /usr/local/lib/python3.6/dist-packages (from matplotlib) (0.10.0)\n",
            "Requirement already satisfied: python-dateutil>=2.1 in /usr/local/lib/python3.6/dist-packages (from matplotlib) (2.8.1)\n",
            "Requirement already satisfied: kiwisolver>=1.0.1 in /usr/local/lib/python3.6/dist-packages (from matplotlib) (1.3.1)\n",
            "Requirement already satisfied: pyparsing!=2.0.4,!=2.1.2,!=2.1.6,>=2.0.1 in /usr/local/lib/python3.6/dist-packages (from matplotlib) (2.4.7)\n",
            "Requirement already satisfied: numpy>=1.11 in /usr/local/lib/python3.6/dist-packages (from matplotlib) (1.18.5)\n",
            "Requirement already satisfied: six in /usr/local/lib/python3.6/dist-packages (from cycler>=0.10->matplotlib) (1.15.0)\n"
          ],
          "name": "stdout"
        }
      ]
>>>>>>> 20e4d30773d02a872eab21163b5398dadf2e717f
    },
    "id": "YESO3KAfyXIa",
    "outputId": "008d30a3-abb2-459b-8cc9-0954d7dc7681"
   },
   "outputs": [
    {
<<<<<<< HEAD
     "data": {
      "text/plain": [
       "24000"
=======
      "cell_type": "code",
      "metadata": {
        "id": "zzW_0fq2yXIa",
        "colab": {
          "base_uri": "https://localhost:8080/",
          "height": 279
        },
        "outputId": "9c78d4b5-2535-432b-8c51-021e51a6ec03"
      },
      "source": [
        "import matplotlib.pyplot as plt\n",
        "# %matplotlib widget\n",
        "plt.figure()\n",
        "plt.scatter(accuracy_sweep,fairness_metrics,label=\"GridSearch\")\n",
        "plt.xlabel(\"Accuracy\")\n",
        "plt.ylabel(\"Demographic Parity Difference\")\n",
        "plt.show();"
      ],
      "execution_count": 150,
      "outputs": [
        {
          "output_type": "display_data",
          "data": {
            "image/png": "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\n",
            "text/plain": [
              "<Figure size 432x288 with 1 Axes>"
            ]
          },
          "metadata": {
            "tags": [],
            "needs_background": "light"
          }
        }
>>>>>>> 20e4d30773d02a872eab21163b5398dadf2e717f
      ]
     },
     "execution_count": 141,
     "metadata": {
      "tags": []
     },
     "output_type": "execute_result"
    }
   ],
   "source": [
    "from sklearn.ensemble import RandomForestClassifier\n",
    "\n",
    "clf = RandomForestClassifier(max_depth=5, n_estimators=5, random_state=0)\n",
    "clf.fit(X_train, y_train)\n",
    "np.size(y_train)"
   ]
  },
  {
   "cell_type": "markdown",
   "metadata": {
    "id": "_U4MeVC3yXIa"
   },
   "source": [
    "### Part b\n",
    "\n",
    "Now we will consider the 'statistical parity' fairness metric on the test dataset. This basically means we compare the selection rates (i.e. predicted labels being 1) conditioned on sex and look at their difference/ratio. To do this, print 5 things: \n",
    "\n",
    "1. Overall selection rate (what percent is predicted as 1)\n",
    "2. Selection rate for `SEX==1`\n",
    "3. Selection rate for `SEX==2`\n",
    "4. Difference between 2. and 3.\n",
    "5. Ratio of 2. and 3.\n",
    "\n",
    "Note that we didn't use anything related to how accurate the model is."
   ]
  },
  {
   "cell_type": "code",
   "execution_count": null,
   "metadata": {
    "colab": {
     "base_uri": "https://localhost:8080/"
    },
    "id": "4qQcj-_PyXIa",
    "outputId": "585842ee-20ef-4018-8e29-a5382c473b7b"
   },
   "outputs": [
    {
     "name": "stdout",
     "output_type": "stream",
     "text": [
      "The overall selection rate is  0.113\n",
      "Selection rate for SEX==1 is 0.0962360992301112\n",
      "Selection rate for SEX==2 is 0.12370289459311852\n",
      "Difference of rate between 2. and 3. is 0.02746679536300732\n",
      "Ratio of 2. and 3. is 0.7779615792067709\n"
     ]
    }
   ],
   "source": [
    "y_predict = clf.predict(X_test)\n",
    "y1 = np.count_nonzero(y_predict)\n",
    "overall_selection_rate = y1/np.size(y_predict)\n",
    "print(\"The overall selection rate is \",overall_selection_rate)\n",
    "\n",
    "sex1_y1_count = 0\n",
    "sex1_count = 0\n",
    "sex2_count = 0\n",
    "\n",
    "for i in range(np.size(y_predict)):\n",
    "  if X_test[i,1]==1:\n",
    "    sex1_count +=1\n",
    "    if y_predict[i]==1:\n",
    "      sex1_y1_count +=1\n",
    "  else:\n",
    "    sex2_count +=1\n",
    "\n",
    "print(\"Selection rate for SEX==1 is\", sex1_y1_count/sex1_count)\n",
    "sex2_y1_count = y1-sex1_y1_count\n",
    "print(\"Selection rate for SEX==2 is\", sex2_y1_count/sex2_count)\n",
    "print(\"Difference of rate between 2. and 3. is\", sex2_y1_count/sex2_count-sex1_y1_count/sex1_count)\n",
    "print(\"Ratio of 2. and 3. is\", (sex1_y1_count/sex1_count)/(sex2_y1_count/sex2_count))"
   ]
  },
  {
   "cell_type": "markdown",
   "metadata": {
    "id": "R1Yn6sXXyXIa"
   },
   "source": [
    "There is a new Python package called `fairlearn` that aims to help machine learning researchers use fairness techniques more easily. Go ahead and download this package (`pip install fairlearn` or `conda install fairlearn`). Note: the authors of `fairlearn` call 'statistical parity' from the textbook as 'demographic parity'.\n",
    "\n",
    "We will use `selection_rate`, `demographic_parity_difference`, `demographic_parity_ratio` from `fairlearn.metrics` to calculate 1., 4. and 5. above. The way to use these functions is: first argument `Y_test`, second argument `Y_prediction`, and for `demographic_parity_difference` and `demographic_parity_ratio` you need to give a keyword argument for the 'sensitive feature' by `sensitive_features=SF_test`.\n",
    "\n",
    "Use these three functions and confirm your earlier calculations for 1., 4. and 5."
   ]
  },
  {
   "cell_type": "code",
   "execution_count": null,
   "metadata": {
    "colab": {
     "base_uri": "https://localhost:8080/"
    },
    "id": "Lc9HTbgn4ZpZ",
    "outputId": "1654cf65-2f70-4595-fe59-abc644bf00dd"
   },
   "outputs": [
    {
<<<<<<< HEAD
     "name": "stdout",
     "output_type": "stream",
     "text": [
      "Requirement already satisfied: fairlearn in /usr/local/lib/python3.6/dist-packages (0.5.0)\n",
      "Requirement already satisfied: scipy>=1.4.1 in /usr/local/lib/python3.6/dist-packages (from fairlearn) (1.4.1)\n",
      "Requirement already satisfied: numpy>=1.17.2 in /usr/local/lib/python3.6/dist-packages (from fairlearn) (1.18.5)\n",
      "Requirement already satisfied: scikit-learn>=0.22.1 in /usr/local/lib/python3.6/dist-packages (from fairlearn) (0.22.2.post1)\n",
      "Requirement already satisfied: pandas>=0.25.1 in /usr/local/lib/python3.6/dist-packages (from fairlearn) (1.1.4)\n",
      "Requirement already satisfied: joblib>=0.11 in /usr/local/lib/python3.6/dist-packages (from scikit-learn>=0.22.1->fairlearn) (0.17.0)\n",
      "Requirement already satisfied: python-dateutil>=2.7.3 in /usr/local/lib/python3.6/dist-packages (from pandas>=0.25.1->fairlearn) (2.8.1)\n",
      "Requirement already satisfied: pytz>=2017.2 in /usr/local/lib/python3.6/dist-packages (from pandas>=0.25.1->fairlearn) (2018.9)\n",
      "Requirement already satisfied: six>=1.5 in /usr/local/lib/python3.6/dist-packages (from python-dateutil>=2.7.3->pandas>=0.25.1->fairlearn) (1.15.0)\n"
     ]
    }
   ],
   "source": [
    "pip install fairlearn"
   ]
  },
  {
   "cell_type": "code",
   "execution_count": null,
   "metadata": {
    "colab": {
     "base_uri": "https://localhost:8080/"
=======
      "cell_type": "code",
      "metadata": {
        "id": "4ElVQmrHyXIa",
        "colab": {
          "base_uri": "https://localhost:8080/"
        },
        "outputId": "b8ba4b36-a4b4-4f2d-c950-1ab1417bbcba"
      },
      "source": [
        "accuracy_sweep_pareto = np.copy(accuracy_sweep)\n",
        "fairness_metrics_pareto = np.copy(fairness_metrics)\n",
        "pareto = np.column_stack((accuracy_sweep_pareto,fairness_metrics_pareto))\n",
        "sort_pareto = pareto[np.argsort(pareto[:, 0])]\n",
        "sort_pareto = sort_pareto[::-1]\n",
        "\n",
        "max_accuracy = sort_pareto[-1,0]\n",
        "min_parity = sort_pareto[-1,1]\n",
        "\n",
        "for i in range(np.size(sort_pareto,0)):\n",
        "  if sort_pareto[i,1] <= min_parity:\n",
        "    print(sort_pareto[i,1])\n",
        "    min_parity = sort_pareto[i,1]\n",
        "  else:\n",
        "    index = np.where(pareto[:,1] == sort_pareto[i,1])\n",
        "    print(\"delete\", index[0])\n",
        "    pareto = np.delete(pareto,index[0],0)\n",
        "\n",
        "pareto"
      ],
      "execution_count": 151,
      "outputs": [
        {
          "output_type": "stream",
          "text": [
            "0.02234892001126873\n",
            "0.021611921666536624\n",
            "delete [6]\n",
            "delete [5]\n",
            "delete [2]\n",
            "delete [3]\n",
            "delete [1]\n",
            "delete [14]\n",
            "delete [11]\n",
            "delete [12]\n",
            "delete [11]\n",
            "delete [0]\n",
            "delete [9]\n",
            "delete [9]\n",
            "delete [0]\n",
            "delete [7]\n",
            "delete [6]\n",
            "delete [2]\n",
            "delete [3]\n",
            "delete [2]\n",
            "delete [2]\n"
          ],
          "name": "stdout"
        },
        {
          "output_type": "execute_result",
          "data": {
            "text/plain": [
              "array([[0.848     , 0.02234892],\n",
              "       [0.84716667, 0.02161192]])"
            ]
          },
          "metadata": {
            "tags": []
          },
          "execution_count": 151
        }
      ]
>>>>>>> 20e4d30773d02a872eab21163b5398dadf2e717f
    },
    "id": "I27r9Mx1yXIa",
    "outputId": "193690db-797b-442e-8355-2ffcd2127e08"
   },
   "outputs": [
    {
     "name": "stdout",
     "output_type": "stream",
     "text": [
      "selection rate is 0.113\n",
      "demographic parity difference is 0.02746679536300732\n",
      "demographic parity ratio is 0.7779615792067709\n"
     ]
    }
   ],
   "source": [
    "from fairlearn.metrics import selection_rate, demographic_parity_difference, demographic_parity_ratio\n",
    "\n",
    "print(\"selection rate is\", selection_rate(y_test,y_predict,pos_label=1))\n",
    "print(\"demographic parity difference is\",demographic_parity_difference(y_test,y_predict,sensitive_features=SF_test))\n",
    "print(\"demographic parity ratio is\",demographic_parity_ratio(y_test,y_predict,sensitive_features=SF_test))"
   ]
  },
  {
   "cell_type": "markdown",
   "metadata": {
    "id": "XViy0I5EyXIa"
   },
   "source": [
    "### Part c\n",
    "### Mitigating Unfairness with Giving Weights to Datapoints\n",
    "\n",
    "Now we are going to use the `GridSearch` function from `fairlearn.reductions` to try to mitigate this statistical parity discrepancy. This is one of the many ways to achieve this. What this function does is it gives higher weights to certain datapoints (determined by the sensitive feature) in order to change what the model learns. It automatically uses grid search to determine which weight should be given to `SEX==1` datapoints vs `SEX==2` datapoints (if you're interested you can read the source code). While it is called grid search, the space it searches is 1-dimensional. For our purposes, `GridSearch` takes four arguments: \n",
    "\n",
    "1. The model you defined above. This is a non-keyword argument.\n",
    "2. Constraint. This needs to be an object defined by `fairlearn`, the class we will be using is `fairlearn.reductions.DemographicParity`. It corresponds to minimizing the difference in selection rates (4. from above). This is a non-keyword argument.\n",
    "3. (Keyword argument) `grid_limit`. This determines the boundaries of the grid search. Basically, the `GridSearch` function will search the interval \\[-`grid_limit`,`grid_limit`\\] to find the weights. Choose this to be 0.8.\n",
    "3. (Keyword argument) `grid_size`. This determines how many points there will be in the grid search. Choose this to be 21.\n",
    "\n",
    "Just like `sklearn.model_selection.GridSearchCV` we have seen in HW1, `fairlearn.reductions.GridSearch` is also a wrapper, so you need to call `.fit()` on this wrapper (not the model directly). Training should be done in less than 5 minutes. In the end this wrapper will contain `grid_size` many models, each corresponding to a different weight for datapoints."
   ]
  },
  {
   "cell_type": "code",
   "execution_count": null,
   "metadata": {
    "id": "67Y6ezsJyXIa"
   },
   "outputs": [],
   "source": [
    "from fairlearn.reductions import GridSearch, DemographicParity\n",
    "fairlearn_gs = GridSearch(estimator=clf,constraints=DemographicParity(),grid_size=21,grid_limit=0.3)\n",
    "fairlearn_gs.fit(X_train,y_train,sensitive_features=X_train[:,1])\n",
    "predictors = fairlearn_gs.predictors_"
   ]
  },
  {
   "cell_type": "markdown",
   "metadata": {
    "id": "15EO5RaTyXIa"
   },
   "source": [
    "The `GridSearch` wrapper object you trained has a field called `predictors_`. This gives a list of all the models trained in this grid search, which will be of size `grid_size`."
   ]
  },
  {
   "cell_type": "code",
   "execution_count": null,
   "metadata": {
    "id": "B7HdpQm_yXIa"
   },
   "outputs": [],
   "source": [
    "predictions_sweep = [predictor.predict(X_test) for predictor in fairlearn_gs.predictors_] \n",
    "accuracy_sweep = [predictor.score(X_test, y_test) for predictor in fairlearn_gs.predictors_] "
   ]
  },
  {
   "cell_type": "markdown",
   "metadata": {
    "id": "tXGkicwxyXIa"
   },
   "source": [
    "Notice that `predictions_sweep` is a 21 element list. Each of these elements is a numpy array that contains the predictions (`Y_pred`) for `X_test` for that particular model. Use `demographic_parity_difference` like you did above to find the difference in selection rates for each of these models and store these 'fairness metrics' in a numpy array (it too will be size 21)."
   ]
  },
  {
   "cell_type": "code",
   "execution_count": null,
   "metadata": {
    "colab": {
     "base_uri": "https://localhost:8080/"
    },
    "id": "SZ-bxFwmyXIa",
    "outputId": "20325ce4-62ee-4a01-ed81-0234bcf659a4"
   },
   "outputs": [
    {
<<<<<<< HEAD
     "data": {
      "text/plain": [
       "[0.10915868193393972,\n",
       " 0.09872904577051718,\n",
       " 0.0853778126823516,\n",
       " 0.07820171469497614,\n",
       " 0.058316308009712034,\n",
       " 0.051782134412613506,\n",
       " 0.03352536559089046,\n",
       " 0.02234892001126873,\n",
       " 0.021611921666536624,\n",
       " 0.025519064079845305,\n",
       " 0.02746679536300732,\n",
       " 0.033300178141026204,\n",
       " 0.04008103010644079,\n",
       " 0.06765855041886266,\n",
       " 0.08151972562637852,\n",
       " 0.0915314568646899,\n",
       " 0.09558156060509082,\n",
       " 0.10216175279930895,\n",
       " 0.1043003327822003,\n",
       " 0.1149306287168193,\n",
       " 0.1489337000493824]"
=======
      "cell_type": "code",
      "metadata": {
        "id": "IGAsufEOyXIa",
        "colab": {
          "base_uri": "https://localhost:8080/",
          "height": 279
        },
        "outputId": "504ff1d3-ab20-4110-c4b8-ef3c7eec2dd0"
      },
      "source": [
        "plt.figure()\n",
        "plt.scatter(accuracy_sweep,fairness_metrics,label=\"GridSearch\")\n",
        "plt.plot(pareto[:,0],pareto[:,1],\"o-\",label=\"Pareto\",color=\"tab:red\")\n",
        "plt.xlabel(\"Accuracy\")\n",
        "plt.ylabel(\"Demographic Parity Difference\")\n",
        "plt.legend()\n",
        "plt.show();"
      ],
      "execution_count": 152,
      "outputs": [
        {
          "output_type": "display_data",
          "data": {
            "image/png": "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\n",
            "text/plain": [
              "<Figure size 432x288 with 1 Axes>"
            ]
          },
          "metadata": {
            "tags": [],
            "needs_background": "light"
          }
        }
>>>>>>> 20e4d30773d02a872eab21163b5398dadf2e717f
      ]
     },
     "execution_count": 147,
     "metadata": {
      "tags": []
     },
     "output_type": "execute_result"
    }
   ],
   "source": [
    "from sklearn.metrics import accuracy_score\n",
    "fairness_metrics = []\n",
    "for element in predictions_sweep: \n",
    "  fairness_metrics.append(demographic_parity_difference(y_test,element,sensitive_features=SF_test))\n",
    "fairness_metrics"
   ]
  },
  {
   "cell_type": "markdown",
   "metadata": {
    "id": "ydkOWKGJyXIa"
   },
   "source": [
    "Plot the accuracy vs difference in selection rates for all these models in a scatter plot."
   ]
  },
  {
   "cell_type": "code",
   "execution_count": null,
   "metadata": {
    "colab": {
     "base_uri": "https://localhost:8080/"
    },
    "id": "TecSOnrNhH3a",
    "outputId": "14905049-a1a9-4ab3-bab6-bee441b20da6"
   },
   "outputs": [
    {
     "name": "stdout",
     "output_type": "stream",
     "text": [
      "Requirement already satisfied: ipympl in /usr/local/lib/python3.6/dist-packages (0.5.8)\n",
      "Requirement already satisfied: matplotlib>=2.0.0 in /usr/local/lib/python3.6/dist-packages (from ipympl) (3.2.2)\n",
      "Requirement already satisfied: ipywidgets>=7.5.0 in /usr/local/lib/python3.6/dist-packages (from ipympl) (7.5.1)\n",
      "Requirement already satisfied: ipykernel>=4.7 in /usr/local/lib/python3.6/dist-packages (from ipympl) (4.10.1)\n",
      "Requirement already satisfied: kiwisolver>=1.0.1 in /usr/local/lib/python3.6/dist-packages (from matplotlib>=2.0.0->ipympl) (1.3.1)\n",
      "Requirement already satisfied: cycler>=0.10 in /usr/local/lib/python3.6/dist-packages (from matplotlib>=2.0.0->ipympl) (0.10.0)\n",
      "Requirement already satisfied: numpy>=1.11 in /usr/local/lib/python3.6/dist-packages (from matplotlib>=2.0.0->ipympl) (1.18.5)\n",
      "Requirement already satisfied: python-dateutil>=2.1 in /usr/local/lib/python3.6/dist-packages (from matplotlib>=2.0.0->ipympl) (2.8.1)\n",
      "Requirement already satisfied: pyparsing!=2.0.4,!=2.1.2,!=2.1.6,>=2.0.1 in /usr/local/lib/python3.6/dist-packages (from matplotlib>=2.0.0->ipympl) (2.4.7)\n",
      "Requirement already satisfied: traitlets>=4.3.1 in /usr/local/lib/python3.6/dist-packages (from ipywidgets>=7.5.0->ipympl) (4.3.3)\n",
      "Requirement already satisfied: nbformat>=4.2.0 in /usr/local/lib/python3.6/dist-packages (from ipywidgets>=7.5.0->ipympl) (5.0.8)\n",
      "Requirement already satisfied: widgetsnbextension~=3.5.0 in /usr/local/lib/python3.6/dist-packages (from ipywidgets>=7.5.0->ipympl) (3.5.1)\n",
      "Requirement already satisfied: ipython>=4.0.0; python_version >= \"3.3\" in /usr/local/lib/python3.6/dist-packages (from ipywidgets>=7.5.0->ipympl) (5.5.0)\n",
      "Requirement already satisfied: tornado>=4.0 in /usr/local/lib/python3.6/dist-packages (from ipykernel>=4.7->ipympl) (5.1.1)\n",
      "Requirement already satisfied: jupyter-client in /usr/local/lib/python3.6/dist-packages (from ipykernel>=4.7->ipympl) (5.3.5)\n",
      "Requirement already satisfied: six in /usr/local/lib/python3.6/dist-packages (from cycler>=0.10->matplotlib>=2.0.0->ipympl) (1.15.0)\n",
      "Requirement already satisfied: ipython-genutils in /usr/local/lib/python3.6/dist-packages (from traitlets>=4.3.1->ipywidgets>=7.5.0->ipympl) (0.2.0)\n",
      "Requirement already satisfied: decorator in /usr/local/lib/python3.6/dist-packages (from traitlets>=4.3.1->ipywidgets>=7.5.0->ipympl) (4.4.2)\n",
      "Requirement already satisfied: jsonschema!=2.5.0,>=2.4 in /usr/local/lib/python3.6/dist-packages (from nbformat>=4.2.0->ipywidgets>=7.5.0->ipympl) (2.6.0)\n",
      "Requirement already satisfied: jupyter-core in /usr/local/lib/python3.6/dist-packages (from nbformat>=4.2.0->ipywidgets>=7.5.0->ipympl) (4.7.0)\n",
      "Requirement already satisfied: notebook>=4.4.1 in /usr/local/lib/python3.6/dist-packages (from widgetsnbextension~=3.5.0->ipywidgets>=7.5.0->ipympl) (5.3.1)\n",
      "Requirement already satisfied: pickleshare in /usr/local/lib/python3.6/dist-packages (from ipython>=4.0.0; python_version >= \"3.3\"->ipywidgets>=7.5.0->ipympl) (0.7.5)\n",
      "Requirement already satisfied: setuptools>=18.5 in /usr/local/lib/python3.6/dist-packages (from ipython>=4.0.0; python_version >= \"3.3\"->ipywidgets>=7.5.0->ipympl) (50.3.2)\n",
      "Requirement already satisfied: pexpect; sys_platform != \"win32\" in /usr/local/lib/python3.6/dist-packages (from ipython>=4.0.0; python_version >= \"3.3\"->ipywidgets>=7.5.0->ipympl) (4.8.0)\n",
      "Requirement already satisfied: simplegeneric>0.8 in /usr/local/lib/python3.6/dist-packages (from ipython>=4.0.0; python_version >= \"3.3\"->ipywidgets>=7.5.0->ipympl) (0.8.1)\n",
      "Requirement already satisfied: prompt-toolkit<2.0.0,>=1.0.4 in /usr/local/lib/python3.6/dist-packages (from ipython>=4.0.0; python_version >= \"3.3\"->ipywidgets>=7.5.0->ipympl) (1.0.18)\n",
      "Requirement already satisfied: pygments in /usr/local/lib/python3.6/dist-packages (from ipython>=4.0.0; python_version >= \"3.3\"->ipywidgets>=7.5.0->ipympl) (2.6.1)\n",
      "Requirement already satisfied: pyzmq>=13 in /usr/local/lib/python3.6/dist-packages (from jupyter-client->ipykernel>=4.7->ipympl) (20.0.0)\n",
      "Requirement already satisfied: jinja2 in /usr/local/lib/python3.6/dist-packages (from notebook>=4.4.1->widgetsnbextension~=3.5.0->ipywidgets>=7.5.0->ipympl) (2.11.2)\n",
      "Requirement already satisfied: nbconvert in /usr/local/lib/python3.6/dist-packages (from notebook>=4.4.1->widgetsnbextension~=3.5.0->ipywidgets>=7.5.0->ipympl) (5.6.1)\n",
      "Requirement already satisfied: Send2Trash in /usr/local/lib/python3.6/dist-packages (from notebook>=4.4.1->widgetsnbextension~=3.5.0->ipywidgets>=7.5.0->ipympl) (1.5.0)\n",
      "Requirement already satisfied: terminado>=0.8.1 in /usr/local/lib/python3.6/dist-packages (from notebook>=4.4.1->widgetsnbextension~=3.5.0->ipywidgets>=7.5.0->ipympl) (0.9.1)\n",
      "Requirement already satisfied: ptyprocess>=0.5 in /usr/local/lib/python3.6/dist-packages (from pexpect; sys_platform != \"win32\"->ipython>=4.0.0; python_version >= \"3.3\"->ipywidgets>=7.5.0->ipympl) (0.6.0)\n",
      "Requirement already satisfied: wcwidth in /usr/local/lib/python3.6/dist-packages (from prompt-toolkit<2.0.0,>=1.0.4->ipython>=4.0.0; python_version >= \"3.3\"->ipywidgets>=7.5.0->ipympl) (0.2.5)\n",
      "Requirement already satisfied: MarkupSafe>=0.23 in /usr/local/lib/python3.6/dist-packages (from jinja2->notebook>=4.4.1->widgetsnbextension~=3.5.0->ipywidgets>=7.5.0->ipympl) (1.1.1)\n",
      "Requirement already satisfied: defusedxml in /usr/local/lib/python3.6/dist-packages (from nbconvert->notebook>=4.4.1->widgetsnbextension~=3.5.0->ipywidgets>=7.5.0->ipympl) (0.6.0)\n",
      "Requirement already satisfied: mistune<2,>=0.8.1 in /usr/local/lib/python3.6/dist-packages (from nbconvert->notebook>=4.4.1->widgetsnbextension~=3.5.0->ipywidgets>=7.5.0->ipympl) (0.8.4)\n",
      "Requirement already satisfied: bleach in /usr/local/lib/python3.6/dist-packages (from nbconvert->notebook>=4.4.1->widgetsnbextension~=3.5.0->ipywidgets>=7.5.0->ipympl) (3.2.1)\n",
      "Requirement already satisfied: testpath in /usr/local/lib/python3.6/dist-packages (from nbconvert->notebook>=4.4.1->widgetsnbextension~=3.5.0->ipywidgets>=7.5.0->ipympl) (0.4.4)\n",
      "Requirement already satisfied: entrypoints>=0.2.2 in /usr/local/lib/python3.6/dist-packages (from nbconvert->notebook>=4.4.1->widgetsnbextension~=3.5.0->ipywidgets>=7.5.0->ipympl) (0.3)\n",
      "Requirement already satisfied: pandocfilters>=1.4.1 in /usr/local/lib/python3.6/dist-packages (from nbconvert->notebook>=4.4.1->widgetsnbextension~=3.5.0->ipywidgets>=7.5.0->ipympl) (1.4.3)\n",
      "Requirement already satisfied: webencodings in /usr/local/lib/python3.6/dist-packages (from bleach->nbconvert->notebook>=4.4.1->widgetsnbextension~=3.5.0->ipywidgets>=7.5.0->ipympl) (0.5.1)\n",
      "Requirement already satisfied: packaging in /usr/local/lib/python3.6/dist-packages (from bleach->nbconvert->notebook>=4.4.1->widgetsnbextension~=3.5.0->ipywidgets>=7.5.0->ipympl) (20.4)\n"
     ]
    }
   ],
   "source": [
    "pip install ipympl"
   ]
  },
  {
   "cell_type": "code",
   "execution_count": null,
   "metadata": {
    "colab": {
     "base_uri": "https://localhost:8080/"
    },
    "id": "xOxhh6wEymcK",
    "outputId": "558d723b-3826-4235-b1ee-99cff216b2da"
   },
   "outputs": [
    {
<<<<<<< HEAD
     "name": "stdout",
     "output_type": "stream",
     "text": [
      "Requirement already satisfied: matplotlib in /usr/local/lib/python3.6/dist-packages (3.2.2)\n",
      "Requirement already satisfied: cycler>=0.10 in /usr/local/lib/python3.6/dist-packages (from matplotlib) (0.10.0)\n",
      "Requirement already satisfied: python-dateutil>=2.1 in /usr/local/lib/python3.6/dist-packages (from matplotlib) (2.8.1)\n",
      "Requirement already satisfied: kiwisolver>=1.0.1 in /usr/local/lib/python3.6/dist-packages (from matplotlib) (1.3.1)\n",
      "Requirement already satisfied: pyparsing!=2.0.4,!=2.1.2,!=2.1.6,>=2.0.1 in /usr/local/lib/python3.6/dist-packages (from matplotlib) (2.4.7)\n",
      "Requirement already satisfied: numpy>=1.11 in /usr/local/lib/python3.6/dist-packages (from matplotlib) (1.18.5)\n",
      "Requirement already satisfied: six in /usr/local/lib/python3.6/dist-packages (from cycler>=0.10->matplotlib) (1.15.0)\n"
     ]
    }
   ],
   "source": [
    "pip install matplotlib"
   ]
  },
  {
   "cell_type": "code",
   "execution_count": null,
   "metadata": {
    "colab": {
     "base_uri": "https://localhost:8080/",
     "height": 279
=======
      "cell_type": "markdown",
      "metadata": {
        "id": "eqF-fnILnKOw"
      },
      "source": [
        "I'll choose the model with less accuracy and better demographic parity difference, which is the left red point, since accuracy might change more frequently depending on different random training and testing dataset. Also, we emphasize on fairness in this case so I would weight the one with better demographic parity difference."
      ]
    },
    {
      "cell_type": "markdown",
      "metadata": {
        "id": "K-qHCrNsyXIa"
      },
      "source": [
        "## Problem 3\n",
        "\n",
        "This problem builds on ideas from paper 2a in Module 1: “Against prediction: Sentencing, Policing, And Punishing In An Actuarial Age,” Chicago Public Law And Legal Theory Working Paper No. 94, Harcourt, 2005. \n",
        "\n",
        "Suppose we have two groups $A$ and $B$ of population sizes $n$ and $9n$. We find that under equal surveillance, group $A$’s offending rate is $2$ offenses per month per person and that of group $B$ is $1$ offense per person per month (See Figure on page 17 of the above paper). Equal surveillance means that out of a total of $10m$ monitors, $m$ monitors are assigned to group $A$ and $9m$ monitors are assigned to group $B$. The surveillance is $\\frac{m}{n}$ per capita for both groups. So, under equal surveillance, the combined offending rate over both groups is $11n$ per month. \n",
        "\n",
        "Suppose we want to bring down the overall offending rate by increasing the monitors for group $A$. In order to do that we collected some data and found that we could model the rate of decrease in offenses for group $A$ by a function as follows:\n",
        "\tIf we increase the per capita surveillance from $\\frac{m}{n}$ to $\\frac{m}{n} (1 + \\delta_A)$, the offending rate declines to $2e^{- \\alpha \\delta_A}$. ($\\alpha>0$)\n",
        "\n",
        "Similarly, we modeled the rate of increase in offenses for group $B$ by a function under reduced surveillance as follows:\n",
        "\tIf we decrease the per capita monitoring rate from $\\frac{m}{n}$ to $\\frac{m}{n} (1 - \\delta_B)$, the offending rate rises to $e^{ \\beta \\delta_B}$. ($\\beta>0$)\n",
        "\n",
        "How would you distribute the monitors so that \n",
        "\n",
        "**a)** Both groups had the same offending rate?\n",
        "\n",
        "**b)** The combined offending amount was minimized?\n",
        "\n",
        "\n",
        "Consider 3 different scenarios when $\\alpha > \\beta$, $\\alpha = \\beta$, and $\\alpha < \\beta$. \n",
        "\n",
        "**c)** For each of the scenarios, which of the above solutions would you prefer and why?\n",
        "\n",
        "**TIPS**:\n",
        "- For **part a** and **part b**, answer by calculating $\\delta_A$ and $\\delta_B$.\n",
        "- Try to set up equations from the given information. This problem mostly consists of algebra.\n",
        "- If you do it correctly, **part c** should makes sense immediately.\n"
      ]
>>>>>>> 20e4d30773d02a872eab21163b5398dadf2e717f
    },
    "id": "zzW_0fq2yXIa",
    "outputId": "9c78d4b5-2535-432b-8c51-021e51a6ec03"
   },
   "outputs": [
    {
     "data": {
      "image/png": "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\n",
      "text/plain": [
       "<Figure size 432x288 with 1 Axes>"
      ]
     },
     "metadata": {
      "needs_background": "light",
      "tags": []
     },
     "output_type": "display_data"
    }
   ],
   "source": [
    "import matplotlib.pyplot as plt\n",
    "# %matplotlib widget\n",
    "plt.figure()\n",
    "plt.scatter(accuracy_sweep,fairness_metrics,label=\"GridSearch\")\n",
    "plt.xlabel(\"Accuracy\")\n",
    "plt.ylabel(\"Demographic Parity Difference\")\n",
    "plt.show();"
   ]
  },
  {
   "cell_type": "markdown",
   "metadata": {
    "id": "uLrO9mVFyXIa"
   },
   "source": [
    "### Part d \n",
    "\n",
    "Now calculate the *pareto front*: go over each (accuracy, difference in selection rates) pair and compare it to every other pair. If you find the first pair to have lower accuracy and higher difference in selection rate, discard it."
   ]
  },
  {
   "cell_type": "code",
   "execution_count": null,
   "metadata": {
    "colab": {
     "base_uri": "https://localhost:8080/"
    },
    "id": "4ElVQmrHyXIa",
    "outputId": "b8ba4b36-a4b4-4f2d-c950-1ab1417bbcba"
   },
   "outputs": [
    {
     "name": "stdout",
     "output_type": "stream",
     "text": [
      "0.02234892001126873\n",
      "0.021611921666536624\n",
      "delete [6]\n",
      "delete [5]\n",
      "delete [2]\n",
      "delete [3]\n",
      "delete [1]\n",
      "delete [14]\n",
      "delete [11]\n",
      "delete [12]\n",
      "delete [11]\n",
      "delete [0]\n",
      "delete [9]\n",
      "delete [9]\n",
      "delete [0]\n",
      "delete [7]\n",
      "delete [6]\n",
      "delete [2]\n",
      "delete [3]\n",
      "delete [2]\n",
      "delete [2]\n"
     ]
    },
    {
<<<<<<< HEAD
     "data": {
      "text/plain": [
       "array([[0.848     , 0.02234892],\n",
       "       [0.84716667, 0.02161192]])"
=======
      "cell_type": "markdown",
      "metadata": {
        "id": "eE1_uQJ5wh9s"
      },
      "source": [
        "c) (Easier approach than plot :))\n",
        "The difference between two solutions are the expression of $\\delta_B$ using $\\alpha$ and $\\beta$. As two solutions all aim the same goal to mininmize the combined offending amount, the same equation, $2e^{- \\alpha \\delta_A} \\times n + e^{ \\beta \\delta_B} \\times 9n$, are used to calculate combined offending amount is the same for two solutions. To seek best solutions regarding the comparison between $\\alpha$ and $\\beta$, the easier approach is to observe the change of $\\delta_B$.\n",
        "\n",
        "In the first solution, $\\delta_B = \\frac{ln(2)}{9\\alpha+\\beta}$.\n",
        "\n",
        "In the second solution, $\\delta_B = \\frac{ln(\\frac{2\\alpha}{\\beta})}{9\\alpha+\\beta}$\n",
        "\n",
        "If $\\alpha > \\beta$, $ln(\\frac{2\\alpha}{\\beta}) > ln(2)$, then $\\delta_B$ became larger as the denominator is the same. I assumed n = 1,  $\\alpha$ = 2, $\\beta$ = 2, and get combined offending amount of 24.46 using the first solution, 66.5 using the second. With larger $\\delta_B$, the combined offending amount is larger and thus **first solution is preferred**.\n",
        "\n",
        "Likewise, if $\\alpha < \\beta$, $ln(\\frac{2\\alpha}{\\beta}) < ln(2)$, $\\delta_B$ is smaller, combined offending amount is smaller, so **second solution is preferred**.\n",
        "\n",
        "Lastly, if $\\alpha = \\beta$, $ln(\\frac{2\\alpha}{\\beta}) = ln(2)$, then $\\delta_B$ are the same for both solution, so **both solutions are good to go.**"
      ]
    },
    {
      "cell_type": "markdown",
      "metadata": {
        "id": "88L22x8H4xxc"
      },
      "source": [
        "(Alternative Method)\n",
        "\n",
        "Plot combined offering rate vs. $\\delta_B$ for $\\alpha$ and $\\beta$ ranging from 0 to 3. Reference: https://ipywidgets.readthedocs.io/en/stable/examples/Using%20Interact.html#Flickering-and-jumping-output"
>>>>>>> 20e4d30773d02a872eab21163b5398dadf2e717f
      ]
     },
     "execution_count": 151,
     "metadata": {
      "tags": []
     },
     "output_type": "execute_result"
    }
   ],
   "source": [
    "accuracy_sweep_pareto = np.copy(accuracy_sweep)\n",
    "fairness_metrics_pareto = np.copy(fairness_metrics)\n",
    "pareto = np.column_stack((accuracy_sweep_pareto,fairness_metrics_pareto))\n",
    "sort_pareto = pareto[np.argsort(pareto[:, 0])]\n",
    "sort_pareto = sort_pareto[::-1]\n",
    "\n",
    "max_accuracy = sort_pareto[-1,0]\n",
    "min_parity = sort_pareto[-1,1]\n",
    "\n",
    "for i in range(np.size(sort_pareto,0)):\n",
    "  if sort_pareto[i,1] <= min_parity:\n",
    "    print(sort_pareto[i,1])\n",
    "    min_parity = sort_pareto[i,1]\n",
    "  else:\n",
    "    index = np.where(pareto[:,1] == sort_pareto[i,1])\n",
    "    print(\"delete\", index[0])\n",
    "    pareto = np.delete(pareto,index[0],0)\n",
    "\n",
    "pareto"
   ]
  },
  {
   "cell_type": "markdown",
   "metadata": {
    "id": "23SaZvzSyXIa"
   },
   "source": [
    "* Plot the accuracy vs difference in selection rates for all the models the grid search in a scatter plot.\n",
    "* On the same plot, plot the accuracy vs difference in selection rates for the points on the pareto front. Make these points red."
   ]
  },
  {
   "cell_type": "code",
   "execution_count": null,
   "metadata": {
    "colab": {
     "base_uri": "https://localhost:8080/",
     "height": 279
    },
    "id": "IGAsufEOyXIa",
    "outputId": "504ff1d3-ab20-4110-c4b8-ef3c7eec2dd0"
   },
   "outputs": [
    {
<<<<<<< HEAD
     "data": {
      "image/png": "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\n",
      "text/plain": [
       "<Figure size 432x288 with 1 Axes>"
      ]
     },
     "metadata": {
      "needs_background": "light",
      "tags": []
     },
     "output_type": "display_data"
=======
      "cell_type": "code",
      "metadata": {
        "id": "Qsu0_-JG4weo"
      },
      "source": [
        "# from ipywidgets import interactive\n",
        "# import math\n",
        "\n",
        "# def function(alpha,beta):\n",
        "#   x = []\n",
        "#   y = []\n",
        "#   for i in range(100):\n",
        "#     for j in range(100):\n",
        "#       # print(\"alpha[i]:\",alpha[i])\n",
        "#       # print(\"beta[i]:\",beta[i])\n",
        "#       # print(\"delta_b[i]:\",delta_b)\n",
        "#       delta_b = np.log(2)/(9*alpha[i]+beta[j])\n",
        "#       x.append(delta_b)\n",
        "#       y_i = 2* math.exp(-9*alpha[i]*delta_b) + math.exp(beta[j]*delta_b)\n",
        "#       y.append(y_i)\n",
        "#   return x,y\n",
        "\n",
        "# # plot the interactive marker\n",
        "# # fig, ax = plt.subplots()\n",
        "# def update(alpha,beta):\n",
        "#   delta_b = np.log(2)/(9*alpha+beta)\n",
        "#   plt.scatter(delta_b,2* math.exp(-9*alpha*delta_b) + math.exp(beta*delta_b),c=\"red\")\n",
        "#   plt.ylim(1,4)\n",
        "#   # fig.canvas.draw_idle()\n",
        "#   # plt.show()\n",
        "\n",
        "# # plot the complete graph\n",
        "# beta_fixed = np.linspace(0.1,3.,num=100)\n",
        "# alpha_fixed = np.linspace(0.1,3.,num=100)\n",
        "# x,y = function(alpha_fixed,beta_fixed)\n",
        "# plt.plot(x,y)\n",
        "# interactive_plot = interactive(update, alpha=(0.,3.,0.01),beta=(0.,3.,0.01))\n",
        "# plt.xlabel(\"delta_b\")\n",
        "# plt.ylabel(\"combined offending amount\")\n",
        "# plt.show()\n",
        "\n",
        "# interactive_plot"
      ],
      "execution_count": 153,
      "outputs": []
>>>>>>> 20e4d30773d02a872eab21163b5398dadf2e717f
    }
   ],
   "source": [
    "plt.figure()\n",
    "plt.scatter(accuracy_sweep,fairness_metrics,label=\"GridSearch\")\n",
    "plt.plot(pareto[:,0],pareto[:,1],\"o-\",label=\"Pareto\",color=\"tab:red\")\n",
    "plt.xlabel(\"Accuracy\")\n",
    "plt.ylabel(\"Demographic Parity Difference\")\n",
    "plt.legend()\n",
    "plt.show();"
   ]
  },
  {
   "cell_type": "markdown",
   "metadata": {
    "id": "hKA_zKOByXIa"
   },
   "source": [
    "Which one of these models would you choose to use? Why?"
   ]
  },
  {
   "cell_type": "markdown",
   "metadata": {
    "id": "eqF-fnILnKOw"
   },
   "source": [
    "I'll choose the model with less accuracy and better demographic parity difference, which is the left red point, since accuracy might change more frequently depending on different random training and testing dataset. Also, we emphasize on fairness in this case so I would weight the one with better demographic parity difference."
   ]
  },
  {
   "cell_type": "markdown",
   "metadata": {
    "id": "K-qHCrNsyXIa"
   },
   "source": [
    "## Problem 3\n",
    "\n",
    "This problem builds on ideas from paper 2a in Module 1: “Against prediction: Sentencing, Policing, And Punishing In An Actuarial Age,” Chicago Public Law And Legal Theory Working Paper No. 94, Harcourt, 2005. \n",
    "\n",
    "Suppose we have two groups $A$ and $B$ of population sizes $n$ and $9n$. We find that under equal surveillance, group $A$’s offending rate is $2$ offenses per month per person and that of group $B$ is $1$ offense per person per month (See Figure on page 17 of the above paper). Equal surveillance means that out of a total of $10m$ monitors, $m$ monitors are assigned to group $A$ and $9m$ monitors are assigned to group $B$. The surveillance is $\\frac{m}{n}$ per capita for both groups. So, under equal surveillance, the combined offending rate over both groups is $11n$ per month. \n",
    "\n",
    "Suppose we want to bring down the overall offending rate by increasing the monitors for group $A$. In order to do that we collected some data and found that we could model the rate of decrease in offenses for group $A$ by a function as follows:\n",
    "\tIf we increase the per capita surveillance from $\\frac{m}{n}$ to $\\frac{m}{n} (1 + \\delta_A)$, the offending rate declines to $2e^{- \\alpha \\delta_A}$. ($\\alpha>0$)\n",
    "\n",
    "Similarly, we modeled the rate of increase in offenses for group $B$ by a function under reduced surveillance as follows:\n",
    "\tIf we decrease the per capita monitoring rate from $\\frac{m}{n}$ to $\\frac{m}{n} (1 - \\delta_B)$, the offending rate rises to $e^{ \\beta \\delta_B}$. ($\\beta>0$)\n",
    "\n",
    "How would you distribute the monitors so that \n",
    "\n",
    "**a)** Both groups had the same offending rate?\n",
    "\n",
    "**b)** The combined offending amount was minimized?\n",
    "\n",
    "\n",
    "Consider 3 different scenarios when $\\alpha > \\beta$, $\\alpha = \\beta$, and $\\alpha < \\beta$. \n",
    "\n",
    "**c)** For each of the scenarios, which of the above solutions would you prefer and why?\n",
    "\n",
    "**TIPS**:\n",
    "- For **part a** and **part b**, answer by calculating $\\delta_A$ and $\\delta_B$.\n",
    "- Try to set up equations from the given information. This problem mostly consists of algebra.\n",
    "- If you do it correctly, **part c** should makes sense immediately.\n"
   ]
  },
  {
   "cell_type": "markdown",
   "metadata": {
    "id": "j6Oqj2ZV0Ajr"
   },
   "source": [
    "a)\n",
    "\n",
    "Known variables: $\\alpha, \\beta, m, n$. ($\\alpha, \\beta>0$）\n",
    "\n",
    "\n",
    "Unknown variables: $\\delta_B, \\delta_A$, and the number of devices shifted, which is x.\n",
    "\n",
    "The three equations are:\n",
    "\n",
    "1.    $\\frac{m}{n} (1 + \\delta_A) = \\frac{m+x}{n}$\n",
    "2.   $\\frac{m}{n} (1 - \\delta_B) = \\frac{9m-x}{9n}$\n",
    "3.   $2e^{- \\alpha \\delta_A} = e^{ \\beta \\delta_B}$\n",
    "\n",
    "By solving the first two equations, we can get that $\\delta_A =9 \\delta_B$, substitute into the third equation, we get $2e^{- 9 \\alpha \\delta_B} = e^{ \\beta \\delta_B}$. Upon solving, we get $\\delta_B = \\frac{ln(2)}{9\\alpha+\\beta}$, $\\delta_A = 9\\frac{ln(2)}{9\\alpha+\\beta}$.\n"
   ]
  },
  {
   "cell_type": "markdown",
   "metadata": {
    "id": "XWlEfzxs26vB"
   },
   "source": [
    "b)\n",
    "\n",
    "Same as a), we have $\\delta_A =9 \\delta_B$. The third equation changed to $\\frac{d}{d\\delta_A}(2e^{- \\alpha \\delta_A} \\times n + e^{ \\beta \\delta_B} \\times 9n) = 0$. After substitution, we have $\\frac{d}{d\\delta_B}(2e^{- 9\\alpha \\delta_B} \\times n + e^{ \\beta \\delta_B} \\times 9n) = 0$.\n",
    "\n",
    "After solving the equation, we get $\\delta_B = \\frac{ln(\\frac{2\\alpha}{\\beta})}{9\\alpha+\\beta}$, $\\delta_A = 9\\frac{ln(\\frac{2\\alpha}{\\beta})}{9\\alpha+\\beta}$."
   ]
  },
  {
   "cell_type": "markdown",
   "metadata": {
    "id": "eE1_uQJ5wh9s"
   },
   "source": [
    "c) (Easier approach than plot :))\n",
    "The difference between two solutions are the expression of $\\delta_B$ using $\\alpha$ and $\\beta$. As two solutions all aim the same goal to mininmize the combined offending amount, the same equation, $2e^{- \\alpha \\delta_A} \\times n + e^{ \\beta \\delta_B} \\times 9n$, are used to calculate combined offending amount is the same for two solutions. To seek best solutions regarding the comparison between $\\alpha$ and $\\beta$, the easier approach is to observe the change of $\\delta_B$.\n",
    "\n",
    "In the first solution, $\\delta_B = \\frac{ln(2)}{9\\alpha+\\beta}$.\n",
    "\n",
    "In the second solution, $\\delta_B = \\frac{ln(\\frac{2\\alpha}{\\beta})}{9\\alpha+\\beta}$\n",
    "\n",
    "If $\\alpha > \\beta$, $ln(\\frac{2\\alpha}{\\beta}) > ln(2)$, then $\\delta_B$ became larger as the denominator is the same. I assumed n = 1,  $\\alpha$ = 2, $\\beta$ = 2, and get combined offending amount of 24.46 using the first solution, 66.5 using the second. With larger $\\delta_B$, the combined offending amount is larger and thus **first solution is preferred**.\n",
    "\n",
    "Likewise, if $\\alpha < \\beta$, $ln(\\frac{2\\alpha}{\\beta}) < ln(2)$, $\\delta_B$ is smaller, combined offending amount is smaller, so **second solution is preferred**.\n",
    "\n",
    "Lastly, if $\\alpha = \\beta$, $ln(\\frac{2\\alpha}{\\beta}) = ln(2)$, then $\\delta_B$ are the same for both solution, so **both solutions are good to go.**"
   ]
  }
 ],
 "metadata": {
  "colab": {
   "name": "HW3.ipynb",
   "provenance": []
  },
  "kernelspec": {
   "display_name": "Python 3",
   "language": "python",
   "name": "python3"
  },
  "language_info": {
   "codemirror_mode": {
    "name": "ipython",
    "version": 3
   },
   "file_extension": ".py",
   "mimetype": "text/x-python",
   "name": "python",
   "nbconvert_exporter": "python",
   "pygments_lexer": "ipython3",
   "version": "3.8.3"
  }
 },
 "nbformat": 4,
 "nbformat_minor": 1
}
