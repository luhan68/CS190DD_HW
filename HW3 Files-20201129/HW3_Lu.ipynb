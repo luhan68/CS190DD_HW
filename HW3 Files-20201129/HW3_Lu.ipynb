{
  "nbformat": 4,
  "nbformat_minor": 0,
  "metadata": {
    "colab": {
      "name": "HW3.ipynb",
      "provenance": [],
      "toc_visible": true
    },
    "kernelspec": {
      "display_name": "Python 3",
      "language": "python",
      "name": "python3"
    },
    "language_info": {
      "codemirror_mode": {
        "name": "ipython",
        "version": 3
      },
      "file_extension": ".py",
      "mimetype": "text/x-python",
      "name": "python",
      "nbconvert_exporter": "python",
      "pygments_lexer": "ipython3",
      "version": "3.8.3"
    }
  },
  "cells": [
    {
      "cell_type": "markdown",
      "metadata": {
        "id": "XPsgwxLU2Sed"
      },
      "source": [
        "# Homework 3\n",
        "\n",
        "DUE DEC 1st at 11:59 PM\n"
      ]
    },
    {
      "cell_type": "markdown",
      "metadata": {
        "id": "dgdeprwQ2See"
      },
      "source": [
        "## Problem 1\n",
        "\n",
        "In this problem, you will implement a simple feed-forward neural network using PyTorch, a straight-forward and simple-to-pickup framework for quickly prototyping deep learning model. \n",
        "\n",
        "PyTorch provides 2 powerful things. First, a nice data structure called Tensor (basically a matrix, similar to Numpy ndarray). Tensor is optimized for matrix calculation and can be loaded to a GPU. Tensor is also implemented so that it's easy to calculate and pass back chains of gradients, which is extremely useful for backpropagation on neural network. Second, a nice inner mechanism called Autograd that nicely map variables involved a chain of calculations and efficiently calculate their gradients via the chain rule when needed. Read more here: https://towardsdatascience.com/pytorch-autograd-understanding-the-heart-of-pytorchs-magic-2686cd94ec95  \n",
        "\n",
        "You will train and evaluate the model on a simple dataset for classifying seeds. The dataset has 7 features and 3 labels. Refer to the example from the discussion session if needed. \n",
        "\n",
        "**In this problem, you are given a good amount of freedom in tweaking your choices in designing the network. As long as it's still a feed-forward network, it's fine. Accuracy does not matter as long as it's reasonable (like above 80%) but do try to achieve a high accuracy.**\n",
        "\n",
        "(Optional): the dataset provided to you is very simple. Instead, you can challenge yourself by trying more difficult datasets. Some datasets that you can loaded directly using PyTorch:\n",
        "- MNIST (Most famous dataset for getting into Deep Learning)\n",
        "- Fashion-MNIST\n",
        "- Kuzushiji-MNIST \n",
        "\n",
        "The datasets are available at https://pytorch.org/docs/stable/torchvision/datasets.html. You will get the same grade no matter what dataset you use. \n",
        "\n",
        "### Part a\n",
        "Firstly, load and inspect the dataset from \"seeds_dataset.csv\". Split them into a train set (90%) and a test set (10%). You should be quite comfortable with these operations by now. "
      ]
    },
    {
      "cell_type": "code",
      "metadata": {
        "id": "3eztCAG02See"
      },
      "source": [
        "import torch\n",
        "from torch.autograd import Variable\n",
        "import math\n",
        "import pandas as pd\n",
        "import numpy as np\n",
        "from sklearn.model_selection import train_test_split\n",
        "from sklearn.utils import shuffle\n",
        "\n",
        "\n",
        "data = pd.read_csv('seeds_dataset.csv')\n",
        "X = data.iloc[:,:-1].to_numpy(dtype=np.float32)\n",
        "y = data.iloc[:,-1].astype(\"category\").cat.codes.to_numpy(dtype=np.float32)\n",
        "X_train, X_test, y_train, y_test = train_test_split(X, y, test_size=0.1)"
      ],
      "execution_count": 134,
      "outputs": []
    },
    {
      "cell_type": "markdown",
      "metadata": {
        "id": "_KpCu45p2See"
      },
      "source": [
        "### Part b \n",
        "Create a Python class for our neural network model. The network should have 1 input layer, at least 1 hidden layer, and 1 output layer. You are free to choose the size and the number of hidden layers (it may affect the performance so try tweaking around a bit), and the activation function (or no activation at all).\n",
        "\n",
        "Some popular activation functions that you can try:\n",
        "- Sigmoid (torch.sigmoid)\n",
        "- ReLU (torch.relu)\n",
        "- Tanh (torch.tanh)"
      ]
    },
    {
      "cell_type": "code",
      "metadata": {
        "id": "uH6tsTUr2See"
      },
      "source": [
        "import torch\n",
        "\n",
        "class simple_network(torch.nn.Module):\n",
        "    \n",
        "    def __init__(self):\n",
        "        super(simple_network,self).__init__()\n",
        "        self.layer1 = torch.nn.Linear(in_features=7, out_features=40)\n",
        "        self.layer2 = torch.nn.Linear(in_features=40, out_features=40)\n",
        "        self.outputlayer = torch.nn.Linear(in_features=40, out_features=3)\n",
        "        \n",
        "    def forward(self,x):\n",
        "        x = torch.relu(self.layer1(x))\n",
        "        x = torch.relu(self.layer2(x))\n",
        "        x = self.outputlayer(x)\n",
        "        return x\n",
        "    # Create the network class by filling in this block of code"
      ],
      "execution_count": 135,
      "outputs": []
    },
    {
      "cell_type": "markdown",
      "metadata": {
        "id": "ebDMfYee2See"
      },
      "source": [
        "### Part c \n",
        "Train the network using the train dataset. You are free to choose any suitable optimizer and loss function provided by PyTorch (or you can just use SGD optimizer and CrossEntropyLoss like we did in the discussion session for simplicity). After each epoch, record the current loss and the current accuracy. The current accuracy is obtained by evaluating the model on the train dataset. \n",
        "\n",
        "Some optimizers that you can try:\n",
        "- SGD\n",
        "- Adagrad\n",
        "- Adam\n",
        "\n",
        "https://pytorch.org/docs/stable/optim.html"
      ]
    },
    {
      "cell_type": "code",
      "metadata": {
        "id": "VTCFkzmm2See",
        "colab": {
          "base_uri": "https://localhost:8080/"
        },
        "outputId": "fc44cf05-4240-43fc-9b17-042ca31df1ee"
      },
      "source": [
        "LEARNING_RATE = 0.01\n",
        "EPOCHS = 1000\n",
        "BATCH_SIZE = 32\n",
        "\n",
        "arr_loss = []\n",
        "arr_epochs = []\n",
        "arr_accuracy = []\n",
        "\n",
        "# Create the neural network\n",
        "network = simple_network()\n",
        "# Define the loss function and the optimizer\n",
        "criterion = torch.nn.CrossEntropyLoss()\n",
        "optimizer = torch.optim.SGD(network.parameters(), lr=LEARNING_RATE) # Named SGD but actually mini-batch Gradient Descent\n",
        "\n",
        "# Set network in training mode\n",
        "network.train()\n",
        "\n",
        "training_size = len(X_train)\n",
        "num_batches = math.ceil(training_size/BATCH_SIZE)\n",
        "for epoch in range(EPOCHS):\n",
        "    \n",
        "    X_train, y_train = shuffle(X_train, y_train)\n",
        "    \n",
        "    for batch in range(num_batches):\n",
        "        \n",
        "        X_train_batch = torch.tensor(X_train[batch*BATCH_SIZE:min(batch*BATCH_SIZE+BATCH_SIZE,training_size),:])\n",
        "        y_train_batch = torch.tensor(y_train[batch*BATCH_SIZE:min(batch*BATCH_SIZE+BATCH_SIZE,training_size)], dtype=torch.long)\n",
        "        \n",
        "        optimizer.zero_grad()\n",
        "        \n",
        "        output = network(X_train_batch)\n",
        "        \n",
        "        loss = criterion(output,y_train_batch)\n",
        "        loss.backward()\n",
        "        \n",
        "        optimizer.step()\n",
        "        \n",
        "        # graphing accuracy and loss\n",
        "    arr_loss.append(loss.item())\n",
        "    arr_epochs.append(epoch)\n",
        "\n",
        "    network.eval()\n",
        "\n",
        "    pred = torch.argmax(network(torch.tensor(X_test)), dim=1).numpy()\n",
        "\n",
        "    arr_accuracy.append(np.sum(pred == y_test)/len(y_test))\n",
        "\n",
        "    if (epoch % 5) == 0:\n",
        "        print(\"Epoch:\", epoch, \"Current loss: \", loss.item())"
      ],
      "execution_count": 136,
      "outputs": [
        {
          "output_type": "stream",
          "text": [
            "Epoch: 0 Current loss:  1.0641671419143677\n",
            "Epoch: 5 Current loss:  1.017769455909729\n",
            "Epoch: 10 Current loss:  0.9105103611946106\n",
            "Epoch: 15 Current loss:  0.8776823282241821\n",
            "Epoch: 20 Current loss:  0.8595862984657288\n",
            "Epoch: 25 Current loss:  0.6755116581916809\n",
            "Epoch: 30 Current loss:  0.705350935459137\n",
            "Epoch: 35 Current loss:  0.5443560481071472\n",
            "Epoch: 40 Current loss:  0.5708285570144653\n",
            "Epoch: 45 Current loss:  0.39951199293136597\n",
            "Epoch: 50 Current loss:  0.4938759207725525\n",
            "Epoch: 55 Current loss:  0.44153904914855957\n",
            "Epoch: 60 Current loss:  0.4470656216144562\n",
            "Epoch: 65 Current loss:  0.4134306311607361\n",
            "Epoch: 70 Current loss:  0.5389038920402527\n",
            "Epoch: 75 Current loss:  1.2262241840362549\n",
            "Epoch: 80 Current loss:  0.37802743911743164\n",
            "Epoch: 85 Current loss:  0.3754104971885681\n",
            "Epoch: 90 Current loss:  0.24156737327575684\n",
            "Epoch: 95 Current loss:  0.3347398340702057\n",
            "Epoch: 100 Current loss:  0.2669204771518707\n",
            "Epoch: 105 Current loss:  0.3159871995449066\n",
            "Epoch: 110 Current loss:  0.3331219553947449\n",
            "Epoch: 115 Current loss:  0.15175017714500427\n",
            "Epoch: 120 Current loss:  0.16429412364959717\n",
            "Epoch: 125 Current loss:  0.17375360429286957\n",
            "Epoch: 130 Current loss:  0.20878936350345612\n",
            "Epoch: 135 Current loss:  0.3020380139350891\n",
            "Epoch: 140 Current loss:  0.2315891832113266\n",
            "Epoch: 145 Current loss:  0.0890796110033989\n",
            "Epoch: 150 Current loss:  0.45377063751220703\n",
            "Epoch: 155 Current loss:  0.22184748947620392\n",
            "Epoch: 160 Current loss:  0.2761465907096863\n",
            "Epoch: 165 Current loss:  0.16060194373130798\n",
            "Epoch: 170 Current loss:  0.21498282253742218\n",
            "Epoch: 175 Current loss:  0.17180125415325165\n",
            "Epoch: 180 Current loss:  0.21052220463752747\n",
            "Epoch: 185 Current loss:  0.211871936917305\n",
            "Epoch: 190 Current loss:  0.12355323135852814\n",
            "Epoch: 195 Current loss:  0.13713301718235016\n",
            "Epoch: 200 Current loss:  0.19079306721687317\n",
            "Epoch: 205 Current loss:  0.2801821827888489\n",
            "Epoch: 210 Current loss:  0.13473568856716156\n",
            "Epoch: 215 Current loss:  0.17411187291145325\n",
            "Epoch: 220 Current loss:  0.16346554458141327\n",
            "Epoch: 225 Current loss:  0.21971574425697327\n",
            "Epoch: 230 Current loss:  0.14857129752635956\n",
            "Epoch: 235 Current loss:  0.1422940045595169\n",
            "Epoch: 240 Current loss:  0.22225892543792725\n",
            "Epoch: 245 Current loss:  0.23252007365226746\n",
            "Epoch: 250 Current loss:  0.20668531954288483\n",
            "Epoch: 255 Current loss:  0.36934152245521545\n",
            "Epoch: 260 Current loss:  0.13753704726696014\n",
            "Epoch: 265 Current loss:  0.24646274745464325\n",
            "Epoch: 270 Current loss:  0.2384466975927353\n",
            "Epoch: 275 Current loss:  0.19911429286003113\n",
            "Epoch: 280 Current loss:  0.2381327897310257\n",
            "Epoch: 285 Current loss:  0.17247648537158966\n",
            "Epoch: 290 Current loss:  0.0938677117228508\n",
            "Epoch: 295 Current loss:  0.10800553113222122\n",
            "Epoch: 300 Current loss:  0.25311124324798584\n",
            "Epoch: 305 Current loss:  0.20957060158252716\n",
            "Epoch: 310 Current loss:  0.18022489547729492\n",
            "Epoch: 315 Current loss:  0.27830904722213745\n",
            "Epoch: 320 Current loss:  0.15388819575309753\n",
            "Epoch: 325 Current loss:  0.12125509232282639\n",
            "Epoch: 330 Current loss:  0.12885090708732605\n",
            "Epoch: 335 Current loss:  0.2466079443693161\n",
            "Epoch: 340 Current loss:  0.1689397096633911\n",
            "Epoch: 345 Current loss:  0.4935385584831238\n",
            "Epoch: 350 Current loss:  0.20323140919208527\n",
            "Epoch: 355 Current loss:  0.25197842717170715\n",
            "Epoch: 360 Current loss:  0.1904895007610321\n",
            "Epoch: 365 Current loss:  0.23010726273059845\n",
            "Epoch: 370 Current loss:  0.11927963048219681\n",
            "Epoch: 375 Current loss:  0.2568786144256592\n",
            "Epoch: 380 Current loss:  0.11500687152147293\n",
            "Epoch: 385 Current loss:  0.15061137080192566\n",
            "Epoch: 390 Current loss:  0.1892629712820053\n",
            "Epoch: 395 Current loss:  0.13329605758190155\n",
            "Epoch: 400 Current loss:  0.3359464108943939\n",
            "Epoch: 405 Current loss:  0.1209862157702446\n",
            "Epoch: 410 Current loss:  0.15251120924949646\n",
            "Epoch: 415 Current loss:  0.18136951327323914\n",
            "Epoch: 420 Current loss:  0.22434234619140625\n",
            "Epoch: 425 Current loss:  0.20448902249336243\n",
            "Epoch: 430 Current loss:  0.19199605286121368\n",
            "Epoch: 435 Current loss:  0.11209160834550858\n",
            "Epoch: 440 Current loss:  0.14145700633525848\n",
            "Epoch: 445 Current loss:  0.1567385494709015\n",
            "Epoch: 450 Current loss:  0.31175151467323303\n",
            "Epoch: 455 Current loss:  0.1029156893491745\n",
            "Epoch: 460 Current loss:  0.22495952248573303\n",
            "Epoch: 465 Current loss:  0.12744005024433136\n",
            "Epoch: 470 Current loss:  0.18447914719581604\n",
            "Epoch: 475 Current loss:  0.13954094052314758\n",
            "Epoch: 480 Current loss:  0.17472267150878906\n",
            "Epoch: 485 Current loss:  0.14131052792072296\n",
            "Epoch: 490 Current loss:  0.2196221500635147\n",
            "Epoch: 495 Current loss:  0.21661999821662903\n",
            "Epoch: 500 Current loss:  0.24704746901988983\n",
            "Epoch: 505 Current loss:  0.09215427190065384\n",
            "Epoch: 510 Current loss:  0.16387157142162323\n",
            "Epoch: 515 Current loss:  0.07195005565881729\n",
            "Epoch: 520 Current loss:  0.2224939614534378\n",
            "Epoch: 525 Current loss:  0.24368296563625336\n",
            "Epoch: 530 Current loss:  0.3627644181251526\n",
            "Epoch: 535 Current loss:  0.17274294793605804\n",
            "Epoch: 540 Current loss:  0.1637967973947525\n",
            "Epoch: 545 Current loss:  0.03948317840695381\n",
            "Epoch: 550 Current loss:  0.13435178995132446\n",
            "Epoch: 555 Current loss:  0.17343862354755402\n",
            "Epoch: 560 Current loss:  0.2426261156797409\n",
            "Epoch: 565 Current loss:  0.27677950263023376\n",
            "Epoch: 570 Current loss:  0.2547222375869751\n",
            "Epoch: 575 Current loss:  0.09960810840129852\n",
            "Epoch: 580 Current loss:  0.12404749542474747\n",
            "Epoch: 585 Current loss:  0.27179840207099915\n",
            "Epoch: 590 Current loss:  0.14378081262111664\n",
            "Epoch: 595 Current loss:  0.1462123692035675\n",
            "Epoch: 600 Current loss:  0.15779216587543488\n",
            "Epoch: 605 Current loss:  0.13717608153820038\n",
            "Epoch: 610 Current loss:  0.08754511922597885\n",
            "Epoch: 615 Current loss:  0.03080855868756771\n",
            "Epoch: 620 Current loss:  0.24509656429290771\n",
            "Epoch: 625 Current loss:  0.08042504638433456\n",
            "Epoch: 630 Current loss:  0.15703095495700836\n",
            "Epoch: 635 Current loss:  0.07734237611293793\n",
            "Epoch: 640 Current loss:  0.1694980412721634\n",
            "Epoch: 645 Current loss:  0.14463968575000763\n",
            "Epoch: 650 Current loss:  0.09369385242462158\n",
            "Epoch: 655 Current loss:  0.05316029116511345\n",
            "Epoch: 660 Current loss:  0.2950762212276459\n",
            "Epoch: 665 Current loss:  0.29769402742385864\n",
            "Epoch: 670 Current loss:  0.3909848630428314\n",
            "Epoch: 675 Current loss:  0.28407683968544006\n",
            "Epoch: 680 Current loss:  0.13286876678466797\n",
            "Epoch: 685 Current loss:  0.238395556807518\n",
            "Epoch: 690 Current loss:  0.3332239091396332\n",
            "Epoch: 695 Current loss:  0.30677708983421326\n",
            "Epoch: 700 Current loss:  0.22836259007453918\n",
            "Epoch: 705 Current loss:  0.26353076100349426\n",
            "Epoch: 710 Current loss:  0.11520731449127197\n",
            "Epoch: 715 Current loss:  0.22095535695552826\n",
            "Epoch: 720 Current loss:  0.14993330836296082\n",
            "Epoch: 725 Current loss:  0.14229990541934967\n",
            "Epoch: 730 Current loss:  0.22673901915550232\n",
            "Epoch: 735 Current loss:  0.05223621055483818\n",
            "Epoch: 740 Current loss:  0.11776160448789597\n",
            "Epoch: 745 Current loss:  0.04711172729730606\n",
            "Epoch: 750 Current loss:  0.16001488268375397\n",
            "Epoch: 755 Current loss:  0.045807722955942154\n",
            "Epoch: 760 Current loss:  0.16144290566444397\n",
            "Epoch: 765 Current loss:  0.22278201580047607\n",
            "Epoch: 770 Current loss:  0.06682681292295456\n",
            "Epoch: 775 Current loss:  0.1635688990354538\n",
            "Epoch: 780 Current loss:  0.04906705021858215\n",
            "Epoch: 785 Current loss:  0.1542963981628418\n",
            "Epoch: 790 Current loss:  0.07170701771974564\n",
            "Epoch: 795 Current loss:  0.30488321185112\n",
            "Epoch: 800 Current loss:  0.11754577606916428\n",
            "Epoch: 805 Current loss:  0.1467934548854828\n",
            "Epoch: 810 Current loss:  0.27644237875938416\n",
            "Epoch: 815 Current loss:  0.09450595080852509\n",
            "Epoch: 820 Current loss:  0.29307064414024353\n",
            "Epoch: 825 Current loss:  0.09349550306797028\n",
            "Epoch: 830 Current loss:  0.059317950159311295\n",
            "Epoch: 835 Current loss:  0.08645833283662796\n",
            "Epoch: 840 Current loss:  0.0708593800663948\n",
            "Epoch: 845 Current loss:  0.18291544914245605\n",
            "Epoch: 850 Current loss:  0.23135682940483093\n",
            "Epoch: 855 Current loss:  0.4572598934173584\n",
            "Epoch: 860 Current loss:  0.10212510079145432\n",
            "Epoch: 865 Current loss:  0.1855689138174057\n",
            "Epoch: 870 Current loss:  0.10425324738025665\n",
            "Epoch: 875 Current loss:  0.10482301563024521\n",
            "Epoch: 880 Current loss:  0.1503572016954422\n",
            "Epoch: 885 Current loss:  0.12563320994377136\n",
            "Epoch: 890 Current loss:  0.19916562736034393\n",
            "Epoch: 895 Current loss:  0.3597203195095062\n",
            "Epoch: 900 Current loss:  0.26282012462615967\n",
            "Epoch: 905 Current loss:  0.14527527987957\n",
            "Epoch: 910 Current loss:  0.2452620565891266\n",
            "Epoch: 915 Current loss:  0.1260748952627182\n",
            "Epoch: 920 Current loss:  0.10959302634000778\n",
            "Epoch: 925 Current loss:  0.26405075192451477\n",
            "Epoch: 930 Current loss:  0.12000002712011337\n",
            "Epoch: 935 Current loss:  0.08898656815290451\n",
            "Epoch: 940 Current loss:  0.14866964519023895\n",
            "Epoch: 945 Current loss:  0.23366883397102356\n",
            "Epoch: 950 Current loss:  0.19492685794830322\n",
            "Epoch: 955 Current loss:  0.07440385967493057\n",
            "Epoch: 960 Current loss:  0.2283060997724533\n",
            "Epoch: 965 Current loss:  0.17214582860469818\n",
            "Epoch: 970 Current loss:  0.19292700290679932\n",
            "Epoch: 975 Current loss:  0.12482796609401703\n",
            "Epoch: 980 Current loss:  0.09518133103847504\n",
            "Epoch: 985 Current loss:  0.09734988212585449\n",
            "Epoch: 990 Current loss:  0.2716858983039856\n",
            "Epoch: 995 Current loss:  0.15584316849708557\n"
          ],
          "name": "stdout"
        }
      ]
    },
    {
      "cell_type": "markdown",
      "metadata": {
        "id": "BoVUZHu02See"
      },
      "source": [
        "Plot how the loss and the accuracy change over the epochs. "
      ]
    },
    {
      "cell_type": "code",
      "metadata": {
        "id": "R4T-5QDs2See",
        "colab": {
          "base_uri": "https://localhost:8080/",
          "height": 573
        },
        "outputId": "1cc27106-ae63-4ca2-dbd0-0e931e135d08"
      },
      "source": [
        "import matplotlib.pyplot as plt\n",
        "\n",
        "plt.plot()\n",
        "plt.plot(arr_epochs, arr_accuracy, color='green')\n",
        "plt.ylabel('Accuracy')\n",
        "plt.xlabel('Epochs')\n",
        "plt.title('Accuracy vs. Epochs')\n",
        "plt.show()\n",
        "\n",
        "plt.plot()\n",
        "plt.plot(arr_epochs, arr_loss,color='red')\n",
        "plt.ylabel('Loss')\n",
        "plt.xlabel('Epochs')\n",
        "plt.title('Loss vs. Epochs')\n",
        "plt.show()"
      ],
      "execution_count": 137,
      "outputs": [
        {
          "output_type": "display_data",
          "data": {
            "image/png": "[encoded data removed]",
            "text/plain": [
              "<Figure size 432x288 with 1 Axes>"
            ]
          },
          "metadata": {
            "tags": [],
            "needs_background": "light"
          }
        },
        {
          "output_type": "display_data",
          "data": {
            "image/png": "[encoded data removed]",
            "text/plain": [
              "<Figure size 432x288 with 1 Axes>"
            ]
          },
          "metadata": {
            "tags": [],
            "needs_background": "light"
          }
        }
      ]
    },
    {
      "cell_type": "markdown",
      "metadata": {
        "id": "bvFzNDRT2See"
      },
      "source": [
        "### Part d \n",
        "Evaluate the model on the test dataset. Print out the accuracy. Does this accuracy agrees with the training accuracy showed on the plot? Why may they be different?"
      ]
    },
    {
      "cell_type": "code",
      "metadata": {
        "id": "t0eC-Wi32See",
        "colab": {
          "base_uri": "https://localhost:8080/"
        },
        "outputId": "cd9b823e-6d62-47e4-ad83-5a19245f7979"
      },
      "source": [
        "network.eval()\n",
        "\n",
        "pred = torch.argmax(network(torch.tensor(X_test)), dim=1).numpy()\n",
        "\n",
        "print(\"Accuracy: \", np.sum(pred == y_test)/len(y_test))"
      ],
      "execution_count": 138,
      "outputs": [
        {
          "output_type": "stream",
          "text": [
            "Accuracy:  0.8571428571428571\n"
          ],
          "name": "stdout"
        }
      ]
    },
    {
      "cell_type": "markdown",
      "metadata": {
        "id": "32s7Lm9SqC2h"
      },
      "source": [
        "**Answer:**\n",
        "\n",
        "The accuracy almost agrees with the training accuracy showed on the plot, especially when number of epochs are larger. The accuracy differs more when smaller number of epochs are being trained. The overall accuracy of the training and testing data are very similar as the dataset is not complex."
      ]
    },
    {
      "cell_type": "markdown",
      "metadata": {
        "id": "iy6C2pFfyXIa"
      },
      "source": [
        "## Problem 2\n",
        "\n",
        "If you haven't done so already, please read Chapter 2 (on fairness) of the textbook."
      ]
    },
    {
      "cell_type": "markdown",
      "metadata": {
        "id": "pe6qfhRFyXIa"
      },
      "source": [
        "### Part a\n",
        "\n",
        "Import the 'semi_synthetic.csv' dataset. This dataset is a modified version of the UCI Credit card dataset (details [here](https://archive.ics.uci.edu/ml/datasets/default+of+credit+card+clients)). We added a new synthetic feature to this dataset called `LIMIT_BAL`. It is highly predictive for `SEX==2` but not at all for `SEX==1`. As it turns out, this causes issues with fairness where models rely too much on `LIMIT_BAL` and discriminate against `SEX==2`. We will try to mitigate this in terms of the fairness criterion 'Statistical Parity' as it's mentioned in the textbook."
      ]
    },
    {
      "cell_type": "code",
      "metadata": {
        "id": "HaqdFHPvyXIa"
      },
      "source": [
        "import pandas as pd\n",
        "\n",
        "data = pd.read_csv(\"semi_synthetic.csv\")"
      ],
      "execution_count": 139,
      "outputs": []
    },
    {
      "cell_type": "markdown",
      "metadata": {
        "id": "QJhtmsUHyXIa"
      },
      "source": [
        "Extract features from the dataset (all columns except last) and call it `X`. Extract last column and call it `Y`. Also extract the `SEX` column and call this `SF` (for sensitive feature). Split all of these arrays data into train and test sets. You can use `sklearn.model_selection.train_test_split` and 20% ratio for the test dataset. Pass `stratify=Y` to `train_test_split` if you're using it. This ensures that both test and train datasets have the same ratio of 0/1 labels."
      ]
    },
    {
      "cell_type": "code",
      "metadata": {
        "id": "4RWhQl8zyXIa"
      },
      "source": [
        "from sklearn.model_selection import train_test_split \n",
        "import numpy as np\n",
        "import random\n",
        "random.seed(2020)\n",
        "np.random.seed(2020)\n",
        "\n",
        "X = data.iloc[:,0:-1]\n",
        "X = X.to_numpy()\n",
        "Y = data.iloc[:,-1]\n",
        "Y = Y.to_numpy()\n",
        "SF = data.iloc[:,1]\n",
        "SF = SF.to_numpy()\n",
        "X_train,X_test,y_train,y_test = train_test_split(X,Y,test_size = 0.20,stratify=Y)\n",
        "SF_test = X_test[:,1]"
      ],
      "execution_count": 140,
      "outputs": []
    },
    {
      "cell_type": "markdown",
      "metadata": {
        "id": "6_kwHg4SyXIa"
      },
      "source": [
        "Use a random forest classifier (whichever hyperparameters you want, you may leave it default) and train it using the train dataset (only `X_train` and `Y_train`. We will not use `SF_train` yet.)"
      ]
    },
    {
      "cell_type": "code",
      "metadata": {
        "id": "YESO3KAfyXIa",
        "colab": {
          "base_uri": "https://localhost:8080/"
        },
        "outputId": "008d30a3-abb2-459b-8cc9-0954d7dc7681"
      },
      "source": [
        "from sklearn.ensemble import RandomForestClassifier\n",
        "\n",
        "clf = RandomForestClassifier(max_depth=5, n_estimators=5, random_state=0)\n",
        "clf.fit(X_train, y_train)\n",
        "np.size(y_train)"
      ],
      "execution_count": 141,
      "outputs": [
        {
          "output_type": "execute_result",
          "data": {
            "text/plain": [
              "24000"
            ]
          },
          "metadata": {
            "tags": []
          },
          "execution_count": 141
        }
      ]
    },
    {
      "cell_type": "markdown",
      "metadata": {
        "id": "_U4MeVC3yXIa"
      },
      "source": [
        "### Part b\n",
        "\n",
        "Now we will consider the 'statistical parity' fairness metric on the test dataset. This basically means we compare the selection rates (i.e. predicted labels being 1) conditioned on sex and look at their difference/ratio. To do this, print 5 things: \n",
        "\n",
        "1. Overall selection rate (what percent is predicted as 1)\n",
        "2. Selection rate for `SEX==1`\n",
        "3. Selection rate for `SEX==2`\n",
        "4. Difference between 2. and 3.\n",
        "5. Ratio of 2. and 3.\n",
        "\n",
        "Note that we didn't use anything related to how accurate the model is."
      ]
    },
    {
      "cell_type": "code",
      "metadata": {
        "id": "4qQcj-_PyXIa",
        "colab": {
          "base_uri": "https://localhost:8080/"
        },
        "outputId": "585842ee-20ef-4018-8e29-a5382c473b7b"
      },
      "source": [
        "y_predict = clf.predict(X_test)\n",
        "y1 = np.count_nonzero(y_predict)\n",
        "overall_selection_rate = y1/np.size(y_predict)\n",
        "print(\"The overall selection rate is \",overall_selection_rate)\n",
        "\n",
        "sex1_y1_count = 0\n",
        "sex1_count = 0\n",
        "sex2_count = 0\n",
        "\n",
        "for i in range(np.size(y_predict)):\n",
        "  if X_test[i,1]==1:\n",
        "    sex1_count +=1\n",
        "    if y_predict[i]==1:\n",
        "      sex1_y1_count +=1\n",
        "  else:\n",
        "    sex2_count +=1\n",
        "\n",
        "print(\"Selection rate for SEX==1 is\", sex1_y1_count/sex1_count)\n",
        "sex2_y1_count = y1-sex1_y1_count\n",
        "print(\"Selection rate for SEX==2 is\", sex2_y1_count/sex2_count)\n",
        "print(\"Difference of rate between 2. and 3. is\", sex2_y1_count/sex2_count-sex1_y1_count/sex1_count)\n",
        "print(\"Ratio of 2. and 3. is\", (sex1_y1_count/sex1_count)/(sex2_y1_count/sex2_count))"
      ],
      "execution_count": 142,
      "outputs": [
        {
          "output_type": "stream",
          "text": [
            "The overall selection rate is  0.113\n",
            "Selection rate for SEX==1 is 0.0962360992301112\n",
            "Selection rate for SEX==2 is 0.12370289459311852\n",
            "Difference of rate between 2. and 3. is 0.02746679536300732\n",
            "Ratio of 2. and 3. is 0.7779615792067709\n"
          ],
          "name": "stdout"
        }
      ]
    },
    {
      "cell_type": "markdown",
      "metadata": {
        "id": "R1Yn6sXXyXIa"
      },
      "source": [
        "There is a new Python package called `fairlearn` that aims to help machine learning researchers use fairness techniques more easily. Go ahead and download this package (`pip install fairlearn` or `conda install fairlearn`). Note: the authors of `fairlearn` call 'statistical parity' from the textbook as 'demographic parity'.\n",
        "\n",
        "We will use `selection_rate`, `demographic_parity_difference`, `demographic_parity_ratio` from `fairlearn.metrics` to calculate 1., 4. and 5. above. The way to use these functions is: first argument `Y_test`, second argument `Y_prediction`, and for `demographic_parity_difference` and `demographic_parity_ratio` you need to give a keyword argument for the 'sensitive feature' by `sensitive_features=SF_test`.\n",
        "\n",
        "Use these three functions and confirm your earlier calculations for 1., 4. and 5."
      ]
    },
    {
      "cell_type": "code",
      "metadata": {
        "id": "Lc9HTbgn4ZpZ",
        "colab": {
          "base_uri": "https://localhost:8080/"
        },
        "outputId": "1654cf65-2f70-4595-fe59-abc644bf00dd"
      },
      "source": [
        "pip install fairlearn"
      ],
      "execution_count": 143,
      "outputs": [
        {
          "output_type": "stream",
          "text": [
            "Requirement already satisfied: fairlearn in /usr/local/lib/python3.6/dist-packages (0.5.0)\n",
            "Requirement already satisfied: scipy>=1.4.1 in /usr/local/lib/python3.6/dist-packages (from fairlearn) (1.4.1)\n",
            "Requirement already satisfied: numpy>=1.17.2 in /usr/local/lib/python3.6/dist-packages (from fairlearn) (1.18.5)\n",
            "Requirement already satisfied: scikit-learn>=0.22.1 in /usr/local/lib/python3.6/dist-packages (from fairlearn) (0.22.2.post1)\n",
            "Requirement already satisfied: pandas>=0.25.1 in /usr/local/lib/python3.6/dist-packages (from fairlearn) (1.1.4)\n",
            "Requirement already satisfied: joblib>=0.11 in /usr/local/lib/python3.6/dist-packages (from scikit-learn>=0.22.1->fairlearn) (0.17.0)\n",
            "Requirement already satisfied: python-dateutil>=2.7.3 in /usr/local/lib/python3.6/dist-packages (from pandas>=0.25.1->fairlearn) (2.8.1)\n",
            "Requirement already satisfied: pytz>=2017.2 in /usr/local/lib/python3.6/dist-packages (from pandas>=0.25.1->fairlearn) (2018.9)\n",
            "Requirement already satisfied: six>=1.5 in /usr/local/lib/python3.6/dist-packages (from python-dateutil>=2.7.3->pandas>=0.25.1->fairlearn) (1.15.0)\n"
          ],
          "name": "stdout"
        }
      ]
    },
    {
      "cell_type": "code",
      "metadata": {
        "id": "I27r9Mx1yXIa",
        "colab": {
          "base_uri": "https://localhost:8080/"
        },
        "outputId": "193690db-797b-442e-8355-2ffcd2127e08"
      },
      "source": [
        "from fairlearn.metrics import selection_rate, demographic_parity_difference, demographic_parity_ratio\n",
        "\n",
        "print(\"selection rate is\", selection_rate(y_test,y_predict,pos_label=1))\n",
        "print(\"demographic parity difference is\",demographic_parity_difference(y_test,y_predict,sensitive_features=SF_test))\n",
        "print(\"demographic parity ratio is\",demographic_parity_ratio(y_test,y_predict,sensitive_features=SF_test))"
      ],
      "execution_count": 144,
      "outputs": [
        {
          "output_type": "stream",
          "text": [
            "selection rate is 0.113\n",
            "demographic parity difference is 0.02746679536300732\n",
            "demographic parity ratio is 0.7779615792067709\n"
          ],
          "name": "stdout"
        }
      ]
    },
    {
      "cell_type": "markdown",
      "metadata": {
        "id": "XViy0I5EyXIa"
      },
      "source": [
        "### Part c\n",
        "### Mitigating Unfairness with Giving Weights to Datapoints\n",
        "\n",
        "Now we are going to use the `GridSearch` function from `fairlearn.reductions` to try to mitigate this statistical parity discrepancy. This is one of the many ways to achieve this. What this function does is it gives higher weights to certain datapoints (determined by the sensitive feature) in order to change what the model learns. It automatically uses grid search to determine which weight should be given to `SEX==1` datapoints vs `SEX==2` datapoints (if you're interested you can read the source code). While it is called grid search, the space it searches is 1-dimensional. For our purposes, `GridSearch` takes four arguments: \n",
        "\n",
        "1. The model you defined above. This is a non-keyword argument.\n",
        "2. Constraint. This needs to be an object defined by `fairlearn`, the class we will be using is `fairlearn.reductions.DemographicParity`. It corresponds to minimizing the difference in selection rates (4. from above). This is a non-keyword argument.\n",
        "3. (Keyword argument) `grid_limit`. This determines the boundaries of the grid search. Basically, the `GridSearch` function will search the interval \\[-`grid_limit`,`grid_limit`\\] to find the weights. Choose this to be 0.8.\n",
        "3. (Keyword argument) `grid_size`. This determines how many points there will be in the grid search. Choose this to be 21.\n",
        "\n",
        "Just like `sklearn.model_selection.GridSearchCV` we have seen in HW1, `fairlearn.reductions.GridSearch` is also a wrapper, so you need to call `.fit()` on this wrapper (not the model directly). Training should be done in less than 5 minutes. In the end this wrapper will contain `grid_size` many models, each corresponding to a different weight for datapoints."
      ]
    },
    {
      "cell_type": "code",
      "metadata": {
        "id": "67Y6ezsJyXIa"
      },
      "source": [
        "from fairlearn.reductions import GridSearch, DemographicParity\n",
        "fairlearn_gs = GridSearch(estimator=clf,constraints=DemographicParity(),grid_size=21,grid_limit=0.3)\n",
        "fairlearn_gs.fit(X_train,y_train,sensitive_features=X_train[:,1])\n",
        "predictors = fairlearn_gs.predictors_"
      ],
      "execution_count": 145,
      "outputs": []
    },
    {
      "cell_type": "markdown",
      "metadata": {
        "id": "15EO5RaTyXIa"
      },
      "source": [
        "The `GridSearch` wrapper object you trained has a field called `predictors_`. This gives a list of all the models trained in this grid search, which will be of size `grid_size`."
      ]
    },
    {
      "cell_type": "code",
      "metadata": {
        "id": "B7HdpQm_yXIa"
      },
      "source": [
        "predictions_sweep = [predictor.predict(X_test) for predictor in fairlearn_gs.predictors_] \n",
        "accuracy_sweep = [predictor.score(X_test, y_test) for predictor in fairlearn_gs.predictors_] "
      ],
      "execution_count": 146,
      "outputs": []
    },
    {
      "cell_type": "markdown",
      "metadata": {
        "id": "tXGkicwxyXIa"
      },
      "source": [
        "Notice that `predictions_sweep` is a 21 element list. Each of these elements is a numpy array that contains the predictions (`Y_pred`) for `X_test` for that particular model. Use `demographic_parity_difference` like you did above to find the difference in selection rates for each of these models and store these 'fairness metrics' in a numpy array (it too will be size 21)."
      ]
    },
    {
      "cell_type": "code",
      "metadata": {
        "id": "SZ-bxFwmyXIa",
        "colab": {
          "base_uri": "https://localhost:8080/"
        },
        "outputId": "20325ce4-62ee-4a01-ed81-0234bcf659a4"
      },
      "source": [
        "from sklearn.metrics import accuracy_score\n",
        "fairness_metrics = []\n",
        "for element in predictions_sweep: \n",
        "  fairness_metrics.append(demographic_parity_difference(y_test,element,sensitive_features=SF_test))\n",
        "fairness_metrics"
      ],
      "execution_count": 147,
      "outputs": [
        {
          "output_type": "execute_result",
          "data": {
            "text/plain": [
              "[0.10915868193393972,\n",
              " 0.09872904577051718,\n",
              " 0.0853778126823516,\n",
              " 0.07820171469497614,\n",
              " 0.058316308009712034,\n",
              " 0.051782134412613506,\n",
              " 0.03352536559089046,\n",
              " 0.02234892001126873,\n",
              " 0.021611921666536624,\n",
              " 0.025519064079845305,\n",
              " 0.02746679536300732,\n",
              " 0.033300178141026204,\n",
              " 0.04008103010644079,\n",
              " 0.06765855041886266,\n",
              " 0.08151972562637852,\n",
              " 0.0915314568646899,\n",
              " 0.09558156060509082,\n",
              " 0.10216175279930895,\n",
              " 0.1043003327822003,\n",
              " 0.1149306287168193,\n",
              " 0.1489337000493824]"
            ]
          },
          "metadata": {
            "tags": []
          },
          "execution_count": 147
        }
      ]
    },
    {
      "cell_type": "markdown",
      "metadata": {
        "id": "ydkOWKGJyXIa"
      },
      "source": [
        "Plot the accuracy vs difference in selection rates for all these models in a scatter plot."
      ]
    },
    {
      "cell_type": "code",
      "metadata": {
        "id": "TecSOnrNhH3a",
        "colab": {
          "base_uri": "https://localhost:8080/"
        },
        "outputId": "14905049-a1a9-4ab3-bab6-bee441b20da6"
      },
      "source": [
        "pip install ipympl"
      ],
      "execution_count": 148,
      "outputs": [
        {
          "output_type": "stream",
          "text": [
            "Requirement already satisfied: ipympl in /usr/local/lib/python3.6/dist-packages (0.5.8)\n",
            "Requirement already satisfied: matplotlib>=2.0.0 in /usr/local/lib/python3.6/dist-packages (from ipympl) (3.2.2)\n",
            "Requirement already satisfied: ipywidgets>=7.5.0 in /usr/local/lib/python3.6/dist-packages (from ipympl) (7.5.1)\n",
            "Requirement already satisfied: ipykernel>=4.7 in /usr/local/lib/python3.6/dist-packages (from ipympl) (4.10.1)\n",
            "Requirement already satisfied: kiwisolver>=1.0.1 in /usr/local/lib/python3.6/dist-packages (from matplotlib>=2.0.0->ipympl) (1.3.1)\n",
            "Requirement already satisfied: cycler>=0.10 in /usr/local/lib/python3.6/dist-packages (from matplotlib>=2.0.0->ipympl) (0.10.0)\n",
            "Requirement already satisfied: numpy>=1.11 in /usr/local/lib/python3.6/dist-packages (from matplotlib>=2.0.0->ipympl) (1.18.5)\n",
            "Requirement already satisfied: python-dateutil>=2.1 in /usr/local/lib/python3.6/dist-packages (from matplotlib>=2.0.0->ipympl) (2.8.1)\n",
            "Requirement already satisfied: pyparsing!=2.0.4,!=2.1.2,!=2.1.6,>=2.0.1 in /usr/local/lib/python3.6/dist-packages (from matplotlib>=2.0.0->ipympl) (2.4.7)\n",
            "Requirement already satisfied: traitlets>=4.3.1 in /usr/local/lib/python3.6/dist-packages (from ipywidgets>=7.5.0->ipympl) (4.3.3)\n",
            "Requirement already satisfied: nbformat>=4.2.0 in /usr/local/lib/python3.6/dist-packages (from ipywidgets>=7.5.0->ipympl) (5.0.8)\n",
            "Requirement already satisfied: widgetsnbextension~=3.5.0 in /usr/local/lib/python3.6/dist-packages (from ipywidgets>=7.5.0->ipympl) (3.5.1)\n",
            "Requirement already satisfied: ipython>=4.0.0; python_version >= \"3.3\" in /usr/local/lib/python3.6/dist-packages (from ipywidgets>=7.5.0->ipympl) (5.5.0)\n",
            "Requirement already satisfied: tornado>=4.0 in /usr/local/lib/python3.6/dist-packages (from ipykernel>=4.7->ipympl) (5.1.1)\n",
            "Requirement already satisfied: jupyter-client in /usr/local/lib/python3.6/dist-packages (from ipykernel>=4.7->ipympl) (5.3.5)\n",
            "Requirement already satisfied: six in /usr/local/lib/python3.6/dist-packages (from cycler>=0.10->matplotlib>=2.0.0->ipympl) (1.15.0)\n",
            "Requirement already satisfied: ipython-genutils in /usr/local/lib/python3.6/dist-packages (from traitlets>=4.3.1->ipywidgets>=7.5.0->ipympl) (0.2.0)\n",
            "Requirement already satisfied: decorator in /usr/local/lib/python3.6/dist-packages (from traitlets>=4.3.1->ipywidgets>=7.5.0->ipympl) (4.4.2)\n",
            "Requirement already satisfied: jsonschema!=2.5.0,>=2.4 in /usr/local/lib/python3.6/dist-packages (from nbformat>=4.2.0->ipywidgets>=7.5.0->ipympl) (2.6.0)\n",
            "Requirement already satisfied: jupyter-core in /usr/local/lib/python3.6/dist-packages (from nbformat>=4.2.0->ipywidgets>=7.5.0->ipympl) (4.7.0)\n",
            "Requirement already satisfied: notebook>=4.4.1 in /usr/local/lib/python3.6/dist-packages (from widgetsnbextension~=3.5.0->ipywidgets>=7.5.0->ipympl) (5.3.1)\n",
            "Requirement already satisfied: pickleshare in /usr/local/lib/python3.6/dist-packages (from ipython>=4.0.0; python_version >= \"3.3\"->ipywidgets>=7.5.0->ipympl) (0.7.5)\n",
            "Requirement already satisfied: setuptools>=18.5 in /usr/local/lib/python3.6/dist-packages (from ipython>=4.0.0; python_version >= \"3.3\"->ipywidgets>=7.5.0->ipympl) (50.3.2)\n",
            "Requirement already satisfied: pexpect; sys_platform != \"win32\" in /usr/local/lib/python3.6/dist-packages (from ipython>=4.0.0; python_version >= \"3.3\"->ipywidgets>=7.5.0->ipympl) (4.8.0)\n",
            "Requirement already satisfied: simplegeneric>0.8 in /usr/local/lib/python3.6/dist-packages (from ipython>=4.0.0; python_version >= \"3.3\"->ipywidgets>=7.5.0->ipympl) (0.8.1)\n",
            "Requirement already satisfied: prompt-toolkit<2.0.0,>=1.0.4 in /usr/local/lib/python3.6/dist-packages (from ipython>=4.0.0; python_version >= \"3.3\"->ipywidgets>=7.5.0->ipympl) (1.0.18)\n",
            "Requirement already satisfied: pygments in /usr/local/lib/python3.6/dist-packages (from ipython>=4.0.0; python_version >= \"3.3\"->ipywidgets>=7.5.0->ipympl) (2.6.1)\n",
            "Requirement already satisfied: pyzmq>=13 in /usr/local/lib/python3.6/dist-packages (from jupyter-client->ipykernel>=4.7->ipympl) (20.0.0)\n",
            "Requirement already satisfied: jinja2 in /usr/local/lib/python3.6/dist-packages (from notebook>=4.4.1->widgetsnbextension~=3.5.0->ipywidgets>=7.5.0->ipympl) (2.11.2)\n",
            "Requirement already satisfied: nbconvert in /usr/local/lib/python3.6/dist-packages (from notebook>=4.4.1->widgetsnbextension~=3.5.0->ipywidgets>=7.5.0->ipympl) (5.6.1)\n",
            "Requirement already satisfied: Send2Trash in /usr/local/lib/python3.6/dist-packages (from notebook>=4.4.1->widgetsnbextension~=3.5.0->ipywidgets>=7.5.0->ipympl) (1.5.0)\n",
            "Requirement already satisfied: terminado>=0.8.1 in /usr/local/lib/python3.6/dist-packages (from notebook>=4.4.1->widgetsnbextension~=3.5.0->ipywidgets>=7.5.0->ipympl) (0.9.1)\n",
            "Requirement already satisfied: ptyprocess>=0.5 in /usr/local/lib/python3.6/dist-packages (from pexpect; sys_platform != \"win32\"->ipython>=4.0.0; python_version >= \"3.3\"->ipywidgets>=7.5.0->ipympl) (0.6.0)\n",
            "Requirement already satisfied: wcwidth in /usr/local/lib/python3.6/dist-packages (from prompt-toolkit<2.0.0,>=1.0.4->ipython>=4.0.0; python_version >= \"3.3\"->ipywidgets>=7.5.0->ipympl) (0.2.5)\n",
            "Requirement already satisfied: MarkupSafe>=0.23 in /usr/local/lib/python3.6/dist-packages (from jinja2->notebook>=4.4.1->widgetsnbextension~=3.5.0->ipywidgets>=7.5.0->ipympl) (1.1.1)\n",
            "Requirement already satisfied: defusedxml in /usr/local/lib/python3.6/dist-packages (from nbconvert->notebook>=4.4.1->widgetsnbextension~=3.5.0->ipywidgets>=7.5.0->ipympl) (0.6.0)\n",
            "Requirement already satisfied: mistune<2,>=0.8.1 in /usr/local/lib/python3.6/dist-packages (from nbconvert->notebook>=4.4.1->widgetsnbextension~=3.5.0->ipywidgets>=7.5.0->ipympl) (0.8.4)\n",
            "Requirement already satisfied: bleach in /usr/local/lib/python3.6/dist-packages (from nbconvert->notebook>=4.4.1->widgetsnbextension~=3.5.0->ipywidgets>=7.5.0->ipympl) (3.2.1)\n",
            "Requirement already satisfied: testpath in /usr/local/lib/python3.6/dist-packages (from nbconvert->notebook>=4.4.1->widgetsnbextension~=3.5.0->ipywidgets>=7.5.0->ipympl) (0.4.4)\n",
            "Requirement already satisfied: entrypoints>=0.2.2 in /usr/local/lib/python3.6/dist-packages (from nbconvert->notebook>=4.4.1->widgetsnbextension~=3.5.0->ipywidgets>=7.5.0->ipympl) (0.3)\n",
            "Requirement already satisfied: pandocfilters>=1.4.1 in /usr/local/lib/python3.6/dist-packages (from nbconvert->notebook>=4.4.1->widgetsnbextension~=3.5.0->ipywidgets>=7.5.0->ipympl) (1.4.3)\n",
            "Requirement already satisfied: webencodings in /usr/local/lib/python3.6/dist-packages (from bleach->nbconvert->notebook>=4.4.1->widgetsnbextension~=3.5.0->ipywidgets>=7.5.0->ipympl) (0.5.1)\n",
            "Requirement already satisfied: packaging in /usr/local/lib/python3.6/dist-packages (from bleach->nbconvert->notebook>=4.4.1->widgetsnbextension~=3.5.0->ipywidgets>=7.5.0->ipympl) (20.4)\n"
          ],
          "name": "stdout"
        }
      ]
    },
    {
      "cell_type": "code",
      "metadata": {
        "id": "xOxhh6wEymcK",
        "colab": {
          "base_uri": "https://localhost:8080/"
        },
        "outputId": "558d723b-3826-4235-b1ee-99cff216b2da"
      },
      "source": [
        "pip install matplotlib"
      ],
      "execution_count": 149,
      "outputs": [
        {
          "output_type": "stream",
          "text": [
            "Requirement already satisfied: matplotlib in /usr/local/lib/python3.6/dist-packages (3.2.2)\n",
            "Requirement already satisfied: cycler>=0.10 in /usr/local/lib/python3.6/dist-packages (from matplotlib) (0.10.0)\n",
            "Requirement already satisfied: python-dateutil>=2.1 in /usr/local/lib/python3.6/dist-packages (from matplotlib) (2.8.1)\n",
            "Requirement already satisfied: kiwisolver>=1.0.1 in /usr/local/lib/python3.6/dist-packages (from matplotlib) (1.3.1)\n",
            "Requirement already satisfied: pyparsing!=2.0.4,!=2.1.2,!=2.1.6,>=2.0.1 in /usr/local/lib/python3.6/dist-packages (from matplotlib) (2.4.7)\n",
            "Requirement already satisfied: numpy>=1.11 in /usr/local/lib/python3.6/dist-packages (from matplotlib) (1.18.5)\n",
            "Requirement already satisfied: six in /usr/local/lib/python3.6/dist-packages (from cycler>=0.10->matplotlib) (1.15.0)\n"
          ],
          "name": "stdout"
        }
      ]
    },
    {
      "cell_type": "code",
      "metadata": {
        "id": "zzW_0fq2yXIa",
        "colab": {
          "base_uri": "https://localhost:8080/",
          "height": 279
        },
        "outputId": "9c78d4b5-2535-432b-8c51-021e51a6ec03"
      },
      "source": [
        "import matplotlib.pyplot as plt\n",
        "# %matplotlib widget\n",
        "plt.figure()\n",
        "plt.scatter(accuracy_sweep,fairness_metrics,label=\"GridSearch\")\n",
        "plt.xlabel(\"Accuracy\")\n",
        "plt.ylabel(\"Demographic Parity Difference\")\n",
        "plt.show();"
      ],
      "execution_count": 150,
      "outputs": [
        {
          "output_type": "display_data",
          "data": {
            "image/png": "[encoded data removed]",
            "text/plain": [
              "<Figure size 432x288 with 1 Axes>"
            ]
          },
          "metadata": {
            "tags": [],
            "needs_background": "light"
          }
        }
      ]
    },
    {
      "cell_type": "markdown",
      "metadata": {
        "id": "uLrO9mVFyXIa"
      },
      "source": [
        "### Part d \n",
        "\n",
        "Now calculate the *pareto front*: go over each (accuracy, difference in selection rates) pair and compare it to every other pair. If you find the first pair to have lower accuracy and higher difference in selection rate, discard it."
      ]
    },
    {
      "cell_type": "code",
      "metadata": {
        "id": "4ElVQmrHyXIa",
        "colab": {
          "base_uri": "https://localhost:8080/"
        },
        "outputId": "b8ba4b36-a4b4-4f2d-c950-1ab1417bbcba"
      },
      "source": [
        "accuracy_sweep_pareto = np.copy(accuracy_sweep)\n",
        "fairness_metrics_pareto = np.copy(fairness_metrics)\n",
        "pareto = np.column_stack((accuracy_sweep_pareto,fairness_metrics_pareto))\n",
        "sort_pareto = pareto[np.argsort(pareto[:, 0])]\n",
        "sort_pareto = sort_pareto[::-1]\n",
        "\n",
        "max_accuracy = sort_pareto[-1,0]\n",
        "min_parity = sort_pareto[-1,1]\n",
        "\n",
        "for i in range(np.size(sort_pareto,0)):\n",
        "  if sort_pareto[i,1] <= min_parity:\n",
        "    print(sort_pareto[i,1])\n",
        "    min_parity = sort_pareto[i,1]\n",
        "  else:\n",
        "    index = np.where(pareto[:,1] == sort_pareto[i,1])\n",
        "    print(\"delete\", index[0])\n",
        "    pareto = np.delete(pareto,index[0],0)\n",
        "\n",
        "pareto"
      ],
      "execution_count": 151,
      "outputs": [
        {
          "output_type": "stream",
          "text": [
            "0.02234892001126873\n",
            "0.021611921666536624\n",
            "delete [6]\n",
            "delete [5]\n",
            "delete [2]\n",
            "delete [3]\n",
            "delete [1]\n",
            "delete [14]\n",
            "delete [11]\n",
            "delete [12]\n",
            "delete [11]\n",
            "delete [0]\n",
            "delete [9]\n",
            "delete [9]\n",
            "delete [0]\n",
            "delete [7]\n",
            "delete [6]\n",
            "delete [2]\n",
            "delete [3]\n",
            "delete [2]\n",
            "delete [2]\n"
          ],
          "name": "stdout"
        },
        {
          "output_type": "execute_result",
          "data": {
            "text/plain": [
              "array([[0.848     , 0.02234892],\n",
              "       [0.84716667, 0.02161192]])"
            ]
          },
          "metadata": {
            "tags": []
          },
          "execution_count": 151
        }
      ]
    },
    {
      "cell_type": "markdown",
      "metadata": {
        "id": "23SaZvzSyXIa"
      },
      "source": [
        "* Plot the accuracy vs difference in selection rates for all the models the grid search in a scatter plot.\n",
        "* On the same plot, plot the accuracy vs difference in selection rates for the points on the pareto front. Make these points red."
      ]
    },
    {
      "cell_type": "code",
      "metadata": {
        "id": "IGAsufEOyXIa",
        "colab": {
          "base_uri": "https://localhost:8080/",
          "height": 279
        },
        "outputId": "504ff1d3-ab20-4110-c4b8-ef3c7eec2dd0"
      },
      "source": [
        "plt.figure()\n",
        "plt.scatter(accuracy_sweep,fairness_metrics,label=\"GridSearch\")\n",
        "plt.plot(pareto[:,0],pareto[:,1],\"o-\",label=\"Pareto\",color=\"tab:red\")\n",
        "plt.xlabel(\"Accuracy\")\n",
        "plt.ylabel(\"Demographic Parity Difference\")\n",
        "plt.legend()\n",
        "plt.show();"
      ],
      "execution_count": 152,
      "outputs": [
        {
          "output_type": "display_data",
          "data": {
            "image/png": "[encoded data removed]",
            "text/plain": [
              "<Figure size 432x288 with 1 Axes>"
            ]
          },
          "metadata": {
            "tags": [],
            "needs_background": "light"
          }
        }
      ]
    },
    {
      "cell_type": "markdown",
      "metadata": {
        "id": "hKA_zKOByXIa"
      },
      "source": [
        "Which one of these models would you choose to use? Why?"
      ]
    },
    {
      "cell_type": "markdown",
      "metadata": {
        "id": "eqF-fnILnKOw"
      },
      "source": [
        "I'll choose the model with less accuracy and better demographic parity difference, which is the left red point, since accuracy might change more frequently depending on different random training and testing dataset. Also, we emphasize on fairness in this case so I would weight the one with better demographic parity difference."
      ]
    },
    {
      "cell_type": "markdown",
      "metadata": {
        "id": "K-qHCrNsyXIa"
      },
      "source": [
        "## Problem 3\n",
        "\n",
        "This problem builds on ideas from paper 2a in Module 1: “Against prediction: Sentencing, Policing, And Punishing In An Actuarial Age,” Chicago Public Law And Legal Theory Working Paper No. 94, Harcourt, 2005. \n",
        "\n",
        "Suppose we have two groups $A$ and $B$ of population sizes $n$ and $9n$. We find that under equal surveillance, group $A$’s offending rate is $2$ offenses per month per person and that of group $B$ is $1$ offense per person per month (See Figure on page 17 of the above paper). Equal surveillance means that out of a total of $10m$ monitors, $m$ monitors are assigned to group $A$ and $9m$ monitors are assigned to group $B$. The surveillance is $\\frac{m}{n}$ per capita for both groups. So, under equal surveillance, the combined offending rate over both groups is $11n$ per month. \n",
        "\n",
        "Suppose we want to bring down the overall offending rate by increasing the monitors for group $A$. In order to do that we collected some data and found that we could model the rate of decrease in offenses for group $A$ by a function as follows:\n",
        "\tIf we increase the per capita surveillance from $\\frac{m}{n}$ to $\\frac{m}{n} (1 + \\delta_A)$, the offending rate declines to $2e^{- \\alpha \\delta_A}$. ($\\alpha>0$)\n",
        "\n",
        "Similarly, we modeled the rate of increase in offenses for group $B$ by a function under reduced surveillance as follows:\n",
        "\tIf we decrease the per capita monitoring rate from $\\frac{m}{n}$ to $\\frac{m}{n} (1 - \\delta_B)$, the offending rate rises to $e^{ \\beta \\delta_B}$. ($\\beta>0$)\n",
        "\n",
        "How would you distribute the monitors so that \n",
        "\n",
        "**a)** Both groups had the same offending rate?\n",
        "\n",
        "**b)** The combined offending amount was minimized?\n",
        "\n",
        "\n",
        "Consider 3 different scenarios when $\\alpha > \\beta$, $\\alpha = \\beta$, and $\\alpha < \\beta$. \n",
        "\n",
        "**c)** For each of the scenarios, which of the above solutions would you prefer and why?\n",
        "\n",
        "**TIPS**:\n",
        "- For **part a** and **part b**, answer by calculating $\\delta_A$ and $\\delta_B$.\n",
        "- Try to set up equations from the given information. This problem mostly consists of algebra.\n",
        "- If you do it correctly, **part c** should makes sense immediately.\n"
      ]
    },
    {
      "cell_type": "markdown",
      "metadata": {
        "id": "j6Oqj2ZV0Ajr"
      },
      "source": [
        "a)\n",
        "\n",
        "Known variables: $\\alpha, \\beta, m, n$. ($\\alpha, \\beta>0$）\n",
        "\n",
        "\n",
        "Unknown variables: $\\delta_B, \\delta_A$, and the number of devices shifted, which is x.\n",
        "\n",
        "The three equations are:\n",
        "\n",
        "1.    $\\frac{m}{n} (1 + \\delta_A) = \\frac{m+x}{n}$\n",
        "2.   $\\frac{m}{n} (1 - \\delta_B) = \\frac{9m-x}{9n}$\n",
        "3.   $2e^{- \\alpha \\delta_A} = e^{ \\beta \\delta_B}$\n",
        "\n",
        "By solving the first two equations, we can get that $\\delta_A =9 \\delta_B$, substitute into the third equation, we get $2e^{- 9 \\alpha \\delta_B} = e^{ \\beta \\delta_B}$. Upon solving, we get $\\delta_B = \\frac{ln(2)}{9\\alpha+\\beta}$, $\\delta_A = 9\\frac{ln(2)}{9\\alpha+\\beta}$.\n"
      ]
    },
    {
      "cell_type": "markdown",
      "metadata": {
        "id": "XWlEfzxs26vB"
      },
      "source": [
        "b)\n",
        "\n",
        "Same as a), we have $\\delta_A =9 \\delta_B$. The third equation changed to $\\frac{d}{d\\delta_A}(2e^{- \\alpha \\delta_A} \\times n + e^{ \\beta \\delta_B} \\times 9n) = 0$. After substitution, we have $\\frac{d}{d\\delta_B}(2e^{- 9\\alpha \\delta_B} \\times n + e^{ \\beta \\delta_B} \\times 9n) = 0$.\n",
        "\n",
        "After solving the equation, we get $\\delta_B = \\frac{ln(\\frac{2\\alpha}{\\beta})}{9\\alpha+\\beta}$, $\\delta_A = 9\\frac{ln(\\frac{2\\alpha}{\\beta})}{9\\alpha+\\beta}$."
      ]
    },
    {
      "cell_type": "markdown",
      "metadata": {
        "id": "eE1_uQJ5wh9s"
      },
      "source": [
        "c) (Easier approach than plot :))\n",
        "The difference between two solutions are the expression of $\\delta_B$ using $\\alpha$ and $\\beta$. As two solutions all aim the same goal to mininmize the combined offending amount, the same equation, $2e^{- \\alpha \\delta_A} \\times n + e^{ \\beta \\delta_B} \\times 9n$, are used to calculate combined offending amount is the same for two solutions. To seek best solutions regarding the comparison between $\\alpha$ and $\\beta$, the easier approach is to observe the change of $\\delta_B$.\n",
        "\n",
        "In the first solution, $\\delta_B = \\frac{ln(2)}{9\\alpha+\\beta}$.\n",
        "\n",
        "In the second solution, $\\delta_B = \\frac{ln(\\frac{2\\alpha}{\\beta})}{9\\alpha+\\beta}$\n",
        "\n",
        "If $\\alpha > \\beta$, $ln(\\frac{2\\alpha}{\\beta}) > ln(2)$, then $\\delta_B$ became larger as the denominator is the same. I assumed n = 1,  $\\alpha$ = 2, $\\beta$ = 2, and get combined offending amount of 24.46 using the first solution, 66.5 using the second. With larger $\\delta_B$, the combined offending amount is larger and thus **first solution is preferred**.\n",
        "\n",
        "Likewise, if $\\alpha < \\beta$, $ln(\\frac{2\\alpha}{\\beta}) < ln(2)$, $\\delta_B$ is smaller, combined offending amount is smaller, so **second solution is preferred**.\n",
        "\n",
        "Lastly, if $\\alpha = \\beta$, $ln(\\frac{2\\alpha}{\\beta}) = ln(2)$, then $\\delta_B$ are the same for both solution, so **both solutions are good to go.**"
      ]
    },
    {
      "cell_type": "markdown",
      "metadata": {
        "id": "88L22x8H4xxc"
      },
      "source": [
        "(Alternative Method)\n",
        "\n",
        "Plot combined offering rate vs. $\\delta_B$ for $\\alpha$ and $\\beta$ ranging from 0 to 3. Reference: https://ipywidgets.readthedocs.io/en/stable/examples/Using%20Interact.html#Flickering-and-jumping-output"
      ]
    },
    {
      "cell_type": "code",
      "metadata": {
        "id": "Qsu0_-JG4weo"
      },
      "source": [
        "# from ipywidgets import interactive\n",
        "# import math\n",
        "\n",
        "# def function(alpha,beta):\n",
        "#   x = []\n",
        "#   y = []\n",
        "#   for i in range(100):\n",
        "#     for j in range(100):\n",
        "#       # print(\"alpha[i]:\",alpha[i])\n",
        "#       # print(\"beta[i]:\",beta[i])\n",
        "#       # print(\"delta_b[i]:\",delta_b)\n",
        "#       delta_b = np.log(2)/(9*alpha[i]+beta[j])\n",
        "#       x.append(delta_b)\n",
        "#       y_i = 2* math.exp(-9*alpha[i]*delta_b) + math.exp(beta[j]*delta_b)\n",
        "#       y.append(y_i)\n",
        "#   return x,y\n",
        "\n",
        "# # plot the interactive marker\n",
        "# # fig, ax = plt.subplots()\n",
        "# def update(alpha,beta):\n",
        "#   delta_b = np.log(2)/(9*alpha+beta)\n",
        "#   plt.scatter(delta_b,2* math.exp(-9*alpha*delta_b) + math.exp(beta*delta_b),c=\"red\")\n",
        "#   plt.ylim(1,4)\n",
        "#   # fig.canvas.draw_idle()\n",
        "#   # plt.show()\n",
        "\n",
        "# # plot the complete graph\n",
        "# beta_fixed = np.linspace(0.1,3.,num=100)\n",
        "# alpha_fixed = np.linspace(0.1,3.,num=100)\n",
        "# x,y = function(alpha_fixed,beta_fixed)\n",
        "# plt.plot(x,y)\n",
        "# interactive_plot = interactive(update, alpha=(0.,3.,0.01),beta=(0.,3.,0.01))\n",
        "# plt.xlabel(\"delta_b\")\n",
        "# plt.ylabel(\"combined offending amount\")\n",
        "# plt.show()\n",
        "\n",
        "# interactive_plot"
      ],
      "execution_count": 153,
      "outputs": []
    }
  ]
}