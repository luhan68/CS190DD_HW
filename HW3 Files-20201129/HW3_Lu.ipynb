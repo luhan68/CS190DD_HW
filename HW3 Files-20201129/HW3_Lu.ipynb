{
  "nbformat": 4,
  "nbformat_minor": 0,
  "metadata": {
    "colab": {
      "name": "HW3.ipynb",
      "provenance": [],
      "toc_visible": true
    },
    "kernelspec": {
      "display_name": "Python 3",
      "language": "python",
      "name": "python3"
    },
    "language_info": {
      "codemirror_mode": {
        "name": "ipython",
        "version": 3
      },
      "file_extension": ".py",
      "mimetype": "text/x-python",
      "name": "python",
      "nbconvert_exporter": "python",
      "pygments_lexer": "ipython3",
      "version": "3.8.3"
    },
    "widgets": {
      "application/vnd.jupyter.widget-state+json": {
        "1c3c4554cc704689be59ca792245eba9": {
          "model_module": "@jupyter-widgets/controls",
          "model_name": "VBoxModel",
          "state": {
            "_view_name": "VBoxView",
            "_dom_classes": [
              "widget-interact"
            ],
            "_model_name": "VBoxModel",
            "_view_module": "@jupyter-widgets/controls",
            "_model_module_version": "1.5.0",
            "_view_count": null,
            "_view_module_version": "1.5.0",
            "box_style": "",
            "layout": "IPY_MODEL_dcecea0fd0754851bd2e6d50cc30af02",
            "_model_module": "@jupyter-widgets/controls",
            "children": [
              "IPY_MODEL_1e981414c2454933ba184d342b69f74f",
              "IPY_MODEL_b68578ce54a2480b9543ae8e19d16907",
              "IPY_MODEL_57b463f49a0842ef9ed664fe7c30cb27"
            ]
          }
        },
        "dcecea0fd0754851bd2e6d50cc30af02": {
          "model_module": "@jupyter-widgets/base",
          "model_name": "LayoutModel",
          "state": {
            "_view_name": "LayoutView",
            "grid_template_rows": null,
            "right": null,
            "justify_content": null,
            "_view_module": "@jupyter-widgets/base",
            "overflow": null,
            "_model_module_version": "1.2.0",
            "_view_count": null,
            "flex_flow": null,
            "width": null,
            "min_width": null,
            "border": null,
            "align_items": null,
            "bottom": null,
            "_model_module": "@jupyter-widgets/base",
            "top": null,
            "grid_column": null,
            "overflow_y": null,
            "overflow_x": null,
            "grid_auto_flow": null,
            "grid_area": null,
            "grid_template_columns": null,
            "flex": null,
            "_model_name": "LayoutModel",
            "justify_items": null,
            "grid_row": null,
            "max_height": null,
            "align_content": null,
            "visibility": null,
            "align_self": null,
            "height": null,
            "min_height": null,
            "padding": null,
            "grid_auto_rows": null,
            "grid_gap": null,
            "max_width": null,
            "order": null,
            "_view_module_version": "1.2.0",
            "grid_template_areas": null,
            "object_position": null,
            "object_fit": null,
            "grid_auto_columns": null,
            "margin": null,
            "display": null,
            "left": null
          }
        },
        "1e981414c2454933ba184d342b69f74f": {
          "model_module": "@jupyter-widgets/controls",
          "model_name": "FloatSliderModel",
          "state": {
            "_view_name": "FloatSliderView",
            "style": "IPY_MODEL_33c2e1fb27434e7195a5a815d3e16f19",
            "_dom_classes": [],
            "description": "alpha",
            "step": 0.01,
            "_model_name": "FloatSliderModel",
            "orientation": "horizontal",
            "max": 3,
            "_view_module": "@jupyter-widgets/controls",
            "_model_module_version": "1.5.0",
            "value": 1.5,
            "_view_count": null,
            "disabled": false,
            "_view_module_version": "1.5.0",
            "min": 0,
            "continuous_update": true,
            "readout_format": ".2f",
            "description_tooltip": null,
            "readout": true,
            "_model_module": "@jupyter-widgets/controls",
            "layout": "IPY_MODEL_3db4684e887645c2ae522e11080f9eb4"
          }
        },
        "b68578ce54a2480b9543ae8e19d16907": {
          "model_module": "@jupyter-widgets/controls",
          "model_name": "FloatSliderModel",
          "state": {
            "_view_name": "FloatSliderView",
            "style": "IPY_MODEL_2d441c08736f4b2e9ea534ba7de2d6b8",
            "_dom_classes": [],
            "description": "beta",
            "step": 0.01,
            "_model_name": "FloatSliderModel",
            "orientation": "horizontal",
            "max": 3,
            "_view_module": "@jupyter-widgets/controls",
            "_model_module_version": "1.5.0",
            "value": 1.5,
            "_view_count": null,
            "disabled": false,
            "_view_module_version": "1.5.0",
            "min": 0,
            "continuous_update": true,
            "readout_format": ".2f",
            "description_tooltip": null,
            "readout": true,
            "_model_module": "@jupyter-widgets/controls",
            "layout": "IPY_MODEL_ec5681e2e9e74ceca303a57a1674e9ed"
          }
        },
        "57b463f49a0842ef9ed664fe7c30cb27": {
          "model_module": "@jupyter-widgets/output",
          "model_name": "OutputModel",
          "state": {
            "_view_name": "OutputView",
            "msg_id": "",
            "_dom_classes": [],
            "_model_name": "OutputModel",
            "outputs": [
              {
                "output_type": "display_data",
                "metadata": {
                  "tags": [],
                  "needs_background": "light"
                },
                "image/png": "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\n",
                "text/plain": "<Figure size 432x288 with 1 Axes>"
              }
            ],
            "_view_module": "@jupyter-widgets/output",
            "_model_module_version": "1.0.0",
            "_view_count": null,
            "_view_module_version": "1.0.0",
            "layout": "IPY_MODEL_df9a2af774a849449533b028f59a897e",
            "_model_module": "@jupyter-widgets/output"
          }
        },
        "33c2e1fb27434e7195a5a815d3e16f19": {
          "model_module": "@jupyter-widgets/controls",
          "model_name": "SliderStyleModel",
          "state": {
            "_view_name": "StyleView",
            "handle_color": null,
            "_model_name": "SliderStyleModel",
            "description_width": "",
            "_view_module": "@jupyter-widgets/base",
            "_model_module_version": "1.5.0",
            "_view_count": null,
            "_view_module_version": "1.2.0",
            "_model_module": "@jupyter-widgets/controls"
          }
        },
        "3db4684e887645c2ae522e11080f9eb4": {
          "model_module": "@jupyter-widgets/base",
          "model_name": "LayoutModel",
          "state": {
            "_view_name": "LayoutView",
            "grid_template_rows": null,
            "right": null,
            "justify_content": null,
            "_view_module": "@jupyter-widgets/base",
            "overflow": null,
            "_model_module_version": "1.2.0",
            "_view_count": null,
            "flex_flow": null,
            "width": null,
            "min_width": null,
            "border": null,
            "align_items": null,
            "bottom": null,
            "_model_module": "@jupyter-widgets/base",
            "top": null,
            "grid_column": null,
            "overflow_y": null,
            "overflow_x": null,
            "grid_auto_flow": null,
            "grid_area": null,
            "grid_template_columns": null,
            "flex": null,
            "_model_name": "LayoutModel",
            "justify_items": null,
            "grid_row": null,
            "max_height": null,
            "align_content": null,
            "visibility": null,
            "align_self": null,
            "height": null,
            "min_height": null,
            "padding": null,
            "grid_auto_rows": null,
            "grid_gap": null,
            "max_width": null,
            "order": null,
            "_view_module_version": "1.2.0",
            "grid_template_areas": null,
            "object_position": null,
            "object_fit": null,
            "grid_auto_columns": null,
            "margin": null,
            "display": null,
            "left": null
          }
        },
        "2d441c08736f4b2e9ea534ba7de2d6b8": {
          "model_module": "@jupyter-widgets/controls",
          "model_name": "SliderStyleModel",
          "state": {
            "_view_name": "StyleView",
            "handle_color": null,
            "_model_name": "SliderStyleModel",
            "description_width": "",
            "_view_module": "@jupyter-widgets/base",
            "_model_module_version": "1.5.0",
            "_view_count": null,
            "_view_module_version": "1.2.0",
            "_model_module": "@jupyter-widgets/controls"
          }
        },
        "ec5681e2e9e74ceca303a57a1674e9ed": {
          "model_module": "@jupyter-widgets/base",
          "model_name": "LayoutModel",
          "state": {
            "_view_name": "LayoutView",
            "grid_template_rows": null,
            "right": null,
            "justify_content": null,
            "_view_module": "@jupyter-widgets/base",
            "overflow": null,
            "_model_module_version": "1.2.0",
            "_view_count": null,
            "flex_flow": null,
            "width": null,
            "min_width": null,
            "border": null,
            "align_items": null,
            "bottom": null,
            "_model_module": "@jupyter-widgets/base",
            "top": null,
            "grid_column": null,
            "overflow_y": null,
            "overflow_x": null,
            "grid_auto_flow": null,
            "grid_area": null,
            "grid_template_columns": null,
            "flex": null,
            "_model_name": "LayoutModel",
            "justify_items": null,
            "grid_row": null,
            "max_height": null,
            "align_content": null,
            "visibility": null,
            "align_self": null,
            "height": null,
            "min_height": null,
            "padding": null,
            "grid_auto_rows": null,
            "grid_gap": null,
            "max_width": null,
            "order": null,
            "_view_module_version": "1.2.0",
            "grid_template_areas": null,
            "object_position": null,
            "object_fit": null,
            "grid_auto_columns": null,
            "margin": null,
            "display": null,
            "left": null
          }
        },
        "df9a2af774a849449533b028f59a897e": {
          "model_module": "@jupyter-widgets/base",
          "model_name": "LayoutModel",
          "state": {
            "_view_name": "LayoutView",
            "grid_template_rows": null,
            "right": null,
            "justify_content": null,
            "_view_module": "@jupyter-widgets/base",
            "overflow": null,
            "_model_module_version": "1.2.0",
            "_view_count": null,
            "flex_flow": null,
            "width": null,
            "min_width": null,
            "border": null,
            "align_items": null,
            "bottom": null,
            "_model_module": "@jupyter-widgets/base",
            "top": null,
            "grid_column": null,
            "overflow_y": null,
            "overflow_x": null,
            "grid_auto_flow": null,
            "grid_area": null,
            "grid_template_columns": null,
            "flex": null,
            "_model_name": "LayoutModel",
            "justify_items": null,
            "grid_row": null,
            "max_height": null,
            "align_content": null,
            "visibility": null,
            "align_self": null,
            "height": null,
            "min_height": null,
            "padding": null,
            "grid_auto_rows": null,
            "grid_gap": null,
            "max_width": null,
            "order": null,
            "_view_module_version": "1.2.0",
            "grid_template_areas": null,
            "object_position": null,
            "object_fit": null,
            "grid_auto_columns": null,
            "margin": null,
            "display": null,
            "left": null
          }
        }
      }
    }
  },
  "cells": [
    {
      "cell_type": "markdown",
      "metadata": {
        "id": "XPsgwxLU2Sed"
      },
      "source": [
        "# Homework 3\n",
        "\n",
        "DUE DEC 1st at 11:59 PM\n"
      ]
    },
    {
      "cell_type": "markdown",
      "metadata": {
        "id": "dgdeprwQ2See"
      },
      "source": [
        "## Problem 1\n",
        "\n",
        "In this problem, you will implement a simple feed-forward neural network using PyTorch, a straight-forward and simple-to-pickup framework for quickly prototyping deep learning model. \n",
        "\n",
        "PyTorch provides 2 powerful things. First, a nice data structure called Tensor (basically a matrix, similar to Numpy ndarray). Tensor is optimized for matrix calculation and can be loaded to a GPU. Tensor is also implemented so that it's easy to calculate and pass back chains of gradients, which is extremely useful for backpropagation on neural network. Second, a nice inner mechanism called Autograd that nicely map variables involved a chain of calculations and efficiently calculate their gradients via the chain rule when needed. Read more here: https://towardsdatascience.com/pytorch-autograd-understanding-the-heart-of-pytorchs-magic-2686cd94ec95  \n",
        "\n",
        "You will train and evaluate the model on a simple dataset for classifying seeds. The dataset has 7 features and 3 labels. Refer to the example from the discussion session if needed. \n",
        "\n",
        "**In this problem, you are given a good amount of freedom in tweaking your choices in designing the network. As long as it's still a feed-forward network, it's fine. Accuracy does not matter as long as it's reasonable (like above 80%) but do try to achieve a high accuracy.**\n",
        "\n",
        "(Optional): the dataset provided to you is very simple. Instead, you can challenge yourself by trying more difficult datasets. Some datasets that you can loaded directly using PyTorch:\n",
        "- MNIST (Most famous dataset for getting into Deep Learning)\n",
        "- Fashion-MNIST\n",
        "- Kuzushiji-MNIST \n",
        "\n",
        "The datasets are available at https://pytorch.org/docs/stable/torchvision/datasets.html. You will get the same grade no matter what dataset you use. \n",
        "\n",
        "### Part a\n",
        "Firstly, load and inspect the dataset from \"seeds_dataset.csv\". Split them into a train set (90%) and a test set (10%). You should be quite comfortable with these operations by now. "
      ]
    },
    {
      "cell_type": "code",
      "metadata": {
        "id": "3eztCAG02See"
      },
      "source": [
        "import torch\n",
        "from torch.autograd import Variable\n",
        "import math\n",
        "import pandas as pd\n",
        "import numpy as np\n",
        "from sklearn.model_selection import train_test_split\n",
        "from sklearn.utils import shuffle\n",
        "\n",
        "\n",
        "data = pd.read_csv('seeds_dataset.csv')\n",
        "X = data.iloc[:,:-1].to_numpy(dtype=np.float32)\n",
        "y = data.iloc[:,-1].astype(\"category\").cat.codes.to_numpy(dtype=np.float32)\n",
        "X_train, X_test, y_train, y_test = train_test_split(X, y, test_size=0.1)"
      ],
      "execution_count": 48,
      "outputs": []
    },
    {
      "cell_type": "markdown",
      "metadata": {
        "id": "_KpCu45p2See"
      },
      "source": [
        "### Part b \n",
        "Create a Python class for our neural network model. The network should have 1 input layer, at least 1 hidden layer, and 1 output layer. You are free to choose the size and the number of hidden layers (it may affect the performance so try tweaking around a bit), and the activation function (or no activation at all).\n",
        "\n",
        "Some popular activation functions that you can try:\n",
        "- Sigmoid (torch.sigmoid)\n",
        "- ReLU (torch.relu)\n",
        "- Tanh (torch.tanh)"
      ]
    },
    {
      "cell_type": "code",
      "metadata": {
        "id": "uH6tsTUr2See"
      },
      "source": [
        "import torch\n",
        "\n",
        "class simple_network(torch.nn.Module):\n",
        "    \n",
        "    def __init__(self):\n",
        "        super(simple_network,self).__init__()\n",
        "        self.layer1 = torch.nn.Linear(in_features=7, out_features=40)\n",
        "        self.layer2 = torch.nn.Linear(in_features=40, out_features=40)\n",
        "        self.outputlayer = torch.nn.Linear(in_features=40, out_features=3)\n",
        "        \n",
        "    def forward(self,x):\n",
        "        x = torch.relu(self.layer1(x))\n",
        "        x = torch.relu(self.layer2(x))\n",
        "        x = self.outputlayer(x)\n",
        "        return x\n",
        "    # Create the network class by filling in this block of code"
      ],
      "execution_count": 54,
      "outputs": []
    },
    {
      "cell_type": "markdown",
      "metadata": {
        "id": "ebDMfYee2See"
      },
      "source": [
        "### Part c \n",
        "Train the network using the train dataset. You are free to choose any suitable optimizer and loss function provided by PyTorch (or you can just use SGD optimizer and CrossEntropyLoss like we did in the discussion session for simplicity). After each epoch, record the current loss and the current accuracy. The current accuracy is obtained by evaluating the model on the train dataset. \n",
        "\n",
        "Some optimizers that you can try:\n",
        "- SGD\n",
        "- Adagrad\n",
        "- Adam\n",
        "\n",
        "https://pytorch.org/docs/stable/optim.html"
      ]
    },
    {
      "cell_type": "code",
      "metadata": {
        "id": "VTCFkzmm2See",
        "outputId": "497aac0c-e5fd-4cbd-a875-17b82bf44c1c",
        "colab": {
          "base_uri": "https://localhost:8080/"
        }
      },
      "source": [
        "LEARNING_RATE = 0.01\n",
        "EPOCHS = 1000\n",
        "BATCH_SIZE = 32\n",
        "\n",
        "arr_loss = []\n",
        "arr_epochs = []\n",
        "arr_accuracy = []\n",
        "\n",
        "# Create the neural network\n",
        "network = simple_network()\n",
        "# Define the loss function and the optimizer\n",
        "criterion = torch.nn.CrossEntropyLoss()\n",
        "optimizer = torch.optim.SGD(network.parameters(), lr=LEARNING_RATE) # Named SGD but actually mini-batch Gradient Descent\n",
        "\n",
        "# Set network in training mode\n",
        "network.train()\n",
        "\n",
        "training_size = len(X_train)\n",
        "num_batches = math.ceil(training_size/BATCH_SIZE)\n",
        "for epoch in range(EPOCHS):\n",
        "    \n",
        "    X_train, y_train = shuffle(X_train, y_train)\n",
        "    \n",
        "    for batch in range(num_batches):\n",
        "        \n",
        "        X_train_batch = torch.tensor(X_train[batch*BATCH_SIZE:min(batch*BATCH_SIZE+BATCH_SIZE,training_size),:])\n",
        "        y_train_batch = torch.tensor(y_train[batch*BATCH_SIZE:min(batch*BATCH_SIZE+BATCH_SIZE,training_size)], dtype=torch.long)\n",
        "        \n",
        "        optimizer.zero_grad()\n",
        "        \n",
        "        output = network(X_train_batch)\n",
        "        \n",
        "        loss = criterion(output,y_train_batch)\n",
        "        loss.backward()\n",
        "        \n",
        "        optimizer.step()\n",
        "        \n",
        "        # graphing accuracy and loss\n",
        "    arr_loss.append(loss.item())\n",
        "    arr_epochs.append(epoch)\n",
        "\n",
        "    network.eval()\n",
        "\n",
        "    pred = torch.argmax(network(torch.tensor(X_test)), dim=1).numpy()\n",
        "\n",
        "    arr_accuracy.append(np.sum(pred == y_test)/len(y_test))\n",
        "\n",
        "    if (epoch % 5) == 0:\n",
        "        print(\"Epoch:\", epoch, \"Current loss: \", loss.item())"
      ],
      "execution_count": 55,
      "outputs": [
        {
          "output_type": "stream",
          "text": [
            "Epoch: 0 Current loss:  1.0444526672363281\n",
            "Epoch: 5 Current loss:  0.9936332106590271\n",
            "Epoch: 10 Current loss:  0.9179072976112366\n",
            "Epoch: 15 Current loss:  0.8896552920341492\n",
            "Epoch: 20 Current loss:  0.7776582837104797\n",
            "Epoch: 25 Current loss:  0.7230506539344788\n",
            "Epoch: 30 Current loss:  0.7215064167976379\n",
            "Epoch: 35 Current loss:  0.5478734970092773\n",
            "Epoch: 40 Current loss:  0.4462807774543762\n",
            "Epoch: 45 Current loss:  0.6230660676956177\n",
            "Epoch: 50 Current loss:  0.4986434280872345\n",
            "Epoch: 55 Current loss:  0.4378460943698883\n",
            "Epoch: 60 Current loss:  0.40853241086006165\n",
            "Epoch: 65 Current loss:  0.42555713653564453\n",
            "Epoch: 70 Current loss:  0.4851280748844147\n",
            "Epoch: 75 Current loss:  0.702989935874939\n",
            "Epoch: 80 Current loss:  0.4109373688697815\n",
            "Epoch: 85 Current loss:  0.4588962495326996\n",
            "Epoch: 90 Current loss:  0.47329220175743103\n",
            "Epoch: 95 Current loss:  0.4301665723323822\n",
            "Epoch: 100 Current loss:  0.5101022720336914\n",
            "Epoch: 105 Current loss:  0.3905070424079895\n",
            "Epoch: 110 Current loss:  0.32398679852485657\n",
            "Epoch: 115 Current loss:  0.3145742118358612\n",
            "Epoch: 120 Current loss:  0.26797643303871155\n",
            "Epoch: 125 Current loss:  0.3559485077857971\n",
            "Epoch: 130 Current loss:  0.2686539888381958\n",
            "Epoch: 135 Current loss:  0.29378077387809753\n",
            "Epoch: 140 Current loss:  0.34261420369148254\n",
            "Epoch: 145 Current loss:  0.3356419503688812\n",
            "Epoch: 150 Current loss:  0.29387685656547546\n",
            "Epoch: 155 Current loss:  0.30148664116859436\n",
            "Epoch: 160 Current loss:  0.18189339339733124\n",
            "Epoch: 165 Current loss:  0.33139586448669434\n",
            "Epoch: 170 Current loss:  0.21298488974571228\n",
            "Epoch: 175 Current loss:  0.35265693068504333\n",
            "Epoch: 180 Current loss:  0.16360916197299957\n",
            "Epoch: 185 Current loss:  0.18757203221321106\n",
            "Epoch: 190 Current loss:  0.13687381148338318\n",
            "Epoch: 195 Current loss:  0.14292994141578674\n",
            "Epoch: 200 Current loss:  0.3295099437236786\n",
            "Epoch: 205 Current loss:  0.20438726246356964\n",
            "Epoch: 210 Current loss:  0.20869146287441254\n",
            "Epoch: 215 Current loss:  0.47164854407310486\n",
            "Epoch: 220 Current loss:  0.23563410341739655\n",
            "Epoch: 225 Current loss:  0.37316951155662537\n",
            "Epoch: 230 Current loss:  0.25534555315971375\n",
            "Epoch: 235 Current loss:  0.17147983610630035\n",
            "Epoch: 240 Current loss:  0.27531445026397705\n",
            "Epoch: 245 Current loss:  0.35765913128852844\n",
            "Epoch: 250 Current loss:  0.29273295402526855\n",
            "Epoch: 255 Current loss:  0.10851094871759415\n",
            "Epoch: 260 Current loss:  0.3961043357849121\n",
            "Epoch: 265 Current loss:  0.14620263874530792\n",
            "Epoch: 270 Current loss:  0.20452792942523956\n",
            "Epoch: 275 Current loss:  0.3972237706184387\n",
            "Epoch: 280 Current loss:  0.24450357258319855\n",
            "Epoch: 285 Current loss:  0.42202630639076233\n",
            "Epoch: 290 Current loss:  0.2995811104774475\n",
            "Epoch: 295 Current loss:  0.14678360521793365\n",
            "Epoch: 300 Current loss:  0.3692544400691986\n",
            "Epoch: 305 Current loss:  0.38187775015830994\n",
            "Epoch: 310 Current loss:  0.3905038833618164\n",
            "Epoch: 315 Current loss:  0.1259353905916214\n",
            "Epoch: 320 Current loss:  0.2428664267063141\n",
            "Epoch: 325 Current loss:  0.2506399154663086\n",
            "Epoch: 330 Current loss:  0.4013400971889496\n",
            "Epoch: 335 Current loss:  0.2653169333934784\n",
            "Epoch: 340 Current loss:  0.3948270380496979\n",
            "Epoch: 345 Current loss:  0.11099862307310104\n",
            "Epoch: 350 Current loss:  0.3040674328804016\n",
            "Epoch: 355 Current loss:  0.19294776022434235\n",
            "Epoch: 360 Current loss:  0.3385845124721527\n",
            "Epoch: 365 Current loss:  0.26301878690719604\n",
            "Epoch: 370 Current loss:  0.2799222469329834\n",
            "Epoch: 375 Current loss:  0.13266076147556305\n",
            "Epoch: 380 Current loss:  0.3015921115875244\n",
            "Epoch: 385 Current loss:  0.2794070541858673\n",
            "Epoch: 390 Current loss:  0.2419855296611786\n",
            "Epoch: 395 Current loss:  0.3243137300014496\n",
            "Epoch: 400 Current loss:  0.19108180701732635\n",
            "Epoch: 405 Current loss:  0.26268500089645386\n",
            "Epoch: 410 Current loss:  0.1493028700351715\n",
            "Epoch: 415 Current loss:  0.30366820096969604\n",
            "Epoch: 420 Current loss:  0.2247130125761032\n",
            "Epoch: 425 Current loss:  0.5097180604934692\n",
            "Epoch: 430 Current loss:  0.20160959661006927\n",
            "Epoch: 435 Current loss:  1.0113868713378906\n",
            "Epoch: 440 Current loss:  0.18793608248233795\n",
            "Epoch: 445 Current loss:  0.24269720911979675\n",
            "Epoch: 450 Current loss:  0.19396719336509705\n",
            "Epoch: 455 Current loss:  0.22308924794197083\n",
            "Epoch: 460 Current loss:  0.2533595561981201\n",
            "Epoch: 465 Current loss:  0.36536669731140137\n",
            "Epoch: 470 Current loss:  0.4428773820400238\n",
            "Epoch: 475 Current loss:  0.17809300124645233\n",
            "Epoch: 480 Current loss:  0.17583297193050385\n",
            "Epoch: 485 Current loss:  0.49260303378105164\n",
            "Epoch: 490 Current loss:  0.48085686564445496\n",
            "Epoch: 495 Current loss:  0.1868550330400467\n",
            "Epoch: 500 Current loss:  0.11751172691583633\n",
            "Epoch: 505 Current loss:  0.33062148094177246\n",
            "Epoch: 510 Current loss:  0.28002116084098816\n",
            "Epoch: 515 Current loss:  0.27038809657096863\n",
            "Epoch: 520 Current loss:  0.05817702040076256\n",
            "Epoch: 525 Current loss:  0.13665686547756195\n",
            "Epoch: 530 Current loss:  0.11500699073076248\n",
            "Epoch: 535 Current loss:  0.2653367221355438\n",
            "Epoch: 540 Current loss:  0.13624583184719086\n",
            "Epoch: 545 Current loss:  0.21283341944217682\n",
            "Epoch: 550 Current loss:  0.49303942918777466\n",
            "Epoch: 555 Current loss:  0.25288254022598267\n",
            "Epoch: 560 Current loss:  0.22265441715717316\n",
            "Epoch: 565 Current loss:  0.1095777302980423\n",
            "Epoch: 570 Current loss:  0.1053355485200882\n",
            "Epoch: 575 Current loss:  0.20750775933265686\n",
            "Epoch: 580 Current loss:  0.19275425374507904\n",
            "Epoch: 585 Current loss:  0.2102738320827484\n",
            "Epoch: 590 Current loss:  0.24591286480426788\n",
            "Epoch: 595 Current loss:  0.15358519554138184\n",
            "Epoch: 600 Current loss:  0.30905264616012573\n",
            "Epoch: 605 Current loss:  0.15495967864990234\n",
            "Epoch: 610 Current loss:  0.25599852204322815\n",
            "Epoch: 615 Current loss:  0.20208218693733215\n",
            "Epoch: 620 Current loss:  0.09283018112182617\n",
            "Epoch: 625 Current loss:  0.192661315202713\n",
            "Epoch: 630 Current loss:  0.06821911782026291\n",
            "Epoch: 635 Current loss:  0.05727442726492882\n",
            "Epoch: 640 Current loss:  0.1299535632133484\n",
            "Epoch: 645 Current loss:  0.11320663243532181\n",
            "Epoch: 650 Current loss:  0.2790713608264923\n",
            "Epoch: 655 Current loss:  0.1282815784215927\n",
            "Epoch: 660 Current loss:  0.5328323841094971\n",
            "Epoch: 665 Current loss:  0.09388787299394608\n",
            "Epoch: 670 Current loss:  0.2103455513715744\n",
            "Epoch: 675 Current loss:  0.14025193452835083\n",
            "Epoch: 680 Current loss:  0.14304853975772858\n",
            "Epoch: 685 Current loss:  0.18896865844726562\n",
            "Epoch: 690 Current loss:  0.1977597028017044\n",
            "Epoch: 695 Current loss:  0.2152572125196457\n",
            "Epoch: 700 Current loss:  0.19882938265800476\n",
            "Epoch: 705 Current loss:  0.11412680894136429\n",
            "Epoch: 710 Current loss:  0.3149462044239044\n",
            "Epoch: 715 Current loss:  0.36062613129615784\n",
            "Epoch: 720 Current loss:  0.18850378692150116\n",
            "Epoch: 725 Current loss:  0.19504711031913757\n",
            "Epoch: 730 Current loss:  0.11455295979976654\n",
            "Epoch: 735 Current loss:  0.14750328660011292\n",
            "Epoch: 740 Current loss:  0.2191513031721115\n",
            "Epoch: 745 Current loss:  0.31143468618392944\n",
            "Epoch: 750 Current loss:  0.4021742045879364\n",
            "Epoch: 755 Current loss:  0.24917884171009064\n",
            "Epoch: 760 Current loss:  0.2400873452425003\n",
            "Epoch: 765 Current loss:  0.163520947098732\n",
            "Epoch: 770 Current loss:  0.2816172242164612\n",
            "Epoch: 775 Current loss:  0.2808648943901062\n",
            "Epoch: 780 Current loss:  0.3041800856590271\n",
            "Epoch: 785 Current loss:  0.13927236199378967\n",
            "Epoch: 790 Current loss:  0.12947188317775726\n",
            "Epoch: 795 Current loss:  0.14141856133937836\n",
            "Epoch: 800 Current loss:  0.08034352213144302\n",
            "Epoch: 805 Current loss:  0.23597311973571777\n",
            "Epoch: 810 Current loss:  0.1804817169904709\n",
            "Epoch: 815 Current loss:  0.21241985261440277\n",
            "Epoch: 820 Current loss:  0.09866409003734589\n",
            "Epoch: 825 Current loss:  0.22726939618587494\n",
            "Epoch: 830 Current loss:  0.1260831356048584\n",
            "Epoch: 835 Current loss:  0.13828842341899872\n",
            "Epoch: 840 Current loss:  0.10380276292562485\n",
            "Epoch: 845 Current loss:  0.1917761266231537\n",
            "Epoch: 850 Current loss:  0.14126326143741608\n",
            "Epoch: 855 Current loss:  0.0893818810582161\n",
            "Epoch: 860 Current loss:  0.10602201521396637\n",
            "Epoch: 865 Current loss:  0.16994525492191315\n",
            "Epoch: 870 Current loss:  0.08785206079483032\n",
            "Epoch: 875 Current loss:  0.18090461194515228\n",
            "Epoch: 880 Current loss:  0.19763290882110596\n",
            "Epoch: 885 Current loss:  0.14533165097236633\n",
            "Epoch: 890 Current loss:  0.3565923869609833\n",
            "Epoch: 895 Current loss:  0.28401726484298706\n",
            "Epoch: 900 Current loss:  0.14592362940311432\n",
            "Epoch: 905 Current loss:  0.2733587920665741\n",
            "Epoch: 910 Current loss:  0.1758842170238495\n",
            "Epoch: 915 Current loss:  0.21126095950603485\n",
            "Epoch: 920 Current loss:  0.38032230734825134\n",
            "Epoch: 925 Current loss:  0.11236540228128433\n",
            "Epoch: 930 Current loss:  0.1563849002122879\n",
            "Epoch: 935 Current loss:  0.20146675407886505\n",
            "Epoch: 940 Current loss:  0.2142789512872696\n",
            "Epoch: 945 Current loss:  0.18441198766231537\n",
            "Epoch: 950 Current loss:  0.18994620442390442\n",
            "Epoch: 955 Current loss:  0.1685788780450821\n",
            "Epoch: 960 Current loss:  0.18292982876300812\n",
            "Epoch: 965 Current loss:  0.26508623361587524\n",
            "Epoch: 970 Current loss:  0.2523176670074463\n",
            "Epoch: 975 Current loss:  0.10226776450872421\n",
            "Epoch: 980 Current loss:  0.25536805391311646\n",
            "Epoch: 985 Current loss:  0.18295292556285858\n",
            "Epoch: 990 Current loss:  0.22315669059753418\n",
            "Epoch: 995 Current loss:  0.16011372208595276\n"
          ],
          "name": "stdout"
        }
      ]
    },
    {
      "cell_type": "markdown",
      "metadata": {
        "id": "BoVUZHu02See"
      },
      "source": [
        "Plot how the loss and the accuracy change over the epochs. "
      ]
    },
    {
      "cell_type": "code",
      "metadata": {
        "id": "R4T-5QDs2See",
        "outputId": "3ad0024d-5d34-4093-d7c1-72118040ce9a",
        "colab": {
          "base_uri": "https://localhost:8080/",
          "height": 281
        }
      },
      "source": [
        "import matplotlib.pyplot as plt\n",
        "\n",
        "plt.plot()\n",
        "plt.plot(arr_epochs, arr_accuracy, label = \"Accuracy\")\n",
        "plt.ylabel('Epochs')\n",
        "plt.plot(arr_epochs, arr_loss, label = \"Loss\")\n",
        "plt.title('Accuracy and Loss')\n",
        "plt.legend()\n",
        "plt.show()"
      ],
      "execution_count": 57,
      "outputs": [
        {
          "output_type": "display_data",
          "data": {
            "image/png": "[encoded data removed]",
            "text/plain": [
              "<Figure size 432x288 with 1 Axes>"
            ]
          },
          "metadata": {
            "tags": [],
            "needs_background": "light"
          }
        }
      ]
    },
    {
      "cell_type": "markdown",
      "metadata": {
        "id": "bvFzNDRT2See"
      },
      "source": [
        "### Part d \n",
        "Evaluate the model on the test dataset. Print out the accuracy. Does this accuracy agrees with the training accuracy showed on the plot? Why may they be different?"
      ]
    },
    {
      "cell_type": "code",
      "metadata": {
        "id": "t0eC-Wi32See",
        "outputId": "d99bebea-db1a-412b-b322-4dfbdf43c97c",
        "colab": {
          "base_uri": "https://localhost:8080/"
        }
      },
      "source": [
        "network.eval()\n",
        "\n",
        "pred = torch.argmax(network(torch.tensor(X_test)), dim=1).numpy()\n",
        "\n",
        "print(\"Accuracy: \", np.sum(pred == y_test)/len(y_test))"
      ],
      "execution_count": 58,
      "outputs": [
        {
          "output_type": "stream",
          "text": [
            "Accuracy:  1.0\n"
          ],
          "name": "stdout"
        }
      ]
    },
    {
      "cell_type": "markdown",
      "metadata": {
        "id": "iy6C2pFfyXIa"
      },
      "source": [
        "## Problem 2\n",
        "\n",
        "If you haven't done so already, please read Chapter 2 (on fairness) of the textbook."
      ]
    },
    {
      "cell_type": "markdown",
      "metadata": {
        "id": "pe6qfhRFyXIa"
      },
      "source": [
        "### Part a\n",
        "\n",
        "Import the 'semi_synthetic.csv' dataset. This dataset is a modified version of the UCI Credit card dataset (details [here](https://archive.ics.uci.edu/ml/datasets/default+of+credit+card+clients)). We added a new synthetic feature to this dataset called `LIMIT_BAL`. It is highly predictive for `SEX==2` but not at all for `SEX==1`. As it turns out, this causes issues with fairness where models rely too much on `LIMIT_BAL` and discriminate against `SEX==2`. We will try to mitigate this in terms of the fairness criterion 'Statistical Parity' as it's mentioned in the textbook."
      ]
    },
    {
      "cell_type": "code",
      "metadata": {
        "id": "HaqdFHPvyXIa"
      },
      "source": [
        "import pandas as pd\n",
        "\n",
        "data = pd.read_csv(\"semi_synthetic.csv\")"
      ],
      "execution_count": 1,
      "outputs": []
    },
    {
      "cell_type": "markdown",
      "metadata": {
        "id": "QJhtmsUHyXIa"
      },
      "source": [
        "Extract features from the dataset (all columns except last) and call it `X`. Extract last column and call it `Y`. Also extract the `SEX` column and call this `SF` (for sensitive feature). Split all of these arrays data into train and test sets. You can use `sklearn.model_selection.train_test_split` and 20% ratio for the test dataset. Pass `stratify=Y` to `train_test_split` if you're using it. This ensures that both test and train datasets have the same ratio of 0/1 labels."
      ]
    },
    {
      "cell_type": "code",
      "metadata": {
        "id": "4RWhQl8zyXIa"
      },
      "source": [
        "from sklearn.model_selection import train_test_split \n",
        "import numpy as np\n",
        "import random\n",
        "random.seed(2020)\n",
        "np.random.seed(2020)\n",
        "\n",
        "X = data.iloc[:,0:-1]\n",
        "X = X.to_numpy()\n",
        "Y = data.iloc[:,-1]\n",
        "Y = Y.to_numpy()\n",
        "SF = data.iloc[:,1]\n",
        "SF = SF.to_numpy()\n",
        "X_train,X_test,y_train,y_test = train_test_split(X,Y,test_size = 0.20,stratify=Y)\n",
        "SF_test = X_test[:,1]"
      ],
      "execution_count": 2,
      "outputs": []
    },
    {
      "cell_type": "markdown",
      "metadata": {
        "id": "6_kwHg4SyXIa"
      },
      "source": [
        "Use a random forest classifier (whichever hyperparameters you want, you may leave it default) and train it using the train dataset (only `X_train` and `Y_train`. We will not use `SF_train` yet.)"
      ]
    },
    {
      "cell_type": "code",
      "metadata": {
        "id": "YESO3KAfyXIa",
        "colab": {
          "base_uri": "https://localhost:8080/"
        },
        "outputId": "55e9cedd-fcf0-477d-efb7-5605d7f2a9fe"
      },
      "source": [
        "from sklearn.ensemble import RandomForestClassifier\n",
        "\n",
        "clf = RandomForestClassifier(max_depth=5, n_estimators=5, random_state=0)\n",
        "clf.fit(X_train, y_train)\n",
        "np.size(y_train)"
      ],
      "execution_count": 3,
      "outputs": [
        {
          "output_type": "execute_result",
          "data": {
            "text/plain": [
              "24000"
            ]
          },
          "metadata": {
            "tags": []
          },
          "execution_count": 3
        }
      ]
    },
    {
      "cell_type": "markdown",
      "metadata": {
        "id": "_U4MeVC3yXIa"
      },
      "source": [
        "### Part b\n",
        "\n",
        "Now we will consider the 'statistical parity' fairness metric on the test dataset. This basically means we compare the selection rates (i.e. predicted labels being 1) conditioned on sex and look at their difference/ratio. To do this, print 5 things: \n",
        "\n",
        "1. Overall selection rate (what percent is predicted as 1)\n",
        "2. Selection rate for `SEX==1`\n",
        "3. Selection rate for `SEX==2`\n",
        "4. Difference between 2. and 3.\n",
        "5. Ratio of 2. and 3.\n",
        "\n",
        "Note that we didn't use anything related to how accurate the model is."
      ]
    },
    {
      "cell_type": "code",
      "metadata": {
        "id": "4qQcj-_PyXIa",
        "colab": {
          "base_uri": "https://localhost:8080/"
        },
        "outputId": "f880fe62-a302-4ea0-9d2a-24995a6a75b0"
      },
      "source": [
        "y_predict = clf.predict(X_test)\n",
        "no1 = np.count_nonzero(y_predict)\n",
        "overall_selection_rate = no1/np.size(y_predict)\n",
        "print(\"The overall selection rate is \",overall_selection_rate)\n",
        "\n",
        "sex1_count = 0\n",
        "for i in range(np.size(y_predict)):\n",
        "  if y_predict[i]==1 and X_test[i,1]==1:\n",
        "    sex1_count +=1\n",
        "print(\"Selection rate for SEX==1 is\", sex1_count/np.size(y_predict))\n",
        "sex2_count = no1-sex1_count\n",
        "print(\"Selection rate for SEX==2 is\", sex2_count/np.size(y_predict))\n",
        "print(\"Difference of counts number between 2. and 3. is\", sex2_count-sex1_count)\n",
        "print(\"Ratio of 2. and 3. is\", sex2_count/sex1_count)"
      ],
      "execution_count": 4,
      "outputs": [
        {
          "output_type": "stream",
          "text": [
            "The overall selection rate is  0.113\n",
            "Selection rate for SEX==1 is 0.0375\n",
            "Selection rate for SEX==2 is 0.0755\n",
            "Difference of counts number between 2. and 3. is 228\n",
            "Ratio of 2. and 3. is 2.013333333333333\n"
          ],
          "name": "stdout"
        }
      ]
    },
    {
      "cell_type": "markdown",
      "metadata": {
        "id": "R1Yn6sXXyXIa"
      },
      "source": [
        "There is a new Python package called `fairlearn` that aims to help machine learning researchers use fairness techniques more easily. Go ahead and download this package (`pip install fairlearn` or `conda install fairlearn`). Note: the authors of `fairlearn` call 'statistical parity' from the textbook as 'demographic parity'.\n",
        "\n",
        "We will use `selection_rate`, `demographic_parity_difference`, `demographic_parity_ratio` from `fairlearn.metrics` to calculate 1., 4. and 5. above. The way to use these functions is: first argument `Y_test`, second argument `Y_prediction`, and for `demographic_parity_difference` and `demographic_parity_ratio` you need to give a keyword argument for the 'sensitive feature' by `sensitive_features=SF_test`.\n",
        "\n",
        "Use these three functions and confirm your earlier calculations for 1., 4. and 5."
      ]
    },
    {
      "cell_type": "code",
      "metadata": {
        "id": "Lc9HTbgn4ZpZ",
        "colab": {
          "base_uri": "https://localhost:8080/"
        },
        "outputId": "50e59b8a-3c71-4bc8-8831-2fd1e92fd503"
      },
      "source": [
        "pip install fairlearn"
      ],
      "execution_count": 5,
      "outputs": [
        {
          "output_type": "stream",
          "text": [
            "Collecting fairlearn\n",
            "\u001b[?25l  Downloading https://files.pythonhosted.org/packages/3a/c6/64bdd611982cd2afef284f10022d1003b266ae7f86914418b8deda3ce2b2/fairlearn-0.5.0-py3-none-any.whl (24.6MB)\n",
            "\u001b[K     |████████████████████████████████| 24.6MB 1.6MB/s \n",
            "\u001b[?25hRequirement already satisfied: numpy>=1.17.2 in /usr/local/lib/python3.6/dist-packages (from fairlearn) (1.18.5)\n",
            "Requirement already satisfied: scipy>=1.4.1 in /usr/local/lib/python3.6/dist-packages (from fairlearn) (1.4.1)\n",
            "Requirement already satisfied: pandas>=0.25.1 in /usr/local/lib/python3.6/dist-packages (from fairlearn) (1.1.4)\n",
            "Requirement already satisfied: scikit-learn>=0.22.1 in /usr/local/lib/python3.6/dist-packages (from fairlearn) (0.22.2.post1)\n",
            "Requirement already satisfied: pytz>=2017.2 in /usr/local/lib/python3.6/dist-packages (from pandas>=0.25.1->fairlearn) (2018.9)\n",
            "Requirement already satisfied: python-dateutil>=2.7.3 in /usr/local/lib/python3.6/dist-packages (from pandas>=0.25.1->fairlearn) (2.8.1)\n",
            "Requirement already satisfied: joblib>=0.11 in /usr/local/lib/python3.6/dist-packages (from scikit-learn>=0.22.1->fairlearn) (0.17.0)\n",
            "Requirement already satisfied: six>=1.5 in /usr/local/lib/python3.6/dist-packages (from python-dateutil>=2.7.3->pandas>=0.25.1->fairlearn) (1.15.0)\n",
            "Installing collected packages: fairlearn\n",
            "Successfully installed fairlearn-0.5.0\n"
          ],
          "name": "stdout"
        }
      ]
    },
    {
      "cell_type": "code",
      "metadata": {
        "id": "I27r9Mx1yXIa",
        "colab": {
          "base_uri": "https://localhost:8080/"
        },
        "outputId": "a15681c9-5044-4687-865f-4de2d97c6e5b"
      },
      "source": [
        "from fairlearn.metrics import selection_rate, demographic_parity_difference, demographic_parity_ratio\n",
        "\n",
        "print(\"selection rate is\", selection_rate(y_test,y_predict,pos_label=1))\n",
        "print(\"demographic parity difference is\",demographic_parity_difference(y_test,y_predict,sensitive_features=SF_test))\n",
        "print(\"demographic parity ratio is\",demographic_parity_ratio(y_test,y_predict,sensitive_features=SF_test))"
      ],
      "execution_count": 6,
      "outputs": [
        {
          "output_type": "stream",
          "text": [
            "selection rate is 0.113\n",
            "demographic parity difference is 0.02746679536300732\n",
            "demographic parity ratio is 0.7779615792067709\n"
          ],
          "name": "stdout"
        }
      ]
    },
    {
      "cell_type": "markdown",
      "metadata": {
        "id": "XViy0I5EyXIa"
      },
      "source": [
        "### Part c\n",
        "### Mitigating Unfairness with Giving Weights to Datapoints\n",
        "\n",
        "Now we are going to use the `GridSearch` function from `fairlearn.reductions` to try to mitigate this statistical parity discrepancy. This is one of the many ways to achieve this. What this function does is it gives higher weights to certain datapoints (determined by the sensitive feature) in order to change what the model learns. It automatically uses grid search to determine which weight should be given to `SEX==1` datapoints vs `SEX==2` datapoints (if you're interested you can read the source code). While it is called grid search, the space it searches is 1-dimensional. For our purposes, `GridSearch` takes four arguments: \n",
        "\n",
        "1. The model you defined above. This is a non-keyword argument.\n",
        "2. Constraint. This needs to be an object defined by `fairlearn`, the class we will be using is `fairlearn.reductions.DemographicParity`. It corresponds to minimizing the difference in selection rates (4. from above). This is a non-keyword argument.\n",
        "3. (Keyword argument) `grid_limit`. This determines the boundaries of the grid search. Basically, the `GridSearch` function will search the interval \\[-`grid_limit`,`grid_limit`\\] to find the weights. Choose this to be 0.8.\n",
        "3. (Keyword argument) `grid_size`. This determines how many points there will be in the grid search. Choose this to be 21.\n",
        "\n",
        "Just like `sklearn.model_selection.GridSearchCV` we have seen in HW1, `fairlearn.reductions.GridSearch` is also a wrapper, so you need to call `.fit()` on this wrapper (not the model directly). Training should be done in less than 5 minutes. In the end this wrapper will contain `grid_size` many models, each corresponding to a different weight for datapoints."
      ]
    },
    {
      "cell_type": "code",
      "metadata": {
        "id": "67Y6ezsJyXIa"
      },
      "source": [
        "from fairlearn.reductions import GridSearch, DemographicParity\n",
        "fairlearn_gs = GridSearch(estimator=clf,constraints=DemographicParity(),grid_size=21,grid_limit=0.2)\n",
        "fairlearn_gs.fit(X_train,y_train,sensitive_features=X_train[:,1])\n",
        "predictors = fairlearn_gs.predictors_"
      ],
      "execution_count": 7,
      "outputs": []
    },
    {
      "cell_type": "markdown",
      "metadata": {
        "id": "15EO5RaTyXIa"
      },
      "source": [
        "The `GridSearch` wrapper object you trained has a field called `predictors_`. This gives a list of all the models trained in this grid search, which will be of size `grid_size`."
      ]
    },
    {
      "cell_type": "code",
      "metadata": {
        "id": "B7HdpQm_yXIa"
      },
      "source": [
        "predictions_sweep = [predictor.predict(X_test) for predictor in fairlearn_gs.predictors_] \n",
        "accuracy_sweep = [predictor.score(X_test, y_test) for predictor in fairlearn_gs.predictors_] "
      ],
      "execution_count": 8,
      "outputs": []
    },
    {
      "cell_type": "markdown",
      "metadata": {
        "id": "tXGkicwxyXIa"
      },
      "source": [
        "Notice that `predictions_sweep` is a 21 element list. Each of these elements is a numpy array that contains the predictions (`Y_pred`) for `X_test` for that particular model. Use `demographic_parity_difference` like you did above to find the difference in selection rates for each of these models and store these 'fairness metrics' in a numpy array (it too will be size 21)."
      ]
    },
    {
      "cell_type": "code",
      "metadata": {
        "id": "SZ-bxFwmyXIa",
        "colab": {
          "base_uri": "https://localhost:8080/"
        },
        "outputId": "bada70dc-65d5-461f-db47-920b2e47f3ff"
      },
      "source": [
        "from sklearn.metrics import accuracy_score\n",
        "fairness_metrics = []\n",
        "for element in predictions_sweep: \n",
        "  fairness_metrics.append(demographic_parity_difference(y_test,element,sensitive_features=SF_test))\n",
        "fairness_metrics"
      ],
      "execution_count": 9,
      "outputs": [
        {
          "output_type": "execute_result",
          "data": {
            "text/plain": [
              "[0.07680013305681686,\n",
              " 0.058316308009712034,\n",
              " 0.05376607322142793,\n",
              " 0.04882432996221803,\n",
              " 0.03352536559089046,\n",
              " 0.024332858820083153,\n",
              " 0.018844965915870523,\n",
              " 0.021611921666536624,\n",
              " 0.010947286981782711,\n",
              " 0.026956853243657028,\n",
              " 0.02746679536300732,\n",
              " 0.029950865219704942,\n",
              " 0.03532032447549312,\n",
              " 0.04008103010644079,\n",
              " 0.06372688032688621,\n",
              " 0.0696062817020247,\n",
              " 0.08151972562637852,\n",
              " 0.08848161522005535,\n",
              " 0.0931699057996981,\n",
              " 0.09558156060509082,\n",
              " 0.09713778341732701]"
            ]
          },
          "metadata": {
            "tags": []
          },
          "execution_count": 9
        }
      ]
    },
    {
      "cell_type": "markdown",
      "metadata": {
        "id": "ydkOWKGJyXIa"
      },
      "source": [
        "Plot the accuracy vs difference in selection rates for all these models in a scatter plot."
      ]
    },
    {
      "cell_type": "code",
      "metadata": {
        "id": "TecSOnrNhH3a",
        "colab": {
          "base_uri": "https://localhost:8080/"
        },
        "outputId": "2679ee61-00b8-49a3-b9c9-1269674900c5"
      },
      "source": [
        "pip install ipympl"
      ],
      "execution_count": 10,
      "outputs": [
        {
          "output_type": "stream",
          "text": [
            "Collecting ipympl\n",
            "\u001b[?25l  Downloading https://files.pythonhosted.org/packages/a1/b9/638ad2b406cb33d92ad41a85964f9e81d9eac240ae9b5c06b17c4b6d602c/ipympl-0.5.8-py2.py3-none-any.whl (2.0MB)\n",
            "\u001b[K     |████████████████████████████████| 2.0MB 5.5MB/s \n",
            "\u001b[?25hRequirement already satisfied: matplotlib>=2.0.0 in /usr/local/lib/python3.6/dist-packages (from ipympl) (3.2.2)\n",
            "Requirement already satisfied: ipykernel>=4.7 in /usr/local/lib/python3.6/dist-packages (from ipympl) (4.10.1)\n",
            "Requirement already satisfied: ipywidgets>=7.5.0 in /usr/local/lib/python3.6/dist-packages (from ipympl) (7.5.1)\n",
            "Requirement already satisfied: pyparsing!=2.0.4,!=2.1.2,!=2.1.6,>=2.0.1 in /usr/local/lib/python3.6/dist-packages (from matplotlib>=2.0.0->ipympl) (2.4.7)\n",
            "Requirement already satisfied: kiwisolver>=1.0.1 in /usr/local/lib/python3.6/dist-packages (from matplotlib>=2.0.0->ipympl) (1.3.1)\n",
            "Requirement already satisfied: cycler>=0.10 in /usr/local/lib/python3.6/dist-packages (from matplotlib>=2.0.0->ipympl) (0.10.0)\n",
            "Requirement already satisfied: python-dateutil>=2.1 in /usr/local/lib/python3.6/dist-packages (from matplotlib>=2.0.0->ipympl) (2.8.1)\n",
            "Requirement already satisfied: numpy>=1.11 in /usr/local/lib/python3.6/dist-packages (from matplotlib>=2.0.0->ipympl) (1.18.5)\n",
            "Requirement already satisfied: tornado>=4.0 in /usr/local/lib/python3.6/dist-packages (from ipykernel>=4.7->ipympl) (5.1.1)\n",
            "Requirement already satisfied: ipython>=4.0.0 in /usr/local/lib/python3.6/dist-packages (from ipykernel>=4.7->ipympl) (5.5.0)\n",
            "Requirement already satisfied: traitlets>=4.1.0 in /usr/local/lib/python3.6/dist-packages (from ipykernel>=4.7->ipympl) (4.3.3)\n",
            "Requirement already satisfied: jupyter-client in /usr/local/lib/python3.6/dist-packages (from ipykernel>=4.7->ipympl) (5.3.5)\n",
            "Requirement already satisfied: nbformat>=4.2.0 in /usr/local/lib/python3.6/dist-packages (from ipywidgets>=7.5.0->ipympl) (5.0.8)\n",
            "Requirement already satisfied: widgetsnbextension~=3.5.0 in /usr/local/lib/python3.6/dist-packages (from ipywidgets>=7.5.0->ipympl) (3.5.1)\n",
            "Requirement already satisfied: six in /usr/local/lib/python3.6/dist-packages (from cycler>=0.10->matplotlib>=2.0.0->ipympl) (1.15.0)\n",
            "Requirement already satisfied: prompt-toolkit<2.0.0,>=1.0.4 in /usr/local/lib/python3.6/dist-packages (from ipython>=4.0.0->ipykernel>=4.7->ipympl) (1.0.18)\n",
            "Requirement already satisfied: pexpect; sys_platform != \"win32\" in /usr/local/lib/python3.6/dist-packages (from ipython>=4.0.0->ipykernel>=4.7->ipympl) (4.8.0)\n",
            "Requirement already satisfied: setuptools>=18.5 in /usr/local/lib/python3.6/dist-packages (from ipython>=4.0.0->ipykernel>=4.7->ipympl) (50.3.2)\n",
            "Requirement already satisfied: pygments in /usr/local/lib/python3.6/dist-packages (from ipython>=4.0.0->ipykernel>=4.7->ipympl) (2.6.1)\n",
            "Requirement already satisfied: decorator in /usr/local/lib/python3.6/dist-packages (from ipython>=4.0.0->ipykernel>=4.7->ipympl) (4.4.2)\n",
            "Requirement already satisfied: simplegeneric>0.8 in /usr/local/lib/python3.6/dist-packages (from ipython>=4.0.0->ipykernel>=4.7->ipympl) (0.8.1)\n",
            "Requirement already satisfied: pickleshare in /usr/local/lib/python3.6/dist-packages (from ipython>=4.0.0->ipykernel>=4.7->ipympl) (0.7.5)\n",
            "Requirement already satisfied: ipython-genutils in /usr/local/lib/python3.6/dist-packages (from traitlets>=4.1.0->ipykernel>=4.7->ipympl) (0.2.0)\n",
            "Requirement already satisfied: jupyter-core>=4.6.0 in /usr/local/lib/python3.6/dist-packages (from jupyter-client->ipykernel>=4.7->ipympl) (4.7.0)\n",
            "Requirement already satisfied: pyzmq>=13 in /usr/local/lib/python3.6/dist-packages (from jupyter-client->ipykernel>=4.7->ipympl) (20.0.0)\n",
            "Requirement already satisfied: jsonschema!=2.5.0,>=2.4 in /usr/local/lib/python3.6/dist-packages (from nbformat>=4.2.0->ipywidgets>=7.5.0->ipympl) (2.6.0)\n",
            "Requirement already satisfied: notebook>=4.4.1 in /usr/local/lib/python3.6/dist-packages (from widgetsnbextension~=3.5.0->ipywidgets>=7.5.0->ipympl) (5.3.1)\n",
            "Requirement already satisfied: wcwidth in /usr/local/lib/python3.6/dist-packages (from prompt-toolkit<2.0.0,>=1.0.4->ipython>=4.0.0->ipykernel>=4.7->ipympl) (0.2.5)\n",
            "Requirement already satisfied: ptyprocess>=0.5 in /usr/local/lib/python3.6/dist-packages (from pexpect; sys_platform != \"win32\"->ipython>=4.0.0->ipykernel>=4.7->ipympl) (0.6.0)\n",
            "Requirement already satisfied: Send2Trash in /usr/local/lib/python3.6/dist-packages (from notebook>=4.4.1->widgetsnbextension~=3.5.0->ipywidgets>=7.5.0->ipympl) (1.5.0)\n",
            "Requirement already satisfied: nbconvert in /usr/local/lib/python3.6/dist-packages (from notebook>=4.4.1->widgetsnbextension~=3.5.0->ipywidgets>=7.5.0->ipympl) (5.6.1)\n",
            "Requirement already satisfied: jinja2 in /usr/local/lib/python3.6/dist-packages (from notebook>=4.4.1->widgetsnbextension~=3.5.0->ipywidgets>=7.5.0->ipympl) (2.11.2)\n",
            "Requirement already satisfied: terminado>=0.8.1 in /usr/local/lib/python3.6/dist-packages (from notebook>=4.4.1->widgetsnbextension~=3.5.0->ipywidgets>=7.5.0->ipympl) (0.9.1)\n",
            "Requirement already satisfied: mistune<2,>=0.8.1 in /usr/local/lib/python3.6/dist-packages (from nbconvert->notebook>=4.4.1->widgetsnbextension~=3.5.0->ipywidgets>=7.5.0->ipympl) (0.8.4)\n",
            "Requirement already satisfied: pandocfilters>=1.4.1 in /usr/local/lib/python3.6/dist-packages (from nbconvert->notebook>=4.4.1->widgetsnbextension~=3.5.0->ipywidgets>=7.5.0->ipympl) (1.4.3)\n",
            "Requirement already satisfied: testpath in /usr/local/lib/python3.6/dist-packages (from nbconvert->notebook>=4.4.1->widgetsnbextension~=3.5.0->ipywidgets>=7.5.0->ipympl) (0.4.4)\n",
            "Requirement already satisfied: entrypoints>=0.2.2 in /usr/local/lib/python3.6/dist-packages (from nbconvert->notebook>=4.4.1->widgetsnbextension~=3.5.0->ipywidgets>=7.5.0->ipympl) (0.3)\n",
            "Requirement already satisfied: bleach in /usr/local/lib/python3.6/dist-packages (from nbconvert->notebook>=4.4.1->widgetsnbextension~=3.5.0->ipywidgets>=7.5.0->ipympl) (3.2.1)\n",
            "Requirement already satisfied: defusedxml in /usr/local/lib/python3.6/dist-packages (from nbconvert->notebook>=4.4.1->widgetsnbextension~=3.5.0->ipywidgets>=7.5.0->ipympl) (0.6.0)\n",
            "Requirement already satisfied: MarkupSafe>=0.23 in /usr/local/lib/python3.6/dist-packages (from jinja2->notebook>=4.4.1->widgetsnbextension~=3.5.0->ipywidgets>=7.5.0->ipympl) (1.1.1)\n",
            "Requirement already satisfied: webencodings in /usr/local/lib/python3.6/dist-packages (from bleach->nbconvert->notebook>=4.4.1->widgetsnbextension~=3.5.0->ipywidgets>=7.5.0->ipympl) (0.5.1)\n",
            "Requirement already satisfied: packaging in /usr/local/lib/python3.6/dist-packages (from bleach->nbconvert->notebook>=4.4.1->widgetsnbextension~=3.5.0->ipywidgets>=7.5.0->ipympl) (20.4)\n",
            "Installing collected packages: ipympl\n",
            "Successfully installed ipympl-0.5.8\n"
          ],
          "name": "stdout"
        }
      ]
    },
    {
      "cell_type": "code",
      "metadata": {
        "id": "xOxhh6wEymcK",
        "colab": {
          "base_uri": "https://localhost:8080/"
        },
        "outputId": "5c00cddb-d203-444f-ab29-1a3019573f99"
      },
      "source": [
        "pip install matplotlib"
      ],
      "execution_count": 11,
      "outputs": [
        {
          "output_type": "stream",
          "text": [
            "Requirement already satisfied: matplotlib in /usr/local/lib/python3.6/dist-packages (3.2.2)\n",
            "Requirement already satisfied: python-dateutil>=2.1 in /usr/local/lib/python3.6/dist-packages (from matplotlib) (2.8.1)\n",
            "Requirement already satisfied: cycler>=0.10 in /usr/local/lib/python3.6/dist-packages (from matplotlib) (0.10.0)\n",
            "Requirement already satisfied: pyparsing!=2.0.4,!=2.1.2,!=2.1.6,>=2.0.1 in /usr/local/lib/python3.6/dist-packages (from matplotlib) (2.4.7)\n",
            "Requirement already satisfied: kiwisolver>=1.0.1 in /usr/local/lib/python3.6/dist-packages (from matplotlib) (1.3.1)\n",
            "Requirement already satisfied: numpy>=1.11 in /usr/local/lib/python3.6/dist-packages (from matplotlib) (1.18.5)\n",
            "Requirement already satisfied: six>=1.5 in /usr/local/lib/python3.6/dist-packages (from python-dateutil>=2.1->matplotlib) (1.15.0)\n"
          ],
          "name": "stdout"
        }
      ]
    },
    {
      "cell_type": "code",
      "metadata": {
        "id": "zzW_0fq2yXIa",
        "colab": {
          "base_uri": "https://localhost:8080/",
          "height": 280
        },
        "outputId": "85082859-a1d1-4fa0-fedf-f6f0ea0aa8c9"
      },
      "source": [
        "import matplotlib.pyplot as plt\n",
        "# %matplotlib widget\n",
        "plt.figure()\n",
        "plt.scatter(accuracy_sweep,fairness_metrics,label=\"GridSearch\")\n",
        "plt.xlabel(\"Accuracy\")\n",
        "plt.ylabel(\"Demographic Parity Difference\")\n",
        "plt.show();"
      ],
      "execution_count": 12,
      "outputs": [
        {
          "output_type": "display_data",
          "data": {
            "image/png": "[encoded data removed]",
            "text/plain": [
              "<Figure size 432x288 with 1 Axes>"
            ]
          },
          "metadata": {
            "tags": [],
            "needs_background": "light"
          }
        }
      ]
    },
    {
      "cell_type": "markdown",
      "metadata": {
        "id": "uLrO9mVFyXIa"
      },
      "source": [
        "### Part d \n",
        "\n",
        "Now calculate the *pareto front*: go over each (accuracy, difference in selection rates) pair and compare it to every other pair. If you find the first pair to have lower accuracy and higher difference in selection rate, discard it."
      ]
    },
    {
      "cell_type": "code",
      "metadata": {
        "id": "4ElVQmrHyXIa",
        "colab": {
          "base_uri": "https://localhost:8080/"
        },
        "outputId": "d3fdd538-0f72-46f0-fa43-66ad699e08e8"
      },
      "source": [
        "accuracy_sweep_pareto = np.copy(accuracy_sweep)\n",
        "fairness_metrics_pareto = np.copy(fairness_metrics)\n",
        "pareto = np.column_stack((accuracy_sweep_pareto,fairness_metrics_pareto))\n",
        "sort_pareto = pareto[np.argsort(pareto[:, 0])]\n",
        "sort_pareto = sort_pareto[::-1]\n",
        "\n",
        "max_accuracy = sort_pareto[-1,0]\n",
        "min_parity = sort_pareto[-1,1]\n",
        "\n",
        "for i in range(np.size(sort_pareto,0)):\n",
        "  if sort_pareto[i,1] <= min_parity:\n",
        "    print(sort_pareto[i,1])\n",
        "    min_parity = sort_pareto[i,1]\n",
        "  else:\n",
        "    index = np.where(pareto[:,1] == sort_pareto[i,1])\n",
        "    print(\"delete\", index[0])\n",
        "    pareto = np.delete(pareto,index[0],0)\n",
        "\n",
        "pareto"
      ],
      "execution_count": 13,
      "outputs": [
        {
          "output_type": "stream",
          "text": [
            "0.018844965915870523\n",
            "delete [7]\n",
            "delete [5]\n",
            "delete [4]\n",
            "delete [3]\n",
            "delete [2]\n",
            "delete [1]\n",
            "delete [13]\n",
            "delete [13]\n",
            "delete [12]\n",
            "delete [9]\n",
            "delete [10]\n",
            "delete [0]\n",
            "delete [8]\n",
            "delete [7]\n",
            "0.010947286981782711\n",
            "delete [4]\n",
            "delete [2]\n",
            "delete [2]\n",
            "delete [2]\n",
            "delete [2]\n"
          ],
          "name": "stdout"
        },
        {
          "output_type": "execute_result",
          "data": {
            "text/plain": [
              "array([[0.848     , 0.01884497],\n",
              "       [0.8395    , 0.01094729]])"
            ]
          },
          "metadata": {
            "tags": []
          },
          "execution_count": 13
        }
      ]
    },
    {
      "cell_type": "markdown",
      "metadata": {
        "id": "23SaZvzSyXIa"
      },
      "source": [
        "* Plot the accuracy vs difference in selection rates for all the models the grid search in a scatter plot.\n",
        "* On the same plot, plot the accuracy vs difference in selection rates for the points on the pareto front. Make these points red."
      ]
    },
    {
      "cell_type": "code",
      "metadata": {
        "id": "IGAsufEOyXIa",
        "colab": {
          "base_uri": "https://localhost:8080/",
          "height": 280
        },
        "outputId": "f616d46e-cb43-4671-a169-df59c09a792f"
      },
      "source": [
        "plt.figure()\n",
        "plt.scatter(accuracy_sweep,fairness_metrics,label=\"GridSearch\")\n",
        "plt.plot(pareto[:,0],pareto[:,1],\"o-\",label=\"Pareto\",color=\"tab:red\")\n",
        "plt.xlabel(\"Accuracy\")\n",
        "plt.ylabel(\"Demographic Parity Difference\")\n",
        "plt.legend()\n",
        "plt.show();"
      ],
      "execution_count": 29,
      "outputs": [
        {
          "output_type": "display_data",
          "data": {
            "image/png": "[encoded data removed]",
            "text/plain": [
              "<Figure size 432x288 with 1 Axes>"
            ]
          },
          "metadata": {
            "tags": [],
            "needs_background": "light"
          }
        }
      ]
    },
    {
      "cell_type": "markdown",
      "metadata": {
        "id": "hKA_zKOByXIa"
      },
      "source": [
        "Which one of these models would you choose to use? Why?"
      ]
    },
    {
      "cell_type": "markdown",
      "metadata": {
        "id": "K-qHCrNsyXIa"
      },
      "source": [
        "## Problem 3\n",
        "\n",
        "This problem builds on ideas from paper 2a in Module 1: “Against prediction: Sentencing, Policing, And Punishing In An Actuarial Age,” Chicago Public Law And Legal Theory Working Paper No. 94, Harcourt, 2005. \n",
        "\n",
        "Suppose we have two groups $A$ and $B$ of population sizes $n$ and $9n$. We find that under equal surveillance, group $A$’s offending rate is $2$ offenses per month per person and that of group $B$ is $1$ offense per person per month (See Figure on page 17 of the above paper). Equal surveillance means that out of a total of $10m$ monitors, $m$ monitors are assigned to group $A$ and $9m$ monitors are assigned to group $B$. The surveillance is $\\frac{m}{n}$ per capita for both groups. So, under equal surveillance, the combined offending rate over both groups is $11n$ per month. \n",
        "\n",
        "Suppose we want to bring down the overall offending rate by increasing the monitors for group $A$. In order to do that we collected some data and found that we could model the rate of decrease in offenses for group $A$ by a function as follows:\n",
        "\tIf we increase the per capita surveillance from $\\frac{m}{n}$ to $\\frac{m}{n} (1 + \\delta_A)$, the offending rate declines to $2e^{- \\alpha \\delta_A}$. ($\\alpha>0$)\n",
        "\n",
        "Similarly, we modeled the rate of increase in offenses for group $B$ by a function under reduced surveillance as follows:\n",
        "\tIf we decrease the per capita monitoring rate from $\\frac{m}{n}$ to $\\frac{m}{n} (1 - \\delta_B)$, the offending rate rises to $e^{ \\beta \\delta_B}$. ($\\beta>0$)\n",
        "\n",
        "How would you distribute the monitors so that \n",
        "\n",
        "**a)** Both groups had the same offending rate?\n",
        "\n",
        "**b)** The combined offending amount was minimized?\n",
        "\n",
        "\n",
        "Consider 3 different scenarios when $\\alpha > \\beta$, $\\alpha = \\beta$, and $\\alpha < \\beta$. \n",
        "\n",
        "**c)** For each of the scenarios, which of the above solutions would you prefer and why?\n",
        "\n",
        "**TIPS**:\n",
        "- For **part a** and **part b**, answer by calculating $\\delta_A$ and $\\delta_B$.\n",
        "- Try to set up equations from the given information. This problem mostly consists of algebra.\n",
        "- If you do it correctly, **part c** should makes sense immediately.\n"
      ]
    },
    {
      "cell_type": "markdown",
      "metadata": {
        "id": "j6Oqj2ZV0Ajr"
      },
      "source": [
        "a)\n",
        "\n",
        "Known variables: $\\alpha, \\beta, m, n$. ($\\alpha, \\beta>0$）\n",
        "\n",
        "\n",
        "Unknown variables: $\\delta_B, \\delta_A$, and the number of devices shifted, which is x.\n",
        "\n",
        "The three equations are:\n",
        "\n",
        "1.    $\\frac{m}{n} (1 + \\delta_A) = \\frac{m+x}{n}$\n",
        "2.   $\\frac{m}{n} (1 - \\delta_B) = \\frac{9m-x}{9n}$\n",
        "3.   $2e^{- \\alpha \\delta_A} = e^{ \\beta \\delta_B}$\n",
        "\n",
        "By solving the first two equations, we can get that $\\delta_A =9 \\delta_B$, substitute into the third equation, we get $2e^{- 9 \\alpha \\delta_B} = e^{ \\beta \\delta_B}$. Upon solving, we get $\\delta_B = \\frac{ln(2)}{9\\alpha+\\beta}$, $\\delta_A = 9\\frac{ln(2)}{9\\alpha+\\beta}$.\n"
      ]
    },
    {
      "cell_type": "markdown",
      "metadata": {
        "id": "XWlEfzxs26vB"
      },
      "source": [
        "b)\n",
        "\n",
        "Same as a), we have $\\delta_A =9 \\delta_B$. The third equation changed to $\\frac{d}{d\\delta_A}(2e^{- \\alpha \\delta_A} \\times n + e^{ \\beta \\delta_B} \\times 9n) = 0$. After substitution, we have $\\frac{d}{d\\delta_B}(2e^{- 9\\alpha \\delta_B} \\times n + e^{ \\beta \\delta_B} \\times 9n) = 0$.\n",
        "\n",
        "After solving the equation, we get $\\delta_B = \\frac{ln(\\frac{2\\alpha}{\\beta})}{9\\alpha+\\beta}$, $\\delta_A = 9\\frac{ln(\\frac{2\\alpha}{\\beta})}{9\\alpha+\\beta}$."
      ]
    },
    {
      "cell_type": "markdown",
      "metadata": {
        "id": "88L22x8H4xxc"
      },
      "source": [
        "c) \n",
        "Plot combined offering rate vs. $\\delta_B$ for $\\alpha$ and $\\beta$ ranging from 0 to 3. Reference: https://ipywidgets.readthedocs.io/en/stable/examples/Using%20Interact.html#Flickering-and-jumping-output"
      ]
    },
    {
      "cell_type": "code",
      "metadata": {
        "id": "Qsu0_-JG4weo",
        "colab": {
          "base_uri": "https://localhost:8080/",
          "height": 596,
          "referenced_widgets": [
            "1c3c4554cc704689be59ca792245eba9",
            "dcecea0fd0754851bd2e6d50cc30af02",
            "1e981414c2454933ba184d342b69f74f",
            "b68578ce54a2480b9543ae8e19d16907",
            "57b463f49a0842ef9ed664fe7c30cb27",
            "33c2e1fb27434e7195a5a815d3e16f19",
            "3db4684e887645c2ae522e11080f9eb4",
            "2d441c08736f4b2e9ea534ba7de2d6b8",
            "ec5681e2e9e74ceca303a57a1674e9ed",
            "df9a2af774a849449533b028f59a897e"
          ]
        },
        "outputId": "25b387d6-37bd-4132-9809-5d5c2876c760"
      },
      "source": [
        "from ipywidgets import interactive\n",
        "import math\n",
        "\n",
        "def function(alpha,beta):\n",
        "  x = []\n",
        "  y = []\n",
        "  for i in range(100):\n",
        "    for j in range(100):\n",
        "      # print(\"alpha[i]:\",alpha[i])\n",
        "      # print(\"beta[i]:\",beta[i])\n",
        "      # print(\"delta_b[i]:\",delta_b)\n",
        "      delta_b = np.log(2)/(9*alpha[i]+beta[j])\n",
        "      x.append(delta_b)\n",
        "      y_i = 2* math.exp(-9*alpha[i]*delta_b) + math.exp(beta[j]*delta_b)\n",
        "      y.append(y_i)\n",
        "  return x,y\n",
        "\n",
        "# plot the interactive marker\n",
        "# fig, ax = plt.subplots()\n",
        "def update(alpha,beta):\n",
        "  delta_b = np.log(2)/(9*alpha+beta)\n",
        "  plt.scatter(delta_b,2* math.exp(-9*alpha*delta_b) + math.exp(beta*delta_b),c=\"red\")\n",
        "  plt.ylim(1,4)\n",
        "  # fig.canvas.draw_idle()\n",
        "  # plt.show()\n",
        "\n",
        "# plot the complete graph\n",
        "beta_fixed = np.linspace(0.1,3.,num=100)\n",
        "alpha_fixed = np.linspace(0.1,3.,num=100)\n",
        "x,y = function(alpha_fixed,beta_fixed)\n",
        "plt.plot(x,y)\n",
        "interactive_plot = interactive(update, alpha=(0.,3.,0.01),beta=(0.,3.,0.01))\n",
        "plt.xlabel(\"delta_b\")\n",
        "plt.ylabel(\"combined offending amount\")\n",
        "plt.show()\n",
        "\n",
        "interactive_plot"
      ],
      "execution_count": 75,
      "outputs": [
        {
          "output_type": "display_data",
          "data": {
            "image/png": "[encoded data removed]",
            "text/plain": [
              "<Figure size 432x288 with 1 Axes>"
            ]
          },
          "metadata": {
            "tags": [],
            "needs_background": "light"
          }
        },
        {
          "output_type": "display_data",
          "data": {
            "application/vnd.jupyter.widget-view+json": {
              "model_id": "1c3c4554cc704689be59ca792245eba9",
              "version_minor": 0,
              "version_major": 2
            },
            "text/plain": [
              "interactive(children=(FloatSlider(value=1.5, description='alpha', max=3.0, step=0.01), FloatSlider(value=1.5, …"
            ]
          },
          "metadata": {
            "tags": []
          }
        }
      ]
    }
  ]
}