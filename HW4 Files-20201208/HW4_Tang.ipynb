{
  "nbformat": 4,
  "nbformat_minor": 0,
  "metadata": {
    "kernelspec": {
      "display_name": "Python 3",
      "language": "python",
      "name": "python3"
    },
    "language_info": {
      "codemirror_mode": {
        "name": "ipython",
        "version": 3
      },
      "file_extension": ".py",
      "mimetype": "text/x-python",
      "name": "python",
      "nbconvert_exporter": "python",
      "pygments_lexer": "ipython3",
      "version": "3.8.3"
    },
    "colab": {
      "name": "HW4 Notebook.ipynb",
      "provenance": [],
      "toc_visible": true
    }
  },
  "cells": [
    {
      "cell_type": "markdown",
      "metadata": {
        "id": "YMMjsXz8BYWc"
      },
      "source": [
        "collaborator: Nicholas Nunes"
      ]
    },
    {
      "cell_type": "markdown",
      "metadata": {
        "id": "xaO9XLfUNGj7"
      },
      "source": [
        "### Problem 1"
      ]
    },
    {
      "cell_type": "code",
      "metadata": {
        "id": "O9tviLgmNb3e"
      },
      "source": [
        "import pandas as pd\n",
        "import numpy as np\n",
        "import matplotlib.pyplot as plt\n",
        "import warnings\n",
        "import math\n",
        "from sklearn.utils import shuffle\n",
        "from sklearn.metrics import accuracy_score\n",
        "warnings.filterwarnings('ignore')\n",
        "pd.set_option(\"max_rows\", None)"
      ],
      "execution_count": null,
      "outputs": []
    },
    {
      "cell_type": "markdown",
      "metadata": {
        "id": "lAOAaJZk-3rX"
      },
      "source": [
        "Using only table 1 can only narrow the scope to asian pacific islander and craft repair occupation with the education and marital_status corresponded. But we don't know the country. "
      ]
    },
    {
      "cell_type": "code",
      "metadata": {
        "colab": {
          "base_uri": "https://localhost:8080/",
          "height": 473
        },
        "id": "qUFsffUtNGj7",
        "outputId": "1541cada-5504-4f60-8cd6-53b0c11a74a4"
      },
      "source": [
        "#using only table1\n",
        "table1 = pd.read_csv('/content/table1.csv')\n",
        "table1[(table1['occupation']=='Craft-repair')&(table1['sex']=='Female')&(table1['race']=='Asian-Pac-Islander')]"
      ],
      "execution_count": null,
      "outputs": [
        {
          "output_type": "execute_result",
          "data": {
            "text/html": [
              "<div>\n",
              "<style scoped>\n",
              "    .dataframe tbody tr th:only-of-type {\n",
              "        vertical-align: middle;\n",
              "    }\n",
              "\n",
              "    .dataframe tbody tr th {\n",
              "        vertical-align: top;\n",
              "    }\n",
              "\n",
              "    .dataframe thead th {\n",
              "        text-align: right;\n",
              "    }\n",
              "</style>\n",
              "<table border=\"1\" class=\"dataframe\">\n",
              "  <thead>\n",
              "    <tr style=\"text-align: right;\">\n",
              "      <th></th>\n",
              "      <th>age</th>\n",
              "      <th>occupation</th>\n",
              "      <th>education</th>\n",
              "      <th>education-num</th>\n",
              "      <th>marital-status</th>\n",
              "      <th>race</th>\n",
              "      <th>sex</th>\n",
              "    </tr>\n",
              "  </thead>\n",
              "  <tbody>\n",
              "    <tr>\n",
              "      <th>920</th>\n",
              "      <td>59</td>\n",
              "      <td>Craft-repair</td>\n",
              "      <td>Masters</td>\n",
              "      <td>14</td>\n",
              "      <td>Married-civ-spouse</td>\n",
              "      <td>Asian-Pac-Islander</td>\n",
              "      <td>Female</td>\n",
              "    </tr>\n",
              "    <tr>\n",
              "      <th>4804</th>\n",
              "      <td>49</td>\n",
              "      <td>Craft-repair</td>\n",
              "      <td>HS-grad</td>\n",
              "      <td>9</td>\n",
              "      <td>Widowed</td>\n",
              "      <td>Asian-Pac-Islander</td>\n",
              "      <td>Female</td>\n",
              "    </tr>\n",
              "    <tr>\n",
              "      <th>9600</th>\n",
              "      <td>33</td>\n",
              "      <td>Craft-repair</td>\n",
              "      <td>HS-grad</td>\n",
              "      <td>9</td>\n",
              "      <td>Divorced</td>\n",
              "      <td>Asian-Pac-Islander</td>\n",
              "      <td>Female</td>\n",
              "    </tr>\n",
              "    <tr>\n",
              "      <th>10084</th>\n",
              "      <td>28</td>\n",
              "      <td>Craft-repair</td>\n",
              "      <td>Bachelors</td>\n",
              "      <td>13</td>\n",
              "      <td>Married-spouse-absent</td>\n",
              "      <td>Asian-Pac-Islander</td>\n",
              "      <td>Female</td>\n",
              "    </tr>\n",
              "    <tr>\n",
              "      <th>10476</th>\n",
              "      <td>22</td>\n",
              "      <td>Craft-repair</td>\n",
              "      <td>Some-college</td>\n",
              "      <td>10</td>\n",
              "      <td>Never-married</td>\n",
              "      <td>Asian-Pac-Islander</td>\n",
              "      <td>Female</td>\n",
              "    </tr>\n",
              "    <tr>\n",
              "      <th>11961</th>\n",
              "      <td>25</td>\n",
              "      <td>Craft-repair</td>\n",
              "      <td>Some-college</td>\n",
              "      <td>10</td>\n",
              "      <td>Never-married</td>\n",
              "      <td>Asian-Pac-Islander</td>\n",
              "      <td>Female</td>\n",
              "    </tr>\n",
              "    <tr>\n",
              "      <th>12627</th>\n",
              "      <td>26</td>\n",
              "      <td>Craft-repair</td>\n",
              "      <td>Assoc-acdm</td>\n",
              "      <td>12</td>\n",
              "      <td>Married-spouse-absent</td>\n",
              "      <td>Asian-Pac-Islander</td>\n",
              "      <td>Female</td>\n",
              "    </tr>\n",
              "    <tr>\n",
              "      <th>14697</th>\n",
              "      <td>20</td>\n",
              "      <td>Craft-repair</td>\n",
              "      <td>11th</td>\n",
              "      <td>7</td>\n",
              "      <td>Married-spouse-absent</td>\n",
              "      <td>Asian-Pac-Islander</td>\n",
              "      <td>Female</td>\n",
              "    </tr>\n",
              "    <tr>\n",
              "      <th>16440</th>\n",
              "      <td>37</td>\n",
              "      <td>Craft-repair</td>\n",
              "      <td>HS-grad</td>\n",
              "      <td>9</td>\n",
              "      <td>Divorced</td>\n",
              "      <td>Asian-Pac-Islander</td>\n",
              "      <td>Female</td>\n",
              "    </tr>\n",
              "    <tr>\n",
              "      <th>16742</th>\n",
              "      <td>22</td>\n",
              "      <td>Craft-repair</td>\n",
              "      <td>Some-college</td>\n",
              "      <td>10</td>\n",
              "      <td>Never-married</td>\n",
              "      <td>Asian-Pac-Islander</td>\n",
              "      <td>Female</td>\n",
              "    </tr>\n",
              "    <tr>\n",
              "      <th>19175</th>\n",
              "      <td>21</td>\n",
              "      <td>Craft-repair</td>\n",
              "      <td>HS-grad</td>\n",
              "      <td>9</td>\n",
              "      <td>Never-married</td>\n",
              "      <td>Asian-Pac-Islander</td>\n",
              "      <td>Female</td>\n",
              "    </tr>\n",
              "    <tr>\n",
              "      <th>20140</th>\n",
              "      <td>40</td>\n",
              "      <td>Craft-repair</td>\n",
              "      <td>HS-grad</td>\n",
              "      <td>9</td>\n",
              "      <td>Divorced</td>\n",
              "      <td>Asian-Pac-Islander</td>\n",
              "      <td>Female</td>\n",
              "    </tr>\n",
              "    <tr>\n",
              "      <th>25122</th>\n",
              "      <td>65</td>\n",
              "      <td>Craft-repair</td>\n",
              "      <td>Some-college</td>\n",
              "      <td>10</td>\n",
              "      <td>Widowed</td>\n",
              "      <td>Asian-Pac-Islander</td>\n",
              "      <td>Female</td>\n",
              "    </tr>\n",
              "    <tr>\n",
              "      <th>31602</th>\n",
              "      <td>18</td>\n",
              "      <td>Craft-repair</td>\n",
              "      <td>HS-grad</td>\n",
              "      <td>9</td>\n",
              "      <td>Never-married</td>\n",
              "      <td>Asian-Pac-Islander</td>\n",
              "      <td>Female</td>\n",
              "    </tr>\n",
              "  </tbody>\n",
              "</table>\n",
              "</div>"
            ],
            "text/plain": [
              "       age    occupation  ...                race     sex\n",
              "920     59  Craft-repair  ...  Asian-Pac-Islander  Female\n",
              "4804    49  Craft-repair  ...  Asian-Pac-Islander  Female\n",
              "9600    33  Craft-repair  ...  Asian-Pac-Islander  Female\n",
              "10084   28  Craft-repair  ...  Asian-Pac-Islander  Female\n",
              "10476   22  Craft-repair  ...  Asian-Pac-Islander  Female\n",
              "11961   25  Craft-repair  ...  Asian-Pac-Islander  Female\n",
              "12627   26  Craft-repair  ...  Asian-Pac-Islander  Female\n",
              "14697   20  Craft-repair  ...  Asian-Pac-Islander  Female\n",
              "16440   37  Craft-repair  ...  Asian-Pac-Islander  Female\n",
              "16742   22  Craft-repair  ...  Asian-Pac-Islander  Female\n",
              "19175   21  Craft-repair  ...  Asian-Pac-Islander  Female\n",
              "20140   40  Craft-repair  ...  Asian-Pac-Islander  Female\n",
              "25122   65  Craft-repair  ...  Asian-Pac-Islander  Female\n",
              "31602   18  Craft-repair  ...  Asian-Pac-Islander  Female\n",
              "\n",
              "[14 rows x 7 columns]"
            ]
          },
          "metadata": {
            "tags": []
          },
          "execution_count": 2
        }
      ]
    },
    {
      "cell_type": "markdown",
      "metadata": {
        "id": "uYKU9Nb7-1PD"
      },
      "source": [
        "using only table2, we cannot find out the native country as Philippines. But we still cannot only use it for marital_status and education level."
      ]
    },
    {
      "cell_type": "code",
      "metadata": {
        "colab": {
          "base_uri": "https://localhost:8080/",
          "height": 78
        },
        "id": "ELVZEJunhtzT",
        "outputId": "1412863e-8c61-4d95-a534-6f49fcf46dd6"
      },
      "source": [
        " table2 = pd.read_csv('/content/table2.csv')\n",
        "table2[(table2['occupation']=='Craft-repair')&(table2['sex']=='Female')&(table2['native-country']=='Philippines')]"
      ],
      "execution_count": null,
      "outputs": [
        {
          "output_type": "execute_result",
          "data": {
            "text/html": [
              "<div>\n",
              "<style scoped>\n",
              "    .dataframe tbody tr th:only-of-type {\n",
              "        vertical-align: middle;\n",
              "    }\n",
              "\n",
              "    .dataframe tbody tr th {\n",
              "        vertical-align: top;\n",
              "    }\n",
              "\n",
              "    .dataframe thead th {\n",
              "        text-align: right;\n",
              "    }\n",
              "</style>\n",
              "<table border=\"1\" class=\"dataframe\">\n",
              "  <thead>\n",
              "    <tr style=\"text-align: right;\">\n",
              "      <th></th>\n",
              "      <th>age</th>\n",
              "      <th>occupation</th>\n",
              "      <th>race</th>\n",
              "      <th>sex</th>\n",
              "      <th>capital-gain</th>\n",
              "      <th>capital-loss</th>\n",
              "      <th>hours-per-week</th>\n",
              "      <th>native-country</th>\n",
              "      <th>income</th>\n",
              "    </tr>\n",
              "  </thead>\n",
              "  <tbody>\n",
              "    <tr>\n",
              "      <th>29431</th>\n",
              "      <td>59</td>\n",
              "      <td>Craft-repair</td>\n",
              "      <td>Asian-Pac-Islander</td>\n",
              "      <td>Female</td>\n",
              "      <td>0</td>\n",
              "      <td>0</td>\n",
              "      <td>35</td>\n",
              "      <td>Philippines</td>\n",
              "      <td>&lt;=50K</td>\n",
              "    </tr>\n",
              "  </tbody>\n",
              "</table>\n",
              "</div>"
            ],
            "text/plain": [
              "       age    occupation  ... native-country income\n",
              "29431   59  Craft-repair  ...    Philippines  <=50K\n",
              "\n",
              "[1 rows x 9 columns]"
            ]
          },
          "metadata": {
            "tags": []
          },
          "execution_count": 3
        }
      ]
    },
    {
      "cell_type": "markdown",
      "metadata": {
        "id": "M4Movblw_R42"
      },
      "source": [
        "Cross reference the age (59, from table2) can give the desired information to find the woman from Philippines and working as craft repair. And we will find the corresponded marital status and education from table1. "
      ]
    },
    {
      "cell_type": "code",
      "metadata": {
        "colab": {
          "base_uri": "https://localhost:8080/",
          "height": 78
        },
        "id": "zl7VmXhS_j1m",
        "outputId": "304aab14-e625-43c4-8c37-284cdc801019"
      },
      "source": [
        "table1.iloc[:,[2,4]][(table1['race'] == 'Asian-Pac-Islander')&(table1['occupation'] == 'Craft-repair')&(table1['sex'] == 'Female') & (table1['age'] == 59)]"
      ],
      "execution_count": null,
      "outputs": [
        {
          "output_type": "execute_result",
          "data": {
            "text/html": [
              "<div>\n",
              "<style scoped>\n",
              "    .dataframe tbody tr th:only-of-type {\n",
              "        vertical-align: middle;\n",
              "    }\n",
              "\n",
              "    .dataframe tbody tr th {\n",
              "        vertical-align: top;\n",
              "    }\n",
              "\n",
              "    .dataframe thead th {\n",
              "        text-align: right;\n",
              "    }\n",
              "</style>\n",
              "<table border=\"1\" class=\"dataframe\">\n",
              "  <thead>\n",
              "    <tr style=\"text-align: right;\">\n",
              "      <th></th>\n",
              "      <th>education</th>\n",
              "      <th>marital-status</th>\n",
              "    </tr>\n",
              "  </thead>\n",
              "  <tbody>\n",
              "    <tr>\n",
              "      <th>920</th>\n",
              "      <td>Masters</td>\n",
              "      <td>Married-civ-spouse</td>\n",
              "    </tr>\n",
              "  </tbody>\n",
              "</table>\n",
              "</div>"
            ],
            "text/plain": [
              "    education      marital-status\n",
              "920   Masters  Married-civ-spouse"
            ]
          },
          "metadata": {
            "tags": []
          },
          "execution_count": 5
        }
      ]
    },
    {
      "cell_type": "markdown",
      "metadata": {
        "id": "cHSaycfVdHRJ"
      },
      "source": [
        "### Problem 2\n",
        "\n",
        "Experimenting with **k-anomity, i-diversity, and t-closeness**. \n",
        "\n",
        "Consider a dataset, for example, with 3 ordinary attributes and 1 sensitive attribute. Let the 3 ordinary attributes be Age, Sex, and Education and the sensitive attribute be Income, each row in this dataset is of the form:\n",
        "\n",
        "$$\n",
        "    [Age, Sex, Education, Income]\n",
        "$$\n",
        "\n",
        "A hacker is interested in knowing the sensitive attribute Income. When the dataset is designed so that if complies with either **k-anomity**, **i-diversity**, and/or **t-closeness**, even if he or she somehow figures out the values of the three, the hacker may not retrive the sensitive information accurately. In general, **k-anomity** is weaker than **i-diversity**, which, in turn, is weaker than **t-closeness**.\n",
        "\n",
        "By definition, **k-anomity** means that there is at least **k** different rows in the table of which ordinary values are a particular combination of Age, Sex, and Education. For example, the hacker knows the information of the person of interest is Age = 31, Sex = Female, and Education = BS. He or she looks into the data table and found that there are 3 rows with that combination:\n",
        "\n",
        "$$\n",
        "    [Age=31, Sex=Female, Education=BS, Income=300k]\n",
        "$$\n",
        "$$\n",
        "    [Age=31, Sex=Female, Education=BS, Income=70k]\n",
        "$$\n",
        "$$\n",
        "    [Age=31, Sex=Female, Education=BS, Income=20k]\n",
        "$$\n",
        "\n",
        "The hacker cannot tell accurately what the income of the person is because it can be one of the 3 values shown. This particular combination of information has 3-anomity. If every combination corresponds to at least 3 rows, then the dataset has 3-anomity.\n",
        "\n",
        "a) Let's look at the dataset **\"table3.csv\"**, a simplified version of **\"table1.csv\"** from problem 1. Let the sensitive attribute be **education** and others be ordinary attributes. Calculate the anomity of the dataset (the value **k**). First, find all the posible combinations of the ordinary attributes that exists in the dataset. After that, determine the anomity for each combination. The anomity of the dataset is the smallest anomity among the combinations."
      ]
    },
    {
      "cell_type": "code",
      "metadata": {
        "id": "Qrm7S5y5dHRJ",
        "colab": {
          "base_uri": "https://localhost:8080/",
          "height": 200
        },
        "outputId": "4f8eaf97-01e7-4d6e-dbb1-ad85e4d84ff7"
      },
      "source": [
        "table3 = pd.read_csv('/content/table3.csv')\r\n",
        "\r\n",
        "table3 = table3.iloc[:,1:]\r\n",
        "table3.head()"
      ],
      "execution_count": null,
      "outputs": [
        {
          "output_type": "execute_result",
          "data": {
            "text/html": [
              "<div>\n",
              "<style scoped>\n",
              "    .dataframe tbody tr th:only-of-type {\n",
              "        vertical-align: middle;\n",
              "    }\n",
              "\n",
              "    .dataframe tbody tr th {\n",
              "        vertical-align: top;\n",
              "    }\n",
              "\n",
              "    .dataframe thead th {\n",
              "        text-align: right;\n",
              "    }\n",
              "</style>\n",
              "<table border=\"1\" class=\"dataframe\">\n",
              "  <thead>\n",
              "    <tr style=\"text-align: right;\">\n",
              "      <th></th>\n",
              "      <th>age</th>\n",
              "      <th>education</th>\n",
              "      <th>race</th>\n",
              "      <th>sex</th>\n",
              "    </tr>\n",
              "  </thead>\n",
              "  <tbody>\n",
              "    <tr>\n",
              "      <th>0</th>\n",
              "      <td>39</td>\n",
              "      <td>Bachelors</td>\n",
              "      <td>White</td>\n",
              "      <td>Male</td>\n",
              "    </tr>\n",
              "    <tr>\n",
              "      <th>1</th>\n",
              "      <td>50</td>\n",
              "      <td>Bachelors</td>\n",
              "      <td>White</td>\n",
              "      <td>Male</td>\n",
              "    </tr>\n",
              "    <tr>\n",
              "      <th>2</th>\n",
              "      <td>38</td>\n",
              "      <td>HS-grad</td>\n",
              "      <td>White</td>\n",
              "      <td>Male</td>\n",
              "    </tr>\n",
              "    <tr>\n",
              "      <th>3</th>\n",
              "      <td>53</td>\n",
              "      <td>11th</td>\n",
              "      <td>Black</td>\n",
              "      <td>Male</td>\n",
              "    </tr>\n",
              "    <tr>\n",
              "      <th>4</th>\n",
              "      <td>28</td>\n",
              "      <td>Bachelors</td>\n",
              "      <td>Black</td>\n",
              "      <td>Female</td>\n",
              "    </tr>\n",
              "  </tbody>\n",
              "</table>\n",
              "</div>"
            ],
            "text/plain": [
              "   age  education   race     sex\n",
              "0   39  Bachelors  White    Male\n",
              "1   50  Bachelors  White    Male\n",
              "2   38    HS-grad  White    Male\n",
              "3   53       11th  Black    Male\n",
              "4   28  Bachelors  Black  Female"
            ]
          },
          "metadata": {
            "tags": []
          },
          "execution_count": 57
        }
      ]
    },
    {
      "cell_type": "code",
      "metadata": {
        "colab": {
          "base_uri": "https://localhost:8080/"
        },
        "id": "-SbauQ7v_2xy",
        "outputId": "8c7b44fa-5351-404f-9f56-bb1133e61906"
      },
      "source": [
        "age = table3['age'].unique()\r\n",
        "race = table3['race'].unique()\r\n",
        "sex = table3['sex'].unique()\r\n",
        "\r\n",
        "len(age)*len(race)*len(sex)\r\n",
        "\r\n",
        "#total combination is 730"
      ],
      "execution_count": null,
      "outputs": [
        {
          "output_type": "execute_result",
          "data": {
            "text/plain": [
              "730"
            ]
          },
          "metadata": {
            "tags": []
          },
          "execution_count": 37
        }
      ]
    },
    {
      "cell_type": "code",
      "metadata": {
        "id": "AGqI5mltdHRK"
      },
      "source": [
        "anomity_list = []\r\n",
        "for x in age:\r\n",
        "  for y in race:\r\n",
        "    for z in sex:\r\n",
        "      anomity_list.append(len(table3[(table3['age'] == x) & (table3['sex'] == z)&(table3['race'] == y)]))\r\n"
      ],
      "execution_count": null,
      "outputs": []
    },
    {
      "cell_type": "code",
      "metadata": {
        "id": "r14nWEe5Bv3y"
      },
      "source": [
        "anomity_list"
      ],
      "execution_count": null,
      "outputs": []
    },
    {
      "cell_type": "code",
      "metadata": {
        "colab": {
          "base_uri": "https://localhost:8080/"
        },
        "id": "ZdiJo3wyBqT-",
        "outputId": "d8be9d8e-922a-4379-b502-9d1f4e6086dc"
      },
      "source": [
        "anomity_list = np.array(anomity_list) #eliminate elements ==0, which are the impossible combinations \r\n",
        "np.min(anomity_list[anomity_list != 0])"
      ],
      "execution_count": null,
      "outputs": [
        {
          "output_type": "execute_result",
          "data": {
            "text/plain": [
              "1"
            ]
          },
          "metadata": {
            "tags": []
          },
          "execution_count": 47
        }
      ]
    },
    {
      "cell_type": "markdown",
      "metadata": {
        "id": "9WlFL-gMCIDT"
      },
      "source": [
        "The final anonymity is 1"
      ]
    },
    {
      "cell_type": "markdown",
      "metadata": {
        "id": "ixGLowBjdHRK"
      },
      "source": [
        "We can improve the **k-anomity** of the dataset by \"suppressing\" the ordinary attributes. Suppressing means reducing the resolution of the attribute's value. For this problem, let's suppress Age by replacing the exact age with an age range. For example, instead of leaving age = 32, replace it with age = 30-40. Apply this to **\"table3.csv\"** with the ranges {<20, 20-30, 30-50, >50}. Check if the anomity improves. "
      ]
    },
    {
      "cell_type": "code",
      "metadata": {
        "colab": {
          "base_uri": "https://localhost:8080/"
        },
        "id": "bvVILs1uHhsf",
        "outputId": "f9661538-a08a-44cc-a8aa-bc9295c735e5"
      },
      "source": [
        "max(table3['age'])"
      ],
      "execution_count": null,
      "outputs": [
        {
          "output_type": "execute_result",
          "data": {
            "text/plain": [
              "90"
            ]
          },
          "metadata": {
            "tags": []
          },
          "execution_count": 67
        }
      ]
    },
    {
      "cell_type": "code",
      "metadata": {
        "colab": {
          "base_uri": "https://localhost:8080/",
          "height": 200
        },
        "id": "X0Eb8yKYCXSs",
        "outputId": "b2997ff3-17c8-405a-e187-886c91afd7cd"
      },
      "source": [
        "improve = table3\r\n",
        "improve['age range'] = pd.cut(x=improve['age'], bins=[0,20, 30, 50, 200])\r\n",
        "improve = improve.drop(['age'], axis = 1)\r\n",
        "improve.head()"
      ],
      "execution_count": null,
      "outputs": [
        {
          "output_type": "execute_result",
          "data": {
            "text/html": [
              "<div>\n",
              "<style scoped>\n",
              "    .dataframe tbody tr th:only-of-type {\n",
              "        vertical-align: middle;\n",
              "    }\n",
              "\n",
              "    .dataframe tbody tr th {\n",
              "        vertical-align: top;\n",
              "    }\n",
              "\n",
              "    .dataframe thead th {\n",
              "        text-align: right;\n",
              "    }\n",
              "</style>\n",
              "<table border=\"1\" class=\"dataframe\">\n",
              "  <thead>\n",
              "    <tr style=\"text-align: right;\">\n",
              "      <th></th>\n",
              "      <th>education</th>\n",
              "      <th>race</th>\n",
              "      <th>sex</th>\n",
              "      <th>age range</th>\n",
              "    </tr>\n",
              "  </thead>\n",
              "  <tbody>\n",
              "    <tr>\n",
              "      <th>0</th>\n",
              "      <td>Bachelors</td>\n",
              "      <td>White</td>\n",
              "      <td>Male</td>\n",
              "      <td>(30, 50]</td>\n",
              "    </tr>\n",
              "    <tr>\n",
              "      <th>1</th>\n",
              "      <td>Bachelors</td>\n",
              "      <td>White</td>\n",
              "      <td>Male</td>\n",
              "      <td>(30, 50]</td>\n",
              "    </tr>\n",
              "    <tr>\n",
              "      <th>2</th>\n",
              "      <td>HS-grad</td>\n",
              "      <td>White</td>\n",
              "      <td>Male</td>\n",
              "      <td>(30, 50]</td>\n",
              "    </tr>\n",
              "    <tr>\n",
              "      <th>3</th>\n",
              "      <td>11th</td>\n",
              "      <td>Black</td>\n",
              "      <td>Male</td>\n",
              "      <td>(50, 150]</td>\n",
              "    </tr>\n",
              "    <tr>\n",
              "      <th>4</th>\n",
              "      <td>Bachelors</td>\n",
              "      <td>Black</td>\n",
              "      <td>Female</td>\n",
              "      <td>(20, 30]</td>\n",
              "    </tr>\n",
              "  </tbody>\n",
              "</table>\n",
              "</div>"
            ],
            "text/plain": [
              "   education   race     sex  age range\n",
              "0  Bachelors  White    Male   (30, 50]\n",
              "1  Bachelors  White    Male   (30, 50]\n",
              "2    HS-grad  White    Male   (30, 50]\n",
              "3       11th  Black    Male  (50, 150]\n",
              "4  Bachelors  Black  Female   (20, 30]"
            ]
          },
          "metadata": {
            "tags": []
          },
          "execution_count": 49
        }
      ]
    },
    {
      "cell_type": "code",
      "metadata": {
        "colab": {
          "base_uri": "https://localhost:8080/"
        },
        "id": "qpmsdnNwC4Ff",
        "outputId": "562738b6-93c5-42e5-f176-2d45600d2e16"
      },
      "source": [
        "ranges=improve['age range'].unique()\r\n",
        "len(ranges)*len(race)*len(sex)\r\n",
        "\r\n",
        "#total combinations decrease to 40. "
      ],
      "execution_count": null,
      "outputs": [
        {
          "output_type": "execute_result",
          "data": {
            "text/plain": [
              "40"
            ]
          },
          "metadata": {
            "tags": []
          },
          "execution_count": 50
        }
      ]
    },
    {
      "cell_type": "code",
      "metadata": {
        "id": "cPlEsY78DQKC"
      },
      "source": [
        "new_anomity_list = []\r\n",
        "for x in ranges:\r\n",
        "  for y in race:\r\n",
        "    for z in sex:\r\n",
        "      new_anomity_list.append(len(improve[(improve['age range'] == x) & (improve['race'] == y)&(table3['sex'] == z )]))"
      ],
      "execution_count": null,
      "outputs": []
    },
    {
      "cell_type": "code",
      "metadata": {
        "colab": {
          "base_uri": "https://localhost:8080/"
        },
        "id": "KV7uKCfkDVgf",
        "outputId": "c890a8c8-db72-42f4-d120-9a912756fb07"
      },
      "source": [
        "new_anomity_list = np.array(new_anomity_list) #eliminate elements ==0, which are the impossible combinations \r\n",
        "np.min(new_anomity_list[new_anomity_list != 0])\r\n"
      ],
      "execution_count": null,
      "outputs": [
        {
          "output_type": "execute_result",
          "data": {
            "text/plain": [
              "7"
            ]
          },
          "metadata": {
            "tags": []
          },
          "execution_count": 52
        }
      ]
    },
    {
      "cell_type": "markdown",
      "metadata": {
        "id": "cua76LwzEzfJ"
      },
      "source": [
        "Anonymity improved to 7, which means lower probablity that will be found by hackers."
      ]
    },
    {
      "cell_type": "markdown",
      "metadata": {
        "id": "Pv-RmXqCdHRK"
      },
      "source": [
        "**K-anomity** is nice, however, it fails in many cases. If the rows which share a combination of ordinary attributes have only a few values for the sensitive attribute, then it is not much better than having no anomity at all. For example, consider:\n",
        "\n",
        "$$\n",
        "    [Age=31, Sex=Female, Education=BS, Income=300k]\n",
        "$$\n",
        "$$\n",
        "    [Age=31, Sex=Female, Education=BS, Income=20k]\n",
        "$$\n",
        "$$\n",
        "    [Age=31, Sex=Female, Education=BS, Income=20k]\n",
        "$$\n",
        "$$\n",
        "    [Age=31, Sex=Female, Education=BS, Income=20k]\n",
        "$$\n",
        "\n",
        "When **k-anomity** fails in the second case, **i-diversity** comes to the rescue. **I-diversity** states that the rows of a particular combination of information must have at least i different values for the sensitive attribute. The above example has 2-diversity, which is not good. \n",
        "\n",
        "b) Calculate the diversity of the dataset **\"table3.csv\"**. Follow similar steps as in part a. "
      ]
    },
    {
      "cell_type": "code",
      "metadata": {
        "id": "L6t0BVqJGNws"
      },
      "source": [
        "idiversity = []\r\n",
        "for i in age:\r\n",
        "  for j in race:\r\n",
        "    for k in sex:\r\n",
        "      idiversity.append(len(table3.iloc['education'][(table3['age'] == i)& (table3['sex'] == k)& (table3['race'] == j )].unique()))\r\n"
      ],
      "execution_count": null,
      "outputs": []
    },
    {
      "cell_type": "code",
      "metadata": {
        "id": "FFVPKWrodHRK",
        "colab": {
          "base_uri": "https://localhost:8080/"
        },
        "outputId": "706a299b-09cd-46bf-cb52-fb59b98ec93c"
      },
      "source": [
        "idiversity = np.array(idiversity)\r\n",
        "np.min(idiversity[idiversity != 0])"
      ],
      "execution_count": null,
      "outputs": [
        {
          "output_type": "execute_result",
          "data": {
            "text/plain": [
              "1"
            ]
          },
          "metadata": {
            "tags": []
          },
          "execution_count": 66
        }
      ]
    },
    {
      "cell_type": "markdown",
      "metadata": {
        "id": "6qWt9JvTdHRK"
      },
      "source": [
        "Suppressing an attribute can also improve the **i-diversity** of the dataset. Repeat the suppression as in **part a** and check if the diversity improves. If it does not, consider further suppress age by using the range {<20, 20-50, >50}."
      ]
    },
    {
      "cell_type": "code",
      "metadata": {
        "colab": {
          "base_uri": "https://localhost:8080/",
          "height": 200
        },
        "id": "AZh-jPwYHPY7",
        "outputId": "21f069fb-039f-48fb-c2b1-f0ef2178fd7d"
      },
      "source": [
        "table3_div = table3\r\n",
        "table3_div['age range'] = pd.cut(x=table3_div['age'], bins=[0,20,30, 50, 200])\r\n",
        "table3_div = table3_div.drop(['age'], axis = 1)\r\n",
        "table3_div.head()"
      ],
      "execution_count": null,
      "outputs": [
        {
          "output_type": "execute_result",
          "data": {
            "text/html": [
              "<div>\n",
              "<style scoped>\n",
              "    .dataframe tbody tr th:only-of-type {\n",
              "        vertical-align: middle;\n",
              "    }\n",
              "\n",
              "    .dataframe tbody tr th {\n",
              "        vertical-align: top;\n",
              "    }\n",
              "\n",
              "    .dataframe thead th {\n",
              "        text-align: right;\n",
              "    }\n",
              "</style>\n",
              "<table border=\"1\" class=\"dataframe\">\n",
              "  <thead>\n",
              "    <tr style=\"text-align: right;\">\n",
              "      <th></th>\n",
              "      <th>education</th>\n",
              "      <th>race</th>\n",
              "      <th>sex</th>\n",
              "      <th>age range</th>\n",
              "    </tr>\n",
              "  </thead>\n",
              "  <tbody>\n",
              "    <tr>\n",
              "      <th>0</th>\n",
              "      <td>Bachelors</td>\n",
              "      <td>White</td>\n",
              "      <td>Male</td>\n",
              "      <td>(20, 50]</td>\n",
              "    </tr>\n",
              "    <tr>\n",
              "      <th>1</th>\n",
              "      <td>Bachelors</td>\n",
              "      <td>White</td>\n",
              "      <td>Male</td>\n",
              "      <td>(20, 50]</td>\n",
              "    </tr>\n",
              "    <tr>\n",
              "      <th>2</th>\n",
              "      <td>HS-grad</td>\n",
              "      <td>White</td>\n",
              "      <td>Male</td>\n",
              "      <td>(20, 50]</td>\n",
              "    </tr>\n",
              "    <tr>\n",
              "      <th>3</th>\n",
              "      <td>11th</td>\n",
              "      <td>Black</td>\n",
              "      <td>Male</td>\n",
              "      <td>(50, 200]</td>\n",
              "    </tr>\n",
              "    <tr>\n",
              "      <th>4</th>\n",
              "      <td>Bachelors</td>\n",
              "      <td>Black</td>\n",
              "      <td>Female</td>\n",
              "      <td>(20, 50]</td>\n",
              "    </tr>\n",
              "  </tbody>\n",
              "</table>\n",
              "</div>"
            ],
            "text/plain": [
              "   education   race     sex  age range\n",
              "0  Bachelors  White    Male   (20, 50]\n",
              "1  Bachelors  White    Male   (20, 50]\n",
              "2    HS-grad  White    Male   (20, 50]\n",
              "3       11th  Black    Male  (50, 200]\n",
              "4  Bachelors  Black  Female   (20, 50]"
            ]
          },
          "metadata": {
            "tags": []
          },
          "execution_count": 69
        }
      ]
    },
    {
      "cell_type": "code",
      "metadata": {
        "id": "fQ_6ZyGYG6qw"
      },
      "source": [
        "diversity_improve = []\r\n",
        "for i in ranges:\r\n",
        "  for j in race:\r\n",
        "    for k in sex:\r\n",
        "      diversity_improve.append(len(table3_div['education'][(table3_div['age range'] ==i)&(table3_div['sex'] == k)&(table3_div['race'] == j )].unique()))"
      ],
      "execution_count": null,
      "outputs": []
    },
    {
      "cell_type": "code",
      "metadata": {
        "colab": {
          "base_uri": "https://localhost:8080/"
        },
        "id": "njGlhUXcIPeG",
        "outputId": "ed78610e-f1e9-4f18-b53b-c228a93b37fc"
      },
      "source": [
        "diversity_improve = np.array(diversity_improve)\r\n",
        "\r\n",
        "np.min(diversity_improve[diversity_improve != 0])\r\n"
      ],
      "execution_count": null,
      "outputs": [
        {
          "output_type": "execute_result",
          "data": {
            "text/plain": [
              "4"
            ]
          },
          "metadata": {
            "tags": []
          },
          "execution_count": 74
        }
      ]
    },
    {
      "cell_type": "markdown",
      "metadata": {
        "id": "Uz-B928ZIbf3"
      },
      "source": [
        "diversity imrpoved to 4"
      ]
    },
    {
      "cell_type": "markdown",
      "metadata": {
        "id": "TX1lsm8ydHRK"
      },
      "source": [
        "**T-closeness** is even better than **i-diversity**. **T-closeness** requires that for every combination of information, the distribution of the sensitive attribute's value among the corresponding rows must be close to the overall distribution of the sensitive attribute's value for the whole dataset. Distance between distribution is calculated using the Earth Mover Distance (EMD). The dataset has **t-closeness** if no distance exceeds **t**. \n",
        "\n",
        "c) Calculate the overall distribution of **education**. Find the **t-closeness** of the dataset (largest distance between any combination's distribution of marital-status and the overall distribution).\n",
        "\n",
        "You can use **scipy.stats.wasserstein_distance** to calculate the EMD."
      ]
    },
    {
      "cell_type": "code",
      "metadata": {
        "colab": {
          "base_uri": "https://localhost:8080/"
        },
        "id": "n7nXWWesIsk1",
        "outputId": "94f80302-a5fd-435b-f91c-425676d5dba3"
      },
      "source": [
        "len(table3.iloc[:,1].unique())\r\n",
        "#total amounts of distribution for edu is 16"
      ],
      "execution_count": null,
      "outputs": [
        {
          "output_type": "execute_result",
          "data": {
            "text/plain": [
              "16"
            ]
          },
          "metadata": {
            "tags": []
          },
          "execution_count": 79
        }
      ]
    },
    {
      "cell_type": "code",
      "metadata": {
        "id": "BjR4iG2bdHRK",
        "colab": {
          "base_uri": "https://localhost:8080/"
        },
        "outputId": "296783d9-cdbc-44fb-8941-901729b4e1eb"
      },
      "source": [
        "from scipy.stats import wasserstein_distance\r\n",
        "wasserstein_distance(idiversity, 730*[16])\r\n"
      ],
      "execution_count": null,
      "outputs": [
        {
          "output_type": "execute_result",
          "data": {
            "text/plain": [
              "11.404109589041097"
            ]
          },
          "metadata": {
            "tags": []
          },
          "execution_count": 80
        }
      ]
    },
    {
      "cell_type": "markdown",
      "metadata": {
        "id": "W5LHcufCdHRK"
      },
      "source": [
        "### Problem 4 \n",
        "\n",
        "There are 2 regression datasets given to you: \"group1.csv\" and \"group2.csv\". Both have 2 attributes and no label. Load them and store them in $X_1$ and $X_2$, respectively. "
      ]
    },
    {
      "cell_type": "code",
      "metadata": {
        "id": "zpMsZXkPdHRK"
      },
      "source": [
        "X1 = pd.read_csv('group1.csv', header = None)\r\n",
        "X2 = pd.read_csv('group2.csv', header = None)"
      ],
      "execution_count": null,
      "outputs": []
    },
    {
      "cell_type": "markdown",
      "metadata": {
        "id": "AiDGJzt-dHRK"
      },
      "source": [
        "a) Run Linear Regression on each of the datasets. Are the coefficients positive or negative? Provide a plot for each dataset. "
      ]
    },
    {
      "cell_type": "code",
      "metadata": {
        "id": "C4AhAsWxdHRK",
        "colab": {
          "base_uri": "https://localhost:8080/"
        },
        "outputId": "87efb876-9b12-41c2-9bab-c6c528dd9c3a"
      },
      "source": [
        "from sklearn.linear_model import LinearRegression\r\n",
        "x = X1.iloc[:,0].values.reshape(-1,1)\r\n",
        "y = X1.iloc[:,1].values.reshape(-1,1)\r\n",
        "\r\n",
        "model = LinearRegression()\r\n",
        "model.fit(x,y)\r\n"
      ],
      "execution_count": null,
      "outputs": [
        {
          "output_type": "execute_result",
          "data": {
            "text/plain": [
              "LinearRegression(copy_X=True, fit_intercept=True, n_jobs=None, normalize=False)"
            ]
          },
          "metadata": {
            "tags": []
          },
          "execution_count": 8
        }
      ]
    },
    {
      "cell_type": "code",
      "metadata": {
        "colab": {
          "base_uri": "https://localhost:8080/"
        },
        "id": "DowsHEzQJKrt",
        "outputId": "69153bed-5268-4d5f-b02e-8c7259e38b8b"
      },
      "source": [
        "model.coef_ #positive coefficient for X1"
      ],
      "execution_count": null,
      "outputs": [
        {
          "output_type": "execute_result",
          "data": {
            "text/plain": [
              "array([[0.89717851]])"
            ]
          },
          "metadata": {
            "tags": []
          },
          "execution_count": 6
        }
      ]
    },
    {
      "cell_type": "code",
      "metadata": {
        "colab": {
          "base_uri": "https://localhost:8080/"
        },
        "id": "4haneFUXJVHq",
        "outputId": "59fe731f-fb30-4e0e-acac-a750b70b73a1"
      },
      "source": [
        "x2 = X2.iloc[:,0].values.reshape(-1,1)\r\n",
        "y2 = X2.iloc[:,1].values.reshape(-1,1)\r\n",
        "\r\n",
        "model2 = LinearRegression()\r\n",
        "model2.fit(x2,y2)"
      ],
      "execution_count": null,
      "outputs": [
        {
          "output_type": "execute_result",
          "data": {
            "text/plain": [
              "LinearRegression(copy_X=True, fit_intercept=True, n_jobs=None, normalize=False)"
            ]
          },
          "metadata": {
            "tags": []
          },
          "execution_count": 9
        }
      ]
    },
    {
      "cell_type": "code",
      "metadata": {
        "colab": {
          "base_uri": "https://localhost:8080/"
        },
        "id": "LS9hIuCaJY0T",
        "outputId": "4d82dd6d-df0e-48ff-c430-4ffc1eb6c931"
      },
      "source": [
        "model2.coef_ #also positive coef for X2, but is lower than X1's"
      ],
      "execution_count": null,
      "outputs": [
        {
          "output_type": "execute_result",
          "data": {
            "text/plain": [
              "array([[1.15339068]])"
            ]
          },
          "metadata": {
            "tags": []
          },
          "execution_count": 10
        }
      ]
    },
    {
      "cell_type": "code",
      "metadata": {
        "colab": {
          "base_uri": "https://localhost:8080/",
          "height": 630
        },
        "id": "hWF0iYBmJoO6",
        "outputId": "8c9441e9-3533-4331-8079-f89d1624468c"
      },
      "source": [
        "plt.figure(figsize = (15,10))\r\n",
        "plt.scatter(x,y)\r\n",
        "plt.title('X1 data', size = 20, color = 'blue')\r\n",
        "plt.plot(x, model.intercept_ + model.coef_ * x, color= 'yellow')"
      ],
      "execution_count": null,
      "outputs": [
        {
          "output_type": "execute_result",
          "data": {
            "text/plain": [
              "[<matplotlib.lines.Line2D at 0x7f2b0b208d68>]"
            ]
          },
          "metadata": {
            "tags": []
          },
          "execution_count": 13
        },
        {
          "output_type": "display_data",
          "data": {
            "image/png": "[encoded data removed]",
            "text/plain": [
              "<Figure size 1080x720 with 1 Axes>"
            ]
          },
          "metadata": {
            "tags": [],
            "needs_background": "light"
          }
        }
      ]
    },
    {
      "cell_type": "code",
      "metadata": {
        "colab": {
          "base_uri": "https://localhost:8080/",
          "height": 630
        },
        "id": "jKtEQ5e-LKff",
        "outputId": "da31689a-3d3c-4964-a1a9-c3692c502484"
      },
      "source": [
        "plt.figure(figsize = (15,10))\r\n",
        "plt.scatter(x2,y2)\r\n",
        "plt.title('X2 data', size = 20, color = 'blue')\r\n",
        "plt.plot(x2, model2.intercept_ + model2.coef_ * x2, color= 'yellow')"
      ],
      "execution_count": null,
      "outputs": [
        {
          "output_type": "execute_result",
          "data": {
            "text/plain": [
              "[<matplotlib.lines.Line2D at 0x7f2b0b8010f0>]"
            ]
          },
          "metadata": {
            "tags": []
          },
          "execution_count": 15
        },
        {
          "output_type": "display_data",
          "data": {
            "image/png": "[encoded data removed]",
            "text/plain": [
              "<Figure size 1080x720 with 1 Axes>"
            ]
          },
          "metadata": {
            "tags": [],
            "needs_background": "light"
          }
        }
      ]
    },
    {
      "cell_type": "markdown",
      "metadata": {
        "id": "j1PyBaU1dHRL"
      },
      "source": [
        "b) Now combine both datasets into a single large dataset. Call this dataset $X$ ($X=X_1 \\cup X_2$). Again, run Linear Regression on the combined dataset $X$. Is the coefficient positive or negative? Provide a plot. "
      ]
    },
    {
      "cell_type": "code",
      "metadata": {
        "id": "9BjTQh9BdHRL"
      },
      "source": [
        "X_union = pd.concat([X1, X2])"
      ],
      "execution_count": null,
      "outputs": []
    },
    {
      "cell_type": "code",
      "metadata": {
        "colab": {
          "base_uri": "https://localhost:8080/"
        },
        "id": "wpU8zkZmLiDS",
        "outputId": "6ad204ef-a89f-4cef-ecbb-08f54f107e23"
      },
      "source": [
        "x3 = X_union.iloc[:,0].values.reshape(-1,1)\r\n",
        "y3 = X_union.iloc[:,1].values.reshape(-1,1)\r\n",
        "model3 = LinearRegression()\r\n",
        "model3.fit(x3,y3)\r\n"
      ],
      "execution_count": null,
      "outputs": [
        {
          "output_type": "execute_result",
          "data": {
            "text/plain": [
              "LinearRegression(copy_X=True, fit_intercept=True, n_jobs=None, normalize=False)"
            ]
          },
          "metadata": {
            "tags": []
          },
          "execution_count": 19
        }
      ]
    },
    {
      "cell_type": "code",
      "metadata": {
        "colab": {
          "base_uri": "https://localhost:8080/"
        },
        "id": "8ZHakcrbMdbw",
        "outputId": "13269469-cc8e-46be-b7fb-b2573b265ef8"
      },
      "source": [
        "print(model3.coef_) #the comined dataset has a negartive coef"
      ],
      "execution_count": null,
      "outputs": [
        {
          "output_type": "stream",
          "text": [
            "[[-1.38439504]]\n"
          ],
          "name": "stdout"
        }
      ]
    },
    {
      "cell_type": "code",
      "metadata": {
        "colab": {
          "base_uri": "https://localhost:8080/",
          "height": 630
        },
        "id": "MFFEWpkDMmzv",
        "outputId": "06cb2dea-cf39-4f9f-afd8-6eb50b70ecb7"
      },
      "source": [
        "plt.figure(figsize = (15,10))\r\n",
        "plt.scatter(x3,y3)\r\n",
        "plt.title('Combined data', size = 20, color = 'blue')\r\n",
        "plt.plot(x3, model3.intercept_ + model3.coef_ * x3, color= 'yellow')"
      ],
      "execution_count": null,
      "outputs": [
        {
          "output_type": "execute_result",
          "data": {
            "text/plain": [
              "[<matplotlib.lines.Line2D at 0x7f2b0996def0>]"
            ]
          },
          "metadata": {
            "tags": []
          },
          "execution_count": 21
        },
        {
          "output_type": "display_data",
          "data": {
            "image/png": "[encoded data removed]",
            "text/plain": [
              "<Figure size 1080x720 with 1 Axes>"
            ]
          },
          "metadata": {
            "tags": [],
            "needs_background": "light"
          }
        }
      ]
    },
    {
      "cell_type": "markdown",
      "metadata": {
        "id": "RTV1WfcWdHRL"
      },
      "source": [
        "c) What is the name of this illustrated paradox? What do the above results tell us about modeling the relationship between two variables in the presence of a missing attribute? To give you some intuition, imagine there is a third unobserved attribute $Z$ that has different values depending on which group an example belongs to. In other words, every data point in $X_1$ has $Z=1$ and every data point in $X_2$ has $Z=2$. Attribute $Z$ essentially partitions the whole dataset $X$ into 2 subsets $X_1$ and $X_2$.  "
      ]
    },
    {
      "cell_type": "code",
      "metadata": {
        "id": "8VvUS2pXdHRL"
      },
      "source": [
        "# This is simpsons paradox. The above results tell us the relationship observed from multiple groups maybe reverse or disordered. \r\n",
        "# In the presence of a missing attribute will stratify the partitions to different groups with labels that would identify their relationship\r\n"
      ],
      "execution_count": null,
      "outputs": []
    }
  ]
}