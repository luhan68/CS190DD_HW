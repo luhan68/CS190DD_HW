{
  "nbformat": 4,
  "nbformat_minor": 0,
  "metadata": {
    "kernelspec": {
      "display_name": "Python 3",
      "language": "python",
      "name": "python3"
    },
    "language_info": {
      "codemirror_mode": {
        "name": "ipython",
        "version": 3
      },
      "file_extension": ".py",
      "mimetype": "text/x-python",
      "name": "python",
      "nbconvert_exporter": "python",
      "pygments_lexer": "ipython3",
      "version": "3.8.3"
    },
    "colab": {
      "name": "HW4.ipynb",
      "provenance": []
    }
  },
  "cells": [
    {
      "cell_type": "markdown",
      "metadata": {
        "id": "_o-4fqeg250G"
      },
      "source": [
        "### Problem 1"
      ]
    },
    {
      "cell_type": "code",
      "metadata": {
        "id": "JG_D3rOS250P"
      },
      "source": [
        "import pandas as pd\n",
        "\n",
        "table1 = pd.read_csv('table1.csv')\n",
        "table2 = pd.read_csv('table2.csv')"
      ],
      "execution_count": 1,
      "outputs": []
    },
    {
      "cell_type": "code",
      "metadata": {
        "id": "eHpCg56b8LVJ",
        "outputId": "6eb9e2d2-74ec-4ae6-9067-ae1cd6785544",
        "colab": {
          "base_uri": "https://localhost:8080/",
          "height": 483
        }
      },
      "source": [
        "table1[(table1[\"sex\"] == \"Female\" ) &  (table1[\"occupation\"] == \"Craft-repair\")&  (table1[\"race\"] == \"Asian-Pac-Islander\")]"
      ],
      "execution_count": 2,
      "outputs": [
        {
          "output_type": "execute_result",
          "data": {
            "text/html": [
              "<div>\n",
              "<style scoped>\n",
              "    .dataframe tbody tr th:only-of-type {\n",
              "        vertical-align: middle;\n",
              "    }\n",
              "\n",
              "    .dataframe tbody tr th {\n",
              "        vertical-align: top;\n",
              "    }\n",
              "\n",
              "    .dataframe thead th {\n",
              "        text-align: right;\n",
              "    }\n",
              "</style>\n",
              "<table border=\"1\" class=\"dataframe\">\n",
              "  <thead>\n",
              "    <tr style=\"text-align: right;\">\n",
              "      <th></th>\n",
              "      <th>age</th>\n",
              "      <th>occupation</th>\n",
              "      <th>education</th>\n",
              "      <th>education-num</th>\n",
              "      <th>marital-status</th>\n",
              "      <th>race</th>\n",
              "      <th>sex</th>\n",
              "    </tr>\n",
              "  </thead>\n",
              "  <tbody>\n",
              "    <tr>\n",
              "      <th>920</th>\n",
              "      <td>59</td>\n",
              "      <td>Craft-repair</td>\n",
              "      <td>Masters</td>\n",
              "      <td>14</td>\n",
              "      <td>Married-civ-spouse</td>\n",
              "      <td>Asian-Pac-Islander</td>\n",
              "      <td>Female</td>\n",
              "    </tr>\n",
              "    <tr>\n",
              "      <th>4804</th>\n",
              "      <td>49</td>\n",
              "      <td>Craft-repair</td>\n",
              "      <td>HS-grad</td>\n",
              "      <td>9</td>\n",
              "      <td>Widowed</td>\n",
              "      <td>Asian-Pac-Islander</td>\n",
              "      <td>Female</td>\n",
              "    </tr>\n",
              "    <tr>\n",
              "      <th>9600</th>\n",
              "      <td>33</td>\n",
              "      <td>Craft-repair</td>\n",
              "      <td>HS-grad</td>\n",
              "      <td>9</td>\n",
              "      <td>Divorced</td>\n",
              "      <td>Asian-Pac-Islander</td>\n",
              "      <td>Female</td>\n",
              "    </tr>\n",
              "    <tr>\n",
              "      <th>10084</th>\n",
              "      <td>28</td>\n",
              "      <td>Craft-repair</td>\n",
              "      <td>Bachelors</td>\n",
              "      <td>13</td>\n",
              "      <td>Married-spouse-absent</td>\n",
              "      <td>Asian-Pac-Islander</td>\n",
              "      <td>Female</td>\n",
              "    </tr>\n",
              "    <tr>\n",
              "      <th>10476</th>\n",
              "      <td>22</td>\n",
              "      <td>Craft-repair</td>\n",
              "      <td>Some-college</td>\n",
              "      <td>10</td>\n",
              "      <td>Never-married</td>\n",
              "      <td>Asian-Pac-Islander</td>\n",
              "      <td>Female</td>\n",
              "    </tr>\n",
              "    <tr>\n",
              "      <th>11961</th>\n",
              "      <td>25</td>\n",
              "      <td>Craft-repair</td>\n",
              "      <td>Some-college</td>\n",
              "      <td>10</td>\n",
              "      <td>Never-married</td>\n",
              "      <td>Asian-Pac-Islander</td>\n",
              "      <td>Female</td>\n",
              "    </tr>\n",
              "    <tr>\n",
              "      <th>12627</th>\n",
              "      <td>26</td>\n",
              "      <td>Craft-repair</td>\n",
              "      <td>Assoc-acdm</td>\n",
              "      <td>12</td>\n",
              "      <td>Married-spouse-absent</td>\n",
              "      <td>Asian-Pac-Islander</td>\n",
              "      <td>Female</td>\n",
              "    </tr>\n",
              "    <tr>\n",
              "      <th>14697</th>\n",
              "      <td>20</td>\n",
              "      <td>Craft-repair</td>\n",
              "      <td>11th</td>\n",
              "      <td>7</td>\n",
              "      <td>Married-spouse-absent</td>\n",
              "      <td>Asian-Pac-Islander</td>\n",
              "      <td>Female</td>\n",
              "    </tr>\n",
              "    <tr>\n",
              "      <th>16440</th>\n",
              "      <td>37</td>\n",
              "      <td>Craft-repair</td>\n",
              "      <td>HS-grad</td>\n",
              "      <td>9</td>\n",
              "      <td>Divorced</td>\n",
              "      <td>Asian-Pac-Islander</td>\n",
              "      <td>Female</td>\n",
              "    </tr>\n",
              "    <tr>\n",
              "      <th>16742</th>\n",
              "      <td>22</td>\n",
              "      <td>Craft-repair</td>\n",
              "      <td>Some-college</td>\n",
              "      <td>10</td>\n",
              "      <td>Never-married</td>\n",
              "      <td>Asian-Pac-Islander</td>\n",
              "      <td>Female</td>\n",
              "    </tr>\n",
              "    <tr>\n",
              "      <th>19175</th>\n",
              "      <td>21</td>\n",
              "      <td>Craft-repair</td>\n",
              "      <td>HS-grad</td>\n",
              "      <td>9</td>\n",
              "      <td>Never-married</td>\n",
              "      <td>Asian-Pac-Islander</td>\n",
              "      <td>Female</td>\n",
              "    </tr>\n",
              "    <tr>\n",
              "      <th>20140</th>\n",
              "      <td>40</td>\n",
              "      <td>Craft-repair</td>\n",
              "      <td>HS-grad</td>\n",
              "      <td>9</td>\n",
              "      <td>Divorced</td>\n",
              "      <td>Asian-Pac-Islander</td>\n",
              "      <td>Female</td>\n",
              "    </tr>\n",
              "    <tr>\n",
              "      <th>25122</th>\n",
              "      <td>65</td>\n",
              "      <td>Craft-repair</td>\n",
              "      <td>Some-college</td>\n",
              "      <td>10</td>\n",
              "      <td>Widowed</td>\n",
              "      <td>Asian-Pac-Islander</td>\n",
              "      <td>Female</td>\n",
              "    </tr>\n",
              "    <tr>\n",
              "      <th>31602</th>\n",
              "      <td>18</td>\n",
              "      <td>Craft-repair</td>\n",
              "      <td>HS-grad</td>\n",
              "      <td>9</td>\n",
              "      <td>Never-married</td>\n",
              "      <td>Asian-Pac-Islander</td>\n",
              "      <td>Female</td>\n",
              "    </tr>\n",
              "  </tbody>\n",
              "</table>\n",
              "</div>"
            ],
            "text/plain": [
              "       age    occupation  ...                race     sex\n",
              "920     59  Craft-repair  ...  Asian-Pac-Islander  Female\n",
              "4804    49  Craft-repair  ...  Asian-Pac-Islander  Female\n",
              "9600    33  Craft-repair  ...  Asian-Pac-Islander  Female\n",
              "10084   28  Craft-repair  ...  Asian-Pac-Islander  Female\n",
              "10476   22  Craft-repair  ...  Asian-Pac-Islander  Female\n",
              "11961   25  Craft-repair  ...  Asian-Pac-Islander  Female\n",
              "12627   26  Craft-repair  ...  Asian-Pac-Islander  Female\n",
              "14697   20  Craft-repair  ...  Asian-Pac-Islander  Female\n",
              "16440   37  Craft-repair  ...  Asian-Pac-Islander  Female\n",
              "16742   22  Craft-repair  ...  Asian-Pac-Islander  Female\n",
              "19175   21  Craft-repair  ...  Asian-Pac-Islander  Female\n",
              "20140   40  Craft-repair  ...  Asian-Pac-Islander  Female\n",
              "25122   65  Craft-repair  ...  Asian-Pac-Islander  Female\n",
              "31602   18  Craft-repair  ...  Asian-Pac-Islander  Female\n",
              "\n",
              "[14 rows x 7 columns]"
            ]
          },
          "metadata": {
            "tags": []
          },
          "execution_count": 2
        }
      ]
    },
    {
      "cell_type": "markdown",
      "metadata": {
        "id": "kDre-l3g8LkO"
      },
      "source": [
        "We cannot determine the marital status or education of an specific women since there are 14 anomities from table 1 alone."
      ]
    },
    {
      "cell_type": "code",
      "metadata": {
        "id": "jm50Z3eN8tGx",
        "outputId": "0ea0c263-a2c4-423a-9e04-e2a22c0c1573",
        "colab": {
          "base_uri": "https://localhost:8080/",
          "height": 80
        }
      },
      "source": [
        "table2[(table2[\"sex\"] == \"Female\" ) &  (table2[\"occupation\"] == \"Craft-repair\")&  (table2[\"race\"] == \"Asian-Pac-Islander\")&(table2[\"native-country\"] == \"Philippines\" )] "
      ],
      "execution_count": 3,
      "outputs": [
        {
          "output_type": "execute_result",
          "data": {
            "text/html": [
              "<div>\n",
              "<style scoped>\n",
              "    .dataframe tbody tr th:only-of-type {\n",
              "        vertical-align: middle;\n",
              "    }\n",
              "\n",
              "    .dataframe tbody tr th {\n",
              "        vertical-align: top;\n",
              "    }\n",
              "\n",
              "    .dataframe thead th {\n",
              "        text-align: right;\n",
              "    }\n",
              "</style>\n",
              "<table border=\"1\" class=\"dataframe\">\n",
              "  <thead>\n",
              "    <tr style=\"text-align: right;\">\n",
              "      <th></th>\n",
              "      <th>age</th>\n",
              "      <th>occupation</th>\n",
              "      <th>race</th>\n",
              "      <th>sex</th>\n",
              "      <th>capital-gain</th>\n",
              "      <th>capital-loss</th>\n",
              "      <th>hours-per-week</th>\n",
              "      <th>native-country</th>\n",
              "      <th>income</th>\n",
              "    </tr>\n",
              "  </thead>\n",
              "  <tbody>\n",
              "    <tr>\n",
              "      <th>29431</th>\n",
              "      <td>59</td>\n",
              "      <td>Craft-repair</td>\n",
              "      <td>Asian-Pac-Islander</td>\n",
              "      <td>Female</td>\n",
              "      <td>0</td>\n",
              "      <td>0</td>\n",
              "      <td>35</td>\n",
              "      <td>Philippines</td>\n",
              "      <td>&lt;=50K</td>\n",
              "    </tr>\n",
              "  </tbody>\n",
              "</table>\n",
              "</div>"
            ],
            "text/plain": [
              "       age    occupation  ... native-country income\n",
              "29431   59  Craft-repair  ...    Philippines  <=50K\n",
              "\n",
              "[1 rows x 9 columns]"
            ]
          },
          "metadata": {
            "tags": []
          },
          "execution_count": 3
        }
      ]
    },
    {
      "cell_type": "markdown",
      "metadata": {
        "id": "eZo1Eehl8ud5"
      },
      "source": [
        "However, using table 2 alone, given the search conditions, we can determine the specific person, though the table doesn't contain marital status or education, but it provides additional information like age to do more explicit search in table 1."
      ]
    },
    {
      "cell_type": "code",
      "metadata": {
        "id": "EiH7H-C28uOy",
        "outputId": "a0c4ed22-25be-4304-ddc8-f64b2cb2c01d",
        "colab": {
          "base_uri": "https://localhost:8080/",
          "height": 80
        }
      },
      "source": [
        "table1[(table1[\"sex\"] == \"Female\" ) &  (table1[\"occupation\"] == \"Craft-repair\")&  (table1[\"race\"] == \"Asian-Pac-Islander\")& (table1[\"age\"] == 59)]"
      ],
      "execution_count": 4,
      "outputs": [
        {
          "output_type": "execute_result",
          "data": {
            "text/html": [
              "<div>\n",
              "<style scoped>\n",
              "    .dataframe tbody tr th:only-of-type {\n",
              "        vertical-align: middle;\n",
              "    }\n",
              "\n",
              "    .dataframe tbody tr th {\n",
              "        vertical-align: top;\n",
              "    }\n",
              "\n",
              "    .dataframe thead th {\n",
              "        text-align: right;\n",
              "    }\n",
              "</style>\n",
              "<table border=\"1\" class=\"dataframe\">\n",
              "  <thead>\n",
              "    <tr style=\"text-align: right;\">\n",
              "      <th></th>\n",
              "      <th>age</th>\n",
              "      <th>occupation</th>\n",
              "      <th>education</th>\n",
              "      <th>education-num</th>\n",
              "      <th>marital-status</th>\n",
              "      <th>race</th>\n",
              "      <th>sex</th>\n",
              "    </tr>\n",
              "  </thead>\n",
              "  <tbody>\n",
              "    <tr>\n",
              "      <th>920</th>\n",
              "      <td>59</td>\n",
              "      <td>Craft-repair</td>\n",
              "      <td>Masters</td>\n",
              "      <td>14</td>\n",
              "      <td>Married-civ-spouse</td>\n",
              "      <td>Asian-Pac-Islander</td>\n",
              "      <td>Female</td>\n",
              "    </tr>\n",
              "  </tbody>\n",
              "</table>\n",
              "</div>"
            ],
            "text/plain": [
              "     age    occupation  ...                race     sex\n",
              "920   59  Craft-repair  ...  Asian-Pac-Islander  Female\n",
              "\n",
              "[1 rows x 7 columns]"
            ]
          },
          "metadata": {
            "tags": []
          },
          "execution_count": 4
        }
      ]
    },
    {
      "cell_type": "markdown",
      "metadata": {
        "id": "DNsJJuLd9UCt"
      },
      "source": [
        "Using additional age information, we are able to determine the specific women from Table 1. This women is married and holds a master degree."
      ]
    },
    {
      "cell_type": "markdown",
      "metadata": {
        "id": "cHSaycfVdHRJ"
      },
      "source": [
        "### Problem 2\n",
        "\n",
        "Experimenting with **k-anomity, i-diversity, and t-closeness**. \n",
        "\n",
        "Consider a dataset, for example, with 3 ordinary attributes and 1 sensitive attribute. Let the 3 ordinary attributes be Age, Sex, and Education and the sensitive attribute be Income, each row in this dataset is of the form:\n",
        "\n",
        "$$\n",
        "    [Age, Sex, Education, Income]\n",
        "$$\n",
        "\n",
        "A hacker is interested in knowing the sensitive attribute Income. When the dataset is designed so that if complies with either **k-anomity**, **i-diversity**, and/or **t-closeness**, even if he or she somehow figures out the values of the three, the hacker may not retrive the sensitive information accurately. In general, **k-anomity** is weaker than **i-diversity**, which, in turn, is weaker than **t-closeness**.\n",
        "\n",
        "By definition, **k-anomity** means that there is at least **k** different rows in the table of which ordinary values are a particular combination of Age, Sex, and Education. For example, the hacker knows the information of the person of interest is Age = 31, Sex = Female, and Education = BS. He or she looks into the data table and found that there are 3 rows with that combination:\n",
        "\n",
        "$$\n",
        "    [Age=31, Sex=Female, Education=BS, Income=300k]\n",
        "$$\n",
        "$$\n",
        "    [Age=31, Sex=Female, Education=BS, Income=70k]\n",
        "$$\n",
        "$$\n",
        "    [Age=31, Sex=Female, Education=BS, Income=20k]\n",
        "$$\n",
        "\n",
        "The hacker cannot tell accurately what the income of the person is because it can be one of the 3 values shown. This particular combination of information has 3-anomity. If every combination corresponds to at least 3 rows, then the dataset has 3-anomity.\n",
        "\n",
        "a) Let's look at the dataset **\"table3.csv\"**, a simplified version of **\"table1.csv\"** from problem 1. Let the sensitive attribute be **education** and others be ordinary attributes. Calculate the anomity of the dataset (the value **k**). First, find all the posible combinations of the ordinary attributes that exists in the dataset. After that, determine the anomity for each combination. The anomity of the dataset is the smallest anomity among the combinations."
      ]
    },
    {
      "cell_type": "code",
      "metadata": {
        "id": "Qrm7S5y5dHRJ",
        "outputId": "1d142f0c-0d26-4695-f914-2f1488e87d22",
        "colab": {
          "base_uri": "https://localhost:8080/"
        }
      },
      "source": [
        "table3 = pd.read_csv('table3.csv',index_col=0)\n",
        "\n",
        "combination_dic = table3.groupby(['age', 'race', 'sex']).size().reset_index().rename(columns = {0: 'count'})\n",
        "k = combination_dic['count'].min()\n",
        "print (k, \"anomity\")"
      ],
      "execution_count": 47,
      "outputs": [
        {
          "output_type": "stream",
          "text": [
            "1 anomity\n"
          ],
          "name": "stdout"
        }
      ]
    },
    {
      "cell_type": "markdown",
      "metadata": {
        "id": "gHlQgYPWA_zU"
      },
      "source": [
        "**ANS: In the worst case, someone's race could be discovered.**"
      ]
    },
    {
      "cell_type": "markdown",
      "metadata": {
        "id": "ixGLowBjdHRK"
      },
      "source": [
        "We can improve the **k-anomity** of the dataset by \"suppressing\" the ordinary attributes. Suppressing means reducing the resolution of the attribute's value. For this problem, let's suppress Age by replacing the exact age with an age range. For example, instead of leaving age = 32, replace it with age = 30-40. Apply this to **\"table3.csv\"** with the ranges {<20, 20-30, 30-50, >50}. Check if the anomity improves. "
      ]
    },
    {
      "cell_type": "code",
      "metadata": {
        "id": "AGqI5mltdHRK",
        "outputId": "dd7f72f1-8099-443b-c0d6-134a3bdb9c62",
        "colab": {
          "base_uri": "https://localhost:8080/"
        }
      },
      "source": [
        "for i in range (0,20):\n",
        "   table3['age'] = table3['age'].replace([i],\"<20\")\n",
        "for i in range (20,30):\n",
        "    table3['age'] = table3['age'].replace([i],\"20-30\")\n",
        "for i in range (30,50):\n",
        "     table3['age'] = table3['age'].replace([i],\"30-50\")\n",
        "for i in range (50,150):\n",
        "     table3['age'] = table3['age'].replace([i],\">50\")\n",
        "\n",
        "combination_dic = table3.groupby(['age', 'race', 'sex']).size().reset_index().rename(columns = {0: 'count'})\n",
        "k = combination_dic['count'].min()\n",
        "print (k, \"-anomity\")"
      ],
      "execution_count": 72,
      "outputs": [
        {
          "output_type": "stream",
          "text": [
            "4 -anomity\n"
          ],
          "name": "stdout"
        }
      ]
    },
    {
      "cell_type": "markdown",
      "metadata": {
        "id": "yNRB_4D_Bp1V"
      },
      "source": [
        "**ANS: The anomity improved to 4.**"
      ]
    },
    {
      "cell_type": "markdown",
      "metadata": {
        "id": "Pv-RmXqCdHRK"
      },
      "source": [
        "**K-anomity** is nice, however, it fails in many cases. If the rows which share a combination of ordinary attributes have only a few values for the sensitive attribute, then it is not much better than having no anomity at all. For example, consider:\n",
        "\n",
        "$$\n",
        "    [Age=31, Sex=Female, Education=BS, Income=300k]\n",
        "$$\n",
        "$$\n",
        "    [Age=31, Sex=Female, Education=BS, Income=20k]\n",
        "$$\n",
        "$$\n",
        "    [Age=31, Sex=Female, Education=BS, Income=20k]\n",
        "$$\n",
        "$$\n",
        "    [Age=31, Sex=Female, Education=BS, Income=20k]\n",
        "$$\n",
        "\n",
        "When **k-anomity** fails in the second case, **i-diversity** comes to the rescue. **I-diversity** states that the rows of a particular combination of information must have at least i different values for the sensitive attribute. The above example has 2-diversity, which is not good. \n",
        "\n",
        "b) Calculate the diversity of the dataset **\"table3.csv\"**. Follow similar steps as in part a. "
      ]
    },
    {
      "cell_type": "code",
      "metadata": {
        "id": "eZYCvcukdHRK",
        "outputId": "327b2834-bd32-4106-a034-0dbac132f067",
        "colab": {
          "base_uri": "https://localhost:8080/"
        }
      },
      "source": [
        "import numpy as np\n",
        "\n",
        "combination_dic = table3.groupby(['age', 'race', 'sex']).agg(['nunique']).reset_index()\n",
        "k = combination_dic['education'].min()\n",
        "print (k.iloc[0], \"-diversity\")"
      ],
      "execution_count": 67,
      "outputs": [
        {
          "output_type": "stream",
          "text": [
            "3 -diversity\n"
          ],
          "name": "stdout"
        }
      ]
    },
    {
      "cell_type": "markdown",
      "metadata": {
        "id": "cgaA2sWaDLzy"
      },
      "source": [
        "For 1-anomity, i in i-diversity must be smaller than k, thus i is also 1."
      ]
    },
    {
      "cell_type": "markdown",
      "metadata": {
        "id": "6qWt9JvTdHRK"
      },
      "source": [
        "Suppressing an attribute can also improve the **i-diversity** of the dataset. Repeat the suppression as in **part a** and check if the diversity improves. If it does not, consider further suppress age by using the range {<20, 20-50, >50}."
      ]
    },
    {
      "cell_type": "code",
      "metadata": {
        "id": "FFVPKWrodHRK"
      },
      "source": [
        ""
      ],
      "execution_count": null,
      "outputs": []
    },
    {
      "cell_type": "markdown",
      "metadata": {
        "id": "TX1lsm8ydHRK"
      },
      "source": [
        "**T-closeness** is even better than **i-diversity**. **T-closeness** requires that for every combination of information, the distribution of the sensitive attribute's value among the corresponding rows must be close to the overall distribution of the sensitive attribute's value for the whole dataset. Distance between distribution is calculated using the Earth Mover Distance (EMD). The dataset has **t-closeness** if no distance exceeds **t**. \n",
        "\n",
        "c) Calculate the overall distribution of **education**. Find the **t-closeness** of the dataset (largest distance between any combination's distribution of marital-status and the overall distribution).\n",
        "\n",
        "You can use **scipy.stats.wasserstein_distance** to calculate the EMD."
      ]
    },
    {
      "cell_type": "code",
      "metadata": {
        "id": "BjR4iG2bdHRK"
      },
      "source": [
        ""
      ],
      "execution_count": null,
      "outputs": []
    },
    {
      "cell_type": "markdown",
      "metadata": {
        "id": "W5LHcufCdHRK"
      },
      "source": [
        "### Problem 4 \n",
        "\n",
        "There are 2 regression datasets given to you: \"group1.csv\" and \"group2.csv\". Both have 2 attributes and no label. Load them and store them in $X_1$ and $X_2$, respectively. "
      ]
    },
    {
      "cell_type": "code",
      "metadata": {
        "id": "zpMsZXkPdHRK"
      },
      "source": [
        "import pandas as pd\n",
        "import numpy as np\n",
        "\n",
        "X1 = pd.read_csv('group1.csv')\n",
        "X2 = pd.read_csv('group2.csv')"
      ],
      "execution_count": 1,
      "outputs": []
    },
    {
      "cell_type": "markdown",
      "metadata": {
        "id": "AiDGJzt-dHRK"
      },
      "source": [
        "a) Run Linear Regression on each of the datasets. Are the coefficients positive or negative? Provide a plot for each dataset. "
      ]
    },
    {
      "cell_type": "code",
      "metadata": {
        "id": "C4AhAsWxdHRK"
      },
      "source": [
        "from sklearn.linear_model import LinearRegression"
      ],
      "execution_count": null,
      "outputs": []
    },
    {
      "cell_type": "markdown",
      "metadata": {
        "id": "j1PyBaU1dHRL"
      },
      "source": [
        "b) Now combine both datasets into a single large dataset. Call this dataset $X$ ($X=X_1 \\cup X_2$). Again, run Linear Regression on the combined dataset $X$. Is the coefficient positive or negative? Provide a plot. "
      ]
    },
    {
      "cell_type": "code",
      "metadata": {
        "id": "9BjTQh9BdHRL"
      },
      "source": [
        ""
      ],
      "execution_count": null,
      "outputs": []
    },
    {
      "cell_type": "markdown",
      "metadata": {
        "id": "RTV1WfcWdHRL"
      },
      "source": [
        "c) What is the name of this illustrated paradox? What do the above results tell us about modeling the relationship between two variables in the presence of a missing attribute? To give you some intuition, imagine there is a third unobserved attribute $Z$ that has different values depending on which group an example belongs to. In other words, every data point in $X_1$ has $Z=1$ and every data point in $X_2$ has $Z=2$. Attribute $Z$ essentially partitions the whole dataset $X$ into 2 subsets $X_1$ and $X_2$.  "
      ]
    },
    {
      "cell_type": "markdown",
      "metadata": {
        "id": "3rRMW9qX-NR1"
      },
      "source": [
        "Simpson’s paradox."
      ]
    },
    {
      "cell_type": "markdown",
      "metadata": {
        "id": "n9LKJ3Sq-QZ9"
      },
      "source": [
        "### Problem 5 \n",
        "\n"
      ]
    }
  ]
}