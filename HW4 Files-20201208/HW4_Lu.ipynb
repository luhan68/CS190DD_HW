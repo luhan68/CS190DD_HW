{
  "nbformat": 4,
  "nbformat_minor": 0,
  "metadata": {
    "kernelspec": {
      "display_name": "Python 3",
      "language": "python",
      "name": "python3"
    },
    "language_info": {
      "codemirror_mode": {
        "name": "ipython",
        "version": 3
      },
      "file_extension": ".py",
      "mimetype": "text/x-python",
      "name": "python",
      "nbconvert_exporter": "python",
      "pygments_lexer": "ipython3",
      "version": "3.8.3"
    },
    "colab": {
      "name": "HW4.ipynb",
      "provenance": [],
      "toc_visible": true
    }
  },
  "cells": [
    {
      "cell_type": "markdown",
      "metadata": {
        "id": "_o-4fqeg250G"
      },
      "source": [
        "### Problem 1"
      ]
    },
    {
      "cell_type": "code",
      "metadata": {
        "id": "JG_D3rOS250P"
      },
      "source": [
        "import pandas as pd\n",
        "\n",
        "table1 = pd.read_csv('table1.csv')\n",
        "table2 = pd.read_csv('table2.csv')"
      ],
      "execution_count": 3,
      "outputs": []
    },
    {
      "cell_type": "code",
      "metadata": {
        "id": "eHpCg56b8LVJ",
        "colab": {
          "base_uri": "https://localhost:8080/",
          "height": 483
        },
        "outputId": "6e014857-9beb-4f9a-b193-a92a5aa018c0"
      },
      "source": [
        "table1[(table1[\"sex\"] == \"Female\" ) &  (table1[\"occupation\"] == \"Craft-repair\")&  (table1[\"race\"] == \"Asian-Pac-Islander\")]"
      ],
      "execution_count": 4,
      "outputs": [
        {
          "output_type": "execute_result",
          "data": {
            "text/html": [
              "<div>\n",
              "<style scoped>\n",
              "    .dataframe tbody tr th:only-of-type {\n",
              "        vertical-align: middle;\n",
              "    }\n",
              "\n",
              "    .dataframe tbody tr th {\n",
              "        vertical-align: top;\n",
              "    }\n",
              "\n",
              "    .dataframe thead th {\n",
              "        text-align: right;\n",
              "    }\n",
              "</style>\n",
              "<table border=\"1\" class=\"dataframe\">\n",
              "  <thead>\n",
              "    <tr style=\"text-align: right;\">\n",
              "      <th></th>\n",
              "      <th>age</th>\n",
              "      <th>occupation</th>\n",
              "      <th>education</th>\n",
              "      <th>education-num</th>\n",
              "      <th>marital-status</th>\n",
              "      <th>race</th>\n",
              "      <th>sex</th>\n",
              "    </tr>\n",
              "  </thead>\n",
              "  <tbody>\n",
              "    <tr>\n",
              "      <th>920</th>\n",
              "      <td>59</td>\n",
              "      <td>Craft-repair</td>\n",
              "      <td>Masters</td>\n",
              "      <td>14</td>\n",
              "      <td>Married-civ-spouse</td>\n",
              "      <td>Asian-Pac-Islander</td>\n",
              "      <td>Female</td>\n",
              "    </tr>\n",
              "    <tr>\n",
              "      <th>4804</th>\n",
              "      <td>49</td>\n",
              "      <td>Craft-repair</td>\n",
              "      <td>HS-grad</td>\n",
              "      <td>9</td>\n",
              "      <td>Widowed</td>\n",
              "      <td>Asian-Pac-Islander</td>\n",
              "      <td>Female</td>\n",
              "    </tr>\n",
              "    <tr>\n",
              "      <th>9600</th>\n",
              "      <td>33</td>\n",
              "      <td>Craft-repair</td>\n",
              "      <td>HS-grad</td>\n",
              "      <td>9</td>\n",
              "      <td>Divorced</td>\n",
              "      <td>Asian-Pac-Islander</td>\n",
              "      <td>Female</td>\n",
              "    </tr>\n",
              "    <tr>\n",
              "      <th>10084</th>\n",
              "      <td>28</td>\n",
              "      <td>Craft-repair</td>\n",
              "      <td>Bachelors</td>\n",
              "      <td>13</td>\n",
              "      <td>Married-spouse-absent</td>\n",
              "      <td>Asian-Pac-Islander</td>\n",
              "      <td>Female</td>\n",
              "    </tr>\n",
              "    <tr>\n",
              "      <th>10476</th>\n",
              "      <td>22</td>\n",
              "      <td>Craft-repair</td>\n",
              "      <td>Some-college</td>\n",
              "      <td>10</td>\n",
              "      <td>Never-married</td>\n",
              "      <td>Asian-Pac-Islander</td>\n",
              "      <td>Female</td>\n",
              "    </tr>\n",
              "    <tr>\n",
              "      <th>11961</th>\n",
              "      <td>25</td>\n",
              "      <td>Craft-repair</td>\n",
              "      <td>Some-college</td>\n",
              "      <td>10</td>\n",
              "      <td>Never-married</td>\n",
              "      <td>Asian-Pac-Islander</td>\n",
              "      <td>Female</td>\n",
              "    </tr>\n",
              "    <tr>\n",
              "      <th>12627</th>\n",
              "      <td>26</td>\n",
              "      <td>Craft-repair</td>\n",
              "      <td>Assoc-acdm</td>\n",
              "      <td>12</td>\n",
              "      <td>Married-spouse-absent</td>\n",
              "      <td>Asian-Pac-Islander</td>\n",
              "      <td>Female</td>\n",
              "    </tr>\n",
              "    <tr>\n",
              "      <th>14697</th>\n",
              "      <td>20</td>\n",
              "      <td>Craft-repair</td>\n",
              "      <td>11th</td>\n",
              "      <td>7</td>\n",
              "      <td>Married-spouse-absent</td>\n",
              "      <td>Asian-Pac-Islander</td>\n",
              "      <td>Female</td>\n",
              "    </tr>\n",
              "    <tr>\n",
              "      <th>16440</th>\n",
              "      <td>37</td>\n",
              "      <td>Craft-repair</td>\n",
              "      <td>HS-grad</td>\n",
              "      <td>9</td>\n",
              "      <td>Divorced</td>\n",
              "      <td>Asian-Pac-Islander</td>\n",
              "      <td>Female</td>\n",
              "    </tr>\n",
              "    <tr>\n",
              "      <th>16742</th>\n",
              "      <td>22</td>\n",
              "      <td>Craft-repair</td>\n",
              "      <td>Some-college</td>\n",
              "      <td>10</td>\n",
              "      <td>Never-married</td>\n",
              "      <td>Asian-Pac-Islander</td>\n",
              "      <td>Female</td>\n",
              "    </tr>\n",
              "    <tr>\n",
              "      <th>19175</th>\n",
              "      <td>21</td>\n",
              "      <td>Craft-repair</td>\n",
              "      <td>HS-grad</td>\n",
              "      <td>9</td>\n",
              "      <td>Never-married</td>\n",
              "      <td>Asian-Pac-Islander</td>\n",
              "      <td>Female</td>\n",
              "    </tr>\n",
              "    <tr>\n",
              "      <th>20140</th>\n",
              "      <td>40</td>\n",
              "      <td>Craft-repair</td>\n",
              "      <td>HS-grad</td>\n",
              "      <td>9</td>\n",
              "      <td>Divorced</td>\n",
              "      <td>Asian-Pac-Islander</td>\n",
              "      <td>Female</td>\n",
              "    </tr>\n",
              "    <tr>\n",
              "      <th>25122</th>\n",
              "      <td>65</td>\n",
              "      <td>Craft-repair</td>\n",
              "      <td>Some-college</td>\n",
              "      <td>10</td>\n",
              "      <td>Widowed</td>\n",
              "      <td>Asian-Pac-Islander</td>\n",
              "      <td>Female</td>\n",
              "    </tr>\n",
              "    <tr>\n",
              "      <th>31602</th>\n",
              "      <td>18</td>\n",
              "      <td>Craft-repair</td>\n",
              "      <td>HS-grad</td>\n",
              "      <td>9</td>\n",
              "      <td>Never-married</td>\n",
              "      <td>Asian-Pac-Islander</td>\n",
              "      <td>Female</td>\n",
              "    </tr>\n",
              "  </tbody>\n",
              "</table>\n",
              "</div>"
            ],
            "text/plain": [
              "       age    occupation  ...                race     sex\n",
              "920     59  Craft-repair  ...  Asian-Pac-Islander  Female\n",
              "4804    49  Craft-repair  ...  Asian-Pac-Islander  Female\n",
              "9600    33  Craft-repair  ...  Asian-Pac-Islander  Female\n",
              "10084   28  Craft-repair  ...  Asian-Pac-Islander  Female\n",
              "10476   22  Craft-repair  ...  Asian-Pac-Islander  Female\n",
              "11961   25  Craft-repair  ...  Asian-Pac-Islander  Female\n",
              "12627   26  Craft-repair  ...  Asian-Pac-Islander  Female\n",
              "14697   20  Craft-repair  ...  Asian-Pac-Islander  Female\n",
              "16440   37  Craft-repair  ...  Asian-Pac-Islander  Female\n",
              "16742   22  Craft-repair  ...  Asian-Pac-Islander  Female\n",
              "19175   21  Craft-repair  ...  Asian-Pac-Islander  Female\n",
              "20140   40  Craft-repair  ...  Asian-Pac-Islander  Female\n",
              "25122   65  Craft-repair  ...  Asian-Pac-Islander  Female\n",
              "31602   18  Craft-repair  ...  Asian-Pac-Islander  Female\n",
              "\n",
              "[14 rows x 7 columns]"
            ]
          },
          "metadata": {
            "tags": []
          },
          "execution_count": 4
        }
      ]
    },
    {
      "cell_type": "markdown",
      "metadata": {
        "id": "kDre-l3g8LkO"
      },
      "source": [
        "We cannot determine the marital status or education of an specific women since there are 14 anomities from table 1 alone."
      ]
    },
    {
      "cell_type": "code",
      "metadata": {
        "id": "jm50Z3eN8tGx",
        "colab": {
          "base_uri": "https://localhost:8080/",
          "height": 80
        },
        "outputId": "90d1e2e8-eea2-446e-8d04-a08d5a3474f4"
      },
      "source": [
        "table2[(table2[\"sex\"] == \"Female\" ) &  (table2[\"occupation\"] == \"Craft-repair\")&  (table2[\"race\"] == \"Asian-Pac-Islander\")&(table2[\"native-country\"] == \"Philippines\" )] "
      ],
      "execution_count": 5,
      "outputs": [
        {
          "output_type": "execute_result",
          "data": {
            "text/html": [
              "<div>\n",
              "<style scoped>\n",
              "    .dataframe tbody tr th:only-of-type {\n",
              "        vertical-align: middle;\n",
              "    }\n",
              "\n",
              "    .dataframe tbody tr th {\n",
              "        vertical-align: top;\n",
              "    }\n",
              "\n",
              "    .dataframe thead th {\n",
              "        text-align: right;\n",
              "    }\n",
              "</style>\n",
              "<table border=\"1\" class=\"dataframe\">\n",
              "  <thead>\n",
              "    <tr style=\"text-align: right;\">\n",
              "      <th></th>\n",
              "      <th>age</th>\n",
              "      <th>occupation</th>\n",
              "      <th>race</th>\n",
              "      <th>sex</th>\n",
              "      <th>capital-gain</th>\n",
              "      <th>capital-loss</th>\n",
              "      <th>hours-per-week</th>\n",
              "      <th>native-country</th>\n",
              "      <th>income</th>\n",
              "    </tr>\n",
              "  </thead>\n",
              "  <tbody>\n",
              "    <tr>\n",
              "      <th>29431</th>\n",
              "      <td>59</td>\n",
              "      <td>Craft-repair</td>\n",
              "      <td>Asian-Pac-Islander</td>\n",
              "      <td>Female</td>\n",
              "      <td>0</td>\n",
              "      <td>0</td>\n",
              "      <td>35</td>\n",
              "      <td>Philippines</td>\n",
              "      <td>&lt;=50K</td>\n",
              "    </tr>\n",
              "  </tbody>\n",
              "</table>\n",
              "</div>"
            ],
            "text/plain": [
              "       age    occupation  ... native-country income\n",
              "29431   59  Craft-repair  ...    Philippines  <=50K\n",
              "\n",
              "[1 rows x 9 columns]"
            ]
          },
          "metadata": {
            "tags": []
          },
          "execution_count": 5
        }
      ]
    },
    {
      "cell_type": "markdown",
      "metadata": {
        "id": "eZo1Eehl8ud5"
      },
      "source": [
        "However, using table 2 alone, given the search conditions, we can determine the specific person, though the table doesn't contain marital status or education, but it provides additional information like age to do more explicit search in table 1."
      ]
    },
    {
      "cell_type": "code",
      "metadata": {
        "id": "EiH7H-C28uOy",
        "colab": {
          "base_uri": "https://localhost:8080/",
          "height": 80
        },
        "outputId": "a12c17c4-58ba-422d-c04c-be741b5f3cce"
      },
      "source": [
        "table1[(table1[\"sex\"] == \"Female\" ) &  (table1[\"occupation\"] == \"Craft-repair\")&  (table1[\"race\"] == \"Asian-Pac-Islander\")& (table1[\"age\"] == 59)]"
      ],
      "execution_count": 6,
      "outputs": [
        {
          "output_type": "execute_result",
          "data": {
            "text/html": [
              "<div>\n",
              "<style scoped>\n",
              "    .dataframe tbody tr th:only-of-type {\n",
              "        vertical-align: middle;\n",
              "    }\n",
              "\n",
              "    .dataframe tbody tr th {\n",
              "        vertical-align: top;\n",
              "    }\n",
              "\n",
              "    .dataframe thead th {\n",
              "        text-align: right;\n",
              "    }\n",
              "</style>\n",
              "<table border=\"1\" class=\"dataframe\">\n",
              "  <thead>\n",
              "    <tr style=\"text-align: right;\">\n",
              "      <th></th>\n",
              "      <th>age</th>\n",
              "      <th>occupation</th>\n",
              "      <th>education</th>\n",
              "      <th>education-num</th>\n",
              "      <th>marital-status</th>\n",
              "      <th>race</th>\n",
              "      <th>sex</th>\n",
              "    </tr>\n",
              "  </thead>\n",
              "  <tbody>\n",
              "    <tr>\n",
              "      <th>920</th>\n",
              "      <td>59</td>\n",
              "      <td>Craft-repair</td>\n",
              "      <td>Masters</td>\n",
              "      <td>14</td>\n",
              "      <td>Married-civ-spouse</td>\n",
              "      <td>Asian-Pac-Islander</td>\n",
              "      <td>Female</td>\n",
              "    </tr>\n",
              "  </tbody>\n",
              "</table>\n",
              "</div>"
            ],
            "text/plain": [
              "     age    occupation  ...                race     sex\n",
              "920   59  Craft-repair  ...  Asian-Pac-Islander  Female\n",
              "\n",
              "[1 rows x 7 columns]"
            ]
          },
          "metadata": {
            "tags": []
          },
          "execution_count": 6
        }
      ]
    },
    {
      "cell_type": "markdown",
      "metadata": {
        "id": "DNsJJuLd9UCt"
      },
      "source": [
        "Using additional age information, we are able to determine the specific women from Table 1. This women is married and holds a master degree."
      ]
    },
    {
      "cell_type": "markdown",
      "metadata": {
        "id": "cHSaycfVdHRJ"
      },
      "source": [
        "### Problem 2\n",
        "\n",
        "Experimenting with **k-anomity, i-diversity, and t-closeness**. \n",
        "\n",
        "Consider a dataset, for example, with 3 ordinary attributes and 1 sensitive attribute. Let the 3 ordinary attributes be Age, Sex, and Education and the sensitive attribute be Income, each row in this dataset is of the form:\n",
        "\n",
        "$$\n",
        "    [Age, Sex, Education, Income]\n",
        "$$\n",
        "\n",
        "A hacker is interested in knowing the sensitive attribute Income. When the dataset is designed so that if complies with either **k-anomity**, **i-diversity**, and/or **t-closeness**, even if he or she somehow figures out the values of the three, the hacker may not retrive the sensitive information accurately. In general, **k-anomity** is weaker than **i-diversity**, which, in turn, is weaker than **t-closeness**.\n",
        "\n",
        "By definition, **k-anomity** means that there is at least **k** different rows in the table of which ordinary values are a particular combination of Age, Sex, and Education. For example, the hacker knows the information of the person of interest is Age = 31, Sex = Female, and Education = BS. He or she looks into the data table and found that there are 3 rows with that combination:\n",
        "\n",
        "$$\n",
        "    [Age=31, Sex=Female, Education=BS, Income=300k]\n",
        "$$\n",
        "$$\n",
        "    [Age=31, Sex=Female, Education=BS, Income=70k]\n",
        "$$\n",
        "$$\n",
        "    [Age=31, Sex=Female, Education=BS, Income=20k]\n",
        "$$\n",
        "\n",
        "The hacker cannot tell accurately what the income of the person is because it can be one of the 3 values shown. This particular combination of information has 3-anomity. If every combination corresponds to at least 3 rows, then the dataset has 3-anomity.\n",
        "\n",
        "a) Let's look at the dataset **\"table3.csv\"**, a simplified version of **\"table1.csv\"** from problem 1. Let the sensitive attribute be **education** and others be ordinary attributes. Calculate the anomity of the dataset (the value **k**). First, find all the posible combinations of the ordinary attributes that exists in the dataset. After that, determine the anomity for each combination. The anomity of the dataset is the smallest anomity among the combinations."
      ]
    },
    {
      "cell_type": "code",
      "metadata": {
        "id": "Qrm7S5y5dHRJ",
        "colab": {
          "base_uri": "https://localhost:8080/"
        },
        "outputId": "ff59d2ff-46c1-42ba-978a-08aebbd8ed23"
      },
      "source": [
        "table3 = pd.read_csv('table3.csv',index_col=0)\n",
        "\n",
        "combination_dic = table3.groupby(['age', 'race', 'sex']).size().reset_index().rename(columns = {0: 'count'})\n",
        "k = combination_dic['count'].min()\n",
        "print (k, \"anomity\")"
      ],
      "execution_count": 20,
      "outputs": [
        {
          "output_type": "stream",
          "text": [
            "1 anomity\n"
          ],
          "name": "stdout"
        }
      ]
    },
    {
      "cell_type": "markdown",
      "metadata": {
        "id": "gHlQgYPWA_zU"
      },
      "source": [
        "**ANS: In the worst case, someone's race could be discovered.**"
      ]
    },
    {
      "cell_type": "markdown",
      "metadata": {
        "id": "ixGLowBjdHRK"
      },
      "source": [
        "We can improve the **k-anomity** of the dataset by \"suppressing\" the ordinary attributes. Suppressing means reducing the resolution of the attribute's value. For this problem, let's suppress Age by replacing the exact age with an age range. For example, instead of leaving age = 32, replace it with age = 30-40. Apply this to **\"table3.csv\"** with the ranges {<20, 20-30, 30-50, >50}. Check if the anomity improves. "
      ]
    },
    {
      "cell_type": "code",
      "metadata": {
        "id": "AGqI5mltdHRK",
        "colab": {
          "base_uri": "https://localhost:8080/"
        },
        "outputId": "9a97d1b5-0d8b-477d-805b-d40b85d258eb"
      },
      "source": [
        "table3_div = table3\n",
        "table3_div['age range'] = pd.cut(x=table3_div['age'], bins=[0,20,30, 50, 200])\n",
        "table3_div = table3_div.drop(['age'], axis = 1)\n",
        "table3_div.head()\n",
        "\n",
        "combination_dic = table3_div.groupby(['age range', 'race', 'sex']).size().reset_index().rename(columns = {0: 'count'})\n",
        "k = combination_dic['count'].min()\n",
        "print (k, \"-anomity\")"
      ],
      "execution_count": 21,
      "outputs": [
        {
          "output_type": "stream",
          "text": [
            "7 -anomity\n"
          ],
          "name": "stdout"
        }
      ]
    },
    {
      "cell_type": "markdown",
      "metadata": {
        "id": "yNRB_4D_Bp1V"
      },
      "source": [
        "**ANS: The anomity improved to 4.**"
      ]
    },
    {
      "cell_type": "markdown",
      "metadata": {
        "id": "Pv-RmXqCdHRK"
      },
      "source": [
        "**K-anomity** is nice, however, it fails in many cases. If the rows which share a combination of ordinary attributes have only a few values for the sensitive attribute, then it is not much better than having no anomity at all. For example, consider:\n",
        "\n",
        "$$\n",
        "    [Age=31, Sex=Female, Education=BS, Income=300k]\n",
        "$$\n",
        "$$\n",
        "    [Age=31, Sex=Female, Education=BS, Income=20k]\n",
        "$$\n",
        "$$\n",
        "    [Age=31, Sex=Female, Education=BS, Income=20k]\n",
        "$$\n",
        "$$\n",
        "    [Age=31, Sex=Female, Education=BS, Income=20k]\n",
        "$$\n",
        "\n",
        "When **k-anomity** fails in the second case, **i-diversity** comes to the rescue. **I-diversity** states that the rows of a particular combination of information must have at least i different values for the sensitive attribute. The above example has 2-diversity, which is not good. \n",
        "\n",
        "b) Calculate the diversity of the dataset **\"table3.csv\"**. Follow similar steps as in part a. "
      ]
    },
    {
      "cell_type": "code",
      "metadata": {
        "id": "eZYCvcukdHRK",
        "colab": {
          "base_uri": "https://localhost:8080/"
        },
        "outputId": "8ae060b4-e19b-4390-b92e-4d5f233ac6e1"
      },
      "source": [
        "import numpy as np\n",
        "\n",
        "combination_dic = table3.groupby(['age', 'race', 'sex']).agg(['nunique']).reset_index()\n",
        "k = combination_dic['education'].min()\n",
        "print (k.iloc[0], \"-diversity\")"
      ],
      "execution_count": 49,
      "outputs": [
        {
          "output_type": "stream",
          "text": [
            "1 -diversity\n"
          ],
          "name": "stdout"
        }
      ]
    },
    {
      "cell_type": "markdown",
      "metadata": {
        "id": "cgaA2sWaDLzy"
      },
      "source": [
        "For 1-anomity, i in i-diversity must be smaller than k, thus i is also 1."
      ]
    },
    {
      "cell_type": "markdown",
      "metadata": {
        "id": "6qWt9JvTdHRK"
      },
      "source": [
        "Suppressing an attribute can also improve the **i-diversity** of the dataset. Repeat the suppression as in **part a** and check if the diversity improves. If it does not, consider further suppress age by using the range {<20, 20-50, >50}."
      ]
    },
    {
      "cell_type": "code",
      "metadata": {
        "id": "FFVPKWrodHRK",
        "outputId": "49068d5f-d563-4ee0-fe5e-addb28ba53b0",
        "colab": {
          "base_uri": "https://localhost:8080/"
        }
      },
      "source": [
        "combination_dic_ = table3_div.groupby(['age range', 'race', 'sex']).agg(['nunique']).reset_index()\n",
        "k = combination_dic_['education'].min()\n",
        "print (k.iloc[0], \"-diversity\")"
      ],
      "execution_count": 48,
      "outputs": [
        {
          "output_type": "stream",
          "text": [
            "4 -diversity\n"
          ],
          "name": "stdout"
        }
      ]
    },
    {
      "cell_type": "markdown",
      "metadata": {
        "id": "TX1lsm8ydHRK"
      },
      "source": [
        "**T-closeness** is even better than **i-diversity**. **T-closeness** requires that for every combination of information, the distribution of the sensitive attribute's value among the corresponding rows must be close to the overall distribution of the sensitive attribute's value for the whole dataset. Distance between distribution is calculated using the Earth Mover Distance (EMD). The dataset has **t-closeness** if no distance exceeds **t**. \n",
        "\n",
        "c) Calculate the overall distribution of **education**. Find the **t-closeness** of the dataset (largest distance between any combination's distribution of marital-status and the overall distribution).\n",
        "\n",
        "You can use **scipy.stats.wasserstein_distance** to calculate the EMD."
      ]
    },
    {
      "cell_type": "code",
      "metadata": {
        "id": "BjR4iG2bdHRK",
        "outputId": "626792c7-b7c6-4b28-98c6-e6fe3e39bee6",
        "colab": {
          "base_uri": "https://localhost:8080/"
        }
      },
      "source": [
        "from scipy.stats import wasserstein_distance\n",
        "\n",
        "table_ = []\n",
        "for i in age:\n",
        "  for j in race:\n",
        "    for k in sex:\n",
        "      table_.append(len(table3['education'][(table3['age'] == i)& (table3['sex'] == k)& (table3['race'] == j )].unique()))\n",
        "\n",
        "print(\"t-closeness of the dataset is\",wasserstein_distance(table_,730*[len(table3.iloc[:,1].unique())]))"
      ],
      "execution_count": 55,
      "outputs": [
        {
          "output_type": "stream",
          "text": [
            "t-closeness of the dataset is 11.404109589041097\n"
          ],
          "name": "stdout"
        }
      ]
    },
    {
      "cell_type": "markdown",
      "metadata": {
        "id": "NR1y1VZeawFI"
      },
      "source": [
        "### Problem 3"
      ]
    },
    {
      "cell_type": "markdown",
      "metadata": {
        "id": "LNG3K9vLazQr"
      },
      "source": [
        "(scanned in hw4_5371943.pdf)"
      ]
    },
    {
      "cell_type": "markdown",
      "metadata": {
        "id": "W5LHcufCdHRK"
      },
      "source": [
        "### Problem 4 \n",
        "\n",
        "There are 2 regression datasets given to you: \"group1.csv\" and \"group2.csv\". Both have 2 attributes and no label. Load them and store them in $X_1$ and $X_2$, respectively. "
      ]
    },
    {
      "cell_type": "code",
      "metadata": {
        "id": "zpMsZXkPdHRK"
      },
      "source": [
        "import pandas as pd\n",
        "import numpy as np\n",
        "\n",
        "X1 = pd.read_csv('group1.csv', header = None)\n",
        "X2 = pd.read_csv('group2.csv', header = None)"
      ],
      "execution_count": 40,
      "outputs": []
    },
    {
      "cell_type": "markdown",
      "metadata": {
        "id": "AiDGJzt-dHRK"
      },
      "source": [
        "a) Run Linear Regression on each of the datasets. Are the coefficients positive or negative? Provide a plot for each dataset. "
      ]
    },
    {
      "cell_type": "code",
      "metadata": {
        "id": "C4AhAsWxdHRK",
        "outputId": "d4dc4652-2555-4eaf-8ec3-ba7a80300f79",
        "colab": {
          "base_uri": "https://localhost:8080/",
          "height": 332
        }
      },
      "source": [
        "from sklearn.linear_model import LinearRegression\n",
        "import matplotlib.pyplot as plt\n",
        "import math\n",
        "\n",
        "x1 = X1.iloc[:,0].values.reshape(-1,1)\n",
        "y1 = X1.iloc[:,1].values.reshape(-1,1)\n",
        "x2 = X2.iloc[:,0].values.reshape(-1,1)\n",
        "y2 = X2.iloc[:,1].values.reshape(-1,1)\n",
        "\n",
        "model = LinearRegression()\n",
        "model.fit(x1,y1)\n",
        "print(\"Coefficient for group1 is\",model.coef_ ,\", which is positive.\")\n",
        "\n",
        "model2 = LinearRegression()\n",
        "model2.fit(x2,y2)\n",
        "print(\"Coefficient for group2 is\",model2.coef_ ,\", which is positive.\")\n",
        "\n",
        "plt.scatter(x1,y1)\n",
        "plt.title('Group 1')\n",
        "plt.plot(x1, model.intercept_ + model.coef_ * x1, color= 'green')"
      ],
      "execution_count": 73,
      "outputs": [
        {
          "output_type": "stream",
          "text": [
            "Coefficient for group1 is [[0.89717851]] , which is positive.\n",
            "Coefficient for group2 is [[1.15339068]] , which is positive.\n"
          ],
          "name": "stdout"
        },
        {
          "output_type": "execute_result",
          "data": {
            "text/plain": [
              "[<matplotlib.lines.Line2D at 0x7fc43ca2e2b0>]"
            ]
          },
          "metadata": {
            "tags": []
          },
          "execution_count": 73
        },
        {
          "output_type": "display_data",
          "data": {
            "image/png": "[encoded data removed]",
            "text/plain": [
              "<Figure size 432x288 with 1 Axes>"
            ]
          },
          "metadata": {
            "tags": [],
            "needs_background": "light"
          }
        }
      ]
    },
    {
      "cell_type": "code",
      "metadata": {
        "id": "zzZbvsqqZzWz",
        "outputId": "5a977bcb-ea17-462b-fe21-332bf91cc7ee",
        "colab": {
          "base_uri": "https://localhost:8080/",
          "height": 298
        }
      },
      "source": [
        "plt.scatter(x2,y2)\n",
        "plt.title('Group 2')\n",
        "plt.plot(x2, model2.intercept_ + model2.coef_ * x2, color= 'green')"
      ],
      "execution_count": 72,
      "outputs": [
        {
          "output_type": "execute_result",
          "data": {
            "text/plain": [
              "[<matplotlib.lines.Line2D at 0x7fc43cb68b70>]"
            ]
          },
          "metadata": {
            "tags": []
          },
          "execution_count": 72
        },
        {
          "output_type": "display_data",
          "data": {
            "image/png": "[encoded data removed]",
            "text/plain": [
              "<Figure size 432x288 with 1 Axes>"
            ]
          },
          "metadata": {
            "tags": [],
            "needs_background": "light"
          }
        }
      ]
    },
    {
      "cell_type": "markdown",
      "metadata": {
        "id": "j1PyBaU1dHRL"
      },
      "source": [
        "b) Now combine both datasets into a single large dataset. Call this dataset $X$ ($X=X_1 \\cup X_2$). Again, run Linear Regression on the combined dataset $X$. Is the coefficient positive or negative? Provide a plot. "
      ]
    },
    {
      "cell_type": "code",
      "metadata": {
        "id": "9BjTQh9BdHRL",
        "outputId": "5ab1fa6e-4f5b-4471-e66a-9eba27166929",
        "colab": {
          "base_uri": "https://localhost:8080/",
          "height": 315
        }
      },
      "source": [
        "X_u = pd.concat([X1, X2])\n",
        "x3 = X_u.iloc[:,0].values.reshape(-1,1)\n",
        "y3 = X_u.iloc[:,1].values.reshape(-1,1)\n",
        "model3 = LinearRegression()\n",
        "model3.fit(x3,y3)\n",
        "\n",
        "print(\"Coefficient for union group is\",model3.coef_ ,\", which is negative\")\n",
        "plt.scatter(x3,y3)\n",
        "plt.title('Combined data')\n",
        "plt.plot(x3, model3.intercept_ + model3.coef_ * x3, color= 'red')"
      ],
      "execution_count": 71,
      "outputs": [
        {
          "output_type": "stream",
          "text": [
            "Coefficient for union group is [[-1.38439504]] , which is negative\n"
          ],
          "name": "stdout"
        },
        {
          "output_type": "execute_result",
          "data": {
            "text/plain": [
              "[<matplotlib.lines.Line2D at 0x7fc43cb41f98>]"
            ]
          },
          "metadata": {
            "tags": []
          },
          "execution_count": 71
        },
        {
          "output_type": "display_data",
          "data": {
            "image/png": "[encoded data removed]",
            "text/plain": [
              "<Figure size 432x288 with 1 Axes>"
            ]
          },
          "metadata": {
            "tags": [],
            "needs_background": "light"
          }
        }
      ]
    },
    {
      "cell_type": "markdown",
      "metadata": {
        "id": "RTV1WfcWdHRL"
      },
      "source": [
        "c) What is the name of this illustrated paradox? What do the above results tell us about modeling the relationship between two variables in the presence of a missing attribute? To give you some intuition, imagine there is a third unobserved attribute $Z$ that has different values depending on which group an example belongs to. In other words, every data point in $X_1$ has $Z=1$ and every data point in $X_2$ has $Z=2$. Attribute $Z$ essentially partitions the whole dataset $X$ into 2 subsets $X_1$ and $X_2$.  "
      ]
    },
    {
      "cell_type": "markdown",
      "metadata": {
        "id": "3rRMW9qX-NR1"
      },
      "source": [
        "**ANS: Simpson’s paradox. The above results tell us the relationship observed from multiple groups maybe reverse or disordered. In the presence of a missing attribute will stratify the partitions to different groups with labels that would identify their relationship.**"
      ]
    },
    {
      "cell_type": "markdown",
      "metadata": {
        "id": "n9LKJ3Sq-QZ9"
      },
      "source": [
        "### Problem 5 \n",
        "\n"
      ]
    },
    {
      "cell_type": "markdown",
      "metadata": {
        "id": "QX3_GPt3aofZ"
      },
      "source": [
        "(scanned in hw4_5371943.pdf)"
      ]
    }
  ]
}